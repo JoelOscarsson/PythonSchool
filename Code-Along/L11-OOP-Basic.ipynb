{
 "cells": [
  {
   "cell_type": "markdown",
   "metadata": {},
   "source": [
    "## OOP Basics"
   ]
  },
  {
   "cell_type": "code",
   "execution_count": 1,
   "metadata": {},
   "outputs": [
    {
     "data": {
      "text/plain": [
       "<__main__.Person at 0x16230198c10>"
      ]
     },
     "execution_count": 1,
     "metadata": {},
     "output_type": "execute_result"
    }
   ],
   "source": [
    "# Created a class called Person\n",
    "class Person:\n",
    "    pass   #Denna gör ingenting, den har bara skapat klassen\n",
    "\n",
    "# Instantiates an instance from the class person using the callable syntax()\n",
    "person1 = Person()\n",
    "person1"
   ]
  },
  {
   "cell_type": "code",
   "execution_count": 3,
   "metadata": {},
   "outputs": [
    {
     "data": {
      "text/plain": [
       "'Ada'"
      ]
     },
     "execution_count": 3,
     "metadata": {},
     "output_type": "execute_result"
    }
   ],
   "source": [
    "# Creates an instance attribute on the fly\n",
    "person1.name = \"Ada\"\n",
    "person1.name      "
   ]
  },
  {
   "cell_type": "code",
   "execution_count": 4,
   "metadata": {},
   "outputs": [
    {
     "ename": "NameError",
     "evalue": "name 'person2' is not defined",
     "output_type": "error",
     "traceback": [
      "\u001b[1;31m---------------------------------------------------------------------------\u001b[0m",
      "\u001b[1;31mNameError\u001b[0m                                 Traceback (most recent call last)",
      "Cell \u001b[1;32mIn [4], line 1\u001b[0m\n\u001b[1;32m----> 1\u001b[0m \u001b[43mperson2\u001b[49m\u001b[38;5;241m.\u001b[39mname \u001b[38;5;241m=\u001b[39m \u001b[38;5;124m\"\u001b[39m\u001b[38;5;124mAda\u001b[39m\u001b[38;5;124m\"\u001b[39m\n\u001b[0;32m      2\u001b[0m person2\u001b[38;5;241m.\u001b[39mname\n",
      "\u001b[1;31mNameError\u001b[0m: name 'person2' is not defined"
     ]
    }
   ],
   "source": [
    "person2.name = \"Ada\"\n",
    "person2.name    "
   ]
  },
  {
   "cell_type": "markdown",
   "metadata": {},
   "source": [
    "## `__init__()`\n",
    "\n",
    "- Dunder init method (special method)\n",
    "- initializer method that runs after the object has been created\n",
    "- used for setting initial values of attributes to an instance object\n"
   ]
  },
  {
   "cell_type": "code",
   "execution_count": 14,
   "metadata": {},
   "outputs": [
    {
     "name": "stdout",
     "output_type": "stream",
     "text": [
      "person1.name='Joel'\n",
      "person2.name='BELLA'\n",
      "person1.accept=True\n",
      "person2.accept=False\n",
      "person2.program='Data science'\n"
     ]
    },
    {
     "data": {
      "text/plain": [
       "Antagning('Supa cool school', 'AI', 'True')"
      ]
     },
     "execution_count": 14,
     "metadata": {},
     "output_type": "execute_result"
    }
   ],
   "source": [
    "class Antagning:\n",
    "    # initializer\n",
    "    # For methods its a convention to have first arguments as self\n",
    "    # \n",
    "    def __init__(self, school, program, name, accept):  #Dunderinit\n",
    "        # Assigns arguments to instance attributes\n",
    "        self.school = school\n",
    "        self.program = program\n",
    "        self.name = name\n",
    "        self.accept = accept\n",
    "    \n",
    "\n",
    "    # __repr__() a represantion for the instance object -> used for other developers\n",
    "    # Pronunciation: \"Dunder repper\"\n",
    "    def __repr__(self):\n",
    "        return f\"Antagning('{self.school}', '{self.program}', '{self.accept}')\"\n",
    "\n",
    "\n",
    "\n",
    "# When a method is called -> the instance itself is injected to the method as the first argument\n",
    "\n",
    "# Here we instantiate from the class Antagning\n",
    "person1 = Antagning(\"Supa cool school\", \"AI\", \"Joel\", accept = True)\n",
    "person2 = Antagning(\"Okay school\", \"JAVA\", \"BELLA\", False)\n",
    "\n",
    "# Accessed instance attributes using the dot nation\n",
    "print(f\"{person1.name=}\")\n",
    "print(f\"{person2.name=}\")\n",
    "\n",
    "\n",
    "print(f\"{person1.accept=}\")\n",
    "print(f\"{person2.accept=}\")\n",
    "\n",
    "# Using the dot notation we change an instance attribute of person2\n",
    "person2.program = \"Data science\"\n",
    "print(f\"{person2.program=}\")\n",
    "\n",
    "person1\n"
   ]
  },
  {
   "cell_type": "code",
   "execution_count": 12,
   "metadata": {},
   "outputs": [
    {
     "data": {
      "text/plain": [
       "Antagning('Okay school', 'Data science', 'False')"
      ]
     },
     "execution_count": 12,
     "metadata": {},
     "output_type": "execute_result"
    }
   ],
   "source": [
    "person2"
   ]
  },
  {
   "cell_type": "code",
   "execution_count": 13,
   "metadata": {},
   "outputs": [
    {
     "data": {
      "text/plain": [
       "[1, 2, 3]"
      ]
     },
     "execution_count": 13,
     "metadata": {},
     "output_type": "execute_result"
    }
   ],
   "source": [
    "# The __repr__ of list gives output [1, 2, 3]\n",
    "\n",
    "example_list = [1,2,3]\n",
    "example_list"
   ]
  },
  {
   "cell_type": "markdown",
   "metadata": {},
   "source": [
    "# Encapsulation \n",
    "\n",
    "- hide information that is used within the class but shouldn't be accessed from outside the class\n",
    "- So want to create some kind of interface between attributes within the class and outside to prevent from misuse\n",
    "- in many OOP languages, we can make attributes private, this is not possible in python\n",
    "- all attributes in python are public\n",
    "- in Python: private by convention, use an underscore before the attribute, e.g. _name\n",
    "- also possible to use double underscore __name (symbol mangling) # Python ändrar om symbolerna, så det blir svårare att komma åt attributen\n"
   ]
  },
  {
   "cell_type": "code",
   "execution_count": 21,
   "metadata": {},
   "outputs": [
    {
     "name": "stdout",
     "output_type": "stream",
     "text": [
      "Patient(name='Ada', diagnosis='Influenza')\n",
      "Patient(name='Beda', diagnosis='Covid')\n",
      "Patient(name='Ceda', diagnosis='Influenza')\n",
      "Patient(name='Ceda', diagnosis='Influenza')\n",
      "{'_name': 'Ceda', '_Patient__diagnosis': 'Influenza', '__diagnosis': 'Migraine'}\n"
     ]
    },
    {
     "data": {
      "text/plain": [
       "'Influenza'"
      ]
     },
     "execution_count": 21,
     "metadata": {},
     "output_type": "execute_result"
    }
   ],
   "source": [
    "class Patient:\n",
    "    def __init__(self, name, diagnosis):\n",
    "        self._name = name\n",
    "        self.__diagnosis = diagnosis\n",
    "    \n",
    "    def __repr__(self):\n",
    "        return f\"Patient(name='{self._name}', diagnosis='{self.__diagnosis}')\"\n",
    "\n",
    "patient1 = Patient(\"Ada\", \"Influenza\")\n",
    "patient2 = Patient(\"Beda\", \"Covid\")\n",
    "\n",
    "print(patient1)\n",
    "print(patient2)\n",
    "\n",
    "# can access the private attribute, but really shouldn't\n",
    "patient1._name = \"Ceda\"\n",
    "print(patient1)\n",
    "\n",
    "# due to name mangling \n",
    "patient1.__diagnosis = \"Migraine\"\n",
    "print(patient1)\n",
    "\n",
    "print(patient1.__dict__)\n",
    "patient1._Patient__diagnosis\n"
   ]
  },
  {
   "cell_type": "code",
   "execution_count": 33,
   "metadata": {},
   "outputs": [
    {
     "name": "stdout",
     "output_type": "stream",
     "text": [
      "OldCoinsStash(owner='Ragnar Lothbroke')\n",
      "In stash: 0 riksdaler, 0 skillingar\n",
      "In stash: 20 riksdaler, 10 skillingar\n",
      "You can only deposit non-negative values\n",
      "In stash: 20 riksdaler, 10 skillingar\n",
      "Can't withdraw more than in stash\n"
     ]
    }
   ],
   "source": [
    "# another example of encapsuling and private attributes\n",
    "# another example \n",
    "class OldCoinsStash:\n",
    "    def __init__(self, owner):\n",
    "        self.owner = owner\n",
    "\n",
    "        # private attributes        \n",
    "        self._riksdaler = 0\n",
    "        self._skilling = 0\n",
    "    \n",
    "    def deposit(self, riksdaler, skilling):\n",
    "        if riksdaler < 0 or skilling < 0:\n",
    "            raise ValueError(\"You can only deposit non-negative values\")\n",
    "        self._riksdaler += riksdaler\n",
    "        self._skilling += skilling\n",
    "\n",
    "    def withdraw(self, riksdaler, skilling):\n",
    "        if riksdaler > self._riksdaler or skilling > self._skilling:\n",
    "            raise ValueError(\"Can't withdraw more than in stash\")\n",
    "        \n",
    "        # check also for negative values\n",
    "\n",
    "        self._riksdaler -= riksdaler\n",
    "        self._skilling -= skilling\n",
    "\n",
    "    def balance(self):\n",
    "        return f\"In stash: {self._riksdaler} riksdaler, {self._skilling} skillingar\"\n",
    "\n",
    "    def __repr__(self):\n",
    "        return f\"OldCoinsStash(owner='{self.owner}')\"\n",
    "\n",
    "\n",
    "stash = OldCoinsStash(\"Ragnar Lothbroke\")\n",
    "print(stash)\n",
    "print(stash.balance())\n",
    "\n",
    "stash.deposit(20, 10)\n",
    "print(stash.balance())\n",
    "\n",
    "try:\n",
    "    # can't deposit negative amount\n",
    "    stash.deposit(-5, 10)\n",
    "except ValueError as err:\n",
    "    print(err)\n",
    "print(stash.balance())\n",
    "\n",
    "try:\n",
    "    # can't deposit negative amount\n",
    "    stash.withdraw(50, 10)\n",
    "except ValueError as err:\n",
    "    print(err)"
   ]
  },
  {
   "cell_type": "markdown",
   "metadata": {},
   "source": [
    "# Property\n",
    "\n",
    "- want to expose few to none bare attributes\n",
    "- when wanting to change attributes\n",
    "    - getter and setter (common in many other languages)\n",
    "    - in Python make into property\n",
    "\n",
    "With property:\n",
    "- Can include error handling\n",
    "- Computed properties\n",
    "- Can make read-only and write-only properties\n"
   ]
  },
  {
   "cell_type": "code",
   "execution_count": 44,
   "metadata": {},
   "outputs": [
    {
     "name": "stdout",
     "output_type": "stream",
     "text": [
      "age setter is running\n"
     ]
    },
    {
     "ename": "AttributeError",
     "evalue": "can't set attribute",
     "output_type": "error",
     "traceback": [
      "\u001b[1;31m---------------------------------------------------------------------------\u001b[0m",
      "\u001b[1;31mAttributeError\u001b[0m                            Traceback (most recent call last)",
      "Cell \u001b[1;32mIn [44], line 40\u001b[0m\n\u001b[0;32m     36\u001b[0m         \u001b[38;5;28mself\u001b[39m\u001b[38;5;241m.\u001b[39m_age \u001b[38;5;241m=\u001b[39m value\n\u001b[0;32m     39\u001b[0m student1 \u001b[38;5;241m=\u001b[39m Student(\u001b[38;5;124m\"\u001b[39m\u001b[38;5;124mDavid\u001b[39m\u001b[38;5;124m\"\u001b[39m, \u001b[38;5;241m30\u001b[39m, \u001b[38;5;28;01mTrue\u001b[39;00m)\n\u001b[1;32m---> 40\u001b[0m \u001b[43mstudent1\u001b[49m\u001b[38;5;241;43m.\u001b[39;49m\u001b[43mname\u001b[49m \u001b[38;5;241m=\u001b[39m \u001b[38;5;124m\"\u001b[39m\u001b[38;5;124mElla\u001b[39m\u001b[38;5;124m\"\u001b[39m\n",
      "\u001b[1;31mAttributeError\u001b[0m: can't set attribute"
     ]
    }
   ],
   "source": [
    "\n",
    "\n",
    "class Student:\n",
    "    \"\"\"Student class for representing students with name, age and activity\"\"\" # docstring\n",
    "    \n",
    "    # Class attrbiutes\n",
    "    number_students = 0\n",
    "\n",
    "    # note type hinting\n",
    "    def __init__(self, name: str, age: int, active: bool) -> None:\n",
    "        # Skapat instansattributes\n",
    "        self._name = name \n",
    "        self.age = age\n",
    "        self.active = active\n",
    "        Student.number_students += 1\n",
    "\n",
    "    # Property ger oss ett extra djup i funktionen, förlänger beteendet av en annan funktion\n",
    "    # read-only property - @ symbol makes it into a decorator\n",
    "    # read-only because we haven't defined a setter\n",
    "    @property\n",
    "    def name(self) -> str: \n",
    "        \"\"\"Read-only property, we can't write to name\"\"\"\n",
    "        return self._name\n",
    "    \n",
    "    # getter\n",
    "    # This is because\n",
    "    @property\n",
    "    def age(self) -> int:\n",
    "        print(\"age getter is running .... \")\n",
    "        return self._age\n",
    "    \n",
    "    # setter\n",
    "    @age.setter\n",
    "    def age(self, value: int):\n",
    "        \"\"\"Setter for age with error handling\"\"\"\n",
    "\n",
    "        print(\"age setter is running\")\n",
    "\n",
    "        # validation code\n",
    "        if not isinstance(value, int):\n",
    "            raise TypeError(f\"Age must be an int, not {type(value)}\")\n",
    "        \n",
    "        if not (0 <= value <= 125):\n",
    "            raise ValueError(\"Age must be between 0 and 125\")\n",
    "        \n",
    "        self._age = value\n",
    "\n",
    "\n",
    "student1 = Student(\"David\", 30, True)\n",
    "student1.name = \"Ella\""
   ]
  },
  {
   "cell_type": "code",
   "execution_count": null,
   "metadata": {},
   "outputs": [],
   "source": [
    "# i andra språk använder man getters och setters \n",
    "class Person:\n",
    "    \n",
    "    # type hinting - returns None\n",
    "    def __init__(self, age: float) -> None:\n",
    "        # bare attribute\n",
    "        self._age = age\n",
    "\n",
    "    def get_age(self) -> float:\n",
    "        return self._age\n",
    "    \n",
    "    def set_age(self, value: float) -> None:\n",
    "        # valideringskod\n",
    "        self._age = value\n",
    "\n",
    "person_instance = Person(40)\n",
    "#person_instance.age = -5\n",
    "print(person_instance.get_age())\n",
    "\n",
    "person_instance.set_age(10)\n",
    "person_instance.get_age()"
   ]
  },
  {
   "cell_type": "code",
   "execution_count": null,
   "metadata": {},
   "outputs": [],
   "source": [
    "# i Python vill man direkt komma åt ens property och då dekorerar med med @property\n",
    "\n",
    "class Person:\n",
    "    \n",
    "    # type hinting - returns None\n",
    "    def __init__(self, age: float) -> None:\n",
    "        # assignment -> setter körs\n",
    "        self.age = age\n",
    "\n",
    "    @property\n",
    "    def age(self) -> float:\n",
    "        print(\"getter called ...\")\n",
    "        return self._age\n",
    "    \n",
    "    # andra metoder ...\n",
    "    def run_away(self):\n",
    "        print(\"Person runs away from class ...\")\n",
    "\n",
    "    @age.setter\n",
    "    def age(self, value: float) -> None:\n",
    "        # valideringskod\n",
    "\n",
    "        print(\"Setter called ...\")\n",
    "        self._age = value\n",
    "\n",
    "person_instance = Person(40)\n",
    "person_instance.age = 20\n",
    "person_instance.age"
   ]
  },
  {
   "cell_type": "code",
   "execution_count": 39,
   "metadata": {},
   "outputs": [
    {
     "name": "stdout",
     "output_type": "stream",
     "text": [
      "Help on class Student in module __main__:\n",
      "\n",
      "class Student(builtins.object)\n",
      " |  Student(name: str, age: int, active: bool) -> None\n",
      " |  \n",
      " |  Student class for representing students with name, age and activity\n",
      " |  \n",
      " |  Methods defined here:\n",
      " |  \n",
      " |  __init__(self, name: str, age: int, active: bool) -> None\n",
      " |      Initialize self.  See help(type(self)) for accurate signature.\n",
      " |  \n",
      " |  ----------------------------------------------------------------------\n",
      " |  Data descriptors defined here:\n",
      " |  \n",
      " |  __dict__\n",
      " |      dictionary for instance variables (if defined)\n",
      " |  \n",
      " |  __weakref__\n",
      " |      list of weak references to the object (if defined)\n",
      "\n"
     ]
    }
   ],
   "source": [
    "help(Student)"
   ]
  }
 ],
 "metadata": {
  "kernelspec": {
   "display_name": "Python 3.9.13 ('PythonSchool-iXQr8Z-p')",
   "language": "python",
   "name": "python3"
  },
  "language_info": {
   "codemirror_mode": {
    "name": "ipython",
    "version": 3
   },
   "file_extension": ".py",
   "mimetype": "text/x-python",
   "name": "python",
   "nbconvert_exporter": "python",
   "pygments_lexer": "ipython3",
   "version": "3.9.13"
  },
  "orig_nbformat": 4,
  "vscode": {
   "interpreter": {
    "hash": "ede0424b5117af074b0a15022a0db7920ce0c06d0370a7c1883de86effeccc15"
   }
  }
 },
 "nbformat": 4,
 "nbformat_minor": 2
}
