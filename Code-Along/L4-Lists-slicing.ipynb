{
 "cells": [
  {
   "cell_type": "markdown",
   "metadata": {},
   "source": [
    "## Lists"
   ]
  },
  {
   "cell_type": "markdown",
   "metadata": {},
   "source": [
    "## Access elements"
   ]
  },
  {
   "cell_type": "code",
   "execution_count": 1,
   "metadata": {},
   "outputs": [
    {
     "name": "stdout",
     "output_type": "stream",
     "text": [
      "['pizza', 'lasagne', 'spaghetti', 'pancakes', 'banana', 'grapes']\n",
      "nice_foods[0]='pizza'\n",
      "nice_foods[-1]='grapes'\n",
      "nice_foods[5]='grapes'\n",
      "nice_foods[-3]='pancakes'\n"
     ]
    }
   ],
   "source": [
    "# creates a new list with some elements\n",
    "nice_foods = [\"pizza\", \"lasagne\", \"spaghetti\", \"pancakes\", \"banana\", \"grapes\"]\n",
    "\n",
    "print(nice_foods)\n",
    "\n",
    "# gets first element\n",
    "print(f\"{nice_foods[0]=}\")\n",
    "# gets last element\n",
    "print(f\"{nice_foods[-1]=}\")\n",
    "print(f\"{nice_foods[5]=}\")\n",
    "\n",
    "# Om jag vill t ex ha element på index 3\n",
    "print(f\"{nice_foods[-3]=}\")"
   ]
  },
  {
   "cell_type": "markdown",
   "metadata": {},
   "source": [
    "## Slicing"
   ]
  },
  {
   "cell_type": "code",
   "execution_count": 6,
   "metadata": {},
   "outputs": [
    {
     "name": "stdout",
     "output_type": "stream",
     "text": [
      "['pizza', 'lasagne', 'spaghetti', 'pancakes', 'banana', 'grapes']\n",
      "nice_foods[1:4]=['lasagne', 'spaghetti', 'pancakes']\n",
      "nice_foods[:-1]=['pizza', 'lasagne', 'spaghetti', 'pancakes', 'banana']\n",
      "nice_foods[:4]=['pizza', 'lasagne', 'spaghetti', 'pancakes']\n",
      "nice_foods[::-1]=['grapes', 'banana', 'pancakes', 'spaghetti', 'lasagne', 'pizza']\n"
     ]
    }
   ],
   "source": [
    "print(nice_foods)\n",
    "print(f\"{nice_foods[1:4]=}\")\n",
    "print(f\"{nice_foods[:-1]=}\")  #Kolonn betyder börjar från 0, går till -2 och då kommer till banana\n",
    "\n",
    "print(f\"{nice_foods[:4]=}\")  # Går 0,1,2,3\n",
    "\n",
    "print(f\"{nice_foods[::-1]=}\")  # Reverserar listan med kolonn kolonn -1, om det skulle vara -2 skulle det vara vartannat\n"
   ]
  },
  {
   "cell_type": "code",
   "execution_count": 8,
   "metadata": {},
   "outputs": [
    {
     "name": "stdout",
     "output_type": "stream",
     "text": [
      "['banana', 'grapes', 'lasagne', 'pancakes', 'pizza', 'spaghetti']\n",
      "[-5, 1, 2, 5]\n"
     ]
    }
   ],
   "source": [
    "nice_foods.sort()      # man kan sortera, den sorterar på första bokstaven\n",
    "print(nice_foods)\n",
    "\n",
    "\n",
    "numbers = [2,1,5,-5]  \n",
    "numbers.sort()\n",
    "\n",
    "print(numbers)    #Ascending , sorterar för den stiger från det mest negativa till postivt\n"
   ]
  },
  {
   "cell_type": "markdown",
   "metadata": {},
   "source": [
    "## Loop for-loop with enumerate"
   ]
  },
  {
   "cell_type": "code",
   "execution_count": 12,
   "metadata": {},
   "outputs": [
    {
     "name": "stdout",
     "output_type": "stream",
     "text": [
      "['banana', 'grapes', 'lasagne', 'pancakes', 'pizza', 'spaghetti']\n",
      "10. banana\n",
      "11. grapes\n",
      "12. lasagne\n",
      "13. pancakes\n",
      "14. pizza\n",
      "15. spaghetti\n"
     ]
    }
   ],
   "source": [
    "print(nice_foods)\n",
    "\n",
    "for i, food in enumerate(nice_foods,10):      #Vi kan få in indexet från nice_foods. enumerate ger oss en (index, element) från listan\n",
    "    print(f\"{i}. {food}\")\n",
    "\n",
    "\n",
    "\"\"\"\"\"\n",
    "for i in range(len(nice_foods)):\n",
    "    print(f\"{i}. {nice_foods[i]}\")\n",
    "\n",
    "\"\"\" ;"
   ]
  },
  {
   "cell_type": "markdown",
   "metadata": {},
   "source": [
    "## List comprehension"
   ]
  },
  {
   "cell_type": "code",
   "execution_count": 13,
   "metadata": {},
   "outputs": [
    {
     "data": {
      "text/plain": [
       "[0, 1, 8, 27, 64, 125, 216, 343, 512, 729]"
      ]
     },
     "execution_count": 13,
     "metadata": {},
     "output_type": "execute_result"
    }
   ],
   "source": [
    "# Normala sättet using append\n",
    "\n",
    "cubes = []\n",
    "\n",
    "for i in range(10):\n",
    "    cubes.append(i**3) #i upphöjt i 3. #append lägger till i slutet av listan\n",
    "cubes"
   ]
  },
  {
   "cell_type": "code",
   "execution_count": 15,
   "metadata": {},
   "outputs": [
    {
     "data": {
      "text/plain": [
       "[0, 1, 8, 27, 64, 125, 216, 343, 512, 729]"
      ]
     },
     "execution_count": 15,
     "metadata": {},
     "output_type": "execute_result"
    }
   ],
   "source": [
    "# list comprehension\n",
    "cubes = [i**3 for i in range(10)]  # Man sätter inget kolonn när man skriver in for i listan\n",
    "cubes"
   ]
  },
  {
   "cell_type": "code",
   "execution_count": 16,
   "metadata": {},
   "outputs": [
    {
     "data": {
      "text/plain": [
       "[1, 27, 125, 343, 729]"
      ]
     },
     "execution_count": 16,
     "metadata": {},
     "output_type": "execute_result"
    }
   ],
   "source": [
    "# cubes every odd number\n",
    "cubes_odd = [i**3 for i in range(10) if i%2!=0]   # Man kan ha if sats i listan också\n",
    "cubes_odd "
   ]
  },
  {
   "cell_type": "code",
   "execution_count": 24,
   "metadata": {},
   "outputs": [
    {
     "data": {
      "text/plain": [
       "[4]"
      ]
     },
     "execution_count": 24,
     "metadata": {},
     "output_type": "execute_result"
    }
   ],
   "source": [
    "import random as rnd\n",
    "#dice list\n",
    "\n",
    "dice = [rnd.randint(1,6) for _ in range(1)] # understreck är en konvention, används när man inte använder den i loopvariablen\n",
    "dice"
   ]
  },
  {
   "cell_type": "markdown",
   "metadata": {},
   "source": [
    "## Lists in lists"
   ]
  },
  {
   "cell_type": "code",
   "execution_count": 22,
   "metadata": {},
   "outputs": [
    {
     "name": "stdout",
     "output_type": "stream",
     "text": [
      "grades[1]=['B', 20]\n",
      "grades[1][0]='B'\n",
      "grades[1][1]=20\n"
     ]
    }
   ],
   "source": [
    "grades = [[\"A\", 25], [\"B\", 20], [\"F\",5]]\n",
    "\n",
    "grades[1][1]    #ettan ger oss element, lista ett, om vi gör en till lista kommer man in i bara 20\n",
    "print(f\"{grades[1]=}\")\n",
    "print(f\"{grades[1][0]=}\")\n",
    "print(f\"{grades[1][1]=}\")"
   ]
  }
 ],
 "metadata": {
  "kernelspec": {
   "display_name": "Python 3.9.13 64-bit",
   "language": "python",
   "name": "python3"
  },
  "language_info": {
   "codemirror_mode": {
    "name": "ipython",
    "version": 3
   },
   "file_extension": ".py",
   "mimetype": "text/x-python",
   "name": "python",
   "nbconvert_exporter": "python",
   "pygments_lexer": "ipython3",
   "version": "3.9.13"
  },
  "orig_nbformat": 4,
  "vscode": {
   "interpreter": {
    "hash": "958a9210e5eed5eb21a37baf529fded8d3cf9f5344114e9547bddde819fb25fe"
   }
  }
 },
 "nbformat": 4,
 "nbformat_minor": 2
}
