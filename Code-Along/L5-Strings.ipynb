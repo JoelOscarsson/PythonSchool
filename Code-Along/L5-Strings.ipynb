{
 "cells": [
  {
   "cell_type": "markdown",
   "metadata": {},
   "source": [
    "## Strings "
   ]
  },
  {
   "cell_type": "code",
   "execution_count": 7,
   "metadata": {},
   "outputs": [
    {
     "name": "stdout",
     "output_type": "stream",
     "text": [
      "Joel Oscarsson\n",
      "\n",
      "Name: Joel Oscarsson,\n",
      "Age: 31,\n",
      "Address: Gbg,\n",
      "Phone: 112\n",
      "\n"
     ]
    }
   ],
   "source": [
    "firstname = \"Joel\"\n",
    "lastname = \"Oscarsson\"\n",
    "\n",
    "# concatenate strings\n",
    "name = firstname + \" \" + lastname    ## \"\" Lägger till mellanslag\n",
    "age = 31\n",
    "address = \"Gbg\"\n",
    "phone = \"112\"\n",
    "\n",
    "\n",
    "print(name)\n",
    "\n",
    "# Multiline f-string  den har tre fluff och sedan avsluta med tre fluff fluff\n",
    "\n",
    "contact = f\"\"\"\n",
    "Name: {name},\n",
    "Age: {age},\n",
    "Address: {address},\n",
    "Phone: {phone}\n",
    "\"\"\"\n",
    "print(contact)"
   ]
  },
  {
   "cell_type": "markdown",
   "metadata": {},
   "source": [
    "## Zip function, iterate through lists and concatenates(lägga ihop två strängar)"
   ]
  },
  {
   "cell_type": "code",
   "execution_count": 14,
   "metadata": {},
   "outputs": [
    {
     "name": "stdout",
     "output_type": "stream",
     "text": [
      "Plan \n",
      "Må,Ti: Ai Intro\n",
      "On: Python\n",
      "Tors: Matte\n",
      "Fre: Självstudier\n",
      "Lör: Chilla\n",
      "\n"
     ]
    }
   ],
   "source": [
    "schedule = [\"Ai Intro\", \"Python\", \"Matte\", \"Självstudier\", \"Chilla\"]\n",
    "days = [\"Må,\" \"Ti\", \"On\", \"Tors\", \"Fre\", \"Lör\"]\n",
    "\n",
    "#   \\n => Newline\n",
    "week_plan = \"Plan \\n\"\n",
    "\n",
    "## Detta är vad vi vill åstadkomma\n",
    "# Plan \n",
    "# Må: Ai Intro\n",
    "# Ti: Python\n",
    "#...\n",
    "\n",
    "for day, task in zip(days, schedule):\n",
    "    week_plan += f\"{day}: {task}\\n\"      ## \\n Ställer upp det snyggare\n",
    "print(week_plan)"
   ]
  },
  {
   "cell_type": "markdown",
   "metadata": {},
   "source": [
    "## Indexingera med strängar"
   ]
  },
  {
   "cell_type": "code",
   "execution_count": 33,
   "metadata": {},
   "outputs": [
    {
     "name": "stdout",
     "output_type": "stream",
     "text": [
      "quote[0]: !\n",
      "quote[-1]: e\n",
      "quote[-4:]: True\n",
      "quote[1:6]: False\n",
      "Backwards quote[::-1]: eurT s'ti esuaceb ynnuf s'ti - eslaF!\n"
     ]
    }
   ],
   "source": [
    "quote = \"!False - it's funny because it's True\" # works, note different enkelfnutt/dubbelfnutt \n",
    "#quote = '!False - it's funny because it's True' # doesn't work\n",
    "\n",
    "print(f\"quote[0]: {quote[0]}\")\n",
    "print(f\"quote[-1]: {quote[-1]}\")\n",
    "print(f\"quote[-4:]: {quote[-4:]}\")\n",
    "print(f\"quote[1:6]: {quote[1:6]}\") # [start:stop-1]\n",
    "print(f\"Backwards quote[::-1]: {quote[::-1]}\") # [start:stop-1:step]  ## I listor kan man göra kolonn kolonn -1 för att adressa listans ordning"
   ]
  },
  {
   "cell_type": "markdown",
   "metadata": {},
   "source": [
    "## Split strings"
   ]
  },
  {
   "cell_type": "code",
   "execution_count": 30,
   "metadata": {},
   "outputs": [
    {
     "ename": "ValueError",
     "evalue": "could not convert string to float: '14 4 '",
     "output_type": "error",
     "traceback": [
      "\u001b[1;31m---------------------------------------------------------------------------\u001b[0m",
      "\u001b[1;31mValueError\u001b[0m                                Traceback (most recent call last)",
      "\u001b[1;32mc:\\Users\\j_osc\\OneDrive\\Documents\\Github\\PythonSchool\\Code-Along\\L5-Strings.ipynb Cell 8\u001b[0m in \u001b[0;36m<cell line: 12>\u001b[1;34m()\u001b[0m\n\u001b[0;32m      <a href='vscode-notebook-cell:/c%3A/Users/j_osc/OneDrive/Documents/Github/PythonSchool/Code-Along/L5-Strings.ipynb#X13sZmlsZQ%3D%3D?line=3'>4</a>\u001b[0m numbers \u001b[39m=\u001b[39m \u001b[39minput\u001b[39m(\u001b[39m\"\u001b[39m\u001b[39mAnge tre tal(separerade med kommatecken): \u001b[39m\u001b[39m\"\u001b[39m)\n\u001b[0;32m      <a href='vscode-notebook-cell:/c%3A/Users/j_osc/OneDrive/Documents/Github/PythonSchool/Code-Along/L5-Strings.ipynb#X13sZmlsZQ%3D%3D?line=5'>6</a>\u001b[0m \u001b[39m# 1. split thte string into a list of 3 strings\u001b[39;00m\n\u001b[0;32m      <a href='vscode-notebook-cell:/c%3A/Users/j_osc/OneDrive/Documents/Github/PythonSchool/Code-Along/L5-Strings.ipynb#X13sZmlsZQ%3D%3D?line=6'>7</a>\u001b[0m \u001b[39m# 2. type convert each string into a float by iterating through the list\u001b[39;00m\n\u001b[0;32m      <a href='vscode-notebook-cell:/c%3A/Users/j_osc/OneDrive/Documents/Github/PythonSchool/Code-Along/L5-Strings.ipynb#X13sZmlsZQ%3D%3D?line=7'>8</a>\u001b[0m \n\u001b[0;32m      <a href='vscode-notebook-cell:/c%3A/Users/j_osc/OneDrive/Documents/Github/PythonSchool/Code-Along/L5-Strings.ipynb#X13sZmlsZQ%3D%3D?line=8'>9</a>\u001b[0m \n\u001b[0;32m     <a href='vscode-notebook-cell:/c%3A/Users/j_osc/OneDrive/Documents/Github/PythonSchool/Code-Along/L5-Strings.ipynb#X13sZmlsZQ%3D%3D?line=9'>10</a>\u001b[0m \u001b[39m# När man använder ett kommatecken så splittar man (används som separator)\u001b[39;00m\n\u001b[0;32m     <a href='vscode-notebook-cell:/c%3A/Users/j_osc/OneDrive/Documents/Github/PythonSchool/Code-Along/L5-Strings.ipynb#X13sZmlsZQ%3D%3D?line=10'>11</a>\u001b[0m \u001b[39m# detta är även en list comprehension\u001b[39;00m\n\u001b[1;32m---> <a href='vscode-notebook-cell:/c%3A/Users/j_osc/OneDrive/Documents/Github/PythonSchool/Code-Along/L5-Strings.ipynb#X13sZmlsZQ%3D%3D?line=11'>12</a>\u001b[0m numbers \u001b[39m=\u001b[39m [\u001b[39mfloat\u001b[39m(number) \u001b[39mfor\u001b[39;00m number \u001b[39min\u001b[39;00m numbers\u001b[39m.\u001b[39msplit(\u001b[39m\"\u001b[39m\u001b[39m,\u001b[39m\u001b[39m\"\u001b[39m)]   \u001b[39m## Man måste typomvandla floaten till en lista ##Typomvandlar varje element.\u001b[39;00m\n\u001b[0;32m     <a href='vscode-notebook-cell:/c%3A/Users/j_osc/OneDrive/Documents/Github/PythonSchool/Code-Along/L5-Strings.ipynb#X13sZmlsZQ%3D%3D?line=12'>13</a>\u001b[0m mean_value \u001b[39m=\u001b[39m \u001b[39msum\u001b[39m(numbers)\u001b[39m/\u001b[39m\u001b[39mlen\u001b[39m(numbers)\n\u001b[0;32m     <a href='vscode-notebook-cell:/c%3A/Users/j_osc/OneDrive/Documents/Github/PythonSchool/Code-Along/L5-Strings.ipynb#X13sZmlsZQ%3D%3D?line=14'>15</a>\u001b[0m \u001b[39mprint\u001b[39m(\u001b[39mf\u001b[39m\u001b[39m\"\u001b[39m\u001b[39m{\u001b[39;00mnumbers\u001b[39m=}\u001b[39;00m\u001b[39m\"\u001b[39m)\n",
      "\u001b[1;32mc:\\Users\\j_osc\\OneDrive\\Documents\\Github\\PythonSchool\\Code-Along\\L5-Strings.ipynb Cell 8\u001b[0m in \u001b[0;36m<listcomp>\u001b[1;34m(.0)\u001b[0m\n\u001b[0;32m      <a href='vscode-notebook-cell:/c%3A/Users/j_osc/OneDrive/Documents/Github/PythonSchool/Code-Along/L5-Strings.ipynb#X13sZmlsZQ%3D%3D?line=3'>4</a>\u001b[0m numbers \u001b[39m=\u001b[39m \u001b[39minput\u001b[39m(\u001b[39m\"\u001b[39m\u001b[39mAnge tre tal(separerade med kommatecken): \u001b[39m\u001b[39m\"\u001b[39m)\n\u001b[0;32m      <a href='vscode-notebook-cell:/c%3A/Users/j_osc/OneDrive/Documents/Github/PythonSchool/Code-Along/L5-Strings.ipynb#X13sZmlsZQ%3D%3D?line=5'>6</a>\u001b[0m \u001b[39m# 1. split thte string into a list of 3 strings\u001b[39;00m\n\u001b[0;32m      <a href='vscode-notebook-cell:/c%3A/Users/j_osc/OneDrive/Documents/Github/PythonSchool/Code-Along/L5-Strings.ipynb#X13sZmlsZQ%3D%3D?line=6'>7</a>\u001b[0m \u001b[39m# 2. type convert each string into a float by iterating through the list\u001b[39;00m\n\u001b[0;32m      <a href='vscode-notebook-cell:/c%3A/Users/j_osc/OneDrive/Documents/Github/PythonSchool/Code-Along/L5-Strings.ipynb#X13sZmlsZQ%3D%3D?line=7'>8</a>\u001b[0m \n\u001b[0;32m      <a href='vscode-notebook-cell:/c%3A/Users/j_osc/OneDrive/Documents/Github/PythonSchool/Code-Along/L5-Strings.ipynb#X13sZmlsZQ%3D%3D?line=8'>9</a>\u001b[0m \n\u001b[0;32m     <a href='vscode-notebook-cell:/c%3A/Users/j_osc/OneDrive/Documents/Github/PythonSchool/Code-Along/L5-Strings.ipynb#X13sZmlsZQ%3D%3D?line=9'>10</a>\u001b[0m \u001b[39m# När man använder ett kommatecken så splittar man (används som separator)\u001b[39;00m\n\u001b[0;32m     <a href='vscode-notebook-cell:/c%3A/Users/j_osc/OneDrive/Documents/Github/PythonSchool/Code-Along/L5-Strings.ipynb#X13sZmlsZQ%3D%3D?line=10'>11</a>\u001b[0m \u001b[39m# detta är även en list comprehension\u001b[39;00m\n\u001b[1;32m---> <a href='vscode-notebook-cell:/c%3A/Users/j_osc/OneDrive/Documents/Github/PythonSchool/Code-Along/L5-Strings.ipynb#X13sZmlsZQ%3D%3D?line=11'>12</a>\u001b[0m numbers \u001b[39m=\u001b[39m [\u001b[39mfloat\u001b[39;49m(number) \u001b[39mfor\u001b[39;00m number \u001b[39min\u001b[39;00m numbers\u001b[39m.\u001b[39msplit(\u001b[39m\"\u001b[39m\u001b[39m,\u001b[39m\u001b[39m\"\u001b[39m)]   \u001b[39m## Man måste typomvandla floaten till en lista ##Typomvandlar varje element.\u001b[39;00m\n\u001b[0;32m     <a href='vscode-notebook-cell:/c%3A/Users/j_osc/OneDrive/Documents/Github/PythonSchool/Code-Along/L5-Strings.ipynb#X13sZmlsZQ%3D%3D?line=12'>13</a>\u001b[0m mean_value \u001b[39m=\u001b[39m \u001b[39msum\u001b[39m(numbers)\u001b[39m/\u001b[39m\u001b[39mlen\u001b[39m(numbers)\n\u001b[0;32m     <a href='vscode-notebook-cell:/c%3A/Users/j_osc/OneDrive/Documents/Github/PythonSchool/Code-Along/L5-Strings.ipynb#X13sZmlsZQ%3D%3D?line=14'>15</a>\u001b[0m \u001b[39mprint\u001b[39m(\u001b[39mf\u001b[39m\u001b[39m\"\u001b[39m\u001b[39m{\u001b[39;00mnumbers\u001b[39m=}\u001b[39;00m\u001b[39m\"\u001b[39m)\n",
      "\u001b[1;31mValueError\u001b[0m: could not convert string to float: '14 4 '"
     ]
    }
   ],
   "source": [
    "## not possible\n",
    "## numbers = float(input(\"Ange tre tal(separerade med kommatecken): \"))\n",
    "\n",
    "numbers = input(\"Ange tre tal(separerade med kommatecken): \")\n",
    "\n",
    "# 1. split thte string into a list of 3 strings\n",
    "# 2. type convert each string into a float by iterating through the list\n",
    "\n",
    "\n",
    "# När man använder ett kommatecken så splittar man (används som separator)\n",
    "# detta är även en list comprehension\n",
    "numbers = [float(number) for number in numbers.split(\",\")]   ## Man måste typomvandla floaten till en lista ##Typomvandlar varje element.\n",
    "mean_value = sum(numbers)/len(numbers)\n",
    "\n",
    "print(f\"{numbers=}\")\n",
    "print(f\"{mean_value=}\")"
   ]
  },
  {
   "cell_type": "code",
   "execution_count": 31,
   "metadata": {},
   "outputs": [
    {
     "name": "stdout",
     "output_type": "stream",
     "text": [
      "Help on method_descriptor:\n",
      "\n",
      "split(self, /, sep=None, maxsplit=-1)\n",
      "    Return a list of the words in the string, using sep as the delimiter string.\n",
      "    \n",
      "    sep\n",
      "      The delimiter according which to split the string.\n",
      "      None (the default value) means split according to any whitespace,\n",
      "      and discard empty strings from the result.\n",
      "    maxsplit\n",
      "      Maximum number of splits to do.\n",
      "      -1 (the default value) means no limit.\n",
      "\n"
     ]
    }
   ],
   "source": [
    "help(str.split)"
   ]
  },
  {
   "cell_type": "markdown",
   "metadata": {},
   "source": [
    "## Regular expression\n",
    "\n",
    "find particular patterns in a string\n",
    "\n",
    "e.g. phone numbers, personal numbers, emails .."
   ]
  },
  {
   "cell_type": "code",
   "execution_count": 37,
   "metadata": {},
   "outputs": [
    {
     "name": "stdout",
     "output_type": "stream",
     "text": [
      "['021-432567', '041-414546', '739-231451']\n",
      "['021-432567', '041-414546', '739-231451']\n"
     ]
    }
   ],
   "source": [
    "import re #Regular expression\n",
    "\n",
    "text = \"Mitt telefonnummer är 021-432567, \\\n",
    "    Adas telefonnummer är 041-414546, Bedas: 0739-231451\"\n",
    "\n",
    "# now i want to extract numbers\n",
    "\n",
    "match1 = re.findall(r\"\\d\\d\\d-\\d\\d\\d\\d\\d\\d\", text)   #re.findall letar efter mönster  #\\d \n",
    "print(match1)\n",
    "match2 = re.findall(r\"\\d{3}-\\d{6}\", text)    # r\"\"  - står för raw string, den ska tolka som det är skrivet och escapar inte characters\n",
    "print(match2)"
   ]
  },
  {
   "cell_type": "code",
   "execution_count": null,
   "metadata": {},
   "outputs": [],
   "source": [
    "import re \n",
    "\n",
    "# find all words ending with att\n",
    "text = \"Det var en gång en katt, som tog på sig en hatt, jag blev matt, så jag spelade schack och vann med skolmatt\"\n",
    "\n",
    "match = re.findall(r\".att\", text)\n",
    "print(match)"
   ]
  }
 ],
 "metadata": {
  "kernelspec": {
   "display_name": "Python 3.9.13 ('PythonSchool-iXQr8Z-p')",
   "language": "python",
   "name": "python3"
  },
  "language_info": {
   "codemirror_mode": {
    "name": "ipython",
    "version": 3
   },
   "file_extension": ".py",
   "mimetype": "text/x-python",
   "name": "python",
   "nbconvert_exporter": "python",
   "pygments_lexer": "ipython3",
   "version": "3.9.13"
  },
  "orig_nbformat": 4,
  "vscode": {
   "interpreter": {
    "hash": "ede0424b5117af074b0a15022a0db7920ce0c06d0370a7c1883de86effeccc15"
   }
  }
 },
 "nbformat": 4,
 "nbformat_minor": 2
}
