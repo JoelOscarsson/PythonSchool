{
 "cells": [
  {
   "cell_type": "markdown",
   "metadata": {},
   "source": [
    "## Strings "
   ]
  },
  {
   "cell_type": "code",
   "execution_count": 7,
   "metadata": {},
   "outputs": [
    {
     "name": "stdout",
     "output_type": "stream",
     "text": [
      "Joel Oscarsson\n",
      "\n",
      "Name: Joel Oscarsson,\n",
      "Age: 31,\n",
      "Address: Gbg,\n",
      "Phone: 112\n",
      "\n"
     ]
    }
   ],
   "source": [
    "firstname = \"Joel\"\n",
    "lastname = \"Oscarsson\"\n",
    "\n",
    "# concatenate strings\n",
    "name = firstname + \" \" + lastname    ## \"\" Lägger till mellanslag\n",
    "age = 31\n",
    "address = \"Gbg\"\n",
    "phone = \"112\"\n",
    "\n",
    "\n",
    "print(name)\n",
    "\n",
    "# Multiline f-string  den har tre fluff och sedan avsluta med tre fluff fluff\n",
    "\n",
    "contact = f\"\"\"\n",
    "Name: {name},\n",
    "Age: {age},\n",
    "Address: {address},\n",
    "Phone: {phone}\n",
    "\"\"\"\n",
    "print(contact)"
   ]
  },
  {
   "cell_type": "markdown",
   "metadata": {},
   "source": [
    "## Zip function, iterate through lists and concatenates(lägga ihop två strängar)"
   ]
  },
  {
   "cell_type": "code",
   "execution_count": 14,
   "metadata": {},
   "outputs": [
    {
     "name": "stdout",
     "output_type": "stream",
     "text": [
      "Plan \n",
      "Må,Ti: Ai Intro\n",
      "On: Python\n",
      "Tors: Matte\n",
      "Fre: Självstudier\n",
      "Lör: Chilla\n",
      "\n"
     ]
    }
   ],
   "source": [
    "schedule = [\"Ai Intro\", \"Python\", \"Matte\", \"Självstudier\", \"Chilla\"]\n",
    "days = [\"Må,\" \"Ti\", \"On\", \"Tors\", \"Fre\", \"Lör\"]\n",
    "\n",
    "#   \\n => Newline\n",
    "week_plan = \"Plan \\n\"\n",
    "\n",
    "## Detta är vad vi vill åstadkomma\n",
    "# Plan \n",
    "# Må: Ai Intro\n",
    "# Ti: Python\n",
    "#...\n",
    "\n",
    "for day, task in zip(days, schedule):\n",
    "    week_plan += f\"{day}: {task}\\n\"      ## \\n Ställer upp det snyggare\n",
    "print(week_plan)"
   ]
  },
  {
   "cell_type": "markdown",
   "metadata": {},
   "source": [
    "## Indexingera med strängar"
   ]
  },
  {
   "cell_type": "code",
   "execution_count": 33,
   "metadata": {},
   "outputs": [
    {
     "name": "stdout",
     "output_type": "stream",
     "text": [
      "quote[0]: !\n",
      "quote[-1]: e\n",
      "quote[-4:]: True\n",
      "quote[1:6]: False\n",
      "Backwards quote[::-1]: eurT s'ti esuaceb ynnuf s'ti - eslaF!\n"
     ]
    }
   ],
   "source": [
    "quote = \"!False - it's funny because it's True\" # works, note different enkelfnutt/dubbelfnutt \n",
    "#quote = '!False - it's funny because it's True' # doesn't work\n",
    "\n",
    "print(f\"quote[0]: {quote[0]}\")\n",
    "print(f\"quote[-1]: {quote[-1]}\")\n",
    "print(f\"quote[-4:]: {quote[-4:]}\")\n",
    "print(f\"quote[1:6]: {quote[1:6]}\") # [start:stop-1]\n",
    "print(f\"Backwards quote[::-1]: {quote[::-1]}\") # [start:stop-1:step]  ## I listor kan man göra kolonn kolonn -1 för att adressa listans ordning"
   ]
  },
  {
   "cell_type": "markdown",
   "metadata": {},
   "source": [
    "## Split strings"
   ]
  },
  {
   "cell_type": "code",
   "execution_count": 1,
   "metadata": {},
   "outputs": [
    {
     "name": "stdout",
     "output_type": "stream",
     "text": [
      "MATH has 4 letters\n",
      "BIOLOGY has 7 letters\n",
      "CHEMISTRY has 9 letters\n",
      "PROGRAMMING has 11 letters\n"
     ]
    }
   ],
   "source": [
    "subjects = \"Math, biology  ,   cHeMistry  ,  PrOgramming      \"\n",
    "subjects = subjects.split(\",\") # argument defines the pattern which the string should be splitted\n",
    "\n",
    "subjects = [subject.strip().upper() for subject in subjects] # strips and make uppercase\n",
    "\n",
    "for subject in subjects: \n",
    "    print(f\"{subject} has {len(subject)} letters\") \n",
    "    # len() returns the number of items, for a string it returns the number of characters"
   ]
  },
  {
   "cell_type": "code",
   "execution_count": 2,
   "metadata": {},
   "outputs": [
    {
     "ename": "ZeroDivisionError",
     "evalue": "division by zero",
     "output_type": "error",
     "traceback": [
      "\u001b[1;31m---------------------------------------------------------------------------\u001b[0m",
      "\u001b[1;31mZeroDivisionError\u001b[0m                         Traceback (most recent call last)",
      "\u001b[1;32mc:\\Users\\j_osc\\OneDrive\\Documents\\Github\\PythonSchool\\Code-Along\\L5-Strings.ipynb Cell 9\u001b[0m in \u001b[0;36m<cell line: 10>\u001b[1;34m()\u001b[0m\n\u001b[0;32m      <a href='vscode-notebook-cell:/c%3A/Users/j_osc/OneDrive/Documents/Github/PythonSchool/Code-Along/L5-Strings.ipynb#X15sZmlsZQ%3D%3D?line=6'>7</a>\u001b[0m \u001b[39mfor\u001b[39;00m number \u001b[39min\u001b[39;00m numbers:\n\u001b[0;32m      <a href='vscode-notebook-cell:/c%3A/Users/j_osc/OneDrive/Documents/Github/PythonSchool/Code-Along/L5-Strings.ipynb#X15sZmlsZQ%3D%3D?line=7'>8</a>\u001b[0m     \u001b[39msum\u001b[39m \u001b[39m+\u001b[39m\u001b[39m=\u001b[39m number\n\u001b[1;32m---> <a href='vscode-notebook-cell:/c%3A/Users/j_osc/OneDrive/Documents/Github/PythonSchool/Code-Along/L5-Strings.ipynb#X15sZmlsZQ%3D%3D?line=9'>10</a>\u001b[0m mean \u001b[39m=\u001b[39m \u001b[39msum\u001b[39;49m\u001b[39m/\u001b[39;49m\u001b[39mlen\u001b[39;49m(numbers)\n\u001b[0;32m     <a href='vscode-notebook-cell:/c%3A/Users/j_osc/OneDrive/Documents/Github/PythonSchool/Code-Along/L5-Strings.ipynb#X15sZmlsZQ%3D%3D?line=10'>11</a>\u001b[0m \u001b[39mprint\u001b[39m(\u001b[39mf\u001b[39m\u001b[39m\"\u001b[39m\u001b[39mMedelvärdet av dina tal är \u001b[39m\u001b[39m{\u001b[39;00mmean\u001b[39m:\u001b[39;00m\u001b[39m.1f\u001b[39m\u001b[39m}\u001b[39;00m\u001b[39m\"\u001b[39m)\n",
      "\u001b[1;31mZeroDivisionError\u001b[0m: division by zero"
     ]
    }
   ],
   "source": [
    "# mean from input\n",
    "numbers = input(\"Ange några tal separerade med mellanslag: \").split()\n",
    "numbers = [float(number) for number in numbers]\n",
    "\n",
    "sum = 0\n",
    "\n",
    "for number in numbers:\n",
    "    sum += number\n",
    "\n",
    "mean = sum/len(numbers)\n",
    "print(f\"Medelvärdet av dina tal är {mean:.1f}\")"
   ]
  },
  {
   "cell_type": "code",
   "execution_count": 31,
   "metadata": {},
   "outputs": [
    {
     "name": "stdout",
     "output_type": "stream",
     "text": [
      "Help on method_descriptor:\n",
      "\n",
      "split(self, /, sep=None, maxsplit=-1)\n",
      "    Return a list of the words in the string, using sep as the delimiter string.\n",
      "    \n",
      "    sep\n",
      "      The delimiter according which to split the string.\n",
      "      None (the default value) means split according to any whitespace,\n",
      "      and discard empty strings from the result.\n",
      "    maxsplit\n",
      "      Maximum number of splits to do.\n",
      "      -1 (the default value) means no limit.\n",
      "\n"
     ]
    }
   ],
   "source": [
    "help(str.split)"
   ]
  },
  {
   "cell_type": "markdown",
   "metadata": {},
   "source": [
    "## Regular expression\n",
    "\n",
    "find particular patterns in a string\n",
    "\n",
    "e.g. phone numbers, personal numbers, emails .."
   ]
  },
  {
   "cell_type": "code",
   "execution_count": 37,
   "metadata": {},
   "outputs": [
    {
     "name": "stdout",
     "output_type": "stream",
     "text": [
      "['021-432567', '041-414546', '739-231451']\n",
      "['021-432567', '041-414546', '739-231451']\n"
     ]
    }
   ],
   "source": [
    "import re #Regular expression\n",
    "\n",
    "text = \"Mitt telefonnummer är 021-432567, \\\n",
    "    Adas telefonnummer är 041-414546, Bedas: 0739-231451\"\n",
    "\n",
    "# now i want to extract numbers\n",
    "\n",
    "match1 = re.findall(r\"\\d\\d\\d-\\d\\d\\d\\d\\d\\d\", text)   #re.findall letar efter mönster  #\\d \n",
    "print(match1)\n",
    "match2 = re.findall(r\"\\d{3}-\\d{6}\", text)    # r\"\"  - står för raw string, den ska tolka som det är skrivet och escapar inte characters\n",
    "print(match2)"
   ]
  },
  {
   "cell_type": "code",
   "execution_count": null,
   "metadata": {},
   "outputs": [],
   "source": [
    "import re \n",
    "\n",
    "# find all words ending with att\n",
    "text = \"Det var en gång en katt, som tog på sig en hatt, jag blev matt, så jag spelade schack och vann med skolmatt\"\n",
    "\n",
    "match = re.findall(r\".att\", text)\n",
    "print(match)"
   ]
  }
 ],
 "metadata": {
  "kernelspec": {
   "display_name": "Python 3.9.13 ('PythonSchool-iXQr8Z-p')",
   "language": "python",
   "name": "python3"
  },
  "language_info": {
   "codemirror_mode": {
    "name": "ipython",
    "version": 3
   },
   "file_extension": ".py",
   "mimetype": "text/x-python",
   "name": "python",
   "nbconvert_exporter": "python",
   "pygments_lexer": "ipython3",
   "version": "3.9.13"
  },
  "orig_nbformat": 4,
  "vscode": {
   "interpreter": {
    "hash": "ede0424b5117af074b0a15022a0db7920ce0c06d0370a7c1883de86effeccc15"
   }
  }
 },
 "nbformat": 4,
 "nbformat_minor": 2
}
