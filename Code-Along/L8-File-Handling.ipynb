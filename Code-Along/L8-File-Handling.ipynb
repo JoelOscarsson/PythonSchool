{
 "cells": [
  {
   "cell_type": "markdown",
   "metadata": {},
   "source": []
  },
  {
   "cell_type": "markdown",
   "metadata": {},
   "source": [
    "## File handling\n",
    "\n",
    "```py\n",
    "with open(path, option) as name:\n",
    "    statements \n",
    "    ...\n",
    "\n",
    "```\n",
    "\n",
    "options\n",
    "\n",
    "- \"r\" - read\n",
    "- \"a\" - append to a file (if it doesn't exist - it will create the file)\n",
    "- \"w\" - write(if it doesn't exist - it will create the file)\n",
    "- \"x\" - create a file, error if it already exists"
   ]
  },
  {
   "cell_type": "code",
   "execution_count": 70,
   "metadata": {},
   "outputs": [
    {
     "name": "stdout",
     "output_type": "stream",
     "text": [
      "  If     we     knew what it was      we were doing, it would not be called research,          would it?     - Albert Einstein\n",
      "\n",
      "Time is a drug. Too       much of it kills you.  -  Terry Pratchett\n",
      "\n",
      "\n",
      " An expert is a person who       has made all the mistakes that           can be made in a          very narrow field - Niels Bohr\n",
      "\n",
      "   Everything must be made as simple as possible. But not simpler. - Albert Einstein     \n",
      "\n",
      "\n",
      "  Nothing in life                is to be feared, it is only to be understood. Now is the time to understand more, so that we may fear less. - Marie  Curie  \n",
      "\n",
      "If I have seen further     it is by standing on the shoulders of Giants. - Isaac Newton\n"
     ]
    }
   ],
   "source": [
    "path = \"../Data/quotes.txt\"     ## Man kan spara pathen som en variablel. absolut lättare än att spara efter open på raden nedanför\n",
    "\n",
    "with open(path, \"r\") as f:   # Öppnar filen, väldigt bra att spara i sin lokala mapp också. \n",
    "    text = f.read()\n",
    "\n",
    "print(text)"
   ]
  },
  {
   "cell_type": "markdown",
   "metadata": {},
   "source": [
    "## Cleaning up quotes.txt\n",
    "\n",
    "- Vi vill snygga till filen lite. \n",
    "\n",
    "- inspect txt-file manually (some prankster has added random noise in form of whitespace and newlines)\n",
    "- remove leading and trailing whitespaces \n",
    "- remove excessive white spaces in between words\n",
    "- add quote numbers "
   ]
  },
  {
   "cell_type": "markdown",
   "metadata": {},
   "source": []
  },
  {
   "cell_type": "code",
   "execution_count": 78,
   "metadata": {},
   "outputs": [
    {
     "name": "stdout",
     "output_type": "stream",
     "text": [
      "'If we knew what it was we were doing, it would not be called research, would it? - Albert Einstein'\n",
      "''\n",
      "'Time is a drug. Too much of it kills you. - Terry Pratchett'\n",
      "''\n",
      "''\n",
      "'An expert is a person who has made all the mistakes that can be made in a very narrow field - Niels Bohr'\n",
      "''\n",
      "'Everything must be made as simple as possible. But not simpler. - Albert Einstein'\n",
      "''\n",
      "''\n",
      "'Nothing in life is to be feared, it is only to be understood. Now is the time to understand more, so that we may fear less. - Marie Curie'\n",
      "''\n",
      "'If I have seen further it is by standing on the shoulders of Giants. - Isaac Newton'\n"
     ]
    }
   ],
   "source": [
    "# börjar med att läsa in filen\n",
    "import re   # Regular expression\n",
    "\n",
    "\n",
    "with open(path, \"r\") as f_read, open(\"../Data/quotes_clean.txt\", \"w\") as f_write:  #r står för read # w så skapar man en ny fil(quotes_clean) \n",
    "    #Man kan appenda istälet för \"w\" om man vill lägga till något\n",
    "    # när man öppnar sparar man i f_read  \n",
    "    quote_number = 1\n",
    "\n",
    "    # loops through each line in the text file\n",
    "    for quote in f_read:\n",
    "        quote = quote.strip()    # Tar bort mellanrum/ removes leading and trailing spaces and newlines\n",
    "        quote = re.sub(\" +\", \" \", quote) # Regex to substitute >=1 whitespace with 1 whitespace\n",
    "        \n",
    "        # write to a new file if the line is not \"\"  (blankrad)\n",
    "        if quote != \"\":\n",
    "            f_write.write(f\"{quote_number}. {quote}\\n\")\n",
    "            quote_number += 1\n",
    "        \n",
    "\n",
    "        print(repr(quote))\n",
    "        #print(quote, end=\"\")  # End=\"\" gör så att det har radbyte\n",
    "\n"
   ]
  },
  {
   "cell_type": "markdown",
   "metadata": {},
   "source": [
    "## Pick out the authors\n",
    "\n",
    "- strategy\n",
    "- Find digit to find quote\n",
    "- extract first name and last names\n",
    "- join into full name \n",
    "- get unique values"
   ]
  },
  {
   "cell_type": "code",
   "execution_count": 79,
   "metadata": {},
   "outputs": [
    {
     "name": "stdout",
     "output_type": "stream",
     "text": [
      "[['Albert', 'Einstein'], ['Terry', 'Pratchett'], ['Niels', 'Bohr'], ['Albert', 'Einstein'], ['Marie', 'Curie'], ['Isaac', 'Newton']]\n",
      "{'Albert Einstein', 'Marie Curie', 'Terry Pratchett', 'Isaac Newton', 'Niels Bohr'}\n"
     ]
    }
   ],
   "source": [
    "\n",
    "## Läst in filen\n",
    "with open(\"../Data/quotes_clean.txt\", \"r\") as f_quotes, open(\"../Data/quotes_clean.txt\", \"a\") as f_append:\n",
    "    # Läser in varje line som en lista\n",
    "    # Strips away \"\\n\"\n",
    "    quotes = [quote.strip(\"\\n\") for quote in f_quotes.readlines()] # GÖr att vi får en lista av olika.\n",
    "    authors = [quote.split()[-2:] for quote in quotes]  #Splittar listan  # Vi plockar ut våra authors. De är i slutet av varje rad därav [-2:] \n",
    "    # print(quotes.readlines())   #Man får varje rad i en lista. Och får man det så kan man läsa in med hjälp av list comprehension så man kan göra cleaning\n",
    "    print(authors)\n",
    "\n",
    "    # Set = gives the unique elements\n",
    "    authors = set([\" \".join(author) for author in authors])\n",
    "    print(authors)\n",
    "\n",
    "    f_append.write(\"\\nAuthors: \")\n",
    "    for author in authors:\n",
    "        f_append.write(f\"{author}, \")\n"
   ]
  },
  {
   "cell_type": "code",
   "execution_count": 62,
   "metadata": {},
   "outputs": [
    {
     "data": {
      "text/plain": [
       "'Joel Oscarsson'"
      ]
     },
     "execution_count": 62,
     "metadata": {},
     "output_type": "execute_result"
    }
   ],
   "source": [
    "name = [[\"Joel\", \"Oscarsson\"]]\n",
    "\" \".join(name[0])    ## Vi har en lista i en lista, ett förnamn och efternamn. Så då vill jag joina (slå ihop) strängarna "
   ]
  }
 ],
 "metadata": {
  "kernelspec": {
   "display_name": "Python 3.9.13 ('PythonSchool-iXQr8Z-p')",
   "language": "python",
   "name": "python3"
  },
  "language_info": {
   "codemirror_mode": {
    "name": "ipython",
    "version": 3
   },
   "file_extension": ".py",
   "mimetype": "text/x-python",
   "name": "python",
   "nbconvert_exporter": "python",
   "pygments_lexer": "ipython3",
   "version": "3.9.13"
  },
  "orig_nbformat": 4,
  "vscode": {
   "interpreter": {
    "hash": "ede0424b5117af074b0a15022a0db7920ce0c06d0370a7c1883de86effeccc15"
   }
  }
 },
 "nbformat": 4,
 "nbformat_minor": 2
}
