{
 "cells": [
  {
   "cell_type": "markdown",
   "metadata": {},
   "source": [
    "## Dictionary\n",
    "\n",
    "- lagrar data \n",
    "- är en datastruktrur, som sparar data i key:value pairs\n"
   ]
  },
  {
   "cell_type": "markdown",
   "metadata": {},
   "source": [
    "# Create a dictionary"
   ]
  },
  {
   "cell_type": "code",
   "execution_count": 10,
   "metadata": {},
   "outputs": [
    {
     "name": "stdout",
     "output_type": "stream",
     "text": [
      "person dictionary {'name': 'Joel', 'age': 31, 'work': 'Ai teacher', 'interests': ['math', 'yoga', 'gardening', 'programmering', 'walking']}\n",
      "person work Ai teacher\n",
      "person age 31\n",
      "person interests ['math', 'yoga']\n",
      "Joel gillar math\n",
      "Joel gillar yoga\n",
      "Joel gillar gardening\n",
      "Joel gillar programmering\n",
      "Joel gillar walking\n"
     ]
    }
   ],
   "source": [
    "# Create a dict\n",
    "person = dict(   #dict är keyword för att skapa ett dictionary\n",
    "    name=\"Joel\",\n",
    "    age=31,\n",
    "    work=\"Ai teacher\",\n",
    "    interests=[\"math\", \"yoga\", \"gardening\", \"programmering\", \"walking\"],\n",
    ")\n",
    "\n",
    "print(f\"person dictionary {person}\")\n",
    "print(f\"person work {person['work']}\")\n",
    "print(f\"person age {person['age']}\")     \n",
    "\n",
    "\n",
    "print(f\"person interests {person['interests'][:2]}\")   # Skriver ut intressen, samlar ihop allt # Man kan slica listan här\n",
    "\n",
    "\n",
    "#Man kan loopa igenom listan\n",
    "for interest in person ['interests']:\n",
    "    print(f\"Joel gillar {interest}\")\n",
    "\n"
   ]
  },
  {
   "cell_type": "code",
   "execution_count": 2,
   "metadata": {},
   "outputs": [
    {
     "name": "stdout",
     "output_type": "stream",
     "text": [
      "{'assign': 'assigns a value to a variable', 'dictionary': 'datasructure to store data in key-value pairs', 'method': 'a function bound to an object'}\n",
      "Vi ska lära oss de här glosorona \n",
      "\n",
      "assign  -  assigns a value to a variable\n",
      "dictionary  -  datasructure to store data in key-value pairs\n",
      "method  -  a function bound to an object\n"
     ]
    }
   ],
   "source": [
    "# Create dictionary with mås wingar(curly brace)  {}\n",
    "\n",
    "words = {\"assign\": \"assigns a value to a variable\", \n",
    "\"dictionary\": \"datasructure to store data in key-value pairs\", \n",
    "\"method\": \"a function bound to an object\", \n",
    "\n",
    "}\n",
    "print(words)\n",
    "print(\"Vi ska lära oss de här glosorona \\n\")\n",
    "\n",
    "\n",
    "for key in words:\n",
    "    print(key,\" - \" ,words[key])     # Loopar igenom nycklarna \n",
    "\n",
    "\n",
    "# alt enter = kör cellen och även nästa \n",
    "\n"
   ]
  },
  {
   "cell_type": "code",
   "execution_count": 3,
   "metadata": {},
   "outputs": [
    {
     "name": "stdout",
     "output_type": "stream",
     "text": [
      "Glosor \n",
      "\n",
      "assign               assigns a value to a variable\n",
      "dictionary           datasructure to store data in key-value pairs\n",
      "method               a function bound to an object\n",
      ".................... x\n"
     ]
    }
   ],
   "source": [
    "\n",
    "print(\"Glosor \\n\")\n",
    "for key, value in words.items():\n",
    "    print(f\"{key:<20} {value}\")   # :<20 -> right align with width 20\n",
    "\n",
    "\n",
    "print(\".\"*20, \"x\")  #Demonstrerar igen bara att det right aligna 20 steg\n"
   ]
  },
  {
   "cell_type": "code",
   "execution_count": 49,
   "metadata": {},
   "outputs": [
    {
     "name": "stdout",
     "output_type": "stream",
     "text": [
      "{'A': 0, 'B': 10, 'C': 20, 'D': 30, 'E': 40, 'F': 50}\n",
      "{'A': 0, 'B': 10, 'C': 20, 'D': 30, 'E': 40, 'F': '< 10', 'Course': 'Programmering 1'}\n"
     ]
    }
   ],
   "source": [
    "# F < 10, E: 10, D: 20, C: 30, B: 40, A: 50\n",
    "\n",
    "# empty dictionary = Skapa en tom lista\n",
    "grade_limit = {}\n",
    "\n",
    "for i, character in enumerate(\"ABCDEF\"):     ## Skapat en dictionar a-1\n",
    "    grade_limit[character] = i*10  # Man ggrar listan 10 gånger\n",
    "\n",
    "print(grade_limit)\n",
    "\n",
    "# Assigns a new value that is associated with the key F\n",
    "grade_limit[\"F\"] = \"< 10\"     #Assigner ett värde för att komma åt nyckeln för att ändra värde\n",
    "grade_limit[\"Course\"] = \"Programmering 1\"   # T ex skapat en ny nyckel här som har värde programmering 1\n",
    "print(grade_limit)"
   ]
  },
  {
   "cell_type": "markdown",
   "metadata": {},
   "source": [
    "## Dictionary comprehension\n"
   ]
  },
  {
   "cell_type": "code",
   "execution_count": 74,
   "metadata": {},
   "outputs": [
    {
     "name": "stdout",
     "output_type": "stream",
     "text": [
      "grade_limit={'F': 0, 'E': 10, 'D': 20, 'C': 30, 'B': 40, 'A': 50}\n",
      "scores=[39, 59, 34, 45, 23, 36, 37, 46, 10, 49, 52, 21, 24, 40, 50, 23, 58, 19, 25, 44, 13, 48, 42, 55, 58, 23, 6, 27, 52, 40]\n",
      "{'F': 0, 'E': 0, 'D': 0, 'C': 0, 'B': 0, 'A': 0}\n",
      "{'F': 1, 'E': 3, 'D': 7, 'C': 4, 'B': 8, 'A': 7}\n"
     ]
    }
   ],
   "source": [
    "# Slumpa ut provpoäng\n",
    "\n",
    "import random as rnd\n",
    "\n",
    "grade_limit = {grade: i*10 for i, grade in enumerate(\"ABCDEF\"[::-1])}\n",
    "\n",
    "def generate_scores(number_students):\n",
    "    rnd.seed(1337)\n",
    "    scores = [rnd.randint(0,60) for _ in range(number_students)]\n",
    "    return scores\n",
    "\n",
    "scores = generate_scores(30)\n",
    "\n",
    "print(f\"{grade_limit=}\")\n",
    "print(f\"{scores=}\")\n",
    "\n",
    "\n",
    "# Number of students in each grade category\n",
    "student_in_grade = {key: 0 for key in grade_limit}\n",
    "\n",
    "print(student_in_grade)      \n",
    "\n",
    "for score in scores:\n",
    "    for grade, limit in grade_limit.items():  ## Loopar igenom varje provpoäng , sedan för att få fram nyckeln(vilket betyg), sedan dess värde\n",
    "     if limit <= score < limit+10:\n",
    "        student_in_grade[grade] +=1\n",
    "        \n",
    "print(student_in_grade)\n"
   ]
  },
  {
   "cell_type": "code",
   "execution_count": 79,
   "metadata": {},
   "outputs": [
    {
     "data": {
      "text/plain": [
       "30"
      ]
     },
     "execution_count": 79,
     "metadata": {},
     "output_type": "execute_result"
    }
   ],
   "source": [
    "# Check that all students have been put into categories\n",
    "\n",
    "total_students = 0\n",
    "\n",
    "for _, number_students in student_in_grade.items():\n",
    "    total_students += number_students\n",
    "\n",
    "total_students\n"
   ]
  }
 ],
 "metadata": {
  "kernelspec": {
   "display_name": "Python 3.9.13 ('PythonSchool-iXQr8Z-p')",
   "language": "python",
   "name": "python3"
  },
  "language_info": {
   "codemirror_mode": {
    "name": "ipython",
    "version": 3
   },
   "file_extension": ".py",
   "mimetype": "text/x-python",
   "name": "python",
   "nbconvert_exporter": "python",
   "pygments_lexer": "ipython3",
   "version": "3.9.13"
  },
  "orig_nbformat": 4,
  "vscode": {
   "interpreter": {
    "hash": "ede0424b5117af074b0a15022a0db7920ce0c06d0370a7c1883de86effeccc15"
   }
  }
 },
 "nbformat": 4,
 "nbformat_minor": 2
}
