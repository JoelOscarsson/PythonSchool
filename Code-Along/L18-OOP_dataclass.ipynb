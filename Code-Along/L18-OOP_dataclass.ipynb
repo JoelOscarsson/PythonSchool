{
 "cells": [
  {
   "cell_type": "markdown",
   "metadata": {},
   "source": [
    "## OOP Dataclass\n",
    "\n",
    "- give us some boilerplate code for free (boilerplate är kod som vi upprepar som behövs för programmet, kan genereras auto)\n",
    "- usually used for classes that stores a lot of data\n",
    "- in method heavy classes, dataclass might not help much\n",
    "\n",
    "- Om man har klasser med många metoder, man har t ex custom init, repr osv. Så kommer inte dataclass hjälpa\n",
    "\n",
    "\n",
    "gives free:\n",
    "- `__init__()`\n",
    "- `__repr__()`\n",
    "- `__eq__()`\n",
    "- and more"
   ]
  },
  {
   "cell_type": "code",
   "execution_count": 5,
   "metadata": {},
   "outputs": [
    {
     "name": "stdout",
     "output_type": "stream",
     "text": [
      "value setter\n",
      "value must be int or float not property\n",
      "value setter\n",
      "value getter\n",
      "42 unitsunit\n"
     ]
    }
   ],
   "source": [
    "from __future__ import annotations\n",
    "from dataclasses import dataclass\n",
    "\n",
    "@dataclass\n",
    "class Prefix:\n",
    "    # Här titttar dataclasses på fälten här, dessa är fält\n",
    "    # fields will go into the automatically generated __init__(), __repr__()\n",
    "    # fields- variable: type annotation\n",
    "    value: int | float # positional argument, har man annoterat så är det ett fält och då kommer dataclass \n",
    "    # se till att generera en dunder init där fältet är med.\n",
    "    unit: str = \"unit\" #keywoard argument\n",
    "    prefix_symbol: str = None\n",
    "\n",
    "    # bare class attributes, they are not in __init__ or __repr__\n",
    "    # note they don't have type annotation so they are not fields\n",
    "    symbols = \"T G M k h d c m µ n p\".split()\n",
    "    names = \"tera giga mega kilo hekto deci centi milli mikro nano piko\".split()\n",
    "    values = (10**i for i in(12,9,6,3,2,-1,-2,-3,-6,-9,-12))  #En generator av siffrorna, kan itereras via en for loop\n",
    "\n",
    "    # Dictionary comprehension\n",
    "    prefix_dict = {\n",
    "        symbol: [value, name]  # I want a symbol, that maps value and name\n",
    "        for name, symbol, value in zip(names, symbols, values) #Here we do dictionary comprehension\n",
    "\n",
    "    }\n",
    "\n",
    "    # Now we can do konverteringen\n",
    "    # När vi kör konvert och lägger in t ex kg, då ska den leta fram k från värdet vi skapat sen innan\n",
    "    # dividerat på 1000. Då får man fram konverteringen. \n",
    "    def convert(self, symbol: str) -> float | int:\n",
    "        self.prefix_symbol = symbol\n",
    "        return self.value/self.prefix_dict[symbol][0]\n",
    "\n",
    "\n",
    "    # Om man inte gett någon enhete så ger den tillbaka värdet enheter. Men om man har någon enhet så kan man ge ett annat värde\n",
    "\n",
    "    def __str__(self) -> str:\n",
    "        if self.prefix_symbol: # samma som att skriva is not None:\n",
    "            return f\"{self.convert(self.prefix_symbol)}{self.prefix_symbol}{self.unit}\"\n",
    "        return f\"{self.value} units{self.unit}\"\n",
    "\n",
    "    @property\n",
    "    def value(self):\n",
    "        print(\"value getter\")\n",
    "        return self._value\n",
    "\n",
    "    @value.setter\n",
    "    def value(self, value):\n",
    "        print(\"value setter\")\n",
    "        if not isinstance(value, (float, int)):\n",
    "            raise TypeError(f\"value must be int or float not {type(value).__name__}\")\n",
    "        self._value = value\n",
    "\n",
    "    #def __repr__(self):\n",
    "    #    return \"Custom __repr__()\"\n",
    "\n",
    "\n",
    "# in the __init__(self, value, unit, ...)\n",
    "#       self.value = value  \n",
    "#       self.unit = unit\n",
    "\n",
    "\n",
    "try:\n",
    "    p1 = Prefix()\n",
    "except TypeError as err:\n",
    "    print(err)\n",
    "\n",
    "\n",
    "p1 = Prefix(42)\n",
    "print(p1) #the __repr__ picks the value whichi will run the getter\n",
    "# __repr__() uses the fields and not the value class attributes\n",
    "\n"
   ]
  },
  {
   "cell_type": "code",
   "execution_count": 11,
   "metadata": {},
   "outputs": [
    {
     "name": "stdout",
     "output_type": "stream",
     "text": [
      "value setter\n",
      "value getter\n",
      "42 unitsg\n",
      "value getter\n",
      "value getter\n",
      "42000.0mg\n"
     ]
    }
   ],
   "source": [
    "p1 = Prefix(42, \"g\")\n",
    "print(p1) # __str__\n",
    "p1.convert(\"m\")  # 42/(10^(-3)) = 42*10^3 = 42000\n",
    "print(p1)"
   ]
  }
 ],
 "metadata": {
  "kernelspec": {
   "display_name": "Python 3.9.13 ('PythonSchool-iXQr8Z-p')",
   "language": "python",
   "name": "python3"
  },
  "language_info": {
   "codemirror_mode": {
    "name": "ipython",
    "version": 3
   },
   "file_extension": ".py",
   "mimetype": "text/x-python",
   "name": "python",
   "nbconvert_exporter": "python",
   "pygments_lexer": "ipython3",
   "version": "3.9.13"
  },
  "orig_nbformat": 4,
  "vscode": {
   "interpreter": {
    "hash": "ede0424b5117af074b0a15022a0db7920ce0c06d0370a7c1883de86effeccc15"
   }
  }
 },
 "nbformat": 4,
 "nbformat_minor": 2
}
