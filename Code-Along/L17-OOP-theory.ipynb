{
 "cells": [
  {
   "cell_type": "markdown",
   "metadata": {},
   "source": [
    "## OOP theory"
   ]
  },
  {
   "cell_type": "markdown",
   "metadata": {},
   "source": [
    "## Class instantiation\n",
    "\n",
    "\n",
    "#When instantiating an object from a class\n",
    "\n",
    "\n",
    "1. `__new__()` is run\n",
    "2. `__inint__()`is run -> given the instance object oss initial state"
   ]
  },
  {
   "cell_type": "code",
   "execution_count": 7,
   "metadata": {},
   "outputs": [
    {
     "name": "stdout",
     "output_type": "stream",
     "text": [
      "<__main__.Student object at 0x000001BF749F5070>\n",
      "<class '__main__.Student'>\n"
     ]
    },
    {
     "data": {
      "text/plain": [
       "True"
      ]
     },
     "execution_count": 7,
     "metadata": {},
     "output_type": "execute_result"
    }
   ],
   "source": [
    "\n",
    "# Convention for classes is PascalCase(Stor bokstav på första, stor boksta på nästa ord)\n",
    "class Student:\n",
    "    pass\n",
    "\n",
    "\n",
    "# variable names have snake_case\n",
    "# functions also snake_case\n",
    "\n",
    "s1 = Student()\n",
    "# s1 has a __rer__(), but this __repr__() is in the object class\n",
    "print(repr(s1))\n",
    "\n",
    "print(type(s1))\n",
    "isinstance(s1, object)\n"
   ]
  },
  {
   "cell_type": "code",
   "execution_count": 9,
   "metadata": {},
   "outputs": [
    {
     "data": {
      "text/plain": [
       "(True, False)"
      ]
     },
     "execution_count": 9,
     "metadata": {},
     "output_type": "execute_result"
    }
   ],
   "source": [
    "isinstance(Student, object), isinstance(s1, int)\n"
   ]
  },
  {
   "cell_type": "code",
   "execution_count": 10,
   "metadata": {},
   "outputs": [
    {
     "data": {
      "text/plain": [
       "False"
      ]
     },
     "execution_count": 10,
     "metadata": {},
     "output_type": "execute_result"
    }
   ],
   "source": [
    "s2 = Student()\n",
    "s1 is s2"
   ]
  },
  {
   "cell_type": "code",
   "execution_count": 11,
   "metadata": {},
   "outputs": [
    {
     "data": {
      "text/plain": [
       "False"
      ]
     },
     "execution_count": 11,
     "metadata": {},
     "output_type": "execute_result"
    }
   ],
   "source": [
    "s1 == s2"
   ]
  },
  {
   "cell_type": "code",
   "execution_count": 14,
   "metadata": {},
   "outputs": [
    {
     "data": {
      "text/plain": [
       "(True, True)"
      ]
     },
     "execution_count": 14,
     "metadata": {},
     "output_type": "execute_result"
    }
   ],
   "source": [
    "fruit1 = \"apple\"\n",
    "fruit2 = \"apple\"\n",
    "\n",
    "fruit1 == fruit2, fruit1 is fruit2\n",
    "\n"
   ]
  },
  {
   "cell_type": "code",
   "execution_count": 15,
   "metadata": {},
   "outputs": [
    {
     "data": {
      "text/plain": [
       "('0x1bf749f5070', '0x1bf7494e730')"
      ]
     },
     "execution_count": 15,
     "metadata": {},
     "output_type": "execute_result"
    }
   ],
   "source": [
    "hex(id(s1)), hex(id(s2))"
   ]
  },
  {
   "cell_type": "code",
   "execution_count": 16,
   "metadata": {},
   "outputs": [
    {
     "data": {
      "text/plain": [
       "(False, False)"
      ]
     },
     "execution_count": 16,
     "metadata": {},
     "output_type": "execute_result"
    }
   ],
   "source": [
    "l1 = [1,2,3]\n",
    "l2 = [1,2,3]\n",
    "\n",
    "l1 is l2, l1 == 12"
   ]
  },
  {
   "cell_type": "markdown",
   "metadata": {},
   "source": [
    "## Attribute\n",
    "\n",
    "- Can be defined in class\n",
    "- can be created on the fly(during runtime) using dot notation\n",
    "- can be created inside methods\n"
   ]
  },
  {
   "cell_type": "code",
   "execution_count": 24,
   "metadata": {},
   "outputs": [
    {
     "name": "stdout",
     "output_type": "stream",
     "text": [
      "{'__module__': '__main__', 'name': 'default', '__dict__': <attribute '__dict__' of 'Student' objects>, '__weakref__': <attribute '__weakref__' of 'Student' objects>, '__doc__': None}\n"
     ]
    },
    {
     "data": {
      "text/plain": [
       "'default'"
      ]
     },
     "execution_count": 24,
     "metadata": {},
     "output_type": "execute_result"
    }
   ],
   "source": [
    "class Student():\n",
    "    name = \"default\"\n",
    "\n",
    "#Students namespace\n",
    "print(Student.__dict__)\n",
    "\n",
    "\n",
    "# gets the name attribute from the class\n",
    "Student.name"
   ]
  },
  {
   "cell_type": "code",
   "execution_count": 26,
   "metadata": {},
   "outputs": [
    {
     "name": "stdout",
     "output_type": "stream",
     "text": [
      "{}\n"
     ]
    },
    {
     "data": {
      "text/plain": [
       "'default'"
      ]
     },
     "execution_count": 26,
     "metadata": {},
     "output_type": "execute_result"
    }
   ],
   "source": [
    "s1 = Student()\n",
    "print(s1.__dict__)\n",
    "s1.name"
   ]
  },
  {
   "cell_type": "code",
   "execution_count": 28,
   "metadata": {},
   "outputs": [
    {
     "name": "stdout",
     "output_type": "stream",
     "text": [
      "{'name': 'Ada', 'shoe_size': 43}\n"
     ]
    }
   ],
   "source": [
    "\n",
    "# Created an attribute on the fly with dot nation\n",
    "s1.name = \"Ada\"\n",
    "s1.shoe_size = 43\n",
    "print(s1.__dict__)\n"
   ]
  },
  {
   "cell_type": "code",
   "execution_count": 30,
   "metadata": {},
   "outputs": [
    {
     "data": {
      "text/plain": [
       "mappingproxy({'__module__': '__main__',\n",
       "              'name': 'default',\n",
       "              '__dict__': <attribute '__dict__' of 'Student' objects>,\n",
       "              '__weakref__': <attribute '__weakref__' of 'Student' objects>,\n",
       "              '__doc__': None})"
      ]
     },
     "execution_count": 30,
     "metadata": {},
     "output_type": "execute_result"
    }
   ],
   "source": [
    "# kollar students namespace\n",
    "Student.__dict__\n"
   ]
  },
  {
   "cell_type": "code",
   "execution_count": 31,
   "metadata": {},
   "outputs": [
    {
     "data": {
      "text/plain": [
       "{}"
      ]
     },
     "execution_count": 31,
     "metadata": {},
     "output_type": "execute_result"
    }
   ],
   "source": [
    "s2 = Student()\n",
    "s2.__dict__"
   ]
  },
  {
   "cell_type": "markdown",
   "metadata": {},
   "source": [
    "## Namespaces \n",
    "\n",
    "- class attributes lives in the class namespace\n",
    "- namespace - dictionary of symbols (keys): reference to objects (values)\n",
    "\n",
    "Python will look at local scope  -> enclosing scope -> global scope -> built-in scope\n"
   ]
  },
  {
   "cell_type": "code",
   "execution_count": 47,
   "metadata": {},
   "outputs": [],
   "source": [
    "#Global scope\n",
    "class Functions:\n",
    "    #Enclosing scope\n",
    "    def f(x):\n",
    "        # local scope\n",
    "        return x\n"
   ]
  },
  {
   "cell_type": "code",
   "execution_count": 51,
   "metadata": {},
   "outputs": [
    {
     "name": "stdout",
     "output_type": "stream",
     "text": [
      "{'__module__': '__main__', 'eyes': 2, 'nose': 1, 'has_tail': True, '__init__': <function Rabbit.__init__ at 0x000001BF76953DC0>, '__dict__': <attribute '__dict__' of 'Rabbit' objects>, '__weakref__': <attribute '__weakref__' of 'Rabbit' objects>, '__doc__': None}\n",
      "{'name': 'Bella'}\n"
     ]
    },
    {
     "data": {
      "text/plain": [
       "'Bella'"
      ]
     },
     "execution_count": 51,
     "metadata": {},
     "output_type": "execute_result"
    }
   ],
   "source": [
    "class Rabbit:\n",
    "    # class attributes - class namespace, not in instance namespace\n",
    "    # fInns i classen namespace\n",
    "    eyes = 2\n",
    "    nose = 1\n",
    "    has_tail = True \n",
    "\n",
    "    def __init__(self, name) -> None:\n",
    "        #Name exists in instance namespace, not the class namespace\n",
    "        self.name = name\n",
    "        \n",
    "\n",
    "rabbit1 = Rabbit(\"Bella\")  # Finns i lokala namesspace\n",
    "print(Rabbit.__dict__)\n",
    "\n",
    "print(rabbit1.__dict__)\n",
    "rabbit1.name"
   ]
  },
  {
   "cell_type": "code",
   "execution_count": 53,
   "metadata": {},
   "outputs": [
    {
     "data": {
      "text/plain": [
       "('Bella', 1)"
      ]
     },
     "execution_count": 53,
     "metadata": {},
     "output_type": "execute_result"
    }
   ],
   "source": [
    "rabbit1.name, rabbit1.nose"
   ]
  },
  {
   "cell_type": "code",
   "execution_count": 56,
   "metadata": {},
   "outputs": [
    {
     "data": {
      "text/plain": [
       "False"
      ]
     },
     "execution_count": 56,
     "metadata": {},
     "output_type": "execute_result"
    }
   ],
   "source": [
    "class Rabbit:\n",
    "    # class attributes - class namespace, not in instance namespace\n",
    "    # fInns i classen namespace\n",
    "    eyes = 2\n",
    "    nose = 1\n",
    "    has_tail = True \n",
    "\n",
    "    def __init__(self, name) -> None:\n",
    "        #Name exists in instance namespace, not the class namespace\n",
    "        self.name = name\n",
    "        self.has_tail = False\n",
    "\n",
    "rabbit1 = Rabbit(\"Skutt\")\n",
    "rabbit1.has_tail"
   ]
  },
  {
   "cell_type": "code",
   "execution_count": 60,
   "metadata": {},
   "outputs": [
    {
     "data": {
      "text/plain": [
       "4"
      ]
     },
     "execution_count": 60,
     "metadata": {},
     "output_type": "execute_result"
    }
   ],
   "source": [
    "import numpy as np\n",
    "\n",
    "# x is in global namespace\n",
    "x = np.linspace(-5, 5)\n",
    "\n",
    "# x here is in local scope\n",
    "#f = lambda x: x**2\n",
    "\n",
    "def f(x):\n",
    "    # local x = 2 eftersom vi stoppar i 2\n",
    "    y = x +2\n",
    "    return y\n",
    "\n",
    "f(2)"
   ]
  },
  {
   "cell_type": "markdown",
   "metadata": {},
   "source": [
    "## Property\n"
   ]
  },
  {
   "cell_type": "code",
   "execution_count": 63,
   "metadata": {},
   "outputs": [
    {
     "name": "stdout",
     "output_type": "stream",
     "text": [
      "{'__module__': '__main__', '__init__': <function Square.__init__ at 0x000001BF7CCF6820>, 'get_side': <function Square.get_side at 0x000001BF7CCF6B80>, 'set_side': <function Square.set_side at 0x000001BF7CD3A160>, '__dict__': <attribute '__dict__' of 'Square' objects>, '__weakref__': <attribute '__weakref__' of 'Square' objects>, '__doc__': None}\n",
      "{'_side': 1}\n",
      "'Square' object has no attribute 'side'\n"
     ]
    }
   ],
   "source": [
    "# without property function\n",
    "\n",
    "class Square:\n",
    "    def __init__(self, side) -> None:\n",
    "        self._side = side\n",
    "\n",
    "    # method\n",
    "    def get_side(self):\n",
    "        print(\"getter run\")\n",
    "        return self._side\n",
    "    # method\n",
    "    def set_side(self, value):\n",
    "        # validation code\n",
    "        print(\"Setter run\")\n",
    "\n",
    "        self._side = value\n",
    "\n",
    "unit_square = Square(1)\n",
    "print(Square.__dict__)\n",
    "print(unit_square.__dict__)\n",
    "\n",
    "\n",
    "try:\n",
    "    unit_square.side\n",
    "except AttributeError as err:\n",
    "    print(err)\n",
    "\n"
   ]
  },
  {
   "cell_type": "code",
   "execution_count": 69,
   "metadata": {},
   "outputs": [
    {
     "name": "stdout",
     "output_type": "stream",
     "text": [
      "getter run\n",
      "Setter run\n",
      "getter run\n"
     ]
    },
    {
     "data": {
      "text/plain": [
       "{'_side': 2}"
      ]
     },
     "execution_count": 69,
     "metadata": {},
     "output_type": "execute_result"
    }
   ],
   "source": [
    "unit_square.get_side()  #This returns _side\n",
    "unit_square.set_side(2) #THis sets _side to 2\n",
    "unit_square.get_side()  #This returns _side\n",
    "unit_square.__dict__"
   ]
  },
  {
   "cell_type": "code",
   "execution_count": 73,
   "metadata": {},
   "outputs": [
    {
     "name": "stdout",
     "output_type": "stream",
     "text": [
      "Setter run\n",
      "Setter run\n",
      "getter run\n"
     ]
    },
    {
     "data": {
      "text/plain": [
       "4"
      ]
     },
     "execution_count": 73,
     "metadata": {},
     "output_type": "execute_result"
    }
   ],
   "source": [
    "class Square:\n",
    "    def __init__(self, side) -> None:\n",
    "        self.side = side\n",
    "\n",
    "\n",
    "    # Side = property(fget=side)\n",
    "    def get_side(self):\n",
    "        print(\"getter run\")\n",
    "        return self._side\n",
    "\n",
    "    def set_side(self, value):\n",
    "        # validation code\n",
    "        print(\"Setter run\")\n",
    "        self._side = value\n",
    "\n",
    "    \n",
    "    side = property(fget = get_side, fset = set_side)\n",
    "\n",
    "square2 = Square(2)\n",
    "square2.side = 4\n",
    "square2.side"
   ]
  },
  {
   "cell_type": "code",
   "execution_count": 74,
   "metadata": {},
   "outputs": [
    {
     "data": {
      "text/plain": [
       "3"
      ]
     },
     "execution_count": 74,
     "metadata": {},
     "output_type": "execute_result"
    }
   ],
   "source": [
    "class Square:\n",
    "    def __init__(self, side) -> None:\n",
    "        self.side = side\n",
    "\n",
    "\n",
    "    # Side = property(fget=side)\n",
    "    def get_side(self):\n",
    "        print(\"getter run\")\n",
    "        return self._side\n",
    "\n",
    "    def set_side(self, value):\n",
    "        # validation code\n",
    "        print(\"Setter run\")\n",
    "        self._side = value\n",
    "        \n",
    "\n",
    "square3 = Square(3)\n",
    "square3.side"
   ]
  }
 ],
 "metadata": {
  "kernelspec": {
   "display_name": "Python 3.9.13 ('PythonSchool-iXQr8Z-p')",
   "language": "python",
   "name": "python3"
  },
  "language_info": {
   "codemirror_mode": {
    "name": "ipython",
    "version": 3
   },
   "file_extension": ".py",
   "mimetype": "text/x-python",
   "name": "python",
   "nbconvert_exporter": "python",
   "pygments_lexer": "ipython3",
   "version": "3.9.13"
  },
  "orig_nbformat": 4,
  "vscode": {
   "interpreter": {
    "hash": "ede0424b5117af074b0a15022a0db7920ce0c06d0370a7c1883de86effeccc15"
   }
  }
 },
 "nbformat": 4,
 "nbformat_minor": 2
}
