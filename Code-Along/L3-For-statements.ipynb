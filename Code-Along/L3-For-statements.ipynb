{
 "cells": [
  {
   "cell_type": "markdown",
   "metadata": {},
   "source": [
    "## For loop "
   ]
  },
  {
   "cell_type": "code",
   "execution_count": 4,
   "metadata": {},
   "outputs": [
    {
     "name": "stdout",
     "output_type": "stream",
     "text": [
      "0 Hej\n",
      "1 Hej\n",
      "2 Hej\n",
      "3 Hej\n",
      "4 Hej\n"
     ]
    }
   ],
   "source": [
    "for i in range(5):\n",
    "    print(i,\"Hej\")\n",
    "\n",
    "# I andra språk skulle det kunna se ut\n",
    "# for (int i = 0 ; i < 5, i++) {\n",
    "# statement\n",
    "# }\n",
    "\n"
   ]
  },
  {
   "cell_type": "code",
   "execution_count": 5,
   "metadata": {},
   "outputs": [
    {
     "name": "stdout",
     "output_type": "stream",
     "text": [
      "0\t1\t2\t3\t4\t5\t6\t7\t8\t9\t"
     ]
    }
   ],
   "source": [
    "for i in range(10):\n",
    "    print(i, end = \"\\t\")\n",
    "    "
   ]
  },
  {
   "cell_type": "code",
   "execution_count": 7,
   "metadata": {},
   "outputs": [
    {
     "name": "stdout",
     "output_type": "stream",
     "text": [
      "0+1+2+...+9 = my_sum=45\n"
     ]
    }
   ],
   "source": [
    "my_sum = 0\n",
    "\n",
    "for i in range(10):\n",
    "    my_sum += i \n",
    "\n",
    "print (f\"0+1+2+...+9 = {my_sum=}\")\n"
   ]
  },
  {
   "cell_type": "markdown",
   "metadata": {},
   "source": [
    "## Loop through a list "
   ]
  },
  {
   "cell_type": "code",
   "execution_count": 25,
   "metadata": {},
   "outputs": [
    {
     "name": "stdout",
     "output_type": "stream",
     "text": [
      "rabbit is cute\n",
      "\n",
      "guina pig, cat, guppy is cute\n",
      "\n"
     ]
    }
   ],
   "source": [
    "cute_animals = [\"rabbit\", \"guina pig, cat, guppy\"]\n",
    "\n",
    "for animal in cute_animals:\n",
    "    print(f\"{animal} is cute\\n\")\n"
   ]
  },
  {
   "cell_type": "markdown",
   "metadata": {},
   "source": [
    "## Random module"
   ]
  },
  {
   "cell_type": "code",
   "execution_count": 22,
   "metadata": {},
   "outputs": [
    {
     "name": "stdout",
     "output_type": "stream",
     "text": [
      "number_sixes=16762\n",
      "Proportions of sixes 0.16762\n"
     ]
    }
   ],
   "source": [
    "import random as rnd\n",
    "## Skapa t ex tärningar\n",
    "dice = rnd.randint(1,6)\n",
    "number_sixes = 0\n",
    "number_rolls = 100000\n",
    "\n",
    "for i in range(number_rolls):\n",
    "    dice = rnd.randint(1,6)\n",
    "    if dice == 6:\n",
    "        number_sixes += 1\n",
    "\n",
    "print(f\"{number_sixes=}\")\n",
    "print(f\"Proportions of sixes {number_sixes/number_rolls}\")\n",
    "\n",
    "## Why does the answers seem to converge towar 0.166??\n"
   ]
  }
 ],
 "metadata": {
  "kernelspec": {
   "display_name": "Python 3.9.13 ('PythonSchool-iXQr8Z-p')",
   "language": "python",
   "name": "python3"
  },
  "language_info": {
   "codemirror_mode": {
    "name": "ipython",
    "version": 3
   },
   "file_extension": ".py",
   "mimetype": "text/x-python",
   "name": "python",
   "nbconvert_exporter": "python",
   "pygments_lexer": "ipython3",
   "version": "3.9.13"
  },
  "orig_nbformat": 4,
  "vscode": {
   "interpreter": {
    "hash": "ede0424b5117af074b0a15022a0db7920ce0c06d0370a7c1883de86effeccc15"
   }
  }
 },
 "nbformat": 4,
 "nbformat_minor": 2
}
