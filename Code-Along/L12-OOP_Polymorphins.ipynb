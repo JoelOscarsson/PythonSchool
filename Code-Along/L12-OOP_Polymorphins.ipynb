{
 "cells": [
  {
   "cell_type": "markdown",
   "metadata": {},
   "source": [
    "## OOP Polymorphism"
   ]
  },
  {
   "cell_type": "code",
   "execution_count": 4,
   "metadata": {},
   "outputs": [
    {
     "name": "stdout",
     "output_type": "stream",
     "text": [
      "len([1,23,4])=3\n",
      "len('1234')=4\n"
     ]
    }
   ],
   "source": [
    "# example with Python built-in\n",
    "# example of Polymorphic behavior\n",
    "print(f\"{len([1,23,4])=}\")\n",
    "print(f\"{len('1234')=}\")"
   ]
  },
  {
   "cell_type": "markdown",
   "metadata": {},
   "source": [
    "## Polymorphism in class method"
   ]
  },
  {
   "cell_type": "code",
   "execution_count": 32,
   "metadata": {},
   "outputs": [],
   "source": [
    "\n",
    "class Fish:\n",
    "    def __init__(self, name) -> None:\n",
    "        self.name = name\n",
    "\n",
    "    # Overrided dunder string method, vi skriver över dess ursprungliga\n",
    "    def __str__(self):  #Dunderstring\n",
    "        return f\"I am a fish with name {self.name}\"\n",
    "\n",
    "    # Overrided duner repper method, vi skriver över dess ursprungliga\n",
    "    def __rep__(self) -> str:\n",
    "        return f\"Fish(name=' {self.name}')\"\n",
    "\n",
    "    def speak(self):\n",
    "        print(\"Bluppy bluppy\")\n",
    "\n",
    "class Fox:\n",
    "    def __init__(self, name) -> None:\n",
    "        self.name = name\n",
    "\n",
    "\n",
    "    def __str__(self) -> str:\n",
    "        return f\"I am a fox with name {self.name}, my sound is mysterious\"\n",
    "    \n",
    "    def speak(self):\n",
    "        return NotImplemented\n",
    "\n"
   ]
  },
  {
   "cell_type": "code",
   "execution_count": 33,
   "metadata": {},
   "outputs": [],
   "source": [
    "class Fish:\n",
    "    def __init__(self, name) -> None:\n",
    "        self.name = name\n",
    "    \n",
    "    def __str__(self):\n",
    "        return f\"I am a fish with name {self.name}\"\n",
    "\n",
    "    def __repr__(self) -> str:\n",
    "        return f\"Fish(name='{self.name}')\"\n",
    "\n",
    "    def speak(self):\n",
    "        print(\"Bluppy bluppy\")\n",
    "\n",
    "class Fox:\n",
    "    def __init__(self, name) -> None:\n",
    "        self.name = name\n",
    "    \n",
    "    def __str__(self) -> str:\n",
    "        return f\"I am a fox with name {self.name}, my sound is mysterious\"\n",
    "\n",
    "    def speak(self):\n",
    "        return NotImplemented"
   ]
  },
  {
   "cell_type": "code",
   "execution_count": 34,
   "metadata": {},
   "outputs": [
    {
     "data": {
      "text/plain": [
       "\"Fish(name='Guppie')\""
      ]
     },
     "execution_count": 34,
     "metadata": {},
     "output_type": "execute_result"
    }
   ],
   "source": [
    "fish1 = Fish(\"Guppie\")\n",
    "str(fish1)   #Hade lika gärna kunnat skriva print instead of str\n",
    "repr(fish1)\n"
   ]
  },
  {
   "cell_type": "code",
   "execution_count": 35,
   "metadata": {},
   "outputs": [
    {
     "name": "stdout",
     "output_type": "stream",
     "text": [
      "I am a fish with name Guppie\n",
      "Bluppy bluppy\n",
      "I am a fox with name Ylvis, my sound is mysterious\n"
     ]
    }
   ],
   "source": [
    "fox1 = Fox(\"Ylvis\")\n",
    "animals = (fish1, fox1)\n",
    "\n",
    "for animal in animals:\n",
    "    print(animal)\n",
    "    animal.speak()"
   ]
  },
  {
   "cell_type": "markdown",
   "metadata": {},
   "source": [
    "## Operator overload\n",
    "\n",
    "- Man kan modda olika funktioner https://www.geeksforgeeks.org/operator-overloading-in-python/"
   ]
  },
  {
   "cell_type": "code",
   "execution_count": 5,
   "metadata": {},
   "outputs": [
    {
     "name": "stdout",
     "output_type": "stream",
     "text": [
      "Vector(1.0, 2.0, 3.0)\n",
      "Vectors can't be empty\n",
      "(-1.0, -2.0)\n",
      "len(v3)=2\n",
      "v3[0]=2.0\n",
      "abs(Vector(3,4))=5.0\n"
     ]
    }
   ],
   "source": [
    "from __future__ import annotations\n",
    "import matplotlib.pyplot as plt \n",
    "\n",
    "class Vector:\n",
    "    \"\"\"A class to represent Euclidean vector with magnitude and direction\"\"\"\n",
    "\n",
    "    # *numbers -> arbitrary numbers of positional arguments\n",
    "    def __init__(self, *numbers: float | int) -> None:\n",
    "        \n",
    "        # validation\n",
    "        for number in numbers:\n",
    "            if not isinstance(number, (float, int)):\n",
    "                raise TypeError(f\"{number} is not a valid number\")\n",
    "        \n",
    "        if len(numbers) == 0:\n",
    "            raise ValueError(\"Vectors can't be empty\")\n",
    "\n",
    "        self._numbers = tuple(float(number) for number in numbers)\n",
    "\n",
    "    @property\n",
    "    def numbers(self) -> tuple:\n",
    "        \"\"\"Returns numbers\"\"\"\n",
    "        return self._numbers # tuple\n",
    "\n",
    "    # operator overload +\n",
    "    def __add__(self, other: Vector) -> Vector:\n",
    "        if self.validate_vectors(other):\n",
    "            # (1,2)+(2,3) -> numbers = (1+2, 2+3)\n",
    "            numbers = (a+b for a,b in zip(self.numbers, other.numbers))\n",
    "            return Vector(*numbers)\n",
    "\n",
    "    # operator overload -\n",
    "    def __sub__(self, other: Vector) -> Vector:\n",
    "        if self.validate_vectors(other):\n",
    "            numbers = (a-b for a,b in zip(self.numbers, other.numbers))\n",
    "            return Vector(*numbers)\n",
    "\n",
    "    def validate_vectors(self, other: Vector) -> bool:\n",
    "        \"\"\"Validates if two vectors have same length\"\"\"\n",
    "        if not isinstance(other, Vector) or len(other) != len(self):\n",
    "            raise TypeError(\"Both must be Vector and must have same length\")\n",
    "        return len(self) == len(other) # evaluates to either True or False\n",
    "\n",
    "    # to use len() on Vector we have overload it\n",
    "    def __len__(self) -> int:\n",
    "        \"\"\"Returns number of elements in a Vector not the length of the Vector\"\"\"\n",
    "        return len(self.numbers)\n",
    "    \n",
    "    # operator overload [] operator - __getitem__()\n",
    "    def __getitem__(self, item: int) -> float:\n",
    "        return self.numbers[item]\n",
    "\n",
    "    # overload abs() function\n",
    "    def __abs__(self) -> float:\n",
    "        \"\"\"Returns Euclidean 2nd norm of a Vector\"\"\"\n",
    "        return sum(a**2 for a in self.numbers)**.5\n",
    "    \n",
    "    # overload * operator\n",
    "    def __mul__(self, value: int|float) -> Vector:\n",
    "        print(\"__mul__ called\")\n",
    "        if not isinstance(value, (int, float)):\n",
    "            raise TypeError(f\"The value must be a scalar that is int or float, not {type(value)}\")\n",
    "        numbers = (value*a for a in self.numbers)\n",
    "        return Vector(*numbers)\n",
    "\n",
    "    # reflected multiplication\n",
    "    def __rmul__(self, value: int|float) -> Vector:\n",
    "        print(\"__rmul__ called\")\n",
    "        return self*value\n",
    "\n",
    "    def plot(self, *others: Vector) -> None:\n",
    "        \"\"\" Visualize 2D vectors\"\"\"\n",
    "        X, Y = [], []\n",
    "\n",
    "        for vector in tuple(others):\n",
    "            if Vector.is2D(vector) and Vector.is2D(self):\n",
    "                X.append(vector[0])\n",
    "                Y.append(vector[1])\n",
    "        \n",
    "        X.append(self[0])\n",
    "        Y.append(self[1])\n",
    "\n",
    "        originX = originY = tuple(0 for _ in range(len(X)))\n",
    "\n",
    "        plt.quiver(originX, originY, X, Y, scale=1,\n",
    "                   scale_units=\"xy\", angles=\"xy\")\n",
    "        plt.xlim(-2, 10)\n",
    "        plt.ylim(-2, 10)\n",
    "        plt.xlabel(\"x\")\n",
    "        plt.ylabel(\"y\")\n",
    "        plt.title(f\"{self}, {others}\")\n",
    "        plt.grid()\n",
    "        plt.show()\n",
    "\n",
    "    @staticmethod\n",
    "    def is2D(vector: Vector) -> bool:\n",
    "        return len(vector) == 2\n",
    "\n",
    "    def __repr__(self) -> str:\n",
    "        return f\"Vector{self._numbers}\"\n",
    "\n",
    "#Vector(\"ofs\",2,3)\n",
    "v1 = Vector(1,2,3)\n",
    "print(v1)\n",
    "\n",
    "try:\n",
    "    v2 = Vector()\n",
    "except ValueError as err:\n",
    "    print(err)\n",
    "\n",
    "v2 = Vector(-1,-2)\n",
    "print(v2.numbers)\n",
    "\n",
    "v3 = Vector(2,3)\n",
    "print(f\"{len(v3)=}\")\n",
    "\n",
    "print(f\"{v3[0]=}\")\n",
    "\n",
    "print(f\"{abs(Vector(3,4))=}\")"
   ]
  },
  {
   "cell_type": "code",
   "execution_count": null,
   "metadata": {},
   "outputs": [],
   "source": [
    "Vector(1,2)*5\n",
    "\n",
    "# 5*Vector(1,2)"
   ]
  },
  {
   "cell_type": "code",
   "execution_count": null,
   "metadata": {},
   "outputs": [],
   "source": [
    "5*Vector(1,2)"
   ]
  },
  {
   "cell_type": "code",
   "execution_count": null,
   "metadata": {},
   "outputs": [],
   "source": [
    "v1 = Vector(1,2)\n",
    "v2 = Vector(3,1)\n",
    "v3 = v1+v2\n",
    "\n",
    "v3.plot(v1, v2)"
   ]
  },
  {
   "cell_type": "code",
   "execution_count": 2,
   "metadata": {},
   "outputs": [
    {
     "name": "stdout",
     "output_type": "stream",
     "text": [
      "v2=Vector(-1.0, -2.0), v3=Vector(2.0, 3.0)\n",
      "Vector(1.0, 1.0)\n"
     ]
    },
    {
     "data": {
      "text/plain": [
       "Vector(1.0, 1.0)"
      ]
     },
     "execution_count": 2,
     "metadata": {},
     "output_type": "execute_result"
    }
   ],
   "source": [
    "print(f\"{v2=}, {v3=}\")\n",
    "print(v2.__add__(v3))\n",
    "v3+v2"
   ]
  },
  {
   "cell_type": "code",
   "execution_count": 3,
   "metadata": {},
   "outputs": [
    {
     "name": "stdout",
     "output_type": "stream",
     "text": [
      "<generator object <genexpr> at 0x000001AF20F22350>\n"
     ]
    },
    {
     "data": {
      "text/plain": [
       "Vector(0.0, 1.0, 2.0, 3.0, 4.0, 5.0, 6.0, 7.0, 8.0, 9.0)"
      ]
     },
     "execution_count": 3,
     "metadata": {},
     "output_type": "execute_result"
    }
   ],
   "source": [
    "gen = (i for i in range(10))\n",
    "print(gen)\n",
    "Vector(*gen)"
   ]
  }
 ],
 "metadata": {
  "kernelspec": {
   "display_name": "Python 3.9.13 ('PythonSchool-iXQr8Z-p')",
   "language": "python",
   "name": "python3"
  },
  "language_info": {
   "codemirror_mode": {
    "name": "ipython",
    "version": 3
   },
   "file_extension": ".py",
   "mimetype": "text/x-python",
   "name": "python",
   "nbconvert_exporter": "python",
   "pygments_lexer": "ipython3",
   "version": "3.9.13"
  },
  "orig_nbformat": 4,
  "vscode": {
   "interpreter": {
    "hash": "ede0424b5117af074b0a15022a0db7920ce0c06d0370a7c1883de86effeccc15"
   }
  }
 },
 "nbformat": 4,
 "nbformat_minor": 2
}
