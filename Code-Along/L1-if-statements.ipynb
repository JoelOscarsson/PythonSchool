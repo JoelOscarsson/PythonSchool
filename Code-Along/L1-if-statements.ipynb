{
 "cells": [
  {
   "cell_type": "markdown",
   "metadata": {},
   "source": [
    "## Code Along"
   ]
  },
  {
   "cell_type": "markdown",
   "metadata": {},
   "source": [
    "## if statements"
   ]
  },
  {
   "cell_type": "markdown",
   "metadata": {},
   "source": [
    "## if-else"
   ]
  },
  {
   "cell_type": "code",
   "execution_count": 2,
   "metadata": {},
   "outputs": [
    {
     "name": "stdout",
     "output_type": "stream",
     "text": [
      "Du är 10 år gammal, gränsen är 18\n",
      "Du får inte gå in i puben\n"
     ]
    }
   ],
   "source": [
    "age = int(input(\"Hur gammal är du?\"))\n",
    "\n",
    "if age < 18:\n",
    "    print(f\"Du är {age} år gammal, gränsen är 18\")\n",
    "    print(\"Du får inte gå in i puben\")\n",
    "else:\n",
    "    print(\"Välkommen in\")\n",
    "\n",
    "    "
   ]
  },
  {
   "cell_type": "code",
   "execution_count": 3,
   "metadata": {},
   "outputs": [
    {
     "name": "stdout",
     "output_type": "stream",
     "text": [
      "Du får åka balder\n"
     ]
    }
   ],
   "source": [
    "age = 15\n",
    "height = 135\n",
    "\n",
    "# other languages \n",
    "# && for and \n",
    "# || for or\n",
    "if age > 10 and height > 130:\n",
    "    print(\"Du får åka balder\")\n",
    "else:\n",
    "    print(\"Du får inte åka balder\")"
   ]
  },
  {
   "cell_type": "code",
   "execution_count": 4,
   "metadata": {},
   "outputs": [
    {
     "name": "stdout",
     "output_type": "stream",
     "text": [
      "Du får åka balder\n"
     ]
    }
   ],
   "source": [
    "age = 15\n",
    "height = 210\n",
    "\n",
    "if age > 10 and 130 < height <= 210:\n",
    "    print(\"Du får åka balder\")\n",
    "else:\n",
    "    print(\"Du får inte åka balder\")"
   ]
  },
  {
   "cell_type": "markdown",
   "metadata": {},
   "source": [
    "## Modulo Operator %\n",
    "\n",
    "Gives the rest after an integer division\n",
    "\n",
    "Ex\n",
    "\n",
    "5 % 3 = 2\n",
    "22 % 9 = 4"
   ]
  },
  {
   "cell_type": "code",
   "execution_count": 5,
   "metadata": {},
   "outputs": [
    {
     "name": "stdout",
     "output_type": "stream",
     "text": [
      "jämnt tal\n"
     ]
    }
   ],
   "source": [
    "number = 42\n",
    "\n",
    "# 2 equal signs => checks if left is equal to right\n",
    "if number % 2 == 0:\n",
    "    print(\"jämnt tal\")"
   ]
  },
  {
   "cell_type": "code",
   "execution_count": 6,
   "metadata": {},
   "outputs": [
    {
     "name": "stdout",
     "output_type": "stream",
     "text": [
      "3==4: False\n",
      "3==3: True\n",
      "3>=3: True\n",
      "3!=3: False\n"
     ]
    }
   ],
   "source": [
    "print(f\"3==4: {3 == 4}\") \n",
    "print(f\"3==3: {3 == 3}\") # equal operator\n",
    "print(f\"3>=3: {3 >= 3}\") # larger than or equal operator\n",
    "print(f\"3!=3: {3 != 3}\") # not equal operator"
   ]
  },
  {
   "cell_type": "markdown",
   "metadata": {},
   "source": [
    "## if - elif - else"
   ]
  },
  {
   "cell_type": "markdown",
   "metadata": {},
   "source": [
    "if condition:\n",
    "    statement_1\n",
    "    ...\n",
    "    statement_n\n",
    "elif condition:\n",
    "    statement_1\n",
    "    ...\n",
    "    statement_m\n",
    "...\n",
    "elif condition:\n",
    "    ...\n",
    "else:\n",
    "    statements\n",
    "    ...\n",
    "\n",
    "program continues ..."
   ]
  },
  {
   "cell_type": "code",
   "execution_count": 11,
   "metadata": {},
   "outputs": [
    {
     "name": "stdout",
     "output_type": "stream",
     "text": [
      "weight='100'\n",
      "weight=100.0\n",
      "Give patient 1000mg\n"
     ]
    }
   ],
   "source": [
    "# weight is a string here\n",
    "weight = input(\"Enter patients weight (kg): \")\n",
    "print(f\"{weight=}\")\n",
    "\n",
    "# now we convert it to a float\n",
    "weight = float(weight)\n",
    "print(f\"{weight=}\")\n",
    "\n",
    "if weight < 20: \n",
    "    print(\"Give patient 500mg\")\n",
    "elif weight < 40:\n",
    "    print(\"Give patient 750mg\")\n",
    "else:\n",
    "    print(\"Give patient 1000mg\")"
   ]
  },
  {
   "cell_type": "markdown",
   "metadata": {},
   "source": [
    "## Nested if-statements"
   ]
  },
  {
   "cell_type": "code",
   "execution_count": null,
   "metadata": {},
   "outputs": [],
   "source": [
    "number = 10\n",
    "\n",
    "if number % 5 == 0:\n",
    "    print(f\"{number} divisible by 5\")\n",
    "    if number % 2 == 0:\n",
    "        print(\"Even number\")\n",
    "    else:\n",
    "        print(\"Odd number\")\n",
    "else:\n",
    "    print(\"Not divisible by 5\")\n"
   ]
  }
 ],
 "metadata": {
  "kernelspec": {
   "display_name": "Python 3.9.13 64-bit",
   "language": "python",
   "name": "python3"
  },
  "language_info": {
   "codemirror_mode": {
    "name": "ipython",
    "version": 3
   },
   "file_extension": ".py",
   "mimetype": "text/x-python",
   "name": "python",
   "nbconvert_exporter": "python",
   "pygments_lexer": "ipython3",
   "version": "3.9.13"
  },
  "orig_nbformat": 4,
  "vscode": {
   "interpreter": {
    "hash": "958a9210e5eed5eb21a37baf529fded8d3cf9f5344114e9547bddde819fb25fe"
   }
  }
 },
 "nbformat": 4,
 "nbformat_minor": 2
}
