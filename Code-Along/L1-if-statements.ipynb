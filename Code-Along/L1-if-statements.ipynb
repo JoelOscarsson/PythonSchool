{
 "cells": [
  {
   "cell_type": "markdown",
   "metadata": {},
   "source": [
    "## Code Along"
   ]
  },
  {
   "cell_type": "code",
   "execution_count": 1,
   "metadata": {},
   "outputs": [
    {
     "name": "stdout",
     "output_type": "stream",
     "text": [
      "hej Kokchun, du är 31.4 gammal\n",
      "20\n"
     ]
    }
   ],
   "source": [
    "# variable - data type string\n",
    "# create a variable (\"box\") and assigns a value\n",
    "name = \"Joel\"\n",
    "\n",
    "# variable - data type float\n",
    "age = 31.4\n",
    "\n",
    "# this is an f-string (formatted string)\n",
    "print(f\"hej {name}, du är {age} gammal\")\n",
    "\n",
    "# reassigns \n",
    "# note: bad practice \n",
    "name = 20\n",
    "\n",
    "print(name)"
   ]
  },
  {
   "cell_type": "markdown",
   "metadata": {},
   "source": [
    "## Inputs from user\n"
   ]
  },
  {
   "cell_type": "code",
   "execution_count": 2,
   "metadata": {},
   "outputs": [],
   "source": [
    "name = input(\"What is your name?\")\n",
    "age = input(\"What is your age?\")\n",
    "\n",
    "print(f\"Hello {name}, you are {age} years old\")"
   ]
  }
 ],
 "metadata": {
  "kernelspec": {
   "display_name": "Python 3.9.13 64-bit",
   "language": "python",
   "name": "python3"
  },
  "language_info": {
   "codemirror_mode": {
    "name": "ipython",
    "version": 3
   },
   "file_extension": ".py",
   "mimetype": "text/x-python",
   "name": "python",
   "nbconvert_exporter": "python",
   "pygments_lexer": "ipython3",
   "version": "3.9.13"
  },
  "orig_nbformat": 4,
  "vscode": {
   "interpreter": {
    "hash": "958a9210e5eed5eb21a37baf529fded8d3cf9f5344114e9547bddde819fb25fe"
   }
  }
 },
 "nbformat": 4,
 "nbformat_minor": 2
}
