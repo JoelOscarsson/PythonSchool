{
 "cells": [
  {
   "cell_type": "markdown",
   "metadata": {},
   "source": [
    "## Code Along"
   ]
  },
  {
   "cell_type": "code",
   "execution_count": 1,
   "metadata": {},
   "outputs": [
    {
     "name": "stdout",
     "output_type": "stream",
     "text": [
      "hej Kokchun, du är 31.4 gammal\n",
      "20\n"
     ]
    }
   ],
   "source": []
  },
  {
   "cell_type": "markdown",
   "metadata": {},
   "source": [
    "## Inputs from user\n"
   ]
  },
  {
   "cell_type": "code",
   "execution_count": 2,
   "metadata": {},
   "outputs": [],
   "source": [
    "name = input(\"What is your name?\")\n",
    "age = input(\"What is your age?\")\n",
    "\n",
    "print(f\"Hello {name}, you are {age} years old\")"
   ]
  },
  {
   "cell_type": "markdown",
   "metadata": {},
   "source": [
    "## if - elif - else"
   ]
  },
  {
   "cell_type": "code",
   "execution_count": null,
   "metadata": {},
   "outputs": [],
   "source": [
    "from msilib.schema import Condition\n",
    "import py_compile\n",
    "\n",
    "if condition:\n",
    "    statement_1\n",
    "    ...\n",
    "    statement_n\n",
    "elif condition:\n",
    "    statement_1\n",
    "    ...\n",
    "    statement_m\n",
    "...\n",
    "elif condition:\n",
    "    ...\n",
    "    else:\n",
    "        statements\n",
    "        ...\n",
    "program continues ...\n",
    "\n"
   ]
  },
  {
   "cell_type": "code",
   "execution_count": 17,
   "metadata": {},
   "outputs": [
    {
     "name": "stdout",
     "output_type": "stream",
     "text": [
      "weight=50.0\n",
      "50.0=]\n",
      "Give patient 1000mg\n"
     ]
    }
   ],
   "source": [
    "weight = float(input(\"Enter patients weight(kg):\")) \n",
    "print(f\"{weight=}\")\n",
    "\n",
    "# now we convert it to a float\n",
    "weight = float(weight)\n",
    "print (f\"{weight}=]\")\n",
    "    \n",
    "if weight < 20:\n",
    "    print(\"Give patient 500mg\")\n",
    "elif weight < 40:\n",
    "    print(\"Give patient 750mg\")\n",
    "else:\n",
    "    print (\"Give patient 1000mg\")\n"
   ]
  },
  {
   "cell_type": "markdown",
   "metadata": {},
   "source": [
    "## Nested if-statements"
   ]
  },
  {
   "cell_type": "code",
   "execution_count": 16,
   "metadata": {},
   "outputs": [
    {
     "name": "stdout",
     "output_type": "stream",
     "text": [
      "10 divisible by 5\n",
      "Even number\n"
     ]
    }
   ],
   "source": [
    "number = 10\n",
    "\n",
    "if number % 5 == 0:\n",
    "    print(f\"{number} divisible by 5\")\n",
    "    if number % 2 == 0:\n",
    "        print(\"Even number\")\n",
    "    else:\n",
    "        print(\"Odd number\")\n",
    "else:\n",
    "    print(\"Not divisible by 5\")\n"
   ]
  }
 ],
 "metadata": {
  "kernelspec": {
   "display_name": "Python 3.9.13 64-bit",
   "language": "python",
   "name": "python3"
  },
  "language_info": {
   "codemirror_mode": {
    "name": "ipython",
    "version": 3
   },
   "file_extension": ".py",
   "mimetype": "text/x-python",
   "name": "python",
   "nbconvert_exporter": "python",
   "pygments_lexer": "ipython3",
   "version": "3.9.13"
  },
  "orig_nbformat": 4,
  "vscode": {
   "interpreter": {
    "hash": "958a9210e5eed5eb21a37baf529fded8d3cf9f5344114e9547bddde819fb25fe"
   }
  }
 },
 "nbformat": 4,
 "nbformat_minor": 2
}
