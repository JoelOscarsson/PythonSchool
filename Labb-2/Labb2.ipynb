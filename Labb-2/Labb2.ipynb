{
 "cells": [
  {
   "cell_type": "code",
   "execution_count": 24,
   "metadata": {},
   "outputs": [
    {
     "name": "stdout",
     "output_type": "stream",
     "text": [
      "['(width (cm), height (cm), label (0-pichu, 1-pikachu))\\n', '21.959384499160468, 31.23956701424158, 0\\n', '23.63591632187622, 36.46821490673444, 1\\n', '17.714056417303343, 31.44170391314962, 0\\n', '21.78020031891186, 33.213397759738264, 1\\n']\n"
     ]
    }
   ],
   "source": [
    "import re \n",
    "import matplotlib.pyplot as plt\n",
    "import numpy as np\n",
    "\n",
    "\n",
    "\n",
    "with open(\"../Data1/datapoints (3).txt\", \"r\") as f_read:\n",
    "    lines = f_read.readlines(200)\n",
    "    #print(lines)\n",
    "print(lines)\n",
    "\n",
    "## I want to remove all letters, \\n \",\" and white spaces\n",
    "# I want to save width number\n",
    "# I want to save height number \n",
    "# I want to save label (pikachu or pichu)\n"
   ]
  }
 ],
 "metadata": {
  "kernelspec": {
   "display_name": "Python 3.9.13 ('PythonSchool-iXQr8Z-p')",
   "language": "python",
   "name": "python3"
  },
  "language_info": {
   "codemirror_mode": {
    "name": "ipython",
    "version": 3
   },
   "file_extension": ".py",
   "mimetype": "text/x-python",
   "name": "python",
   "nbconvert_exporter": "python",
   "pygments_lexer": "ipython3",
   "version": "3.9.13"
  },
  "orig_nbformat": 4,
  "vscode": {
   "interpreter": {
    "hash": "ede0424b5117af074b0a15022a0db7920ce0c06d0370a7c1883de86effeccc15"
   }
  }
 },
 "nbformat": 4,
 "nbformat_minor": 2
}
