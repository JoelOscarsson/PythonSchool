{
 "cells": [
  {
   "cell_type": "code",
   "execution_count": 137,
   "metadata": {},
   "outputs": [
    {
     "name": "stdout",
     "output_type": "stream",
     "text": [
      "['21.959384499160468, 31.23956701424158, 0\\n', '23.63591632187622, 36.46821490673444, 1\\n']\n",
      "['21.959384499160468, 31.23956701424158, 0\\n'\n",
      " '23.63591632187622, 36.46821490673444, 1\\n']\n",
      "23.63591632187622,36.46821490673444,1\n"
     ]
    }
   ],
   "source": [
    "import re\n",
    "import matplotlib.pyplot as plt\n",
    "import numpy as np\n",
    "from pathlib import Path\n",
    "\n",
    "\n",
    "\n",
    "with open(\"../Data1/datapoints (3).txt\", \"r\") as f_read:\n",
    "    lines = f_read.readlines(100)\n",
    "    lines.pop(0)\n",
    "    print(lines)\n",
    "\n",
    "    line = str(lines)\n",
    "    my_array = np.array(lines)\n",
    "    print(my_array)\n",
    "\n",
    "for line in lines:\n",
    "    line = re.sub('[ \\n]', '', line)\n",
    "print(line)\n",
    "\n",
    "# Create an array from a list\n",
    "\n",
    "\n",
    "#my_list = [2,4,6,8,10]\n",
    "#my_array = np. array(my_list)\n",
    "# printing my_array.\n",
    "#print my_array.\n",
    "# printing the type of my_array.\n",
    "#print type(my_array)\n",
    "#print(lines)\n",
    "\n",
    "\n",
    "    #print(lines)\n",
    "     #I want to remove all letters to isolate the numbers, ## THIS IS ONE OPTION ->   \\n \",\" and white spaces\n",
    "\n",
    "\n",
    "\n",
    "    #for line in lines:\n",
    "        #print(line, end= \"\")\n",
    "\n",
    "#match1 = re.findall(r'^[0-2][0-7]', line)\n",
    "\n",
    "## I want to remove all letters, \\n \",\" and white spaces\n",
    "# I want to save width number\n",
    "# I want to save height number \n",
    "# I want to save label (pikachu or pichu)\n",
    "\n",
    "# I maybe want to use an arrays/numpy for this operation to make it easier to sort the numbers.\n"
   ]
  }
 ],
 "metadata": {
  "kernelspec": {
   "display_name": "Python 3.9.13 ('PythonSchool-iXQr8Z-p')",
   "language": "python",
   "name": "python3"
  },
  "language_info": {
   "codemirror_mode": {
    "name": "ipython",
    "version": 3
   },
   "file_extension": ".py",
   "mimetype": "text/x-python",
   "name": "python",
   "nbconvert_exporter": "python",
   "pygments_lexer": "ipython3",
   "version": "3.9.13"
  },
  "orig_nbformat": 4,
  "vscode": {
   "interpreter": {
    "hash": "ede0424b5117af074b0a15022a0db7920ce0c06d0370a7c1883de86effeccc15"
   }
  }
 },
 "nbformat": 4,
 "nbformat_minor": 2
}
