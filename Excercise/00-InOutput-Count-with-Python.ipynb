{
 "cells": [
  {
   "cell_type": "markdown",
   "metadata": {},
   "source": [
    " ## Pythagorean theorem (*)\n",
    "  a)   A right angled triangle has the catheti: a = 3 and b = 4 length units. Compute the hypothenuse of the triangle. (*)\n",
    "\n",
    "  b)   A right angled triangle has hypothenuse c = 7.0 and a cathetus a = 5.0 length units. Compute the other cathetus and round to one decimal. (*)"
   ]
  },
  {
   "cell_type": "code",
   "execution_count": 29,
   "metadata": {},
   "outputs": [
    {
     "name": "stdout",
     "output_type": "stream",
     "text": [
      "The value of C is 5.0\n"
     ]
    }
   ],
   "source": [
    "import math\n",
    "a = 3**2\n",
    "b = 4**2\n",
    "c = math.sqrt(a + b)\n",
    "\n",
    "print(f\"The value of C is {c}\")\n"
   ]
  },
  {
   "cell_type": "markdown",
   "metadata": {},
   "source": [
    "## Classification accuracy (*)\n",
    "A machine learning algorithm has been trained to predict whether or not it would rain the next day. Out of 365 predictions, it got 300 correct, compute the accuracy of this model."
   ]
  },
  {
   "cell_type": "code",
   "execution_count": 32,
   "metadata": {},
   "outputs": [
    {
     "name": "stdout",
     "output_type": "stream",
     "text": [
      "Acccuracy of bla bla is 0.822\n",
      "0.821917808219178\n"
     ]
    }
   ],
   "source": [
    "correct_outcomes = 300\n",
    "total_outcomes = 365\n",
    "\n",
    "accuracy = correct_outcomes/total_outcomes\n",
    "\n",
    "print(f\"Acccuracy of bla bla is {accuracy:.3f}\")\n",
    "print(accuracy)"
   ]
  },
  {
   "cell_type": "markdown",
   "metadata": {},
   "source": [
    "## Calculated the accuracy using the following formula:\n",
    "\n",
    "accuracy=TP+TNTP+TN+FP+FN"
   ]
  },
  {
   "cell_type": "code",
   "execution_count": 35,
   "metadata": {},
   "outputs": [
    {
     "name": "stdout",
     "output_type": "stream",
     "text": [
      "The accuracy to detect fires is 0.99\n"
     ]
    }
   ],
   "source": [
    "TP = 2\n",
    "TN = 985\n",
    "FP = 2\n",
    "FN = 11\n",
    "\n",
    "accuracy = (TP+TN)/(FP+TN+FP+FN)\n",
    "print(f\"The accuracy to detect fires is {accuracy:.2f}\")"
   ]
  },
  {
   "cell_type": "markdown",
   "metadata": {},
   "source": [
    "## Line (*)\n",
    "Compute the slope  k  and the constant term  m  of this line using the points  A:(4,4)  and  B:(0,1) ."
   ]
  },
  {
   "cell_type": "code",
   "execution_count": 4,
   "metadata": {},
   "outputs": [
    {
     "name": "stdout",
     "output_type": "stream",
     "text": [
      "The slope of K is 0.75\n"
     ]
    }
   ],
   "source": [
    "K = (1-4)/(0-4)\n",
    "M = 1\n",
    "\n",
    "print(f\"The slope of K is {K}\")\n",
    "\n"
   ]
  },
  {
   "cell_type": "markdown",
   "metadata": {},
   "source": [
    "## Euclidean distance (*)\n",
    "The Euclideam distance between the points P1 and P2 is the length of a line between them. Let P1:(3,5) and P2:(−2,4) and compute the distance between them.\n"
   ]
  },
  {
   "cell_type": "code",
   "execution_count": 15,
   "metadata": {},
   "outputs": [
    {
     "name": "stdout",
     "output_type": "stream",
     "text": [
      "The distance between P1 and P2 is 5.0990195135927845\n"
     ]
    }
   ],
   "source": [
    "import math\n",
    "\n",
    "x1, x2 , y1, y2 = 3, -2, 5, 4\n",
    "Point_1 = (3, 5)\n",
    "Point_2 = (-2, 4)\n",
    "\n",
    "distance = math.sqrt((x2-x1)**2+(y2-y1)**2)\n",
    "print(f\"The distance between P1 and P2 is {distance}\")\n"
   ]
  },
  {
   "cell_type": "markdown",
   "metadata": {},
   "source": [
    "6. ## Euclidean distance in 3D (**)\n",
    "Calculate the distance between the points  P1:(2,1,4)  and  P2:(3,1,0)"
   ]
  },
  {
   "cell_type": "code",
   "execution_count": 21,
   "metadata": {},
   "outputs": [
    {
     "name": "stdout",
     "output_type": "stream",
     "text": [
      "distance between P1 and P2 is 4.123105625617661\n"
     ]
    }
   ],
   "source": [
    "import math\n",
    "\n",
    "Point_1 = (2,1,4)\n",
    "Q_Point_2 = (3,1,0)\n",
    "\n",
    "p1 = 2\n",
    "p2 = 1\n",
    "p3 = 4\n",
    "q1 = 3\n",
    "q2 = 1\n",
    "q3 = 0\n",
    "\n",
    "distance = math.sqrt((p1-q1)**2+(p2-q2)**2+(p3-q3)**2)\n",
    "\n",
    "print(f\"distance between P1 and P2 is {distance}\")\n",
    "\n",
    " "
   ]
  }
 ],
 "metadata": {
  "kernelspec": {
   "display_name": "Python 3.9.13 ('PythonSchool-iXQr8Z-p')",
   "language": "python",
   "name": "python3"
  },
  "language_info": {
   "codemirror_mode": {
    "name": "ipython",
    "version": 3
   },
   "file_extension": ".py",
   "mimetype": "text/x-python",
   "name": "python",
   "nbconvert_exporter": "python",
   "pygments_lexer": "ipython3",
   "version": "3.9.13"
  },
  "orig_nbformat": 4,
  "vscode": {
   "interpreter": {
    "hash": "ede0424b5117af074b0a15022a0db7920ce0c06d0370a7c1883de86effeccc15"
   }
  }
 },
 "nbformat": 4,
 "nbformat_minor": 2
}
