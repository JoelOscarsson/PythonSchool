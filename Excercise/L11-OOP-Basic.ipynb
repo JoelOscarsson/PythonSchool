{
 "cells": [
  {
   "cell_type": "markdown",
   "metadata": {},
   "source": [
    "## 1. Unit conversion (*)\n",
    "Create a class for converting US units to the metric system. It should have the following bound methods:\n",
    "\n",
    "__init__ (self, value)\n",
    "\n",
    "inch_to_cm(self)\n",
    "\n",
    "foot_to_meters(self)\n",
    "\n",
    "pound_to_kg(self)\n",
    "\n",
    "__repr__(self)\n",
    "Make sure that value is the correct type and format, raise suitable exceptions in case it isn't. Make value into property with getter and setter. Test your class manually by instantiating an object from it and test different methods. (*)"
   ]
  },
  {
   "cell_type": "code",
   "execution_count": 18,
   "metadata": {},
   "outputs": [
    {
     "ename": "NameError",
     "evalue": "name 'value' is not defined",
     "output_type": "error",
     "traceback": [
      "\u001b[1;31m---------------------------------------------------------------------------\u001b[0m",
      "\u001b[1;31mNameError\u001b[0m                                 Traceback (most recent call last)",
      "Cell \u001b[1;32mIn [18], line 1\u001b[0m\n\u001b[1;32m----> 1\u001b[0m \u001b[38;5;28;01mclass\u001b[39;00m \u001b[38;5;21;01mConverter\u001b[39;00m:\n\u001b[0;32m      4\u001b[0m     \u001b[38;5;28;01mdef\u001b[39;00m \u001b[38;5;21m__init__\u001b[39m(\u001b[38;5;28mself\u001b[39m, value):\n\u001b[0;32m      5\u001b[0m         \u001b[38;5;28mself\u001b[39m\u001b[38;5;241m.\u001b[39mvalue \u001b[38;5;241m=\u001b[39m value\n",
      "Cell \u001b[1;32mIn [18], line 14\u001b[0m, in \u001b[0;36mConverter\u001b[1;34m()\u001b[0m\n\u001b[0;32m     10\u001b[0m     \u001b[38;5;124;03m\"\"\"Read-Only property\"\"\"\u001b[39;00m\n\u001b[0;32m     11\u001b[0m     \u001b[38;5;28;01mreturn\u001b[39;00m \u001b[38;5;28mself\u001b[39m\u001b[38;5;241m.\u001b[39m_value\n\u001b[1;32m---> 14\u001b[0m \u001b[38;5;129m@value\u001b[39m\u001b[38;5;241m.\u001b[39msetter\n\u001b[0;32m     15\u001b[0m \u001b[38;5;28;01mdef\u001b[39;00m \u001b[38;5;21mvalue\u001b[39m(\u001b[38;5;28mself\u001b[39m, value: \u001b[38;5;28mint\u001b[39m) \u001b[38;5;241m-\u001b[39m\u001b[38;5;241m>\u001b[39m \u001b[38;5;28;01mNone\u001b[39;00m:   \u001b[38;5;66;03m#Type hinting - returns\u001b[39;00m\n\u001b[0;32m     16\u001b[0m     \u001b[38;5;124;03m\"\"\"Setter for value with error handling\"\"\"\u001b[39;00m\n\u001b[0;32m     17\u001b[0m     \u001b[38;5;28mprint\u001b[39m(\u001b[38;5;124m\"\u001b[39m\u001b[38;5;124mValue setter is running\u001b[39m\u001b[38;5;124m\"\u001b[39m)\n",
      "\u001b[1;31mNameError\u001b[0m: name 'value' is not defined"
     ]
    }
   ],
   "source": [
    "class Converter:\n",
    "    \n",
    "\n",
    "    def __init__(self, value):\n",
    "        self.value = value\n",
    "\n",
    "        # getter method\n",
    "    @property\n",
    "    def get_value(self):\n",
    "        \"\"\"Read-Only property\"\"\"\n",
    "        return self._value\n",
    "\n",
    "        \n",
    "    @value.setter\n",
    "    def value(self, value: int) -> None:   #Type hinting - returns\n",
    "        \"\"\"Setter for value with error handling\"\"\"\n",
    "        print(\"Value setter is running\")\n",
    "\n",
    "        if not isinstance(value, int):\n",
    "            raise ValueError(f\"Number needs to be an int, not{type(value)}\")\n",
    "        if not (1 <= value <= 100):\n",
    "            raise ValueError(\"Number must be between 1 and 125\")\n",
    "        self._value = value\n",
    "\n",
    "\n",
    "    def inch_to_cm(self, cm_value):\n",
    "        self.value *= 2.54\n",
    "        return self.value\n",
    "    def foot_to_meters(self, m_value):\n",
    "        self.value *= 0.304\n",
    "        return self.value\n",
    "    def pound_to_kg(self, kg_value):\n",
    "        self.value *= 0.453\n",
    "        return self.value\n",
    "    def __repr__(self):\n",
    "        return f\"{self.value=}\"\n",
    "\n",
    "length = Converter(40)\n",
    "#length2 = Converter(100)\n",
    "#weight = Converter(100)\n",
    "\n",
    "length.inch_to_cm(3)\n",
    "#length2.foot_to_meters(1)\n",
    "#weight.pound_to_kg(1)"
   ]
  }
 ],
 "metadata": {
  "kernelspec": {
   "display_name": "Python 3.9.13 ('PythonSchool-iXQr8Z-p')",
   "language": "python",
   "name": "python3"
  },
  "language_info": {
   "codemirror_mode": {
    "name": "ipython",
    "version": 3
   },
   "file_extension": ".py",
   "mimetype": "text/x-python",
   "name": "python",
   "nbconvert_exporter": "python",
   "pygments_lexer": "ipython3",
   "version": "3.9.13"
  },
  "orig_nbformat": 4,
  "vscode": {
   "interpreter": {
    "hash": "ede0424b5117af074b0a15022a0db7920ce0c06d0370a7c1883de86effeccc15"
   }
  }
 },
 "nbformat": 4,
 "nbformat_minor": 2
}
