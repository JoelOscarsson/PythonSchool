{
 "cells": [
  {
   "cell_type": "markdown",
   "metadata": {},
   "source": [
    "## 1. Unit conversion (*)\n",
    "Create a class for converting US units to the metric system. It should have the following bound methods:\n",
    "\n",
    "__init__ (self, value)\n",
    "\n",
    "inch_to_cm(self)\n",
    "\n",
    "foot_to_meters(self)\n",
    "\n",
    "pound_to_kg(self)\n",
    "\n",
    "__repr__(self)\n",
    "Make sure that value is the correct type and format, raise suitable exceptions in case it isn't. Make value into property with getter and setter. Test your class manually by instantiating an object from it and test different methods. (*)"
   ]
  },
  {
   "cell_type": "code",
   "execution_count": 18,
   "metadata": {},
   "outputs": [
    {
     "name": "stdout",
     "output_type": "stream",
     "text": [
      "<class '__main__.Converter'>\n"
     ]
    }
   ],
   "source": [
    "class Converter:\n",
    "    \n",
    "\n",
    "    def __init__(self, value):\n",
    "        self.value = value\n",
    "\n",
    "    def inch_to_cm(self):\n",
    "        return self.value*2.54\n",
    "    def foot_to_meters(self):\n",
    "        return self.value*0.304\n",
    "    def pound_to_kg(self):\n",
    "        return self.value*0.453\n",
    "    def __repr__(self):\n",
    "        return f\"xxxxx\"\n",
    "\n",
    "\n",
    "\n",
    "value1 = Converter(10)\n",
    "print(Converter)\n",
    "\n",
    "\n"
   ]
  },
  {
   "cell_type": "code",
   "execution_count": 6,
   "metadata": {},
   "outputs": [
    {
     "name": "stdout",
     "output_type": "stream",
     "text": [
      "Hello there, this is a dunder repper\n"
     ]
    },
    {
     "ename": "TypeError",
     "evalue": "inch_to_cm() missing 1 required positional argument: 'cm_unit'",
     "output_type": "error",
     "traceback": [
      "\u001b[1;31m---------------------------------------------------------------------------\u001b[0m",
      "\u001b[1;31mTypeError\u001b[0m                                 Traceback (most recent call last)",
      "Cell \u001b[1;32mIn [6], line 38\u001b[0m\n\u001b[0;32m     35\u001b[0m \u001b[38;5;28mprint\u001b[39m(\u001b[38;5;124mf\u001b[39m\u001b[38;5;124m\"\u001b[39m\u001b[38;5;132;01m{\u001b[39;00mConverter(\u001b[38;5;241m10\u001b[39m)\u001b[38;5;132;01m}\u001b[39;00m\u001b[38;5;124m\"\u001b[39m)\n\u001b[0;32m     37\u001b[0m unit1 \u001b[38;5;241m=\u001b[39m Converter(\u001b[38;5;241m5\u001b[39m)\n\u001b[1;32m---> 38\u001b[0m \u001b[38;5;28mprint\u001b[39m(\u001b[43munit1\u001b[49m\u001b[38;5;241;43m.\u001b[39;49m\u001b[43minch_to_cm\u001b[49m\u001b[43m(\u001b[49m\u001b[43m)\u001b[49m)\n\u001b[0;32m     39\u001b[0m \u001b[38;5;28mprint\u001b[39m(unit1\u001b[38;5;241m.\u001b[39mfoot_to_meters())\n\u001b[0;32m     40\u001b[0m \u001b[38;5;28mprint\u001b[39m(unit1\u001b[38;5;241m.\u001b[39mpound_to_kg())\n",
      "\u001b[1;31mTypeError\u001b[0m: inch_to_cm() missing 1 required positional argument: 'cm_unit'"
     ]
    }
   ],
   "source": [
    "\n",
    "class Converter:\n",
    "    def __init__(self, unit):\n",
    "        self.unit = unit\n",
    "\n",
    "    @property\n",
    "    def unit(self) -> int:\n",
    "        \"\"\"Read-Only property, can't set the unit\"\"\"\n",
    "        return self_unit\n",
    "\n",
    "    @unit.setter\n",
    "    def unit(self, unit: int) -> None:\n",
    "        \"\"\"Setter for unit with error handling\"\"\"\n",
    "        if not isinstance(unit, (int, float)):\n",
    "            raise TypeError(f\"Unit must be a number not {type(unit)}\")\n",
    "\n",
    "        if not(0 < unit < 1000):\n",
    "            raise ValueError(\"Unit must between 0 and 100\")\n",
    "        \n",
    "        self._unit = unit\n",
    "\n",
    "    def inch_to_cm(self, cm_unit):\n",
    "        return self.unit*2.54\n",
    "    def foot_to_meters(self, m_unit):\n",
    "        return self.unit*0.304\n",
    "    def pound_to_kg(self, kg_unit):\n",
    "        return self.unit*0.453\n",
    "    def __repr__(self):\n",
    "        return f\"Hello there, this is a dunder repper\"\n",
    "\n",
    "print(f\"{Converter(10)}\")\n",
    "\n",
    "unit1 = Converter(5)\n",
    "print(unit1.inch_to_cm())\n",
    "print(unit1.foot_to_meters())\n",
    "print(unit1.pound_to_kg())"
   ]
  }
 ],
 "metadata": {
  "kernelspec": {
   "display_name": "Python 3.9.13 ('PythonSchool-iXQr8Z-p')",
   "language": "python",
   "name": "python3"
  },
  "language_info": {
   "codemirror_mode": {
    "name": "ipython",
    "version": 3
   },
   "file_extension": ".py",
   "mimetype": "text/x-python",
   "name": "python",
   "nbconvert_exporter": "python",
   "pygments_lexer": "ipython3",
   "version": "3.9.13"
  },
  "orig_nbformat": 4,
  "vscode": {
   "interpreter": {
    "hash": "ede0424b5117af074b0a15022a0db7920ce0c06d0370a7c1883de86effeccc15"
   }
  }
 },
 "nbformat": 4,
 "nbformat_minor": 2
}
