{
 "cells": [
  {
   "cell_type": "markdown",
   "metadata": {},
   "source": [
    "## 2. Test results (*)\n",
    "Read in the file test_result.txt (located in the data folder of this repo) in Python.\n",
    "\n",
    "  a)   Print out the text in the terminal (*)\n",
    "\n",
    "  b)   Create new rows in the same file and write the people and their corresponding scores in alphabetical order. (*)\n",
    "\n",
    "  c)   Create additional rows in the same file and sort the people after their grades. The grade limits are: (**)\n",
    "\n",
    "F < 20\n",
    "E: 20-29\n",
    "D: 30-39\n",
    "C: 40-49\n",
    "B: 50-59\n",
    "A: 60-70"
   ]
  },
  {
   "cell_type": "code",
   "execution_count": 5,
   "metadata": {},
   "outputs": [
    {
     "ename": "FileNotFoundError",
     "evalue": "[Errno 2] No such file or directory: 'data/Provresultat.txt'",
     "output_type": "error",
     "traceback": [
      "\u001b[1;31m---------------------------------------------------------------------------\u001b[0m",
      "\u001b[1;31mFileNotFoundError\u001b[0m                         Traceback (most recent call last)",
      "Cell \u001b[1;32mIn [5], line 1\u001b[0m\n\u001b[1;32m----> 1\u001b[0m \u001b[38;5;28;01mwith\u001b[39;00m \u001b[38;5;28;43mopen\u001b[39;49m\u001b[43m(\u001b[49m\u001b[38;5;124;43m\"\u001b[39;49m\u001b[38;5;124;43mdata/Provresultat.txt\u001b[39;49m\u001b[38;5;124;43m\"\u001b[39;49m\u001b[43m)\u001b[49m \u001b[38;5;28;01mas\u001b[39;00m f_read:\n\u001b[0;32m      2\u001b[0m     \u001b[38;5;66;03m# each line is stored in a list\u001b[39;00m\n\u001b[0;32m      3\u001b[0m     \u001b[38;5;66;03m# each line is a string it has \\n in the end\u001b[39;00m\n\u001b[0;32m      4\u001b[0m     line \u001b[38;5;241m=\u001b[39m f_read\u001b[38;5;241m.\u001b[39mreadlines()\n\u001b[0;32m      6\u001b[0m     \u001b[38;5;28mprint\u001b[39m(lines)\n",
      "\u001b[1;31mFileNotFoundError\u001b[0m: [Errno 2] No such file or directory: 'data/Provresultat.txt'"
     ]
    }
   ],
   "source": [
    "\n",
    "\n",
    "\n",
    "with open(\"data/Provresultat.txt\") as f_read:\n",
    "    # each line is stored in a list\n",
    "    # each line is a string it has \\n in the end\n",
    "    line = f_read.readlines()\n",
    "\n",
    "    # print(lines)\n",
    "    \n",
    "\n",
    "    # -------------a)------------------\n",
    "    # Loops through the lines and prints each line\n",
    "    for line in lines:\n",
    "        print(line, end = \"\")\n",
    "\n"
   ]
  },
  {
   "cell_type": "code",
   "execution_count": 5,
   "metadata": {},
   "outputs": [
    {
     "ename": "FileNotFoundError",
     "evalue": "[Errno 2] No such file or directory: 'data/Provresultat.txt'",
     "output_type": "error",
     "traceback": [
      "\u001b[1;31m---------------------------------------------------------------------------\u001b[0m",
      "\u001b[1;31mFileNotFoundError\u001b[0m                         Traceback (most recent call last)",
      "Cell \u001b[1;32mIn [5], line 3\u001b[0m\n\u001b[0;32m      1\u001b[0m \u001b[38;5;66;03m## B) and c) \u001b[39;00m\n\u001b[1;32m----> 3\u001b[0m \u001b[38;5;28;01mwith\u001b[39;00m \u001b[38;5;28;43mopen\u001b[39;49m\u001b[43m(\u001b[49m\u001b[38;5;124;43m\"\u001b[39;49m\u001b[38;5;124;43mdata/Provresultat.txt\u001b[39;49m\u001b[38;5;124;43m\"\u001b[39;49m\u001b[43m)\u001b[49m \u001b[38;5;28;01mas\u001b[39;00m f_read, \u001b[38;5;28mopen\u001b[39m(\u001b[38;5;124m\"\u001b[39m\u001b[38;5;124mdata/Provresultat_tmp.txt\u001b[39m\u001b[38;5;124m\"\u001b[39m, \u001b[38;5;124m\"\u001b[39m\u001b[38;5;124mw\u001b[39m\u001b[38;5;124m\"\u001b[39m) \u001b[38;5;28;01mas\u001b[39;00m f_write:\n\u001b[0;32m      4\u001b[0m     lines \u001b[38;5;241m=\u001b[39m f\u001b[38;5;241m.\u001b[39mread\u001b[38;5;241m.\u001b[39mreadlines()\n\u001b[0;32m      5\u001b[0m     \u001b[38;5;28mprint\u001b[39m(lines)\n",
      "\u001b[1;31mFileNotFoundError\u001b[0m: [Errno 2] No such file or directory: 'data/Provresultat.txt'"
     ]
    }
   ],
   "source": [
    "## B) and c) \n",
    "\n",
    "with open(\"data/Provresultat.txt\") as f_read, open(\"data/Provresultat_tmp.txt\", \"w\") as f_write:\n",
    "    lines = f.read.readlines()\n",
    "    print(lines)\n",
    "\n",
    "    # Returns none, it mutates(changes) the list\n",
    "    #lines.sort()\n",
    "    #print(lines)\n",
    "\n",
    "    # returns a new list of sorted elements\n",
    "    lines = sorted(lines)\n",
    "    print(lines)"
   ]
  }
 ],
 "metadata": {
  "kernelspec": {
   "display_name": "Python 3.9.13 ('PythonSchool-iXQr8Z-p')",
   "language": "python",
   "name": "python3"
  },
  "language_info": {
   "codemirror_mode": {
    "name": "ipython",
    "version": 3
   },
   "file_extension": ".py",
   "mimetype": "text/x-python",
   "name": "python",
   "nbconvert_exporter": "python",
   "pygments_lexer": "ipython3",
   "version": "3.9.13"
  },
  "orig_nbformat": 4,
  "vscode": {
   "interpreter": {
    "hash": "ede0424b5117af074b0a15022a0db7920ce0c06d0370a7c1883de86effeccc15"
   }
  }
 },
 "nbformat": 4,
 "nbformat_minor": 2
}
