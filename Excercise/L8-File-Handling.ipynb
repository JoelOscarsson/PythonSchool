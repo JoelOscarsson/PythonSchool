{
 "cells": [
  {
   "cell_type": "markdown",
   "metadata": {},
   "source": [
    "## 2. Test results (*)\n",
    "Read in the file test_result.txt (located in the data folder of this repo) in Python.\n",
    "\n",
    "  a)   Print out the text in the terminal (*)\n",
    "\n",
    "  b)   Create new rows in the same file and write the people and their corresponding scores in alphabetical order. (*)\n",
    "\n",
    "  c)   Create additional rows in the same file and sort the people after their grades. The grade limits are: (**)\n",
    "\n",
    "F < 20\n",
    "E: 20-29\n",
    "D: 30-39\n",
    "C: 40-49\n",
    "B: 50-59\n",
    "A: 60-70"
   ]
  },
  {
   "cell_type": "code",
   "execution_count": 44,
   "metadata": {},
   "outputs": [
    {
     "name": "stdout",
     "output_type": "stream",
     "text": [
      "Adam Gustafsson 25\n",
      "Emil Johansson 23\n",
      "Sven Erik Karlsson 13\n",
      "Ove Karlsten 41\n",
      "Emma Boden 32\n",
      "Ida HÃ¥kansson 23\n",
      "Ella Ester 41\n",
      "Hanna Karlsson 23 \n",
      "Johan Johansson 42\n",
      "Sven Erik Lundin 39\n",
      "BjÃ¶rn BjÃ¶rnsson 39\n",
      "Karl Karlsson 32\n",
      "Bose Bosseson 32\n",
      "HÃ¥kan HÃ¥kanson 24\n",
      "Jonas Jonasson 31\n",
      "Erik Eriksson 31\n",
      "Gore Bord 55\n",
      "Jakob Kallander 65\n",
      "Fredrika Ulven 10"
     ]
    }
   ],
   "source": [
    "# a)\n",
    "\n",
    "with open(\"../Data/Provresultat.txt\") as f_read:\n",
    "    # each line is stored in a list\n",
    "    # each line is a string and it has \\n in the end\n",
    "    lines = f_read.readlines()\n",
    "    #print(lines)\n",
    "\n",
    "    # -------------------a)-------------------\n",
    "    # loops through the lines and prints each line\n",
    "    for line in lines:\n",
    "        print(line, end = \"\")"
   ]
  },
  {
   "cell_type": "code",
   "execution_count": 42,
   "metadata": {},
   "outputs": [
    {
     "ename": "IndentationError",
     "evalue": "unindent does not match any outer indentation level (<tokenize>, line 25)",
     "output_type": "error",
     "traceback": [
      "\u001b[1;36m  File \u001b[1;32m<tokenize>:25\u001b[1;36m\u001b[0m\n\u001b[1;33m    f_write.write(\"\\n\\nSorterat efter betyg\\n\\n\")\u001b[0m\n\u001b[1;37m    ^\u001b[0m\n\u001b[1;31mIndentationError\u001b[0m\u001b[1;31m:\u001b[0m unindent does not match any outer indentation level\n"
     ]
    }
   ],
   "source": [
    "# b) and c)\n",
    "with open(\"data/Provresultat.txt\", \"r\") as f_read, open(\"data/Provresultat_tmp.txt\", \"w\") as f_write:\n",
    "    lines = f_read.readlines()\n",
    "    print(lines[-1])\n",
    "\n",
    "    lines[-1] += \"\\n\"\n",
    "    #print(lines)\n",
    "\n",
    "    # returns None, it mutates (changes) the list\n",
    "    #lines.sort()\n",
    "    #print(lines)\n",
    "\n",
    "\n",
    "    # --------------------------b)-----------------------\n",
    "    # returns a new list of sorted elements\n",
    "    lines_sorted_alphabetically = sorted(lines)\n",
    "    print(lines_sorted_alphabetically)\n",
    "\n",
    "    for line in lines_sorted_alphabetically:\n",
    "        f_write.write(line)\n",
    "\n",
    "\n",
    "\n",
    "\n",
    "    f_write.write(\"\\n\\nSorterat efter betyg\\n\\n\")\n",
    "\n",
    "\n",
    "     # --------------------------c)-----------------------\n",
    "     # split to split and find the score for each line\n",
    "     # put them in grade order\n",
    "\n",
    "    grades = list(\"ABCDEF\")[::-1]   # Reverse list\n",
    "    print(grades)\n",
    "    \n",
    "    for grade, limit in zip(grades, range(20,71, 10)):\n",
    "        for line in lines:\n",
    "            #print(line.split())   #this gives a list for each line\n",
    "            print(line.split()[-1])\n",
    "\n",
    "            point = int(line.split()[-1])   # type converts string to nit\n",
    "            # if statements requires test between same types\n",
    "            if limit <= point < limit + 10:\n",
    "                f_write.write(f\"{line}\")      # type converts int to string, in order to write it to a txt file\n",
    "        \n"
   ]
  },
  {
   "cell_type": "code",
   "execution_count": 32,
   "metadata": {},
   "outputs": [
    {
     "name": "stdout",
     "output_type": "stream",
     "text": [
      "F 20\n",
      "E 30\n",
      "D 40\n",
      "C 50\n",
      "B 60\n",
      "A 70\n"
     ]
    }
   ],
   "source": [
    "grades = list(\"ABCDEF\")[::-1]   # Reverse list\n",
    "\n",
    "\n",
    "for grade, limit in zip(grades, range(20,71, 10)):\n",
    "    print(grade, limit)"
   ]
  }
 ],
 "metadata": {
  "kernelspec": {
   "display_name": "Python 3.9.13 ('PythonSchool-iXQr8Z-p')",
   "language": "python",
   "name": "python3"
  },
  "language_info": {
   "codemirror_mode": {
    "name": "ipython",
    "version": 3
   },
   "file_extension": ".py",
   "mimetype": "text/x-python",
   "name": "python",
   "nbconvert_exporter": "python",
   "pygments_lexer": "ipython3",
   "version": "3.9.13"
  },
  "orig_nbformat": 4,
  "vscode": {
   "interpreter": {
    "hash": "ede0424b5117af074b0a15022a0db7920ce0c06d0370a7c1883de86effeccc15"
   }
  }
 },
 "nbformat": 4,
 "nbformat_minor": 2
}
