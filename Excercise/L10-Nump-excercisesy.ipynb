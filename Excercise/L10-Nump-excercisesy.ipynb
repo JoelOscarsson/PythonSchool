{
 "cells": [
  {
   "cell_type": "markdown",
   "metadata": {},
   "source": [
    "## 1. Dice simulations (*)\n",
    "\n",
    "Simulations of one dice\n",
    "\n",
    "  a) Calculate theoretical mean of a dice (six-sided) (*)\n",
    "\n",
    "  b) Now do simulations of\n",
    "\n",
    "- 10\n",
    "- 100\n",
    "- 1000\n",
    "- 10000\n",
    "- 100000\n",
    "- 1000000\n",
    "- 10000000\n",
    "number of dices and plot their means. (*)"
   ]
  },
  {
   "cell_type": "code",
   "execution_count": 93,
   "metadata": {},
   "outputs": [
    {
     "name": "stdout",
     "output_type": "stream",
     "text": [
      "[5, 2, 2, 5, 4, 2, 4, 6, 2, 5, 5, 5, 1, 2, 3, 1, 6, 1, 1, 3, 6, 5, 2, 3, 3, 2, 6, 4, 1, 1, 1, 3, 6, 3, 3, 3, 5, 5, 6, 3, 5, 2, 4, 4, 2, 1, 6, 3, 1, 4, 1, 6, 6, 5, 4, 1, 1, 6, 4, 3, 6, 4, 4, 4, 5, 5, 2, 6, 2, 2, 5, 2, 2, 4, 5, 2, 5, 4, 4, 2, 5, 3, 4, 3, 6, 5, 5, 6, 5, 6, 3, 2, 1, 3, 5, 2, 1, 5, 6, 6, 3, 3, 2, 1, 2, 2, 1, 2, 2, 3, 4, 5, 5, 1, 5, 2, 5, 6, 4, 2, 1, 1, 4, 5, 6, 1, 1, 6, 2, 2, 2, 3, 3, 5, 2, 1, 6, 6, 3, 1, 4, 1, 1, 5, 6, 3, 4, 4, 4, 4, 6, 3, 1, 6, 1, 2, 2, 1, 1, 2, 3, 6, 2, 4, 5, 3, 3, 3, 4, 4, 6, 1, 6, 2, 3, 6, 6, 4, 4, 4, 1, 3, 4, 2, 3, 2, 2, 3, 5, 2, 6, 4, 5, 3, 1, 3, 3, 2, 3, 4, 2, 1, 3, 2, 3, 3, 3, 2, 5, 3, 3, 4, 2, 3, 4, 3, 3, 1, 3, 5, 3, 5, 4, 3, 3, 6, 5, 5, 3, 2, 1, 4, 5, 4, 2, 1, 3, 2, 3, 1, 4, 1, 5, 4, 5, 2, 2, 1, 2, 6, 6, 2, 1, 6, 2, 2, 3, 6, 5, 6, 2, 3, 3, 1, 5, 1, 6, 2, 6, 3, 1, 5, 2, 4, 5, 2, 4, 4, 3, 1, 1, 6, 4, 4, 3, 2, 1, 3, 2, 2, 6, 2, 4, 5, 2, 5, 2, 6, 2, 3, 5, 1, 2, 3, 1, 2, 3, 5, 4, 1, 6, 6, 4, 3, 3, 6, 4, 3, 4, 5, 1, 5, 1, 2, 1, 3, 4, 1, 3, 3, 3, 3, 3, 6, 1, 3, 1, 3, 6, 1, 5, 2, 2, 2, 4, 6, 2, 1, 3, 2, 3, 1, 1, 2, 1, 6, 3, 5, 3, 1, 1, 1, 3, 3, 2, 2, 4, 1, 4, 6, 3, 4, 5, 2, 3, 5, 1, 1, 2, 3, 1, 3, 1, 4, 1, 2, 5, 3, 3, 6, 1, 2, 1, 4, 1, 5, 3, 1, 3, 6, 2, 3, 5, 1, 6, 1, 3, 5, 5, 2, 2, 1, 6, 1, 4, 3, 1, 5, 2, 5, 3, 1, 2, 1, 3, 1, 5, 6, 4, 6, 4, 1, 3, 5, 3, 4, 5, 4, 2, 5, 3, 4, 1, 5, 3, 6, 1, 4, 6, 1, 2, 1, 6, 6, 1, 4, 1, 1, 4, 5, 4, 3, 3, 2, 5, 1, 6, 5, 5, 4, 5, 3, 6, 4, 1, 5, 6, 5, 1, 2, 5, 5, 1, 2, 4, 1, 1, 4, 5, 1, 2, 3, 2, 3, 2, 1, 4, 2, 6, 2, 2, 4, 5, 6, 2, 4, 5, 1, 1, 2, 5, 5, 6, 3, 5, 3, 4, 4, 1, 3, 1, 5, 3, 1, 4, 6, 6, 3, 6, 6, 1, 3, 6, 4, 6, 3, 5, 1, 6, 4, 6, 1, 6, 3, 3, 3, 4, 5, 6, 6, 4, 2, 2, 1, 3, 3, 5, 6, 1, 6, 5, 2, 2, 4, 4, 5, 2, 4, 4, 5, 1, 1, 6, 1, 4, 5, 4, 2, 4, 4, 3, 3, 3, 4, 4, 3, 1, 1, 5, 2, 6, 5, 2, 5, 1, 2, 3, 6, 1, 5, 2, 3, 6, 5, 3, 2, 5, 6, 3, 2, 1, 5, 2, 1, 1, 1, 4, 1, 3, 5, 6, 4, 6, 2, 3, 6, 4, 1, 2, 3, 2, 3, 1, 4, 6, 5, 6, 2, 2, 5, 1, 4, 1, 3, 6, 6, 5, 2, 5, 2, 6, 6, 5, 1, 1, 4, 1, 5, 2, 3, 4, 6, 1, 1, 2, 3, 1, 2, 3, 1, 2, 3, 1, 4, 6, 2, 6, 5, 1, 3, 2, 6, 2, 6, 1, 2, 3, 4, 6, 3, 5, 4, 5, 2, 5, 1, 6, 5, 4, 6, 6, 4, 5, 5, 6, 1, 6, 2, 6, 3, 3, 1, 1, 6, 5, 2, 2, 1, 1, 6, 5, 4, 1, 4, 6, 6, 6, 5, 2, 5, 4, 5, 2, 6, 6, 2, 3, 5, 1, 2, 5, 3, 3, 6, 3, 2, 4, 5, 2, 5, 3, 6, 3, 2, 6, 6, 6, 3, 4, 5, 5, 2, 2, 1, 4, 1, 5, 3, 3, 5, 4, 3, 1, 2, 3, 6, 1, 1, 4, 6, 5, 5, 3, 2, 2, 2, 4, 4, 4, 4, 1, 1, 2, 1, 3, 3, 2, 3, 5, 4, 1, 2, 3, 3, 3, 5, 5, 4, 5, 1, 6, 6, 5, 4, 2, 2, 3, 1, 2, 5, 5, 4, 3, 4, 6, 3, 5, 2, 3, 2, 3, 2, 4, 1, 6, 5, 4, 6, 5, 1, 3, 6, 5, 1, 1, 5, 4, 3, 2, 1, 3, 2, 4, 4, 3, 2, 1, 6, 6, 2, 3, 1, 3, 1, 4, 6, 3, 6, 1, 3, 3, 2, 1, 3, 2, 5, 3, 2, 3, 2, 4, 1, 6, 5, 4, 5, 2, 5, 2, 1, 3, 2, 6, 1, 2, 5, 1, 1, 6, 3, 4, 1, 4, 6, 3, 6, 2, 6, 4, 5, 2, 2, 5, 1, 1, 1, 4, 4, 6, 2, 5, 6, 2, 5, 4, 4, 1, 2, 4, 4, 4, 4, 1, 4, 6, 1, 6, 1, 1, 4, 6, 6, 2, 3, 5, 6, 4, 4, 2, 3, 6, 2, 1, 2, 1, 6, 5, 5, 2, 4, 2, 1, 4, 5, 6, 6, 5, 5, 6, 1, 5, 5, 2, 1, 2, 1, 1, 2, 3, 3, 1, 6, 2, 4, 4, 6, 2, 6, 4, 1, 3, 4, 4, 4, 4, 4, 3, 6, 6, 1]\n"
     ]
    }
   ],
   "source": [
    "import random\n",
    "\n",
    "roll = [random.randint(1,6) for x in range(1000)]\n",
    "\n",
    "print(roll)"
   ]
  },
  {
   "cell_type": "code",
   "execution_count": 86,
   "metadata": {},
   "outputs": [
    {
     "data": {
      "image/png": "[encoded data removed]",
      "text/plain": [
       "<Figure size 640x480 with 1 Axes>"
      ]
     },
     "metadata": {},
     "output_type": "display_data"
    }
   ],
   "source": [
    "import matplotlib.pyplot as plt\n",
    "import numpy as np\n",
    "import random as randint\n",
    "\n",
    "means = []\n",
    "\n",
    "for i in range(1, 8):\n",
    "    number_of_dices = 10**i\n",
    "    rolls = np.random.randint(1, 7, number_of_dices)\n",
    "    mean = np.mean(rolls)\n",
    "    means.append(mean)\n",
    "plt.plot(means, \"o-\")\n",
    "plt.xticks([i for i in range(7)], [10**i for i in range(1, 8)]);"
   ]
  },
  {
   "cell_type": "code",
   "execution_count": 87,
   "metadata": {},
   "outputs": [
    {
     "name": "stdout",
     "output_type": "stream",
     "text": [
      "1\n"
     ]
    }
   ],
   "source": [
    "#a)\n",
    "\n",
    "import matplotlib.pyplot as plt\n",
    "import random as randint\n",
    "import numpy as np\n",
    "\n",
    "values = [1,2,3,4,5,6]\n",
    "sample = np.random.choice(values)\n",
    "\n",
    "print(f\"{sample}\")\n",
    "\n"
   ]
  },
  {
   "cell_type": "code",
   "execution_count": 59,
   "metadata": {},
   "outputs": [
    {
     "data": {
      "text/plain": [
       "array([[1, 2, 6, 5, 4, 6],\n",
       "       [3, 6, 1, 4, 5, 1]])"
      ]
     },
     "execution_count": 59,
     "metadata": {},
     "output_type": "execute_result"
    }
   ],
   "source": [
    "import numpy as np\n",
    "np.random.randint(1,7,(2,6))"
   ]
  },
  {
   "cell_type": "code",
   "execution_count": 60,
   "metadata": {},
   "outputs": [],
   "source": [
    "import numpy as np\n",
    "values = [1, 2, 3, 4, 5, 6]\n",
    "probs = [0.1, 0.2, 0.2, 0.2, 0.2, 0.1]\n",
    "sample = np.random.choice(values, p=probs)"
   ]
  },
  {
   "cell_type": "code",
   "execution_count": 84,
   "metadata": {},
   "outputs": [
    {
     "data": {
      "text/plain": [
       "3.5"
      ]
     },
     "execution_count": 84,
     "metadata": {},
     "output_type": "execute_result"
    }
   ],
   "source": [
    "\n",
    "(1+2+3+4+5+6)/6"
   ]
  }
 ],
 "metadata": {
  "kernelspec": {
   "display_name": "Python 3.9.13 ('PythonSchool-iXQr8Z-p')",
   "language": "python",
   "name": "python3"
  },
  "language_info": {
   "codemirror_mode": {
    "name": "ipython",
    "version": 3
   },
   "file_extension": ".py",
   "mimetype": "text/x-python",
   "name": "python",
   "nbconvert_exporter": "python",
   "pygments_lexer": "ipython3",
   "version": "3.9.13"
  },
  "orig_nbformat": 4,
  "vscode": {
   "interpreter": {
    "hash": "ede0424b5117af074b0a15022a0db7920ce0c06d0370a7c1883de86effeccc15"
   }
  }
 },
 "nbformat": 4,
 "nbformat_minor": 2
}
