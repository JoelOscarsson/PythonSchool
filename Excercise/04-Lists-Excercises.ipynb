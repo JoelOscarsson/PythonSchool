{
 "cells": [
  {
   "cell_type": "markdown",
   "metadata": {},
   "source": [
    "## Dice rolls (*)\n",
    "Simulate 10 dice rolls and append the rolls to a list or use list comprehension.\n",
    "\n",
    "  a)   sort the list in ascending order (*)\n",
    "\n",
    "  b)   sort the list in descending order (*)\n",
    "\n",
    "  c)   find the maximum and minimum value in the list (*)"
   ]
  },
  {
   "cell_type": "code",
   "execution_count": 101,
   "metadata": {},
   "outputs": [
    {
     "name": "stdout",
     "output_type": "stream",
     "text": [
      "[5, 1, 5, 1, 4, 3, 5, 1, 2, 2]\n",
      "[1, 1, 1, 2, 2, 3, 4, 5, 5, 5]\n",
      "5=\n",
      "1=\n"
     ]
    }
   ],
   "source": [
    "#a)\n",
    "\n",
    "import random as rnd\n",
    "\n",
    "number_rolls = 10\n",
    "dice = []\n",
    "\n",
    "for i in range (number_rolls):\n",
    "    dice.append(rnd.randint(1,6))\n",
    "print(dice)\n",
    "\n",
    "dice.sort(reverse = False)\n",
    "print(dice)\n",
    "\n",
    "print(f\"{dice[9]}=\")\n",
    "print(f\"{dice[0]}=\")"
   ]
  },
  {
   "cell_type": "markdown",
   "metadata": {},
   "source": [
    "# Food menu (*)\n",
    "Create a:\n",
    "\n",
    "  a)   list with the following elements: \"vegetarisk lasagne\", \"spaghetti\", \"fisk\", \"grönsakssoppa\", \"pannkakor\". (*)\n",
    "\n",
    "  b)   list with the weekdays (*)\n",
    "\n",
    "  c)   create a food menu with each day corresponding to each food item and print it out. (*)"
   ]
  },
  {
   "cell_type": "code",
   "execution_count": 130,
   "metadata": {},
   "outputs": [
    {
     "name": "stdout",
     "output_type": "stream",
     "text": [
      "Meny för veckan \n",
      "Mån: Spaghetti\n",
      "Tis: Spaghetti\n",
      "Ons: Fisk\n",
      "Tors: Tacos\n",
      "Fre: Pizza\n",
      "\n"
     ]
    }
   ],
   "source": [
    "## Skapar en lista på maträtter\n",
    "min_mat_lista = [\"Spaghetti\", \"Spaghetti\", \"Fisk\", \"Tacos\", \"Pizza\"]\n",
    "## Skapar en lista för veckodagar\n",
    "dagar = [\"Mån\", \"Tis\", \"Ons\", \"Tors\", \"Fre\"]\n",
    "## Skapar en meny för veckan där vi senare vill slå ihop maten med vilka dagar\n",
    "veckomeny = \"Meny för veckan \\n\"\n",
    "\n",
    "\n",
    "\n",
    "## Test print\n",
    "## print(min_mat_lista)\n",
    "## print(dagar)\n",
    "\n",
    "\n",
    "## Skapar en for loop för att listorna ska slås ihop och kunna loopas vecka för vecka\n",
    "## zip låter dig stega igenom två listor samtidigt\n",
    "for mat, dag in zip(min_mat_lista, dagar):\n",
    "    ## skriver in mat och dag för att binda ihop dem med ett specifikt index i listan\n",
    "    veckomeny += f\"{dag}: {mat}\\n\"\n",
    "print(veckomeny)\n",
    "\n",
    "\n"
   ]
  },
  {
   "cell_type": "markdown",
   "metadata": {},
   "source": [
    "## 3. Squares (*)\n",
    "  a)   Use list comprehension to create a list of squares from -10 to 10 (*)\n",
    "\n",
    "  a)   Plot this list using matplotlib. (*)"
   ]
  },
  {
   "cell_type": "code",
   "execution_count": 20,
   "metadata": {},
   "outputs": [
    {
     "name": "stdout",
     "output_type": "stream",
     "text": [
      "[100, 81, 64, 49, 36, 25, 16, 9, 4, 1, 0, 1, 4, 9, 16, 25, 36, 49, 64, 81]\n"
     ]
    },
    {
     "data": {
      "image/png": "[encoded data removed]",
      "text/plain": [
       "<Figure size 640x480 with 1 Axes>"
      ]
     },
     "metadata": {},
     "output_type": "display_data"
    }
   ],
   "source": [
    "import matplotlib.pyplot as plt\n",
    "\n",
    "\n",
    "## Börjar skapa lista -10 till 10 detta gör jag genom en list comprehension PÅ SAMMA RAD\n",
    "squares = [i**2 for i in range(-10, 10)]\n",
    "print(squares)\n",
    "squares\n",
    "\n",
    "plt.plot(squares);"
   ]
  },
  {
   "cell_type": "markdown",
   "metadata": {},
   "source": [
    "## Chessboard (**)\n",
    "  a)   Create this list using list comprehension: (*)\n",
    "\n",
    "  ['A1', 'B1', 'C1', 'D1', 'E1', 'F1', 'G1', 'H1']\n",
    "\n",
    "  b)   Create a 2D list to hold the coordinates in a chessboard. (**)"
   ]
  },
  {
   "cell_type": "code",
   "execution_count": 67,
   "metadata": {},
   "outputs": [
    {
     "name": "stdout",
     "output_type": "stream",
     "text": [
      "['BBBBBBBB', 'BBBBBBBB', 'BBBBBBBB', 'BBBBBBBB', 'BBBBBBBB', 'BBBBBBBB', 'BBBBBBBB', 'BBBBBBBB']\n"
     ]
    }
   ],
   "source": [
    "## Skapar en list comprehension\n",
    "\n",
    "## Skapar en lista för bokstäver och en lista för siffror för att separera dem, men sedan ska de bindas ihop\n",
    "\n",
    "bokstäver = ['A', 'B', 'C', 'D', 'E', 'F', 'G', 'H']\n",
    "siffror = ['1','2','3','4','5','6','7','8']\n",
    "\n",
    "## Spelbrädet är 8x8 alltså, rows och kolumn värde\n",
    "rows, columns= (8,8)\n",
    "bräde = [bokstäver[1]*columns]*rows\n",
    "print(bräde)\n",
    "\n",
    "\n"
   ]
  }
 ],
 "metadata": {
  "kernelspec": {
   "display_name": "Python 3.9.13 ('PythonSchool-iXQr8Z-p')",
   "language": "python",
   "name": "python3"
  },
  "language_info": {
   "codemirror_mode": {
    "name": "ipython",
    "version": 3
   },
   "file_extension": ".py",
   "mimetype": "text/x-python",
   "name": "python",
   "nbconvert_exporter": "python",
   "pygments_lexer": "ipython3",
   "version": "3.9.13"
  },
  "orig_nbformat": 4,
  "vscode": {
   "interpreter": {
    "hash": "ede0424b5117af074b0a15022a0db7920ce0c06d0370a7c1883de86effeccc15"
   }
  }
 },
 "nbformat": 4,
 "nbformat_minor": 2
}
