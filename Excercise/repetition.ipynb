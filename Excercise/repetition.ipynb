{
 "cells": [
  {
   "cell_type": "markdown",
   "metadata": {},
   "source": [
    "## Dice rolls (*)\n",
    "Simulate 10 dice rolls and append the rolls to a list or use list comprehension.\n",
    "\n",
    "  a)   sort the list in ascending order (*)\n",
    "\n",
    "  b)   sort the list in descending order (*)\n",
    "\n",
    "  c)   find the maximum and minimum value in the list (*)"
   ]
  },
  {
   "cell_type": "code",
   "execution_count": 34,
   "metadata": {},
   "outputs": [
    {
     "name": "stdout",
     "output_type": "stream",
     "text": [
      "[1, 2, 2, 3, 3, 3, 4, 5, 6, 6]\n"
     ]
    }
   ],
   "source": [
    "import random as rnd\n",
    "\n",
    "dicerolls = 10\n",
    "dice = []\n",
    "\n",
    "for i in range(dicerolls):\n",
    "    dice.append(rnd.randint(1,6))\n",
    "\n",
    "dice.sort()\n",
    "print(dice)\n"
   ]
  },
  {
   "cell_type": "markdown",
   "metadata": {},
   "source": [
    "# Uppgift 5 (3p)\n",
    "Skapa en funktion som tar in två punkter i 2D , och som returnerar tillbaka avståndet mellan\n",
    "dessa. Anropa därefter denna funktion för test\n",
    "Det finns en textfil som heter testpunkter.txt som ligger i undermappen testpoints och innehåller:\n",
    "Punkt 1, punkt 2\n",
    "(1,2), (0,0)\n",
    "(2,0), (3,5)\n",
    "(-2,-2), (9,2)"
   ]
  },
  {
   "cell_type": "code",
   "execution_count": 51,
   "metadata": {},
   "outputs": [
    {
     "ename": "SyntaxError",
     "evalue": "invalid syntax (2795839320.py, line 1)",
     "output_type": "error",
     "traceback": [
      "\u001b[1;36m  Cell \u001b[1;32mIn [51], line 1\u001b[1;36m\u001b[0m\n\u001b[1;33m    fimport math\u001b[0m\n\u001b[1;37m            ^\u001b[0m\n\u001b[1;31mSyntaxError\u001b[0m\u001b[1;31m:\u001b[0m invalid syntax\n"
     ]
    },
    {
     "ename": "",
     "evalue": "",
     "output_type": "error",
     "traceback": [
      "\u001b[1;31mThe Kernel crashed while executing code in the the current cell or a previous cell. Please review the code in the cell(s) to identify a possible cause of the failure. Click <a href='https://aka.ms/vscodeJupyterKernelCrash'>here</a> for more info. View Jupyter <a href='command:jupyter.viewOutput'>log</a> for further details."
     ]
    }
   ],
   "source": [
    "def take(point1, point2):\n",
    "    if distance = math.sqrt(point1 * point2):\n",
    "        return distance\n",
    "\n",
    "take(1, 2)\n",
    "take(2,3)\n",
    "\n",
    "\n",
    "\n",
    "with open(\"../data.txt\" \"r\") as f_read:\n",
    "    lines = f_read.readlines()\n",
    "\n",
    "    for line in lines:\n",
    "        print(line, end = \"\")\n",
    "\n",
    "with open(\"../data/txt\" \"r\") as f_read:\n",
    "    lines = f_read.readlines()\n",
    "\n",
    "    for line in lines:\n",
    "        print(line, end = \"\")\n",
    "\n",
    "with open(\"..data/data.txt\" \"r\") as f_read:\n",
    "    lines = f_read.readlines()\n",
    "\n",
    "    for line in lines:\n",
    "        print(lines, end = \"\")\n",
    "\n",
    "with open(\"..data/data.txt\", \"r\") as f_read:\n",
    "    lines = f_read.readlines()\n",
    "\n",
    "    for line in lines:\n",
    "        print(lines, end = \"\")\n",
    "\n",
    "with open(\"..data/data.txt\", \"r\") as f_read:\n",
    "    lines = f_read.readlines()\n",
    "\n",
    "    for line in lines:\n",
    "        print(line, end = \"\")"
   ]
  },
  {
   "cell_type": "code",
   "execution_count": 36,
   "metadata": {},
   "outputs": [
    {
     "name": "stdout",
     "output_type": "stream",
     "text": [
      "Adam Gustafsson 25\n",
      "Emil Johansson 23\n",
      "Sven Erik Karlsson 13\n",
      "Ove Karlsten 41\n",
      "Emma Boden 32\n",
      "Ida HÃ¥kansson 23\n",
      "Ella Ester 41\n",
      "Hanna Karlsson 23 \n",
      "Johan Johansson 42\n",
      "Sven Erik Lundin 39\n",
      "BjÃ¶rn BjÃ¶rnsson 39\n",
      "Karl Karlsson 32\n",
      "Bose Bosseson 32\n",
      "HÃ¥kan HÃ¥kanson 24\n",
      "Jonas Jonasson 31\n",
      "Erik Eriksson 31\n",
      "Gore Bord 55\n",
      "Jakob Kallander 65\n",
      "Fredrika Ulven 10\n",
      "\n",
      "Alfabetisk ordning\n",
      "Adam Gustafsson 25\n",
      "BjÃ¶rn BjÃ¶rnsson 39\n",
      "Bose Bosseson 32\n",
      "Ella Ester 41\n",
      "Emil Johansson 23\n",
      "Emma Boden 32\n",
      "Erik Eriksson 31\n",
      "Fredrika Ulven 10\n",
      "Gore Bord 55\n",
      "Hanna Karlsson 23 \n",
      "HÃ¥kan HÃ¥kanson 24\n",
      "Ida HÃ¥kansson 23\n",
      "Jakob Kallander 65\n",
      "Johan Johansson 42\n",
      "Jonas Jonasson 31\n",
      "Karl Karlsson 32\n",
      "Ove Karlsten 41\n",
      "Sven Erik Karlsson 13\n",
      "Sven Erik Lundin 39\n",
      "\n",
      "\n",
      "Sorterat efter betyg\n",
      "\n",
      "\n",
      "Betyg F\n",
      "Sven Erik Karlsson 13\n",
      "Fredrika Ulven 10\n",
      "\n",
      "Betyg E\n",
      "Adam Gustafsson 25\n",
      "Emil Johansson 23\n",
      "Ida HÃ¥kansson 23\n",
      "Hanna Karlsson 23 \n",
      "HÃ¥kan HÃ¥kanson 24\n",
      "\n",
      "Betyg D\n",
      "Emma Boden 32\n",
      "Sven Erik Lundin 39\n",
      "BjÃ¶rn BjÃ¶rnsson 39\n",
      "Karl Karlsson 32\n",
      "Bose Bosseson 32\n",
      "Jonas Jonasson 31\n",
      "Erik Eriksson 31\n",
      "\n",
      "Betyg C\n",
      "Ove Karlsten 41\n",
      "Ella Ester 41\n",
      "Johan Johansson 42\n",
      "\n",
      "Betyg B\n",
      "Gore Bord 55\n",
      "\n",
      "Betyg A\n",
      "Jakob Kallander 65\n"
     ]
    }
   ],
   "source": [
    "##--------- How to loop through .txt file\n",
    "\n",
    "with open(\"../Data/blalbla.txt\" \"r\") as f-read:\n",
    "    lines = f-read.readlines()\n",
    "    print(lines)\n",
    "\n",
    "    for line in lines:\n",
    "        print(line, end = \"\")\n",
    "\n",
    "\n",
    "        \n",
    "\n",
    "with open(\"../Data/Provresultat.txt\") as f_read:\n",
    "    # each line is stored in a list\n",
    "    # each line is a string and it has \\n in the end\n",
    "    lines = f_read.readlines()\n",
    "    #print(lines)\n",
    "\n",
    "    # -------------------a)-------------------\n",
    "    # loops through the lines and prints each line\n",
    "    for line in lines:\n",
    "        print(line, end = \"\")"
   ]
  },
  {
   "cell_type": "code",
   "execution_count": 3,
   "metadata": {},
   "outputs": [
    {
     "ename": "SyntaxError",
     "evalue": "invalid syntax (1180026918.py, line 5)",
     "output_type": "error",
     "traceback": [
      "\u001b[1;36m  Cell \u001b[1;32mIn [3], line 5\u001b[1;36m\u001b[0m\n\u001b[1;33m    for i in range(10)\u001b[0m\n\u001b[1;37m                      ^\u001b[0m\n\u001b[1;31mSyntaxError\u001b[0m\u001b[1;31m:\u001b[0m invalid syntax\n"
     ]
    }
   ],
   "source": [
    "\n",
    "\n",
    "# TODO: importera random när det handlar om dice rolls\n",
    "# TODO: Skriv in hur många dice rolls man ska göra i en variabel, alternativt skicka in det som input\n",
    "# TODO: Gör en tom lista att stora tärningskasten i (dice = [])\n",
    "# TODO: Gör en for loop som går igenom antal kast, och appenda in i den tomma listan variabeln. Samt kör rnd.randint(1,6) OM Det är en sex siffrig tärning\n",
    "# TODO: printa ut resultat\n",
    "# TODO: Man kan sortera listan om man vill.\n",
    "# TODO: Man kan reversa\n",
    "# TODO: Man kan välja vilket nummer man vill plocka ut ur listan, alltså från vilken position"
   ]
  },
  {
   "cell_type": "code",
   "execution_count": 4,
   "metadata": {},
   "outputs": [
    {
     "name": "stdout",
     "output_type": "stream",
     "text": [
      "[4, 1, 6, 4, 1, 5, 4, 6, 4, 2]\n",
      "[1, 1, 2, 4, 4, 4, 4, 5, 6, 6]\n",
      "6=\n",
      "1=\n"
     ]
    }
   ],
   "source": [
    "\n",
    "import random as rnd\n",
    "\n",
    "number_rolls = 10\n",
    "dice = []\n",
    "\n",
    "for i in range (number_rolls):\n",
    "    dice.append(rnd.randint(1,6))\n",
    "print(dice)\n",
    "\n",
    "dice.sort(reverse = False)\n",
    "print(dice)\n",
    "\n",
    "print(f\"{dice[9]}=\")\n",
    "print(f\"{dice[0]}=\")"
   ]
  },
  {
   "cell_type": "markdown",
   "metadata": {},
   "source": [
    "# Food menu (*)\n",
    "Create a:\n",
    "\n",
    "  a)   list with the following elements: \"vegetarisk lasagne\", \"spaghetti\", \"fisk\", \"grönsakssoppa\", \"pannkakor\". (*)\n",
    "\n",
    "  b)   list with the weekdays (*)\n",
    "\n",
    "  c)   create a food menu with each day corresponding to each food item and print it out. (*)"
   ]
  },
  {
   "cell_type": "code",
   "execution_count": null,
   "metadata": {},
   "outputs": [],
   "source": [
    "matlista = [\"vegetarisk lasagne\", \"spaghetti\", \"fisk\", \"grönsakssoppa\", \"pannkakor\"]\n",
    "\n",
    "\n",
    "#TODO: ATT GÖRA EN VECKOMENY\n",
    "#TODO: Gör en lista för dagar\n",
    "#TODO: Gör en for loop där du steppar mat, dag och zippar in i matlista, samt dagar\n",
    "#TODO: I veckomeny lägg till så det adderas in listan\n",
    "#TODO: printa ut veckomenyn\n",
    " "
   ]
  },
  {
   "cell_type": "code",
   "execution_count": 5,
   "metadata": {},
   "outputs": [
    {
     "name": "stdout",
     "output_type": "stream",
     "text": [
      "Meny för veckan \n",
      "Mån: Spaghetti\n",
      "Tis: Spaghetti\n",
      "Ons: Fisk\n",
      "Tors: Tacos\n",
      "Fre: Pizza\n",
      "\n"
     ]
    }
   ],
   "source": [
    "\n",
    "min_mat_lista = [\"Spaghetti\", \"Spaghetti\", \"Fisk\", \"Tacos\", \"Pizza\"]\n",
    "dagar = [\"Mån\", \"Tis\", \"Ons\", \"Tors\", \"Fre\"]\n",
    "veckomeny = \"Meny för veckan \\n\"\n",
    "\n",
    "for mat, dag in zip(min_mat_lista, dagar):\n",
    "    veckomeny += f\"{dag}: {mat}\\n\"\n",
    "print(veckomeny)"
   ]
  },
  {
   "cell_type": "code",
   "execution_count": null,
   "metadata": {},
   "outputs": [],
   "source": [
    "# TODO Läsa in en textfil \n",
    "# TODO: Läs filen\n",
    "# TODO: Definera om f read till variabel\n",
    "# TODO: använd en for loop för att loopa igenom textfilen en gång\n",
    "# TODO: Det är då du kan printa ut vad du vill ha och hur du vill att texten ska se ut"
   ]
  },
  {
   "cell_type": "markdown",
   "metadata": {},
   "source": [
    "\n",
    "## Divisible (*)\n",
    "Let the user input a number. Check if the number is\n",
    "\n",
    "1. even or odd\n",
    "2. is divisible by 5\n",
    "3. is divisble by 5 and odd"
   ]
  },
  {
   "cell_type": "code",
   "execution_count": null,
   "metadata": {},
   "outputs": [],
   "source": []
  },
  {
   "cell_type": "markdown",
   "metadata": {},
   "source": [
    "## 1. Count numbers (*)\n",
    "Use a while statement to count from -10 to 10 with one increment."
   ]
  },
  {
   "cell_type": "code",
   "execution_count": null,
   "metadata": {},
   "outputs": [],
   "source": []
  },
  {
   "cell_type": "markdown",
   "metadata": {},
   "source": [
    "## Arithmetic sum\n",
    "Use a for statement to compute the following sums:\n",
    "\n",
    "a) sum = 1+2+3+4...+99+100\n",
    "\n",
    "b) sum = 1+3+5...+97+99"
   ]
  },
  {
   "cell_type": "code",
   "execution_count": null,
   "metadata": {},
   "outputs": [],
   "source": []
  },
  {
   "cell_type": "code",
   "execution_count": 15,
   "metadata": {},
   "outputs": [
    {
     "name": "stdout",
     "output_type": "stream",
     "text": [
      "10. pizza\n",
      "11. lasagne\n",
      "12. spaghetti\n",
      "13. pancakes\n",
      "14. banana\n",
      "15. grapes\n"
     ]
    }
   ],
   "source": [
    "schedule = [\"Ai Intro\", \"Python\", \"Matte\", \"Självstudier\", \"Chilla\"]\n",
    "days = [\"Må,\" \"Ti\", \"On\", \"Tors\", \"Fre\", \"Lör\"]\n",
    "\n",
    "#   \\n => Newline\n",
    "week_plan = \"Plan \\n\"\n",
    "\n",
    "## Detta är vad vi vill åstadkomma\n",
    "# Plan \n",
    "# Må: Ai Intro\n",
    "# Ti: Python\n",
    "#...\n",
    "\n",
    "for day, task in zip(days, schedule):\n",
    "    week_plan += f\"{day}: {task}\\n\"      ## \\n Ställer upp det snyggare\n",
    "print(week_plan)"
   ]
  }
 ],
 "metadata": {
  "kernelspec": {
   "display_name": "Python 3.9.13 ('PythonSchool-iXQr8Z-p')",
   "language": "python",
   "name": "python3"
  },
  "language_info": {
   "codemirror_mode": {
    "name": "ipython",
    "version": 3
   },
   "file_extension": ".py",
   "mimetype": "text/x-python",
   "name": "python",
   "nbconvert_exporter": "python",
   "pygments_lexer": "ipython3",
   "version": "3.9.13"
  },
  "orig_nbformat": 4,
  "vscode": {
   "interpreter": {
    "hash": "ede0424b5117af074b0a15022a0db7920ce0c06d0370a7c1883de86effeccc15"
   }
  }
 },
 "nbformat": 4,
 "nbformat_minor": 2
}
