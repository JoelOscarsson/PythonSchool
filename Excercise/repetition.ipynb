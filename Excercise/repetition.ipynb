{
 "cells": [
  {
   "cell_type": "markdown",
   "metadata": {},
   "source": [
    "## Dice rolls (*)\n",
    "Simulate 10 dice rolls and append the rolls to a list or use list comprehension.\n",
    "\n",
    "  a)   sort the list in ascending order (*)\n",
    "\n",
    "  b)   sort the list in descending order (*)\n",
    "\n",
    "  c)   find the maximum and minimum value in the list (*)"
   ]
  },
  {
   "cell_type": "code",
   "execution_count": 3,
   "metadata": {},
   "outputs": [
    {
     "ename": "SyntaxError",
     "evalue": "invalid syntax (1180026918.py, line 5)",
     "output_type": "error",
     "traceback": [
      "\u001b[1;36m  Cell \u001b[1;32mIn [3], line 5\u001b[1;36m\u001b[0m\n\u001b[1;33m    for i in range(10)\u001b[0m\n\u001b[1;37m                      ^\u001b[0m\n\u001b[1;31mSyntaxError\u001b[0m\u001b[1;31m:\u001b[0m invalid syntax\n"
     ]
    }
   ],
   "source": [
    "\n",
    "\n",
    "# TODO: importera random när det handlar om dice rolls\n",
    "# TODO: Skriv in hur många dice rolls man ska göra i en variabel, alternativt skicka in det som input\n",
    "# TODO: Gör en tom lista att stora tärningskasten i (dice = [])\n",
    "# TODO: Gör en for loop som går igenom antal kast, och appenda in i den tomma listan variabeln. Samt kör rnd.randint(1,6) OM Det är en sex siffrig tärning\n",
    "# TODO: printa ut resultat\n",
    "# TODO: Man kan sortera listan om man vill.\n",
    "# TODO: Man kan reversa\n",
    "# TODO: Man kan välja vilket nummer man vill plocka ut ur listan, alltså från vilken position"
   ]
  },
  {
   "cell_type": "code",
   "execution_count": 4,
   "metadata": {},
   "outputs": [
    {
     "name": "stdout",
     "output_type": "stream",
     "text": [
      "[4, 1, 6, 4, 1, 5, 4, 6, 4, 2]\n",
      "[1, 1, 2, 4, 4, 4, 4, 5, 6, 6]\n",
      "6=\n",
      "1=\n"
     ]
    }
   ],
   "source": [
    "\n",
    "import random as rnd\n",
    "\n",
    "number_rolls = 10\n",
    "dice = []\n",
    "\n",
    "for i in range (number_rolls):\n",
    "    dice.append(rnd.randint(1,6))\n",
    "print(dice)\n",
    "\n",
    "dice.sort(reverse = False)\n",
    "print(dice)\n",
    "\n",
    "print(f\"{dice[9]}=\")\n",
    "print(f\"{dice[0]}=\")"
   ]
  },
  {
   "cell_type": "markdown",
   "metadata": {},
   "source": [
    "# Food menu (*)\n",
    "Create a:\n",
    "\n",
    "  a)   list with the following elements: \"vegetarisk lasagne\", \"spaghetti\", \"fisk\", \"grönsakssoppa\", \"pannkakor\". (*)\n",
    "\n",
    "  b)   list with the weekdays (*)\n",
    "\n",
    "  c)   create a food menu with each day corresponding to each food item and print it out. (*)"
   ]
  },
  {
   "cell_type": "code",
   "execution_count": null,
   "metadata": {},
   "outputs": [],
   "source": [
    "matlista = [\"vegetarisk lasagne\", \"spaghetti\", \"fisk\", \"grönsakssoppa\", \"pannkakor\"]\n",
    "\n",
    "\n",
    "#TODO: ATT GÖRA EN VECKOMENY\n",
    "#TODO: Gör en lista för dagar\n",
    "#TODO: Gör en for loop där du steppar mat, dag och zippar in i matlista, samt dagar\n",
    "#TODO: I veckomeny lägg till så det adderas in listan\n",
    "#TODO: printa ut veckomenyn\n",
    " "
   ]
  },
  {
   "cell_type": "code",
   "execution_count": 5,
   "metadata": {},
   "outputs": [
    {
     "name": "stdout",
     "output_type": "stream",
     "text": [
      "Meny för veckan \n",
      "Mån: Spaghetti\n",
      "Tis: Spaghetti\n",
      "Ons: Fisk\n",
      "Tors: Tacos\n",
      "Fre: Pizza\n",
      "\n"
     ]
    }
   ],
   "source": [
    "\n",
    "min_mat_lista = [\"Spaghetti\", \"Spaghetti\", \"Fisk\", \"Tacos\", \"Pizza\"]\n",
    "dagar = [\"Mån\", \"Tis\", \"Ons\", \"Tors\", \"Fre\"]\n",
    "veckomeny = \"Meny för veckan \\n\"\n",
    "\n",
    "for mat, dag in zip(min_mat_lista, dagar):\n",
    "    veckomeny += f\"{dag}: {mat}\\n\"\n",
    "print(veckomeny)"
   ]
  },
  {
   "cell_type": "code",
   "execution_count": null,
   "metadata": {},
   "outputs": [],
   "source": [
    "# TODO Läsa in en textfil \n",
    "# TODO: Läs filen\n",
    "# TODO: Definera om f read till variabel\n",
    "# TODO: använd en for loop för att loopa igenom textfilen en gång\n",
    "# TODO: Det är då du kan printa ut vad du vill ha och hur du vill att texten ska se ut"
   ]
  },
  {
   "cell_type": "markdown",
   "metadata": {},
   "source": [
    "\n",
    "## Divisible (*)\n",
    "Let the user input a number. Check if the number is\n",
    "\n",
    "1. even or odd\n",
    "2. is divisible by 5\n",
    "3. is divisble by 5 and odd"
   ]
  },
  {
   "cell_type": "code",
   "execution_count": null,
   "metadata": {},
   "outputs": [],
   "source": []
  },
  {
   "cell_type": "markdown",
   "metadata": {},
   "source": [
    "## 1. Count numbers (*)\n",
    "Use a while statement to count from -10 to 10 with one increment."
   ]
  },
  {
   "cell_type": "code",
   "execution_count": null,
   "metadata": {},
   "outputs": [],
   "source": []
  },
  {
   "cell_type": "markdown",
   "metadata": {},
   "source": [
    "## Arithmetic sum\n",
    "Use a for statement to compute the following sums:\n",
    "\n",
    "a) sum = 1+2+3+4...+99+100\n",
    "\n",
    "b) sum = 1+3+5...+97+99"
   ]
  },
  {
   "cell_type": "code",
   "execution_count": null,
   "metadata": {},
   "outputs": [],
   "source": []
  },
  {
   "cell_type": "code",
   "execution_count": 15,
   "metadata": {},
   "outputs": [
    {
     "name": "stdout",
     "output_type": "stream",
     "text": [
      "10. pizza\n",
      "11. lasagne\n",
      "12. spaghetti\n",
      "13. pancakes\n",
      "14. banana\n",
      "15. grapes\n"
     ]
    }
   ],
   "source": [
    "schedule = [\"Ai Intro\", \"Python\", \"Matte\", \"Självstudier\", \"Chilla\"]\n",
    "days = [\"Må,\" \"Ti\", \"On\", \"Tors\", \"Fre\", \"Lör\"]\n",
    "\n",
    "#   \\n => Newline\n",
    "week_plan = \"Plan \\n\"\n",
    "\n",
    "## Detta är vad vi vill åstadkomma\n",
    "# Plan \n",
    "# Må: Ai Intro\n",
    "# Ti: Python\n",
    "#...\n",
    "\n",
    "for day, task in zip(days, schedule):\n",
    "    week_plan += f\"{day}: {task}\\n\"      ## \\n Ställer upp det snyggare\n",
    "print(week_plan)"
   ]
  }
 ],
 "metadata": {
  "kernelspec": {
   "display_name": "Python 3.9.13 ('PythonSchool-iXQr8Z-p')",
   "language": "python",
   "name": "python3"
  },
  "language_info": {
   "codemirror_mode": {
    "name": "ipython",
    "version": 3
   },
   "file_extension": ".py",
   "mimetype": "text/x-python",
   "name": "python",
   "nbconvert_exporter": "python",
   "pygments_lexer": "ipython3",
   "version": "3.9.13"
  },
  "orig_nbformat": 4,
  "vscode": {
   "interpreter": {
    "hash": "ede0424b5117af074b0a15022a0db7920ce0c06d0370a7c1883de86effeccc15"
   }
  }
 },
 "nbformat": 4,
 "nbformat_minor": 2
}
