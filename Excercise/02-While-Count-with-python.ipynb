{
 "cells": [
  {
   "cell_type": "markdown",
   "metadata": {},
   "source": [
    "## 1. Count numbers (*)\n",
    "Use a while statement to count from -10 to 10 with one increment."
   ]
  },
  {
   "cell_type": "code",
   "execution_count": 8,
   "metadata": {},
   "outputs": [
    {
     "name": "stdout",
     "output_type": "stream",
     "text": [
      "-10 -9 -8 -7 -6 -5 -4 -3 -2 -1 0 1 2 3 4 5 6 7 8 9 10 "
     ]
    }
   ],
   "source": [
    "i = -10\n",
    "\n",
    "while i <= 10:\n",
    "    print(i, \"\", end='')\n",
    "    i += 1   ##Adds one to i \n",
    "   "
   ]
  },
  {
   "cell_type": "code",
   "execution_count": 26,
   "metadata": {},
   "outputs": [
    {
     "name": "stdout",
     "output_type": "stream",
     "text": [
      "5050\n"
     ]
    }
   ],
   "source": [
    "## Arithmetic sum (*)\n",
    "## Use a while statement to compute the following sums:\n",
    "n = 1\n",
    "sum = 0\n",
    "\n",
    "while n <= 100:\n",
    "    sum = sum + n\n",
    "    n += 1\n",
    "print(sum)"
   ]
  },
  {
   "cell_type": "code",
   "execution_count": 32,
   "metadata": {},
   "outputs": [
    {
     "name": "stdout",
     "output_type": "stream",
     "text": [
      "2500\n"
     ]
    }
   ],
   "source": [
    "\n",
    "i = 1\n",
    "sum = 0\n",
    "\n",
    "while i <=100:\n",
    "    sum = sum + i\n",
    "    i = i + 2 \n",
    "print(sum)\n"
   ]
  },
  {
   "cell_type": "code",
   "execution_count": 20,
   "metadata": {},
   "outputs": [
    {
     "name": "stdout",
     "output_type": "stream",
     "text": [
      "Gissa talet mellan 1 och 100\n",
      "10 var för litet...\n",
      "5 var för litet...\n",
      "6 var för litet...\n",
      "20 var rätt! Det tog 4 gissningar\n"
     ]
    }
   ],
   "source": [
    "# Guess number game\n",
    "import random\n",
    "\n",
    "rand = random.randint(1, 100)\n",
    "print(\"Gissa talet mellan 1 och 100\")\n",
    "\n",
    "i = 1\n",
    "while i < 100:\n",
    "    guess = int(input(\"Skriv ett heltal\"))\n",
    "    if guess == rand:\n",
    "        print(f\"{guess} var rätt! Det tog {i} gissningar\")\n",
    "        break\n",
    "    elif guess > rand:\n",
    "        print(f\"{guess} är för stort!\")\n",
    "        i += 1\n",
    "    else:\n",
    "        print(f\"{guess} var för litet...\")\n",
    "        i += 1"
   ]
  },
  {
   "cell_type": "code",
   "execution_count": 50,
   "metadata": {},
   "outputs": [
    {
     "name": "stdout",
     "output_type": "stream",
     "text": [
      "Stämmer inte svaret är 30\n",
      "Rätt\n"
     ]
    },
    {
     "ename": "ValueError",
     "evalue": "invalid literal for int() with base 10: ''",
     "output_type": "error",
     "traceback": [
      "\u001b[1;31m---------------------------------------------------------------------------\u001b[0m",
      "\u001b[1;31mValueError\u001b[0m                                Traceback (most recent call last)",
      "\u001b[1;32mc:\\Users\\j_osc\\OneDrive\\Documents\\Github\\PythonSchool\\Excercise\\02-While-Count-with-python.ipynb Cell 6\u001b[0m in \u001b[0;36m<cell line: 6>\u001b[1;34m()\u001b[0m\n\u001b[0;32m      <a href='vscode-notebook-cell:/c%3A/Users/j_osc/OneDrive/Documents/Github/PythonSchool/Excercise/02-While-Count-with-python.ipynb#W5sZmlsZQ%3D%3D?line=5'>6</a>\u001b[0m x \u001b[39m=\u001b[39m random\u001b[39m.\u001b[39mrandint(\u001b[39m1\u001b[39m, \u001b[39m10\u001b[39m)\n\u001b[0;32m      <a href='vscode-notebook-cell:/c%3A/Users/j_osc/OneDrive/Documents/Github/PythonSchool/Excercise/02-While-Count-with-python.ipynb#W5sZmlsZQ%3D%3D?line=6'>7</a>\u001b[0m y \u001b[39m=\u001b[39m random\u001b[39m.\u001b[39mrandint(\u001b[39m1\u001b[39m, \u001b[39m10\u001b[39m)\n\u001b[1;32m----> <a href='vscode-notebook-cell:/c%3A/Users/j_osc/OneDrive/Documents/Github/PythonSchool/Excercise/02-While-Count-with-python.ipynb#W5sZmlsZQ%3D%3D?line=7'>8</a>\u001b[0m guess \u001b[39m=\u001b[39m \u001b[39mint\u001b[39;49m(\u001b[39minput\u001b[39;49m(\u001b[39mf\u001b[39;49m\u001b[39m\"\u001b[39;49m\u001b[39mVad är \u001b[39;49m\u001b[39m{\u001b[39;49;00mx\u001b[39m}\u001b[39;49;00m\u001b[39m gånger \u001b[39;49m\u001b[39m{\u001b[39;49;00my\u001b[39m}\u001b[39;49;00m\u001b[39m?\u001b[39;49m\u001b[39m\"\u001b[39;49m))\n\u001b[0;32m      <a href='vscode-notebook-cell:/c%3A/Users/j_osc/OneDrive/Documents/Github/PythonSchool/Excercise/02-While-Count-with-python.ipynb#W5sZmlsZQ%3D%3D?line=8'>9</a>\u001b[0m svar \u001b[39m=\u001b[39m x \u001b[39m*\u001b[39m y\n\u001b[0;32m     <a href='vscode-notebook-cell:/c%3A/Users/j_osc/OneDrive/Documents/Github/PythonSchool/Excercise/02-While-Count-with-python.ipynb#W5sZmlsZQ%3D%3D?line=10'>11</a>\u001b[0m \u001b[39mif\u001b[39;00m svar \u001b[39m==\u001b[39m guess:\n",
      "\u001b[1;31mValueError\u001b[0m: invalid literal for int() with base 10: ''"
     ]
    }
   ],
   "source": [
    "#Gånger spel  \n",
    "import random\n",
    "import math\n",
    "\n",
    "while True:\n",
    "    x = random.randint(1, 10)\n",
    "    y = random.randint(1, 10)\n",
    "    guess = int(input(f\"Vad är {x} gånger {y}?\"))\n",
    "    svar = x * y\n",
    "\n",
    "    if svar == guess:\n",
    "        print(\"Rätt\")\n",
    "    else:\n",
    "        print(f\"Stämmer inte svaret är {svar}\")\n",
    "        igen = input(\"Vill du spela igen? j/n\")\n",
    "    if igen == \"j\":\n",
    "        continue\n",
    "    else:\n",
    "        print(\"Tack för att du spelade\") \n",
    "        break"
   ]
  }
 ],
 "metadata": {
  "kernelspec": {
   "display_name": "Python 3.9.13 ('PythonSchool-iXQr8Z-p')",
   "language": "python",
   "name": "python3"
  },
  "language_info": {
   "codemirror_mode": {
    "name": "ipython",
    "version": 3
   },
   "file_extension": ".py",
   "mimetype": "text/x-python",
   "name": "python",
   "nbconvert_exporter": "python",
   "pygments_lexer": "ipython3",
   "version": "3.9.13"
  },
  "orig_nbformat": 4,
  "vscode": {
   "interpreter": {
    "hash": "ede0424b5117af074b0a15022a0db7920ce0c06d0370a7c1883de86effeccc15"
   }
  }
 },
 "nbformat": 4,
 "nbformat_minor": 2
}
