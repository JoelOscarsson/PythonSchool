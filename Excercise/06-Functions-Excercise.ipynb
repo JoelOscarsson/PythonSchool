{
 "cells": [
  {
   "cell_type": "code",
   "execution_count": null,
   "metadata": {},
   "outputs": [],
   "source": []
  }
 ],
 "metadata": {
  "kernelspec": {
   "display_name": "Python 3.9.13 64-bit",
   "language": "python",
   "name": "python3"
  },
  "language_info": {
   "name": "python",
   "version": "3.9.13"
  },
  "orig_nbformat": 4,
  "vscode": {
   "interpreter": {
    "hash": "958a9210e5eed5eb21a37baf529fded8d3cf9f5344114e9547bddde819fb25fe"
   }
  }
 },
 "nbformat": 4,
 "nbformat_minor": 2
}
