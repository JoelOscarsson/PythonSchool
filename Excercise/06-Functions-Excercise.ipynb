{
 "cells": [
  {
   "cell_type": "markdown",
   "metadata": {},
   "source": [
    "## Functions Excercises"
   ]
  },
  {
   "cell_type": "markdown",
   "metadata": {},
   "source": [
    "## 1. Area (*)\n",
    "\n",
    "- Create a function that takes the base and height of a triangle as input parameters and returns the area of the triangle."
   ]
  },
  {
   "cell_type": "code",
   "execution_count": 26,
   "metadata": {},
   "outputs": [
    {
     "data": {
      "text/plain": [
       "64"
      ]
     },
     "execution_count": 26,
     "metadata": {},
     "output_type": "execute_result"
    }
   ],
   "source": [
    "def area(height, base):   ## Lägger in två parametrar\n",
    "    return (height*base)   ## Basen ggr höjden = arean\n",
    "area(8,8)     ## Här kan man inputa vilka siffror som helst och den kommer räkna ut detta."
   ]
  },
  {
   "cell_type": "markdown",
   "metadata": {},
   "source": [
    "## 2. Euclidean distance (*)\n",
    "\n",
    "\n",
    "- The FORMULA for Euclidean distance in 2D between $$P:(p1,p2)$$ and $$Q:(q1,q2)$$ is:\n",
    "\n",
    "$$d(P,Q)= \\sqrt{(p1−q1)^{2}+(p2−q2)^{2}}$$\n",
    "\n",
    "  a)   Create a function that takes two points as input parameters and return the Euclidean between them. (*)\n",
    "\n",
    "  b)   Let the user input two points. Call the function using the users input points. (*)\n",
    "\n",
    "  c)   Use your function to calculate distances between the origin (0, 0) and each of these points: (10, 3), (-1, -9), (10, -10), (4, -2), (9, -10). (*)"
   ]
  },
  {
   "cell_type": "code",
   "execution_count": 43,
   "metadata": {},
   "outputs": [
    {
     "name": "stdout",
     "output_type": "stream",
     "text": [
      "9.055385\n"
     ]
    }
   ],
   "source": [
    "\n",
    "# If uncertain and its something with a square root. Always import math xD\n",
    "import math\n",
    "\n",
    "\n",
    "def distance(p1,p2,q1,q2):\n",
    "    \"\"\"Calculate distance between input parameters\"\"\"\n",
    "## math.pow() method returns the value of x raised to power y \n",
    "    return math.sqrt(math.pow(p1 - q1, 2 ) +\n",
    "            math.pow(p2 - q2, 2) * 1.0)\n",
    "\n",
    "# Drivers Code\n",
    "print(\"%.6f\"%distance(0, 0, -1, -9))\n"
   ]
  },
  {
   "cell_type": "markdown",
   "metadata": {},
   "source": [
    "## 3. Mathematical functions (*)\n",
    "Make the following functions with def or lambda and plot their graphs in the same figure window, with  x∈[−10,10]  :\n",
    "\n",
    "  a)    $$f(x)=x2−3$$  (*)\n",
    "\n",
    "  b)    $$g(x)=4x−7$$  (*)\n",
    "\n",
    "What could the relation between  f(x)  and  g(x)  be?"
   ]
  }
 ],
 "metadata": {
  "kernelspec": {
   "display_name": "Python 3.9.13 ('PythonSchool-iXQr8Z-p')",
   "language": "python",
   "name": "python3"
  },
  "language_info": {
   "codemirror_mode": {
    "name": "ipython",
    "version": 3
   },
   "file_extension": ".py",
   "mimetype": "text/x-python",
   "name": "python",
   "nbconvert_exporter": "python",
   "pygments_lexer": "ipython3",
   "version": "3.9.13"
  },
  "orig_nbformat": 4,
  "vscode": {
   "interpreter": {
    "hash": "ede0424b5117af074b0a15022a0db7920ce0c06d0370a7c1883de86effeccc15"
   }
  }
 },
 "nbformat": 4,
 "nbformat_minor": 2
}
