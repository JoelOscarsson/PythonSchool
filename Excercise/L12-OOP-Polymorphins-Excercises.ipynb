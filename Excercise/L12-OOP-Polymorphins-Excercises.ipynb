{
 "cells": [
  {
   "cell_type": "code",
   "execution_count": null,
   "metadata": {},
   "outputs": [],
   "source": []
  },
  {
   "cell_type": "markdown",
   "metadata": {},
   "source": [
    "## 2. Fraction (**)\n",
    "Create a class called Frac to represent mathematical fractions. The class is instantiated with two instance variables: nominator and denominator. Objects instantiated from this class should have methods for addition, subtraction, multiplication, division using the operators +,-,*,/. Note that these implemented methods must be mathematically correct. Also implement the following methods:\n",
    "\n",
    "\n",
    "simplify(self, value = None) # simplifies to most simple form unless value is given \n",
    "\n",
    "__str__(self) # represent the fraction in a neat way for printing\n",
    "\n",
    "mixed(self) # represent the fraction in mixed terms \n",
    "\n",
    "__eq__(self, other) # checks equality by overloading ==\n",
    "Also remember to handle errors and validations.\n",
    "\n",
    "Example of tests that it should handled:\n",
    "\n",
    "- 1/2 + 1/3 = 5/6\n",
    "- 1/2 - 1/3 = 1/6\n",
    "- 7/6 --> 1 1/6 (mixed)\n",
    "- 3*1/2 = 3/2\n",
    "- 1/2 * 3 = 3/2\n",
    "- 1/4 + 2 = 9/4\n",
    "- 1/4 / 1/2 = 1/2\n",
    "- 2/4 == 1/2 --> True\n",
    "- 3/4 += 2 = 11/4"
   ]
  },
  {
   "cell_type": "code",
   "execution_count": 49,
   "metadata": {},
   "outputs": [
    {
     "name": "stdout",
     "output_type": "stream",
     "text": [
      "10\n"
     ]
    }
   ],
   "source": [
    "def gcd(m,n):\n",
    "    while m%n != 0:\n",
    "        oldm = m\n",
    "        oldn = n\n",
    "\n",
    "        m = oldn\n",
    "        n = oldm%oldn\n",
    "    return n\n",
    "\n",
    "print(gcd(20,10))\n"
   ]
  },
  {
   "cell_type": "code",
   "execution_count": 42,
   "metadata": {},
   "outputs": [
    {
     "data": {
      "text/plain": [
       "Frac(2, 4)"
      ]
     },
     "execution_count": 42,
     "metadata": {},
     "output_type": "execute_result"
    }
   ],
   "source": [
    "\n",
    "class Frac:\n",
    "\n",
    "    def __init__(self, top, bottom) -> None:\n",
    "        self.nominator = top\n",
    "        self.denominator = bottom\n",
    "\n",
    "    def simplify(self, value = None):\n",
    "        \"\"\"Simplifies fractions\"\"\"\n",
    "        i = 2\n",
    "        while i < min(nominator, denominator) +1:\n",
    "            if nominator % i == 0 and denominator % i == 0:\n",
    "                nominator = nominator // i\n",
    "                denominator = denominator // i\n",
    "            else:\n",
    "                i += 1\n",
    "        return(nominator, denominator)\n",
    "\n",
    "    \n",
    "    def __repr__(self):\n",
    "        return f\"Frac({self.nominator}, {self.denominator})\"  # För att andra utvecklare ska kunna se hur man skapar denna instansen\n",
    "\n",
    "myfraction = Frac(2, 4)\n",
    "myfraction = (sum)\n",
    "myfraction\n"
   ]
  },
  {
   "cell_type": "code",
   "execution_count": 21,
   "metadata": {},
   "outputs": [
    {
     "name": "stdout",
     "output_type": "stream",
     "text": [
      "0.5\n"
     ]
    }
   ],
   "source": [
    "nominator = 2\n",
    "denominator = 4\n",
    "\n",
    "sum = (nominator / denominator)\n",
    "print(sum)\n",
    "\n",
    "\n"
   ]
  },
  {
   "cell_type": "code",
   "execution_count": null,
   "metadata": {},
   "outputs": [],
   "source": [
    "nominator = 2\n",
    "denominator = 4\n",
    "\n",
    "While (nominator! = denominator)\n",
    "if (nominator > denominator)\n",
    "then "
   ]
  },
  {
   "cell_type": "code",
   "execution_count": null,
   "metadata": {},
   "outputs": [],
   "source": [
    "from __future__ import division\n",
    "import math\n",
    "\n",
    "\n",
    "class Frac:\n",
    "    \n",
    "\n",
    "\n",
    "class Fraction:\n",
    "\n",
    "\n",
    "    def __init__(self, nominator, denominator): -> None\n",
    "        self.nominator = nominator\n",
    "        self.nomimator = denominator\n",
    "\n",
    "\n",
    "    # Simplifies to most simple form unless value is given\n",
    "    def simplify(self, value = None):\n",
    "        if nominator % 2 == 0 and denominator % 2 == 0 True:\n",
    "            \n",
    "\n",
    "    def __str__(self) # Represent the fraction in a neat way for printing\n",
    "\n",
    "\n",
    "\n",
    "    def mixed(self) # Represent the fraction in mixed terms\n",
    "\n",
    "\n",
    "    __eg__(self, other)  #Checks equality by overloading == \n",
    "\n",
    "\n",
    "    # Make handle errors and validatons\n",
    "\n",
    "\n",
    "\n",
    "        # def __init__(self, nominator, denominator):\n",
    "    #     if(not isinstance(numerator, int)):\n",
    "    #         raise TypeError(\"The numerator of a fraction must be an integer\")\n",
    "    #     if(not isinstance(denominator, int)):\n",
    "    #         raise TypeError(\"The number of a fraction must be an integer\")\n",
    "\n",
    "    #     if(denominator == 0):\n",
    "    #         raise ZeroDivisionError(\"The denominator of a fraction can't be zero\")\n",
    "        \n",
    "    #     if(nominator == 0):\n",
    "    #         this._nominator = 0\n",
    "    #         this._denominator = 1\n",
    "    #     else:\n",
    "    #         if(nominator < 0 and denominator >=0) or (nominator >= 0 and denominator <0 ):\n",
    "    #             sign -1:\n",
    "    #             else:\n",
    "    #                 sign 1\n",
    "\n"
   ]
  }
 ],
 "metadata": {
  "kernelspec": {
   "display_name": "Python 3.9.13 ('PythonSchool-iXQr8Z-p')",
   "language": "python",
   "name": "python3"
  },
  "language_info": {
   "codemirror_mode": {
    "name": "ipython",
    "version": 3
   },
   "file_extension": ".py",
   "mimetype": "text/x-python",
   "name": "python",
   "nbconvert_exporter": "python",
   "pygments_lexer": "ipython3",
   "version": "3.9.13"
  },
  "orig_nbformat": 4,
  "vscode": {
   "interpreter": {
    "hash": "ede0424b5117af074b0a15022a0db7920ce0c06d0370a7c1883de86effeccc15"
   }
  }
 },
 "nbformat": 4,
 "nbformat_minor": 2
}
