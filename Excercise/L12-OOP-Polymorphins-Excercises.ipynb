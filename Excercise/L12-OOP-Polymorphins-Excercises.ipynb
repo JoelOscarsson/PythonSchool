{
 "cells": [
  {
   "cell_type": "markdown",
   "metadata": {},
   "source": [
    "## 2. Fraction (**)\n",
    "Create a class called Frac to represent mathematical fractions. The class is instantiated with two instance variables: nominator and denominator. Objects instantiated from this class should have methods for addition, subtraction, multiplication, division using the operators +,-,*,/. Note that these implemented methods must be mathematically correct. Also implement the following methods:\n",
    "\n",
    "\n",
    "simplify(self, value = None) # simplifies to most simple form unless value is given \n",
    "\n",
    "__str__(self) # represent the fraction in a neat way for printing\n",
    "\n",
    "mixed(self) # represent the fraction in mixed terms \n",
    "\n",
    "__eq__(self, other) # checks equality by overloading ==\n",
    "Also remember to handle errors and validations.\n",
    "\n",
    "Example of tests that it should handled:\n",
    "\n",
    "- 1/2 + 1/3 = 5/6\n",
    "- 1/2 - 1/3 = 1/6\n",
    "- 7/6 --> 1 1/6 (mixed)\n",
    "- 3*1/2 = 3/2\n",
    "- 1/2 * 3 = 3/2\n",
    "- 1/4 + 2 = 9/4\n",
    "- 1/4 / 1/2 = 1/2\n",
    "- 2/4 == 1/2 --> True\n",
    "- 3/4 += 2 = 11/4\n",
    "\n"
   ]
  },
  {
   "cell_type": "code",
   "execution_count": 99,
   "metadata": {},
   "outputs": [
    {
     "name": "stdout",
     "output_type": "stream",
     "text": [
      "(15 / -3)\n"
     ]
    },
    {
     "data": {
      "text/plain": [
       "Frac(15, -3)"
      ]
     },
     "execution_count": 99,
     "metadata": {},
     "output_type": "execute_result"
    }
   ],
   "source": [
    "\n",
    "\"\"\" Operator\tDunder method\n",
    "+\t__add__(self,other)\n",
    "-\t__sub__(self,other)\n",
    "*\t__mul__(self,other)\n",
    "/\t__div__(self,other)\n",
    "//\t__floordiv__(self,other)\n",
    "%\t__mod__(self,other)\n",
    "**\t__pow__(self,other)\n",
    "<\t__lt__(self,other)\n",
    "<=\t__le__(self,other)\n",
    ">\t__gt__(self,other)\n",
    ">=\t__ge__(self,other)\n",
    "==\t__eq__(self,other) \"\"\"\n",
    "\n",
    "\n",
    "from __future__ import division\n",
    "\n",
    "class Frac:\n",
    "\n",
    "    def __init__(self, nominator: int, denominator: int) -> None:\n",
    "        self.nominator = nominator\n",
    "        self.denominator = denominator\n",
    "\n",
    "\n",
    "    def simplify(self, value = None):\n",
    "        \"\"\"Simplifies fractions\"\"\"\n",
    "        simplyfied_nominator = self.nominator\n",
    "        simplyfied_denominator = self.denominator\n",
    "        i = 2\n",
    "        while i < min(simplyfied_nominator, simplyfied_denominator) +1:\n",
    "            if simplyfied_nominator % i == 0 and simplyfied_denominator % i == 0:\n",
    "                simplyfied_nominator = simplyfied_nominator // i\n",
    "                simplyfied_denominator = simplyfied_denominator // i\n",
    "            else:\n",
    "                i += 1\n",
    "\n",
    "\n",
    "        if value != None:\n",
    "            if simplyfied_nominator % value != 0 or simplyfied_denominator % value != 0:\n",
    "                raise ValueError(f\"Both numbers cant be divided by {value}\")\n",
    "            else:\n",
    "                simplyfied_nominator = int(simplyfied_nominator / value)\n",
    "                simplyfied_denominator = int(simplyfied_denominator / value)\n",
    "\n",
    "        return f\"({simplyfied_nominator} / {simplyfied_denominator})\"\n",
    "\n",
    "\n",
    "    def __str__(self, top, bottom):\n",
    "        return (f\"The answer is ({self.nominator}/{self.denominator})\")\n",
    "\n",
    "\n",
    "\n",
    "    # Represent the fraction in mixed terms\n",
    "    def mixed(self):\n",
    "        pass\n",
    "\n",
    "\n",
    "    def __repr__(self):\n",
    "        return f\"Frac({self.nominator}, {self.denominator})\"  # För att andra utvecklare ska kunna se hur man skapar denna instansen\n",
    "\n",
    "myfraction = Frac(15, -3)\n",
    "print(myfraction.simplify())\n",
    "myfraction\n"
   ]
  },
  {
   "cell_type": "code",
   "execution_count": 59,
   "metadata": {},
   "outputs": [],
   "source": [
    "def hcf(a,b): # highest common defactor\n",
    "    if a == 0:\n",
    "        return b\n",
    "    else:\n",
    "        return hcf(b % a, a)\n"
   ]
  },
  {
   "cell_type": "code",
   "execution_count": 60,
   "metadata": {},
   "outputs": [
    {
     "data": {
      "text/plain": [
       "3"
      ]
     },
     "execution_count": 60,
     "metadata": {},
     "output_type": "execute_result"
    }
   ],
   "source": [
    "hcf(15,21)"
   ]
  },
  {
   "cell_type": "code",
   "execution_count": 81,
   "metadata": {},
   "outputs": [],
   "source": [
    "class Frac:\n",
    "\n",
    "    def __init__(self, nomi, denomi):\n",
    "        gcd = hcf(nomi, denomi) #Greatest common defactor # Highest common defactor\n",
    "        self.top = nomi/gcd\n",
    "        self.bottom = denomi/gcd\n",
    "    \n",
    "    def __str__(self):\n",
    "        if self.bottom == 1:\n",
    "            return str(self.top)\n",
    "        elif self.top > self.bottom:\n",
    "            return str(self.top//self.bottom) + str(Frac(self.top % self.bottom, self.bottom))\n",
    "        else:\n",
    "            return str(self.top) + \"/\" + str(self.bottom)\n",
    "    \n",
    "    \n",
    "    def double(self):\n",
    "        return Frac(2**self.top, self.bottom)\n",
    "\n",
    "    def multiply(self, n):\n",
    "        return Frac(n*self.top, self.bottom)\n",
    "\n",
    "    def __add__(self, other):\n",
    "        newtop = self.top * other.bottom + other.top * self.bottom\n",
    "        newbottom = self.bottom * other.bottom\n",
    "        return Frac(newtop, newbottom)\n",
    "    def __sub__(self):\n",
    "        pass\n",
    "\n",
    "    def __mul__(self, other):\n",
    "        newtop = self.top * other.top\n",
    "        newbottom = self.bottom * other.bottom\n",
    "        return Frac(newtop, newbottom)\n",
    "\n",
    "    def __truediv__(self, other):\n",
    "        pass\n",
    "\n",
    "    def __lt__(self,other):\n",
    "        return(self.top*other.bottom < other.top*self.bottom)\n",
    "    \n",
    "    def __gt__(self, other):\n",
    "        return(self.top*other.bottom > other.top*self.bottom)\n",
    "\n",
    "    def __eq__(self,other):\n",
    "        return(self.top*other.bottom == other.top*self.bottom)\n",
    "\n",
    "    def __le__(self,other):\n",
    "        return(self>other or self==other)\n",
    "\n",
    "    def __ge__(self,other):\n",
    "        return(self<other or self == other)\n",
    "\n"
   ]
  },
  {
   "cell_type": "code",
   "execution_count": 91,
   "metadata": {},
   "outputs": [
    {
     "name": "stdout",
     "output_type": "stream",
     "text": [
      "1.0/2.0\n",
      "1.0\n",
      "1.01.0/2.0\n",
      "1.01.0/2.0\n"
     ]
    },
    {
     "ename": "AttributeError",
     "evalue": "type object 'Frac' has no attribute 'bottom'",
     "output_type": "error",
     "traceback": [
      "\u001b[1;31m---------------------------------------------------------------------------\u001b[0m",
      "\u001b[1;31mAttributeError\u001b[0m                            Traceback (most recent call last)",
      "Cell \u001b[1;32mIn [91], line 13\u001b[0m\n\u001b[0;32m     11\u001b[0m \u001b[38;5;28mprint\u001b[39m(a\u001b[38;5;241m.\u001b[39mmultiply(\u001b[38;5;241m3\u001b[39m))\n\u001b[0;32m     12\u001b[0m \u001b[38;5;28mprint\u001b[39m(a\u001b[38;5;241m.\u001b[39mmultiply(\u001b[38;5;241m3\u001b[39m))\n\u001b[1;32m---> 13\u001b[0m \u001b[38;5;28mprint\u001b[39m(\u001b[43ma\u001b[49m\u001b[38;5;241;43m+\u001b[39;49m\u001b[43mFrac\u001b[49m)(\u001b[38;5;241m2\u001b[39m,\u001b[38;5;241m7\u001b[39m)\n\u001b[0;32m     14\u001b[0m \u001b[38;5;28mprint\u001b[39m(Frac(\u001b[38;5;241m1\u001b[39m,\u001b[38;5;241m2\u001b[39m)\u001b[38;5;241m*\u001b[39mFrac(\u001b[38;5;241m3\u001b[39m,\u001b[38;5;241m7\u001b[39m))\n",
      "Cell \u001b[1;32mIn [81], line 24\u001b[0m, in \u001b[0;36mFrac.__add__\u001b[1;34m(self, other)\u001b[0m\n\u001b[0;32m     23\u001b[0m \u001b[38;5;28;01mdef\u001b[39;00m \u001b[38;5;21m__add__\u001b[39m(\u001b[38;5;28mself\u001b[39m, other):\n\u001b[1;32m---> 24\u001b[0m     newtop \u001b[38;5;241m=\u001b[39m \u001b[38;5;28mself\u001b[39m\u001b[38;5;241m.\u001b[39mtop \u001b[38;5;241m*\u001b[39m \u001b[43mother\u001b[49m\u001b[38;5;241;43m.\u001b[39;49m\u001b[43mbottom\u001b[49m \u001b[38;5;241m+\u001b[39m other\u001b[38;5;241m.\u001b[39mtop \u001b[38;5;241m*\u001b[39m \u001b[38;5;28mself\u001b[39m\u001b[38;5;241m.\u001b[39mbottom\n\u001b[0;32m     25\u001b[0m     newbottom \u001b[38;5;241m=\u001b[39m \u001b[38;5;28mself\u001b[39m\u001b[38;5;241m.\u001b[39mbottom \u001b[38;5;241m*\u001b[39m other\u001b[38;5;241m.\u001b[39mbottom\n\u001b[0;32m     26\u001b[0m     \u001b[38;5;28;01mreturn\u001b[39;00m Frac(newtop, newbottom)\n",
      "\u001b[1;31mAttributeError\u001b[0m: type object 'Frac' has no attribute 'bottom'"
     ]
    }
   ],
   "source": [
    "\"\"\" - 1/2 + 1/3 = 5/6\n",
    "- 1/2 - 1/3 = 1/6\n",
    "- 3*1/2 = 3/2\n",
    "- 1/2 * 3 = 3/2\n",
    "- 1/4 + 2 = 9/4\n",
    "- 1/4 / 1/2 = 1/2 \"\"\"\n",
    "\n",
    "a = Frac(1,2)\n",
    "print(a)\n",
    "print(a.double())\n",
    "print(a.multiply(3))\n",
    "print(a.multiply(3))\n",
    "print(a+Frac)(2,7)\n",
    "print(Frac(1,2)*Frac(3,7))"
   ]
  },
  {
   "cell_type": "code",
   "execution_count": 73,
   "metadata": {},
   "outputs": [
    {
     "name": "stdout",
     "output_type": "stream",
     "text": [
      "1.01.0/4.0\n"
     ]
    }
   ],
   "source": [
    "print(Frac(3,4)+Frac(1,2))"
   ]
  },
  {
   "cell_type": "code",
   "execution_count": 87,
   "metadata": {},
   "outputs": [
    {
     "name": "stdout",
     "output_type": "stream",
     "text": [
      "False\n",
      "False\n",
      "True\n"
     ]
    }
   ],
   "source": [
    "\"\"\"\n",
    "- 2/4 == 1/2 --> True\n",
    "- 3/4 += 2 = 11/4 \"\"\"\n",
    "\n",
    "\n",
    "print(Frac(1,4) <= Frac (1,2))\n",
    "print(Frac(4,5) >= Frac(4,7))\n",
    "print(Frac(2,4) == Frac(1,2))\n",
    "\n",
    "\n"
   ]
  }
 ],
 "metadata": {
  "kernelspec": {
   "display_name": "Python 3.9.13 ('PythonSchool-iXQr8Z-p')",
   "language": "python",
   "name": "python3"
  },
  "language_info": {
   "codemirror_mode": {
    "name": "ipython",
    "version": 3
   },
   "file_extension": ".py",
   "mimetype": "text/x-python",
   "name": "python",
   "nbconvert_exporter": "python",
   "pygments_lexer": "ipython3",
   "version": "3.9.13"
  },
  "orig_nbformat": 4,
  "vscode": {
   "interpreter": {
    "hash": "ede0424b5117af074b0a15022a0db7920ce0c06d0370a7c1883de86effeccc15"
   }
  }
 },
 "nbformat": 4,
 "nbformat_minor": 2
}
