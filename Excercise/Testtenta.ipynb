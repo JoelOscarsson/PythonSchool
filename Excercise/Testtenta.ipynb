{
 "cells": [
  {
   "cell_type": "markdown",
   "metadata": {},
   "source": [
    "Uppgift 1 (3p)\n",
    "Förklara vad den här koden gör och vad som ritas ut:\n",
    "# Man importerar en modul plot för att kunna plotta ut\n",
    "1. import matplotlib.pyplot as plt\n",
    "2.\n",
    "    # Variabel = lista går igenom \n",
    "3. x = list(range(10))\n",
    "4. y = [i**2 for i in x]\n",
    "5. fig, ax = plt.figure(), plt.axes()\n",
    "6. ax.plot(x,y)\n",
    "7. ax.set(title=\"Plot\", xlabel=\"x\", ylabel=\"y\")"
   ]
  },
  {
   "cell_type": "markdown",
   "metadata": {},
   "source": [
    "Uppgift 2 (3p)\n",
    "Simulera 1000000 tärningskast och beräkna antalet ettor, tvåor, treor, fyror, femmor och sexor. Spara\n",
    "resultatet i en lämplig datastruktur.\n",
    "\n"
   ]
  },
  {
   "cell_type": "code",
   "execution_count": null,
   "metadata": {},
   "outputs": [],
   "source": [
    "import random as rnd\n",
    "rolls = [rnd.randint(1,6) for i in range(1000000)]\n",
    "\n",
    "dice_rolls = dict(\n",
    "    roll1 = rolls.count(1),\n",
    "    roll2 = rolls.count(2),\n",
    "    roll3 = rolls.count(3),\n",
    "    roll4 = rolls.count(4),\n",
    "    roll5 = rolls.count(5),\n",
    "    roll6 = rolls.count(6)\n",
    ")\n",
    "print(dice_rolls)\n"
   ]
  },
  {
   "cell_type": "markdown",
   "metadata": {},
   "source": [
    "Skriv en funktion som tar in en radie som inparameter och som returnerar volymen av en sfär. Volymen för en\n",
    "sfär är:\n",
    "volym = 4*pi*radie**3/3\n",
    "Låt användaren mata in ett tal och kör funktionen. Tänk på att ta med lämplig felhantering.\n"
   ]
  },
  {
   "cell_type": "code",
   "execution_count": 9,
   "metadata": {},
   "outputs": [
    {
     "ename": "NameError",
     "evalue": "name 'radius' is not defined",
     "output_type": "error",
     "traceback": [
      "\u001b[1;31m---------------------------------------------------------------------------\u001b[0m",
      "\u001b[1;31mNameError\u001b[0m                                 Traceback (most recent call last)",
      "Cell \u001b[1;32mIn [9], line 13\u001b[0m\n\u001b[0;32m     10\u001b[0m         \u001b[39mraise\u001b[39;00m \u001b[39mValueError\u001b[39;00m(\u001b[39mf\u001b[39m\u001b[39m\"\u001b[39m\u001b[39mRadius must be positive, not \u001b[39m\u001b[39m{\u001b[39;00mradie\u001b[39m}\u001b[39;00m\u001b[39m\"\u001b[39m)\n\u001b[0;32m     11\u001b[0m     \u001b[39mreturn\u001b[39;00m (\u001b[39m4\u001b[39m\u001b[39m*\u001b[39mpi\u001b[39m*\u001b[39mradie\u001b[39m*\u001b[39m\u001b[39m*\u001b[39m\u001b[39m3\u001b[39m)\u001b[39m/\u001b[39m\u001b[39m3\u001b[39m \u001b[39m#Tänk på prioritetsordningen\u001b[39;00m\n\u001b[1;32m---> 13\u001b[0m calc_volume(\u001b[39mfloat\u001b[39;49m(\u001b[39minput\u001b[39;49m(\u001b[39m\"\u001b[39;49m\u001b[39mEnter radie of sphere to calculate its volume\u001b[39;49m\u001b[39m\"\u001b[39;49m)))\n",
      "Cell \u001b[1;32mIn [9], line 7\u001b[0m, in \u001b[0;36mcalc_volume\u001b[1;34m(radie)\u001b[0m\n\u001b[0;32m      5\u001b[0m \u001b[39mdef\u001b[39;00m \u001b[39mcalc_volume\u001b[39m(radie: (\u001b[39mint\u001b[39m \u001b[39m|\u001b[39m \u001b[39mfloat\u001b[39m)) \u001b[39m-\u001b[39m\u001b[39m>\u001b[39m \u001b[39mfloat\u001b[39m:\n\u001b[0;32m      6\u001b[0m     \u001b[39m\"\"\"Calculates volume of sphere of a given radius\"\"\"\u001b[39;00m\n\u001b[1;32m----> 7\u001b[0m     \u001b[39mif\u001b[39;00m \u001b[39mnot\u001b[39;00m \u001b[39misinstance\u001b[39m(radius, (\u001b[39mint\u001b[39m, \u001b[39mfloat\u001b[39m)):\n\u001b[0;32m      8\u001b[0m         \u001b[39mraise\u001b[39;00m \u001b[39mTypeError\u001b[39;00m(\u001b[39mf\u001b[39m\u001b[39m\"\u001b[39m\u001b[39mRadius must be an int or float, not \u001b[39m\u001b[39m{\u001b[39;00m\u001b[39mtype\u001b[39m(value)\u001b[39m.\u001b[39m\u001b[39m__name__\u001b[39m\u001b[39m}\u001b[39;00m\u001b[39m\"\u001b[39m)\n\u001b[0;32m      9\u001b[0m     \u001b[39mif\u001b[39;00m radius \u001b[39m<\u001b[39m\u001b[39m=\u001b[39m \u001b[39m0\u001b[39m:\n",
      "\u001b[1;31mNameError\u001b[0m: name 'radius' is not defined"
     ]
    }
   ],
   "source": [
    "from __future__ import annotations # måste vara längst upp\n",
    "from math import pi\n",
    "\n",
    "def calc_sphere_volume(radius: (int | float)) -> float:\n",
    "    \"\"\"Calculates volume of sphere of a given radius\"\"\" # nice med docstring\n",
    "    if not isinstance(radius, (int, float)):\n",
    "        raise TypeError(f\"Radius must be int or float, not {type(radius).__name__}\") #.__name__ changes <class str> to str\n",
    "    if radius <= 0:\n",
    "        raise ValueError(f\"Radius must be positive, not {radius}\")\n",
    "    return (4*pi*radius**3) / 3\n",
    "\n",
    "\n",
    "while True:     # while är inte nödvändig\n",
    "    user_input = input(\"Enter radius of sphere to calculate its volume\")\n",
    "    try:\n",
    "        user_input = float(user_input)\n",
    "        calc_sphere_volume(user_input)\n",
    "        break   # måste ha break ifall vi har while\n",
    "    except TypeError as err:\n",
    "        print(err)\n",
    "    except ValueError as err:\n",
    "        print(err)"
   ]
  },
  {
   "cell_type": "markdown",
   "metadata": {},
   "source": [
    "Läs in en textfil som heter bamba.txt och innehåller:\n",
    "v42\n",
    "Chili sin carne\n",
    "Pannkakor\n",
    "Ärtsoppa\n",
    "Kebab\n",
    "Vegetarisk lasagne\n",
    "Läs in texterna och skriv ut dem i terminalen."
   ]
  },
  {
   "cell_type": "code",
   "execution_count": 10,
   "metadata": {},
   "outputs": [
    {
     "ename": "SyntaxError",
     "evalue": "invalid syntax (1338016440.py, line 1)",
     "output_type": "error",
     "traceback": [
      "\u001b[1;36m  Cell \u001b[1;32mIn [10], line 1\u001b[1;36m\u001b[0m\n\u001b[1;33m    with open(../data/bamba.txt, \"r\") as f_read:\u001b[0m\n\u001b[1;37m              ^\u001b[0m\n\u001b[1;31mSyntaxError\u001b[0m\u001b[1;31m:\u001b[0m invalid syntax\n"
     ]
    }
   ],
   "source": [
    "with open(../data/bamba.txt, \"r\") as f_read:\n",
    "    lines = f_read.read()\n",
    "\n",
    "for line in lines:\n",
    "    print(lines)"
   ]
  },
  {
   "cell_type": "code",
   "execution_count": null,
   "metadata": {},
   "outputs": [],
   "source": [
    "file_path = \"bamba.txt\"\n",
    "\n",
    "with open(file_path, \"r\") as read_file:\n",
    "    for lines in read_file:\n",
    "        print(lines, end=\"\")"
   ]
  },
  {
   "cell_type": "code",
   "execution_count": null,
   "metadata": {},
   "outputs": [],
   "source": [
    "with open (\"../Data/bamba.txt\", \"r\") as f:\n",
    "    lines = f.readlines()\n",
    "    \n",
    "weekdays = [\"\",\"mån\", \"tis\", \"ons\", \"tors\", \"fre\"]\n",
    "both = [weekdays, lines]\n",
    "\n",
    "for i in zip(*both):\n",
    "    print(*i)"
   ]
  },
  {
   "cell_type": "markdown",
   "metadata": {},
   "source": [
    "Uppgift 5 (3p)\n",
    "Skapa en funktion som tar in två punkter i 2D , och som returnerar tillbaka avståndet mellan\n",
    "dessa. Anropa därefter denna funktion för test\n",
    "Det finns en textfil som heter testpunkter.txt som ligger i undermappen testpoints och innehåller:\n",
    "Punkt 1, punkt 2\n",
    "(1,2), (0,0)\n",
    "(2,0), (3,5)\n",
    "...\n",
    "(-2,-2), (9,2)"
   ]
  },
  {
   "cell_type": "code",
   "execution_count": null,
   "metadata": {},
   "outputs": [],
   "source": [
    "from math import dist\n",
    "\n",
    "def distance_points()\n",
    "\n",
    "with open(\"testpoints/Testpoints.txt\") as f_read:\n",
    "    testpoints = f_read.readlines()\n",
    "    testpoints.pop(0)"
   ]
  },
  {
   "cell_type": "code",
   "execution_count": null,
   "metadata": {},
   "outputs": [],
   "source": [
    "from math import dist\n",
    "\n",
    "def calc_dist(p1, p2, q1, q2):\n",
    "    return dist((p1, p2), (q1, q2))\n",
    "\n",
    "with open(\"testpunkter.txt\", \"r\") as file_r:\n",
    "    clean = []\n",
    "    for index, row in enumerate(file_r):  #Index hämtar första 0 och row hämtarförsta raden.\n",
    "        if index != 0:  # \n",
    "            t = [float(i.strip(\"() \\n\")) for i in row.split(\",\")]  # t får första värdet, i.strip \n",
    "            clean.append(t)\n",
    "    print(clean)\n",
    "            \n",
    "for point in clean:\n",
    "    print(calc_dist(point[0], point[1], point[2], point[3]))"
   ]
  },
  {
   "cell_type": "code",
   "execution_count": 11,
   "metadata": {},
   "outputs": [
    {
     "ename": "FileNotFoundError",
     "evalue": "[Errno 2] No such file or directory: 'testpunkter.txt'",
     "output_type": "error",
     "traceback": [
      "\u001b[1;31m---------------------------------------------------------------------------\u001b[0m",
      "\u001b[1;31mFileNotFoundError\u001b[0m                         Traceback (most recent call last)",
      "Cell \u001b[1;32mIn [11], line 6\u001b[0m\n\u001b[0;32m      3\u001b[0m \u001b[39mdef\u001b[39;00m \u001b[39mcalc_dist\u001b[39m(p1, p2, q1, q2):\n\u001b[0;32m      4\u001b[0m     \u001b[39mreturn\u001b[39;00m dist((p1, p2), (q1, q2))\n\u001b[1;32m----> 6\u001b[0m \u001b[39mwith\u001b[39;00m \u001b[39mopen\u001b[39;49m(\u001b[39m\"\u001b[39;49m\u001b[39mtestpunkter.txt\u001b[39;49m\u001b[39m\"\u001b[39;49m, \u001b[39m\"\u001b[39;49m\u001b[39mr\u001b[39;49m\u001b[39m\"\u001b[39;49m) \u001b[39mas\u001b[39;00m file_r:\n\u001b[0;32m      7\u001b[0m     clean \u001b[39m=\u001b[39m []\n\u001b[0;32m      8\u001b[0m     \u001b[39mfor\u001b[39;00m index, row \u001b[39min\u001b[39;00m \u001b[39menumerate\u001b[39m(file_r):\n",
      "\u001b[1;31mFileNotFoundError\u001b[0m: [Errno 2] No such file or directory: 'testpunkter.txt'"
     ]
    }
   ],
   "source": [
    "from math import dist\n",
    "\n",
    "def calc_dist(p1, p2, q1, q2):\n",
    "    return dist((p1, p2), (q1, q2))\n",
    "\n",
    "with open(\"testpunkt/testpunkter.txt\", \"r\") as file_r:\n",
    "    clean = []\n",
    "    for index, row in enumerate(file_r):\n",
    "        if index != 0:\n",
    "            point = []\n",
    "            for i in row.split(\",\"):\n",
    "                t = i.strip(\"() \\n\")\n",
    "                t = float(t)\n",
    "                point.append(t)\n",
    "            clean.append(point)\n",
    "\n",
    "            #t = [float(i.strip(\"() \\n\")) for i in row.split(\",\")]\n",
    "            #clean.append(t)\n",
    "    print(clean)\n",
    "            \n",
    "for point in clean:\n",
    "    print(calc_dist(point[0], point[1], point[2], point[3]))"
   ]
  },
  {
   "cell_type": "markdown",
   "metadata": {},
   "source": [
    "Skapa en funktion som tar in ett heltal n som parameter och skriver ut följande mönstret nedan.\n",
    "Exempel när n = 5:\n",
    "\n",
    "x o o o o\n",
    "x x o o o\n",
    "x x x o o\n",
    "x x x x o\n",
    "x x x x x "
   ]
  },
  {
   "cell_type": "code",
   "execution_count": 13,
   "metadata": {},
   "outputs": [
    {
     "name": "stdout",
     "output_type": "stream",
     "text": [
      "x o o o o \n",
      "x x o o o \n",
      "x x x o o \n",
      "x x x x o \n",
      "x x x x x \n",
      "\n"
     ]
    }
   ],
   "source": [
    "def my_func(n: int) -> str:\n",
    "    print_string = \"\"\n",
    "    for i in range(n):\n",
    "        print_string += \"x \"* (i + 1) + \"o \" * (n - (i + 1)) + \"\\n\"\n",
    "    print(print_string)\n",
    "\n",
    "my_func(5)"
   ]
  },
  {
   "cell_type": "code",
   "execution_count": 12,
   "metadata": {},
   "outputs": [
    {
     "name": "stdout",
     "output_type": "stream",
     "text": [
      " 0  0  0  0  0  0 \n",
      "\n",
      " 0  1  2  3  4  5 \n",
      "\n",
      " 0  2  4  6  8 10 \n",
      "\n",
      " 0  3  6  9 12 15 \n",
      "\n",
      " 0  4  8 12 16 20 \n",
      "\n",
      " 0  5 10 15 20 25 \n",
      "\n"
     ]
    }
   ],
   "source": [
    "#Uppgift C)\n",
    "\n",
    "rows=5 # Multiplication table up to 10 \n",
    "columns=5 # column values \n",
    "for i in range(0,rows+1):\n",
    "    for j in range(0,columns+1):# inner for loop\n",
    "        c=i*j\n",
    "        print(\"{:2d} \".format(c),end='')\n",
    "    print(\"\\n\")  # line break"
   ]
  },
  {
   "cell_type": "markdown",
   "metadata": {},
   "source": [
    "Uppgift 6 (4p)\n",
    "Du har följande kod:\n",
    "class Animal:\n",
    " def __init__(self, name):\n",
    " self.name = name\n",
    " def __str__(self):\n",
    " return f\"Animal {self.name}\"\n",
    "class Dog(Animal):\n",
    " # notera att __init__ är nedärvd\n",
    " def __repr__(self):\n",
    " return f\"Dog: {self.name}\"\n",
    "class Fish(Animal):\n",
    " def __repr__(self):\n",
    " return f\"Fish: {self.name}\"\n",
    "#TODO: implementera PetOwner\n",
    "class PetOwner:\n",
    "# manuell test av PetOwner\n",
    "owner1 = PetOwner(\"Ada\",[\"Snoopy\", \"Pluto\"], [\"Fishy\", \"Buppy\"])\n",
    "owner2 = PetOwner(\"Beda\", [\"Barkly\"] )\n",
    "\n",
    "\n",
    "\n",
    "\n",
    "Ada owns:\n",
    "[Dog: Snoopy, Dog: Pluto]\n",
    "[Fish: Fishy, Fish: Buppy]\n",
    "Beda owns:\n",
    "[Dog: Barkly]"
   ]
  },
  {
   "cell_type": "code",
   "execution_count": null,
   "metadata": {},
   "outputs": [],
   "source": [
    "class Animal:\n",
    "    def __init__(self, name):\n",
    "        self.name = name\n",
    "    def __str__(self):\n",
    "        return f\"Animal {self.name}\"\n",
    "\n",
    "class Dog(Animal):\n",
    "    # notera att __init__ är nedärvd\n",
    "    def __repr__(self):\n",
    "        return f\"Dog: {self.name}\"\n",
    "\n",
    "class Fish(Animal):\n",
    "    def __repr__(self):\n",
    "        return f\"Fish: {self.name}\"\n",
    "\n",
    "#TODO: implementera PetOwner\n",
    "class PetOwner:\n",
    "    def __init__(self, name: str, dogs: list = None, fishes: list = None):\n",
    "        self.name = name\n",
    "        self.dogs = dogs\n",
    "        self.fishes = fishes\n",
    "    \n",
    "    @property\n",
    "    def name(self):\n",
    "        return self._name\n",
    "\n",
    "    @name.setter\n",
    "    def name(self, value):\n",
    "        # TODO only allow strings with a value\n",
    "        self._name = value\n",
    "    \n",
    "    @property\n",
    "    def dogs(self):\n",
    "        return self._dogs\n",
    "\n",
    "    @dogs.setter\n",
    "    def dogs(self, dog_names):\n",
    "        if type(dog_names) != list:\n",
    "            raise TypeError # message\n",
    "\n",
    "        temp_list = []\n",
    "        for name in dog_names:\n",
    "            if type(name) != str:\n",
    "                raise TypeError # message\n",
    "            if name.strip() == \"\":\n",
    "                raise ValueError # message\n",
    "            temp_list.append(Dog(name))\n",
    "        self._dogs = temp_list\n",
    "\n",
    "    @property\n",
    "    def fishes(self):\n",
    "        return self._fishes\n",
    "\n",
    "    @fishes.setter\n",
    "    def fishes(self, fish_names):\n",
    "        if type(fish_names) != list:\n",
    "            raise TypeError # message\n",
    "\n",
    "        temp_list = []\n",
    "        for name in fish_names:\n",
    "            if type(name) != str:\n",
    "                raise TypeError # message\n",
    "            if name.strip() == \"\":\n",
    "                raise ValueError # message\n",
    "            temp_list.append(Fish(name))\n",
    "        self._fishes = temp_list\n",
    "\n",
    "    def __str__(self):\n",
    "        print_string = f\"{self.name} owns:\"\n",
    "        print_string += f\"\\n{self.dogs}\"\n",
    "        print_string += f\"\\n{self.fishes}\"\n",
    "\n",
    "\n",
    "\n",
    "\n",
    "owner1 = PetOwner(\"Ada\",[\"Snoopy\", \"Pluto\"], [\"Fishy\", \"Buppy\"])\n",
    "owner2 = PetOwner(\"Beda\", [\"Barkly\"] )\n",
    "\n",
    "print(owner1)\n",
    "print(owner2)"
   ]
  }
 ],
 "metadata": {
  "kernelspec": {
   "display_name": "Python 3.9.13 ('PythonSchool-iXQr8Z-p')",
   "language": "python",
   "name": "python3"
  },
  "language_info": {
   "codemirror_mode": {
    "name": "ipython",
    "version": 3
   },
   "file_extension": ".py",
   "mimetype": "text/x-python",
   "name": "python",
   "nbconvert_exporter": "python",
   "pygments_lexer": "ipython3",
   "version": "3.9.13"
  },
  "orig_nbformat": 4,
  "vscode": {
   "interpreter": {
    "hash": "ede0424b5117af074b0a15022a0db7920ce0c06d0370a7c1883de86effeccc15"
   }
  }
 },
 "nbformat": 4,
 "nbformat_minor": 2
}
