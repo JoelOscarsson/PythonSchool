{
 "cells": [
  {
   "cell_type": "code",
   "execution_count": null,
   "metadata": {},
   "outputs": [],
   "source": [
    "Create a dict\n",
    "person = dict(   #dict är keyword för att skapa ett dictionary\n",
    "    name=\"Joel\",\n",
    "    age=31,\n",
    "    work=\"Ai teacher\",\n",
    "    interests=[\"math\", \"yoga\", \"gardening\", \"programmering\", \"walking\"],\n",
    ")"
   ]
  }
 ],
 "metadata": {
  "kernelspec": {
   "display_name": "Python 3.9.13 ('PythonSchool-iXQr8Z-p')",
   "language": "python",
   "name": "python3"
  },
  "language_info": {
   "name": "python",
   "version": "3.9.13"
  },
  "orig_nbformat": 4,
  "vscode": {
   "interpreter": {
    "hash": "ede0424b5117af074b0a15022a0db7920ce0c06d0370a7c1883de86effeccc15"
   }
  }
 },
 "nbformat": 4,
 "nbformat_minor": 2
}
