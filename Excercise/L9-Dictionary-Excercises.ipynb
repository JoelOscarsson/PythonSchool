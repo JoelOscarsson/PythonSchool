{
 "cells": [
  {
   "cell_type": "code",
   "execution_count": null,
   "metadata": {},
   "outputs": [],
   "source": [
    "# Create a dict\n",
    "person = dict(   #dict är keyword för att skapa ett dictionary\n",
    "    name=\"Joel\",\n",
    "    age=31,\n",
    "    work=\"Ai teacher\",\n",
    "    interests=[\"math\", \"yoga\", \"gardening\", \"programmering\", \"walking\"],\n",
    ")"
   ]
  },
  {
   "cell_type": "markdown",
   "metadata": {},
   "source": [
    "## 1. Curriculum (*)\n",
    "Create a dictionary containing all the courses that you will study in this program, with the course names as keys and the amount of points as value. Then calculate the number of points that you will study in total. (*)"
   ]
  },
  {
   "cell_type": "code",
   "execution_count": null,
   "metadata": {},
   "outputs": [],
   "source": [
    "# Creating a dictonary\n",
    "# F < 10, E: 10, D: 20, C: 30, B: 40, A: 50\n",
    "# python < 40, databehandling: < 25, linjär_algebra: < 20, databaser: < 25, maskininlärning: < 35, djupinlärning: < 40, statistik: < 30\n",
    "\n",
    "courses = dict(\n",
    "    course = [\"python\", \"databehandling\", \"linjär_algebra\", \"databaser\", \"maskininlärning\", \"djupinlärning\", \"statistik\"]\n",
    "    value = [ ]\n",
    "    \n",
    "\n",
    "\n",
    ")"
   ]
  }
 ],
 "metadata": {
  "kernelspec": {
   "display_name": "Python 3.9.13 ('PythonSchool-iXQr8Z-p')",
   "language": "python",
   "name": "python3"
  },
  "language_info": {
   "name": "python",
   "version": "3.9.13"
  },
  "orig_nbformat": 4,
  "vscode": {
   "interpreter": {
    "hash": "ede0424b5117af074b0a15022a0db7920ce0c06d0370a7c1883de86effeccc15"
   }
  }
 },
 "nbformat": 4,
 "nbformat_minor": 2
}
