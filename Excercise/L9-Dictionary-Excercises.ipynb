{
 "cells": [
  {
   "cell_type": "markdown",
   "metadata": {},
   "source": [
    "## 1. Curriculum (*)\n",
    "Create a dictionary containing all the courses that you will study in this program, with the course names as keys and the amount of points as value. Then calculate the number of points that you will study in total. (*)"
   ]
  },
  {
   "cell_type": "code",
   "execution_count": 87,
   "metadata": {},
   "outputs": [
    {
     "ename": "TypeError",
     "evalue": "'dict' object is not callable",
     "output_type": "error",
     "traceback": [
      "\u001b[1;31m---------------------------------------------------------------------------\u001b[0m",
      "\u001b[1;31mTypeError\u001b[0m                                 Traceback (most recent call last)",
      "Cell \u001b[1;32mIn [87], line 17\u001b[0m\n\u001b[0;32m     15\u001b[0m \u001b[38;5;28;01mfor\u001b[39;00m key, values \u001b[38;5;129;01min\u001b[39;00m courses\u001b[38;5;241m.\u001b[39mitems():   \n\u001b[0;32m     16\u001b[0m     total_points \u001b[38;5;241m+\u001b[39m\u001b[38;5;241m=\u001b[39m values\n\u001b[1;32m---> 17\u001b[0m \u001b[38;5;28;43mprint\u001b[39;49m\u001b[43m(\u001b[49m\u001b[43mtotal_points\u001b[49m\u001b[43m)\u001b[49m\n",
      "\u001b[1;31mTypeError\u001b[0m: 'dict' object is not callable"
     ]
    }
   ],
   "source": [
    "# Creating a dictonary\n",
    "# python < 40, databehandling: < 25, linjär_algebra: < 20, databaser: < 25, maskininlärning: < 35, djupinlärning: < 40, statistik: < 30\n",
    "\n",
    "courses = dict(\n",
    "    python = 40,\n",
    "    databehandling = 25,\n",
    "    linjär_algebra = 20,\n",
    "    databaser = 25,\n",
    "    maskininlärning = 35,\n",
    "    djupinlärning = 40,\n",
    "    statistiska_metoder = 30,\n",
    ")\n",
    "\n",
    "total_points = 0    # Skapar denna eftersom vi vill få reda på totala poängen. \n",
    "for key, values in courses.items():   \n",
    "    total_points += values\n",
    "print(total_points)"
   ]
  }
 ],
 "metadata": {
  "kernelspec": {
   "display_name": "Python 3.9.13 ('PythonSchool-iXQr8Z-p')",
   "language": "python",
   "name": "python3"
  },
  "language_info": {
   "codemirror_mode": {
    "name": "ipython",
    "version": 3
   },
   "file_extension": ".py",
   "mimetype": "text/x-python",
   "name": "python",
   "nbconvert_exporter": "python",
   "pygments_lexer": "ipython3",
   "version": "3.9.13"
  },
  "orig_nbformat": 4,
  "vscode": {
   "interpreter": {
    "hash": "ede0424b5117af074b0a15022a0db7920ce0c06d0370a7c1883de86effeccc15"
   }
  }
 },
 "nbformat": 4,
 "nbformat_minor": 2
}
