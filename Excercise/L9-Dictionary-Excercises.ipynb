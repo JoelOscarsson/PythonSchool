{
 "cells": [
  {
   "cell_type": "markdown",
   "metadata": {},
   "source": [
    "## 1. Curriculum (*)\n",
    "Create a dictionary containing all the courses that you will study in this program, with the course names as keys and the amount of points as value. Then calculate the number of points that you will study in total. (*)"
   ]
  },
  {
   "cell_type": "code",
   "execution_count": 2,
   "metadata": {},
   "outputs": [
    {
     "name": "stdout",
     "output_type": "stream",
     "text": [
      "Antal poäng i kurserna du ska läsa är 215 poäng\n"
     ]
    }
   ],
   "source": [
    "# Creating a dictonary\n",
    "# python < 40, databehandling: < 25, linjär_algebra: < 20, databaser: < 25, maskininlärning: < 35, djupinlärning: < 40, statistik: < 30\n",
    "\n",
    "courses = dict(\n",
    "    python = 40,\n",
    "    databehandling = 25,\n",
    "    linjär_algebra = 20,\n",
    "    databaser = 25,\n",
    "    maskininlärning = 35,\n",
    "    djupinlärning = 40,\n",
    "    statistiska_metoder = 30,\n",
    ")\n",
    "\n",
    "total_points = 0    # Skapar denna eftersom vi vill få reda på totala poängen. \n",
    "for key, values in courses.items():   \n",
    "    total_points += values\n",
    "print(f\"Antal poäng i kurserna du ska läsa är {total_points} poäng\")\n"
   ]
  },
  {
   "cell_type": "markdown",
   "metadata": {},
   "source": [
    "## 2. Dice simulation (*)\n",
    "Simulate 1000000 dice rolls and save the number of ones, twos, ..., sixes in a dictionary. Then print them out in the terminal. (*)"
   ]
  },
  {
   "cell_type": "code",
   "execution_count": 15,
   "metadata": {},
   "outputs": [
    {
     "name": "stdout",
     "output_type": "stream",
     "text": [
      "Antal ggr 1 tärningen slagits 166778\n",
      "Antal ggr 2 tärningen slagits 166228\n",
      "Antal ggr 3 tärningen slagits 167000\n",
      "Antal ggr 4 tärningen slagits 166557\n",
      "Antal ggr 5 tärningen slagits 166119\n",
      "Antal ggr 6 tärningen slagits 167318\n",
      "6 Är det vanligaste resultatet för tärningen\n"
     ]
    }
   ],
   "source": [
    "import random\n",
    "# Skapar hur många ggr tärningen ska slås och hur många sidor tärningen har.\n",
    "num_rolls = 1000000\n",
    "dice_sides = 6\n",
    "\n",
    "# Skapar en tom dictionary för att spara resultaten av varje slag från tärningen\n",
    "rolls = {}\n",
    "\n",
    "# For loop för att börja slå tärningen x antal ggr\n",
    "for r in range(num_rolls):\n",
    "    result = random.randint(1, dice_sides)\n",
    "    if result in rolls:\n",
    "        # Lägger till en i listan dictionaries\n",
    "        rolls[result] += 1\n",
    "    else:\n",
    "        # Spara första resultat för detta nummer\n",
    "        rolls[result] = 1\n",
    "\n",
    "# printa hur många ggr varje slag har blivit rullat\n",
    "\n",
    "for result in range(1,7):  #tärningen sidor därför rangen\n",
    "    print(f\"Antal ggr\", str(result), \"tärningen slagits\", str(rolls[result]))\n",
    "\n",
    "## Vilket nummer som slagits mest av tärningen\n",
    "# max(iterable, *[, key, default])  Metoden get()returnerar objektets värde med den angivna nyckeln.\n",
    "print(str(max(rolls, key=rolls.get)), \"Är det vanligaste resultatet för tärningen\")"
   ]
  },
  {
   "cell_type": "markdown",
   "metadata": {},
   "source": [
    "## 3. Pokemon list (*)\n",
    "Read in the file pokemon_list.txt in Python. Create a variable with name pokedex with the key:value \"pokemon\":\"type, index\". For example when searching for the keys \"Gengar\" and \"Pikachu\": (*)"
   ]
  },
  {
   "cell_type": "code",
   "execution_count": 2,
   "metadata": {},
   "outputs": [
    {
     "name": "stdout",
     "output_type": "stream",
     "text": [
      "print(pokedex[\"Gengar\"])\n",
      "print(pokedex[\"Pikachu\"])\n",
      "\n",
      "SpÃ¶ke/Gift, 94\n",
      "Elektrisk, 25\n"
     ]
    }
   ],
   "source": [
    "#  ../ hoppar uppåt\n",
    "path = \"pokemon_list_excercise/pokemon_list.txt\"     ## Man kan spara pathen som en variablel. absolut lättare än att spara efter open på raden nedanför\n",
    "\n",
    "with open(path, \"r\") as f:   # Öppnar filen\n",
    "    text = f.read()\n",
    "\n",
    "print(text)"
   ]
  }
 ],
 "metadata": {
  "kernelspec": {
   "display_name": "Python 3.9.13 ('PythonSchool-iXQr8Z-p')",
   "language": "python",
   "name": "python3"
  },
  "language_info": {
   "codemirror_mode": {
    "name": "ipython",
    "version": 3
   },
   "file_extension": ".py",
   "mimetype": "text/x-python",
   "name": "python",
   "nbconvert_exporter": "python",
   "pygments_lexer": "ipython3",
   "version": "3.9.13"
  },
  "orig_nbformat": 4,
  "vscode": {
   "interpreter": {
    "hash": "ede0424b5117af074b0a15022a0db7920ce0c06d0370a7c1883de86effeccc15"
   }
  }
 },
 "nbformat": 4,
 "nbformat_minor": 2
}
