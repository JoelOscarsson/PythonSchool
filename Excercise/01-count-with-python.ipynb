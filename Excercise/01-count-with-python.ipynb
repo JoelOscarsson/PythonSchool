{
 "cells": [
  {
   "cell_type": "markdown",
   "metadata": {},
   "source": [
    "## Check sign (*)\n",
    "Ask the user to input a number and check if this number is positive, negative or zero and print it out."
   ]
  },
  {
   "cell_type": "code",
   "execution_count": 3,
   "metadata": {},
   "outputs": [
    {
     "name": "stdout",
     "output_type": "stream",
     "text": [
      "Zero\n"
     ]
    }
   ],
   "source": [
    "number = float(input(\"Enter a number: \"))\n",
    "if number > 0:\n",
    "   print(\"Positive number\")\n",
    "elif number == 0:\n",
    "   print(\"Zero\")\n",
    "else:\n",
    "   print(\"Negative number\")"
   ]
  },
  {
   "cell_type": "markdown",
   "metadata": {},
   "source": [
    "## Smallest (*)\n",
    "Ask the user to input two numbers and check which one is the smallest and print it out."
   ]
  },
  {
   "cell_type": "code",
   "execution_count": 40,
   "metadata": {},
   "outputs": [
    {
     "name": "stdout",
     "output_type": "stream",
     "text": [
      "The smallest number is 50\n"
     ]
    }
   ],
   "source": [
    "number1 = input(\"Enter first number\")\n",
    "number2 = input(\"Enter second number\")\n",
    "\n",
    "if number1 < number2:\n",
    "    print(\"The smallest number is\", number1)\n",
    "else:\n",
    "    print(\"The smallest number is\", number2)\n"
   ]
  },
  {
   "cell_type": "markdown",
   "metadata": {},
   "source": [
    "## Right angle (*)\n",
    "Ask the user to input three angles and check if the triangle has a right angle. Your code should make sure that all three angles are valid and make up a triangle."
   ]
  },
  {
   "cell_type": "code",
   "execution_count": 58,
   "metadata": {},
   "outputs": [
    {
     "name": "stdout",
     "output_type": "stream",
     "text": [
      "Sum is 270. Triangle need to be 180. Try again.\n"
     ]
    }
   ],
   "source": [
    "angle_1 = int(input(\"Input three angles in this triangle, this is the first\"))\n",
    "angle_2 = int(input(\"Input second angle\"))\n",
    "angle_3 = int(input(\"Input third angle\"))\n",
    "\n",
    "formula = angle_1 + angle_2 + angle_3\n",
    "\n",
    "if formula != 180:\n",
    "    print(f\"Sum is {formula}. Triangle need to be 180. Try again.\")\n",
    "else:\n",
    "    print(\"Triangle \", end='') \n",
    "    if angle_1 == 90 or angle_2 == 90 or angle_3 == 90:\n",
    "        print(\"is right angled.\")\n",
    "    else:\n",
    "        print(\"is right angled.\")\n",
    "    print(f\"Sum of triangle is {formula}.\") \n",
    "## 3 angles !> 180 "
   ]
  },
  {
   "cell_type": "markdown",
   "metadata": {},
   "source": [
    "\n",
    "## Medicine (*)\n",
    "The information in the following table is stated in a medicine package. Also it is stated that for children weight is more important than age.\n",
    "\n",
    "Age\tNumber of pills\n",
    "Adults & adolescent\n",
    "over 40 kg\tover 12 years\t1-2\n",
    "Children 26-40 kg\t7-12 years\t1/2-1\n",
    "Children 15-25 kg\t3-7 years\t1/2\n",
    "Let the user input an age and a weight, the program should recommend the number of pills for the user."
   ]
  },
  {
   "cell_type": "code",
   "execution_count": 79,
   "metadata": {},
   "outputs": [
    {
     "name": "stdout",
     "output_type": "stream",
     "text": [
      "You need 1-2 pills daily\n"
     ]
    }
   ],
   "source": [
    "weight = int(input(\"Enter your weight(KG)\"))\n",
    "age = input(\"Enter your age\")\n",
    "\n",
    "if weight in range(15,25):\n",
    "    print(\"You need 0.5 pills\")\n",
    "\n",
    "elif weight in range(26,40):\n",
    "    print(\"0,5 to 1 pills daily\")\n",
    "\n",
    "else:\n",
    "    weight in range(40,400)\n",
    "print(\"You need 1-2 pills daily\")\n"
   ]
  },
  {
   "cell_type": "markdown",
   "metadata": {},
   "source": [
    "\n",
    "## Divisible (*)\n",
    "Let the user input a number. Check if the number is\n",
    "\n",
    "1. even or odd\n",
    "2. is divisible by 5\n",
    "3. is divisble by 5 and odd"
   ]
  },
  {
   "cell_type": "code",
   "execution_count": 85,
   "metadata": {},
   "outputs": [
    {
     "name": "stdout",
     "output_type": "stream",
     "text": [
      "100 divisible by 5\n",
      "Even number\n"
     ]
    }
   ],
   "source": [
    "number = int(input(\"Enter a number\"))\n",
    "\n",
    "if number % 5 ==0:\n",
    "    print(f\"{number} divisible by 5\")\n",
    "    if number % 2 ==0:\n",
    "        print(\"Even number\")\n",
    "    else:\n",
    "        print(\"Odd number\")\n",
    "else:\n",
    "    print(\"Not divisble by 5\")\n"
   ]
  },
  {
   "cell_type": "markdown",
   "metadata": {},
   "source": [
    "\n",
    "## Luggage size (*)\n",
    "The maximum allowed luggage size for boarding an airplane is:\n",
    "\n",
    "weight: 8kg\n",
    "dimensions: 55x40x23cm (length x width x height)\n",
    "Let the user input weight, length, width and height of the luggage. The program should check if the luggage is allowed or not."
   ]
  },
  {
   "cell_type": "code",
   "execution_count": 119,
   "metadata": {},
   "outputs": [
    {
     "name": "stdout",
     "output_type": "stream",
     "text": [
      "Your bag works\n"
     ]
    }
   ],
   "source": [
    "##Variables w = weight l = length wi = width h = height\n",
    "\n",
    "w = int(input(\"Type the weight\"))\n",
    "l = int(input(\"Type the length\"))\n",
    "wi = int(input(\"Type the widhth of the bag\"))\n",
    "h = int(input(\"Type the height of the bag\"))\n",
    "\n",
    "if w <= 8 and l <= 55 and wi <= 40 and h <= 23:\n",
    "    print(\"Your bag works\")\n",
    "elif w > 8:\n",
    "    print(\"Your bag is to heavy\")\n",
    "elif l > 55:\n",
    "    print(\"Your bag is too long\")\n",
    "elif wi > 40:\n",
    "    print(\"Your bag is to wide\")\n",
    "elif h > 23:\n",
    "    print(\"Your bag is to high\")\n",
    "else:\n",
    "    print(\"Your bag works\")"
   ]
  }
 ],
 "metadata": {
  "kernelspec": {
   "display_name": "Python 3.9.13 64-bit",
   "language": "python",
   "name": "python3"
  },
  "language_info": {
   "codemirror_mode": {
    "name": "ipython",
    "version": 3
   },
   "file_extension": ".py",
   "mimetype": "text/x-python",
   "name": "python",
   "nbconvert_exporter": "python",
   "pygments_lexer": "ipython3",
   "version": "3.9.13"
  },
  "orig_nbformat": 4,
  "vscode": {
   "interpreter": {
    "hash": "958a9210e5eed5eb21a37baf529fded8d3cf9f5344114e9547bddde819fb25fe"
   }
  }
 },
 "nbformat": 4,
 "nbformat_minor": 2
}
