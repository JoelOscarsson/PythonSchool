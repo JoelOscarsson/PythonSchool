{
 "cells": [
  {
   "cell_type": "markdown",
   "metadata": {},
   "source": [
    "## Strings\n",
    "Counting letters (*)\n",
    "Let the user input a word:\n",
    "\n",
    "  a)   print out the number of letters in the word. (*)\n",
    "\n",
    "  b)   print out the number of uppercase and lowercase letters of the word (*)"
   ]
  },
  {
   "cell_type": "code",
   "execution_count": 46,
   "metadata": {},
   "outputs": [
    {
     "name": "stdout",
     "output_type": "stream",
     "text": [
      "Ordets längd är: 3\n"
     ]
    }
   ],
   "source": [
    "#A)\n",
    "\n",
    "# Creating a user input where you type in a word and it gets stored in variable string\n",
    "input_letters = input(\"Lägg till ett ord i listan\")\n",
    " # counter variable to count the character in a string\n",
    "counter = 0\n",
    "\n",
    "for i in input_letters:\n",
    "        counter += 1\n",
    "# Counter variable to count the characters in a string\n",
    "print(\"Ordets längd är:\", counter)\n"
   ]
  },
  {
   "cell_type": "code",
   "execution_count": 25,
   "metadata": {},
   "outputs": [
    {
     "name": "stdout",
     "output_type": "stream",
     "text": [
      "Ordets längd är: 3\n",
      "Stora bokstäver:  3\n"
     ]
    }
   ],
   "source": [
    "# B)\n",
    "\n",
    "input_letters = input(\"Lägg till ett ord i listan\")\n",
    " # counter variable to count the character in a string\n",
    "counter = 0\n",
    "upper_cases = 0\n",
    "lower_cases = 0\n",
    "# To get upper letters i add one more for loop because i have to store the new list somewhere\n",
    "for upper in range(upper_cases):\n",
    "        upper_cases += 1\n",
    "for i in input_letters:\n",
    "        counter += 1\n",
    "# Counter variable to count the characters in a string\n",
    "print(\"Ordets längd är:\", counter)\n",
    "print(\"Stora bokstäver: \", sum(1 for upper in input_letters if upper.isupper()))"
   ]
  },
  {
   "cell_type": "code",
   "execution_count": 27,
   "metadata": {},
   "outputs": [
    {
     "name": "stdout",
     "output_type": "stream",
     "text": [
      "Ordets längd är: 3\n",
      "Stora bokstäver:  1\n",
      "Små bokstäver:  2\n"
     ]
    }
   ],
   "source": [
    "input_letters = input(\"Lägg till ett ord i listan\")\n",
    " # counter variable to count the character in a string\n",
    "counter = 0\n",
    "upper_cases = 0\n",
    "lower_cases = 0\n",
    "\n",
    "for lower in range(lower_cases):\n",
    "        lower_cases += 1\n",
    "# To get upper letters i add one more for loop because i have to store the new list somewhere\n",
    "for upper in range(upper_cases):\n",
    "        upper_cases += 1\n",
    "for i in input_letters:\n",
    "        counter += 1\n",
    "# Counter variable to count the characters in a string\n",
    "print(\"Ordets längd är:\", counter)\n",
    "print(\"Stora bokstäver: \", sum(1 for upper in input_letters if upper.isupper()))\n",
    "print(\"Små bokstäver: \", sum(1 for lower in input_letters if lower.islower()))\n"
   ]
  },
  {
   "cell_type": "markdown",
   "metadata": {},
   "source": [
    "## Counting words \n",
    "Count the numbers of words in this sentence: \"A picture says more than a thousand words, a matematical formula says more than a thousand pictures.\"\n",
    "\n"
   ]
  },
  {
   "cell_type": "code",
   "execution_count": 33,
   "metadata": {},
   "outputs": [
    {
     "name": "stdout",
     "output_type": "stream",
     "text": [
      "Det var 17 ord i den meningen\n"
     ]
    }
   ],
   "source": [
    "# Påbörjat strängen\n",
    "words = \"A picture says more than a thousand words, a matematical formula says more than a thousand pictures.\"\n",
    "\n",
    "# \n",
    "word_count = len(words.split())\n",
    "\n",
    "print(\"Det var \" + str(word_count) + \" ord i den meningen\")\n",
    "\n",
    "\n",
    "# initialize string\n",
    "text = 'The quick brown fox jumps over the lazy dog'\n",
    "\n",
    "# default separator: space\n",
    "result = len(text.split())\n",
    "\n",
    "print(\"There are \" + str(result) + \" words.\")"
   ]
  },
  {
   "cell_type": "markdown",
   "metadata": {},
   "source": [
    "## Palindrome (*)\n",
    "A palindrome is a sequence of characters that is the same, when read forward as backwards (ignoring spaces). For example:\n",
    "\n",
    "- \"Anna\" is a palindrome\n",
    "- \"Ni talar bra latin\"\n",
    "- bjkjb\n",
    "\n",
    "\n",
    "Let the user input a sequence of characters and check if it is a palindrome. (*)"
   ]
  },
  {
   "cell_type": "code",
   "execution_count": 96,
   "metadata": {},
   "outputs": [
    {
     "name": "stdout",
     "output_type": "stream",
     "text": [
      "nitalarbralatin\n",
      " Är ett palindrom\n"
     ]
    }
   ],
   "source": [
    "user = input(\"skriv ett ord eller mening \")\n",
    "user = user.lower() # Gör alla bokstäver från user inputen till små bokstäver så att den kan ignorerar ifall du skriver med stora bokstäver\n",
    "user = user.replace(\" \", \"\") # Byter alla mellanrum med inte mellanrum\n",
    "\n",
    "if user == user[::-1]:\n",
    "    print(f\"{user}\\n Är ett palindrom\")\n",
    "else:\n",
    "    print(\"Är inte en palindrom\")"
   ]
  },
  {
   "cell_type": "markdown",
   "metadata": {},
   "source": [
    "## Vowels (**)\n",
    "\n",
    "Count the number of vowels in this sentence: \"Pure mathematics is, in its way, the poetry of logical ideas\""
   ]
  },
  {
   "cell_type": "code",
   "execution_count": 128,
   "metadata": {},
   "outputs": [
    {
     "name": "stdout",
     "output_type": "stream",
     "text": [
      "22\n"
     ]
    }
   ],
   "source": [
    "# variabeln och stringen\n",
    "\n",
    "mening = \"Pure mathematics is, in its way, the poetry of logical ideas\"\n",
    "\n",
    "# Ta reda på bokstäver genom att returna och findall (bokstäverna) och blocket mening\n",
    "bokstäver = len(re.findall(r\"[aAeEiIoOuUyYäÄöÖ]\", mening))\n",
    "\n",
    "print(f\"{bokstäver}\")"
   ]
  },
  {
   "cell_type": "code",
   "execution_count": 139,
   "metadata": {},
   "outputs": [
    {
     "name": "stdout",
     "output_type": "stream",
     "text": [
      "Det är 22 vokaler i meningen\n"
     ]
    }
   ],
   "source": [
    "# Använda sig utav en for for loop med if sats\n",
    "\n",
    "# ställer upp meningen\n",
    "mening = \"Pure mathematics is, in its way, the poetry of logical ideas\"\n",
    "# Lägger till en tom lista\n",
    "bokstäver = []\n",
    "# Lägger in alla vowels\n",
    "vowels = \"aouåeiyäö\"\n",
    "\n",
    "# Loopar först igenom mening för att läsa av meningen\n",
    "for bokstav in mening:\n",
    "    # Loopar sedan igenom vowels\n",
    "    for vowel in vowels:\n",
    "        # Om bokstav är lika med vowel så adderas vi in en i listan \n",
    "        if bokstav == vowel:\n",
    "            bokstäver.append(bokstav)\n",
    "  # Printar i en funktion. len() lämnar tillbaka bokstäverna i objektet          \n",
    "print(f\"Det är {len(bokstäver)} vokaler i meningen\")"
   ]
  },
  {
   "cell_type": "markdown",
   "metadata": {},
   "source": [
    " ## Encryption (**)\n",
    "Let the user input a word and:\n",
    "\n",
    "  a)   encrypt the message by replacing each letter with the next letter. If the letter is in the end of the alphabet, use the first letter instead.\n",
    "\n",
    "e.g. in Swedish: \"höst\"  →  \"iatu\"\n",
    "\n",
    "  b)   decrypt the message\n",
    "\n",
    "  c)   let the user choose either encryption or decryption."
   ]
  }
 ],
 "metadata": {
  "kernelspec": {
   "display_name": "Python 3.9.13 ('PythonSchool-iXQr8Z-p')",
   "language": "python",
   "name": "python3"
  },
  "language_info": {
   "codemirror_mode": {
    "name": "ipython",
    "version": 3
   },
   "file_extension": ".py",
   "mimetype": "text/x-python",
   "name": "python",
   "nbconvert_exporter": "python",
   "pygments_lexer": "ipython3",
   "version": "3.9.13"
  },
  "orig_nbformat": 4,
  "vscode": {
   "interpreter": {
    "hash": "ede0424b5117af074b0a15022a0db7920ce0c06d0370a7c1883de86effeccc15"
   }
  }
 },
 "nbformat": 4,
 "nbformat_minor": 2
}
