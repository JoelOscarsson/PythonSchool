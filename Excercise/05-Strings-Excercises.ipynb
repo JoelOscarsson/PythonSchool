{
 "cells": [
  {
   "cell_type": "markdown",
   "metadata": {},
   "source": [
    "## Strings\n",
    "Counting letters (*)\n",
    "Let the user input a word:\n",
    "\n",
    "  a)   print out the number of letters in the word. (*)\n",
    "\n",
    "  b)   print out the number of uppercase and lowercase letters of the word (*)"
   ]
  },
  {
   "cell_type": "code",
   "execution_count": 46,
   "metadata": {},
   "outputs": [
    {
     "name": "stdout",
     "output_type": "stream",
     "text": [
      "Ordets längd är: 3\n"
     ]
    }
   ],
   "source": [
    "#A)\n",
    "\n",
    "# Creating a user input where you type in a word and it gets stored in variable string\n",
    "input_letters = input(\"Lägg till ett ord i listan\")\n",
    " # counter variable to count the character in a string\n",
    "counter = 0\n",
    "\n",
    "for i in input_letters:\n",
    "        counter += 1\n",
    "# Counter variable to count the characters in a string\n",
    "print(\"Ordets längd är:\", counter)\n"
   ]
  },
  {
   "cell_type": "code",
   "execution_count": 25,
   "metadata": {},
   "outputs": [
    {
     "name": "stdout",
     "output_type": "stream",
     "text": [
      "Ordets längd är: 3\n",
      "Stora bokstäver:  3\n"
     ]
    }
   ],
   "source": [
    "# B)\n",
    "\n",
    "input_letters = input(\"Lägg till ett ord i listan\")\n",
    " # counter variable to count the character in a string\n",
    "counter = 0\n",
    "upper_cases = 0\n",
    "lower_cases = 0\n",
    "# To get upper letters i add one more for loop because i have to store the new list somewhere\n",
    "for upper in range(upper_cases):\n",
    "        upper_cases += 1\n",
    "for i in input_letters:\n",
    "        counter += 1\n",
    "# Counter variable to count the characters in a string\n",
    "print(\"Ordets längd är:\", counter)\n",
    "print(\"Stora bokstäver: \", sum(1 for upper in input_letters if upper.isupper()))"
   ]
  },
  {
   "cell_type": "code",
   "execution_count": 27,
   "metadata": {},
   "outputs": [
    {
     "name": "stdout",
     "output_type": "stream",
     "text": [
      "Ordets längd är: 3\n",
      "Stora bokstäver:  1\n",
      "Små bokstäver:  2\n"
     ]
    }
   ],
   "source": [
    "input_letters = input(\"Lägg till ett ord i listan\")\n",
    " # counter variable to count the character in a string\n",
    "counter = 0\n",
    "upper_cases = 0\n",
    "lower_cases = 0\n",
    "\n",
    "for lower in range(lower_cases):\n",
    "        lower_cases += 1\n",
    "# To get upper letters i add one more for loop because i have to store the new list somewhere\n",
    "for upper in range(upper_cases):\n",
    "        upper_cases += 1\n",
    "for i in input_letters:\n",
    "        counter += 1\n",
    "# Counter variable to count the characters in a string\n",
    "print(\"Ordets längd är:\", counter)\n",
    "print(\"Stora bokstäver: \", sum(1 for upper in input_letters if upper.isupper()))\n",
    "print(\"Små bokstäver: \", sum(1 for lower in input_letters if lower.islower()))\n"
   ]
  },
  {
   "cell_type": "markdown",
   "metadata": {},
   "source": [
    "## Counting words \n",
    "Count the numbers of words in this sentence: \"A picture says more than a thousand words, a matematical formula says more than a thousand pictures.\"\n",
    "\n"
   ]
  },
  {
   "cell_type": "code",
   "execution_count": 33,
   "metadata": {},
   "outputs": [
    {
     "name": "stdout",
     "output_type": "stream",
     "text": [
      "Det var 17 ord i den meningen\n"
     ]
    }
   ],
   "source": [
    "# Påbörjat strängen\n",
    "words = \"A picture says more than a thousand words, a matematical formula says more than a thousand pictures.\"\n",
    "\n",
    "# \n",
    "word_count = len(words.split())\n",
    "\n",
    "print(\"Det var \" + str(word_count) + \" ord i den meningen\")\n",
    "\n",
    "\n",
    "# initialize string\n",
    "text = 'The quick brown fox jumps over the lazy dog'\n",
    "\n",
    "# default separator: space\n",
    "result = len(text.split())\n",
    "\n",
    "print(\"There are \" + str(result) + \" words.\")"
   ]
  }
 ],
 "metadata": {
  "kernelspec": {
   "display_name": "Python 3.9.13 ('PythonSchool-iXQr8Z-p')",
   "language": "python",
   "name": "python3"
  },
  "language_info": {
   "codemirror_mode": {
    "name": "ipython",
    "version": 3
   },
   "file_extension": ".py",
   "mimetype": "text/x-python",
   "name": "python",
   "nbconvert_exporter": "python",
   "pygments_lexer": "ipython3",
   "version": "3.9.13"
  },
  "orig_nbformat": 4,
  "vscode": {
   "interpreter": {
    "hash": "ede0424b5117af074b0a15022a0db7920ce0c06d0370a7c1883de86effeccc15"
   }
  }
 },
 "nbformat": 4,
 "nbformat_minor": 2
}
