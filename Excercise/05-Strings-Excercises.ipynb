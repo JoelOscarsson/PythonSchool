{
 "cells": [
  {
   "cell_type": "markdown",
   "metadata": {},
   "source": [
    "## Strings\n",
    "Counting letters (*)\n",
    "Let the user input a word:\n",
    "\n",
    "  a)   print out the number of letters in the word. (*)\n",
    "\n",
    "  b)   print out the number of uppercase and lowercase letters of the word (*)"
   ]
  },
  {
   "cell_type": "code",
   "execution_count": 46,
   "metadata": {},
   "outputs": [
    {
     "name": "stdout",
     "output_type": "stream",
     "text": [
      "Ordets längd är: 3\n"
     ]
    }
   ],
   "source": [
    "# Creating a user input where you type in a word and it gets stored in variable string\n",
    "input_letters = input(\"Lägg till ett ord i listan\")\n",
    " # counter variable to count the character in a string\n",
    "counter = 0\n",
    "\n",
    "for i in input_letters:\n",
    "        counter += 1\n",
    "# Counter variable to count the characters in a string\n",
    "print(\"Ordets längd är:\", counter)\n"
   ]
  },
  {
   "cell_type": "code",
   "execution_count": null,
   "metadata": {},
   "outputs": [],
   "source": [
    "input_letters = input(\"Lägg till ett ord i listan\")\n",
    " # counter variable to count the character in a string\n",
    "counter = 0\n",
    "\n",
    "for i in input_letters:\n",
    "        counter += 1\n",
    "# Counter variable to count the characters in a string\n",
    "print(\"Ordets längd är:\", counter)"
   ]
  }
 ],
 "metadata": {
  "kernelspec": {
   "display_name": "Python 3.9.13 64-bit",
   "language": "python",
   "name": "python3"
  },
  "language_info": {
   "codemirror_mode": {
    "name": "ipython",
    "version": 3
   },
   "file_extension": ".py",
   "mimetype": "text/x-python",
   "name": "python",
   "nbconvert_exporter": "python",
   "pygments_lexer": "ipython3",
   "version": "3.9.13"
  },
  "orig_nbformat": 4,
  "vscode": {
   "interpreter": {
    "hash": "958a9210e5eed5eb21a37baf529fded8d3cf9f5344114e9547bddde819fb25fe"
   }
  }
 },
 "nbformat": 4,
 "nbformat_minor": 2
}
