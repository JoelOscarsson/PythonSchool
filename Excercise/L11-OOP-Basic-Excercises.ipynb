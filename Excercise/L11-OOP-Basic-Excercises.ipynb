{
 "cells": [
  {
   "cell_type": "markdown",
   "metadata": {},
   "source": [
    "## 1. Unit conversion (*)\n",
    "Create a class for converting US units to the metric system. It should have the following bound methods:\n",
    "\n",
    "__init__ (self, value)\n",
    "\n",
    "inch_to_cm(self)\n",
    "\n",
    "foot_to_meters(self)\n",
    "\n",
    "pound_to_kg(self)\n",
    "\n",
    "__repr__(self)\n",
    "Make sure that value is the correct type and format, raise suitable exceptions in case it isn't. Make value into property with getter and setter. Test your class manually by instantiating an object from it and test different methods. (*)"
   ]
  },
  {
   "cell_type": "code",
   "execution_count": 56,
   "metadata": {},
   "outputs": [
    {
     "name": "stdout",
     "output_type": "stream",
     "text": [
      "feet = 3.04 m\n",
      "inch = 25.4 cm\n",
      "pounds = 4.53 kg\n"
     ]
    }
   ],
   "source": [
    "class Converter:\n",
    "    \n",
    "\n",
    "    def __init__(self, value):\n",
    "        self.value = value\n",
    "\n",
    "        # getter method\n",
    "    @property\n",
    "    def value(self):\n",
    "        \"\"\"Read-Only property\"\"\"\n",
    "        return self._value\n",
    "\n",
    "        \n",
    "    @value.setter\n",
    "    def value(self, value: float) -> None:   #Type hinting - returns\n",
    "        \"\"\"Setter for value with error handling\"\"\"\n",
    "        #print(\"Value setter is running\")\n",
    "\n",
    "        if not isinstance(value, float):\n",
    "            raise ValueError(f\"Number needs to be an int, not{type(value)}\")\n",
    "        if not (1 <= value <= 100):\n",
    "            raise ValueError(\"Number must be between 1 and 125\")\n",
    "        self._value = value\n",
    "\n",
    "\n",
    "    def inch_to_cm(self):\n",
    "        length_cm = self.value * 2.54\n",
    "        return length_cm\n",
    "    def foot_to_meters(self):\n",
    "        length_m = self.value * 0.304\n",
    "        return length_m\n",
    "    def pound_to_kg(self):\n",
    "        pound_kg = self.value * 0.453\n",
    "        return pound_kg\n",
    "    def __repr__(self):\n",
    "        return f\"{self.value=}\"\n",
    "\n",
    "length = Converter(10.0)\n",
    "\n",
    "print(f\"feet = {length.foot_to_meters()} m\")\n",
    "print(f\"inch = {length.inch_to_cm()} cm\")\n",
    "print(f\"pounds = {length.pound_to_kg():.2f} kg\")"
   ]
  },
  {
   "cell_type": "markdown",
   "metadata": {},
   "source": [
    "## 2. Person (*)\n",
    "Create a class named Person, with parameterized constructor with the following parameters:\n",
    "\n",
    "- name\n",
    "- age\n",
    "- email\n",
    "- Turn name, age, email into properties with following validations in their setters:\n",
    "\n",
    "- name - must be string\n",
    "- age - must be number between 0 and 125\n",
    "- email - must include an @ sign\n",
    "It should also have __repr__ method to represent the Person class in a neat way.\n",
    "\n",
    "Also create a method say_hello() that prints\n",
    "\n",
    "Hi, my name is ..., I am ... years old, my email address is ...  "
   ]
  },
  {
   "cell_type": "code",
   "execution_count": 130,
   "metadata": {},
   "outputs": [
    {
     "name": "stdout",
     "output_type": "stream",
     "text": [
      "name = Pernilla, age = 32, email = pernilla@gmail.com\n",
      "name = Joel Oscarsson, age = 27, email = j_oscarsson@hotmail.com\n"
     ]
    }
   ],
   "source": [
    "\n",
    "class Person:\n",
    "\n",
    "    def __init__(self, name: str, age: int, email):\n",
    "        self.name = name\n",
    "        self.age = age\n",
    "        self.email = email\n",
    "\n",
    "\n",
    "    ## Kommentera ctrl k ctrl c \n",
    "\n",
    "    @property\n",
    "    def name(self):\n",
    "        \"\"\"Read - Only \"\"\"\n",
    "        return self._name\n",
    "    @property\n",
    "    def age(self):\n",
    "        \"\"\"Read - Only \"\"\"\n",
    "        return self._age \n",
    "    @property\n",
    "    def email(self):\n",
    "        \"\"\"Read - Only \"\"\"\n",
    "        return self._email \n",
    "\n",
    "\n",
    "    @name.setter\n",
    "    def name(self, name):\n",
    "        \"\"\"Read - Only \"\"\"\n",
    "        if not isinstance(name, str):\n",
    "            raise TypeError(f\"Name must be a string\")\n",
    "        self._name = name\n",
    "\n",
    "\n",
    "    # setter\n",
    "    @email.setter\n",
    "    def email(self, value):\n",
    "        \"\"\"Setter for email with error handling\"\"\"\n",
    "        # validation code\n",
    "        if not \"@\" in value:\n",
    "            raise TypeError(f\"You must have a @ \")\n",
    "        self._email = value \n",
    "\n",
    "    @age.setter\n",
    "    def age(self, age: int):\n",
    "        \"\"\"Setter for age with error handling\"\"\"\n",
    "        if not (0 <= age <= 125):\n",
    "            raise ValueError(\"Age must be between 0 and 125\")\n",
    "        self._age = age\n",
    "\n",
    "    def __repr__(self):\n",
    "        return(f\"name = {self._name}, age = {self._age}, email = {self._email}\")\n",
    "    \n",
    "    def say_hello(self):\n",
    "        return(f\"Hi my name is{self._name}, and i am {self._age} old, my email address is {self._email}\")\n",
    "\n",
    "p = Person(\"Pernilla\", 32, \"pernilla@gmail.com\") \n",
    "print(p)\n",
    "\n",
    "try:\n",
    "    print(person1)\n",
    "except TypeError as x:\n",
    "    print(x)\n",
    "except ValueError as z:\n",
    "    print(z)"
   ]
  }
 ],
 "metadata": {
  "kernelspec": {
   "display_name": "Python 3.9.13 ('PythonSchool-iXQr8Z-p')",
   "language": "python",
   "name": "python3"
  },
  "language_info": {
   "codemirror_mode": {
    "name": "ipython",
    "version": 3
   },
   "file_extension": ".py",
   "mimetype": "text/x-python",
   "name": "python",
   "nbconvert_exporter": "python",
   "pygments_lexer": "ipython3",
   "version": "3.9.13"
  },
  "orig_nbformat": 4,
  "vscode": {
   "interpreter": {
    "hash": "ede0424b5117af074b0a15022a0db7920ce0c06d0370a7c1883de86effeccc15"
   }
  }
 },
 "nbformat": 4,
 "nbformat_minor": 2
}
