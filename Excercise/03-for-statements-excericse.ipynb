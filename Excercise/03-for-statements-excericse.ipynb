{
 "cells": [
  {
   "cell_type": "code",
   "execution_count": 17,
   "metadata": {},
   "outputs": [
    {
     "name": "stdout",
     "output_type": "stream",
     "text": [
      "-10\t-9\t-8\t-7\t-6\t-5\t-4\t-3\t-2\t-1\t0\t1\t2\t3\t4\t5\t6\t7\t8\t9\t10\t"
     ]
    }
   ],
   "source": [
    "## Use a for statement to count from:\n",
    "# A) -10 to 10 with one increment\n",
    "\n",
    "for i in range(-10, 11):\n",
    "    print(i, end = \"\\t\")   # end = \n"
   ]
  },
  {
   "cell_type": "code",
   "execution_count": 36,
   "metadata": {},
   "outputs": [
    {
     "name": "stdout",
     "output_type": "stream",
     "text": [
      "-10\t-8\t-6\t-4\t-2\t0\t2\t4\t6\t8\t10\t"
     ]
    }
   ],
   "source": [
    "# B) -10 to 10 with two increments\n",
    "\n",
    "for i in range(-10, 11, 2):   ##Syntax range(start, stop, step)\n",
    "    print(i, end = \"\\t\")"
   ]
  }
 ],
 "metadata": {
  "kernelspec": {
   "display_name": "Python 3.9.13 64-bit",
   "language": "python",
   "name": "python3"
  },
  "language_info": {
   "codemirror_mode": {
    "name": "ipython",
    "version": 3
   },
   "file_extension": ".py",
   "mimetype": "text/x-python",
   "name": "python",
   "nbconvert_exporter": "python",
   "pygments_lexer": "ipython3",
   "version": "3.9.13"
  },
  "orig_nbformat": 4,
  "vscode": {
   "interpreter": {
    "hash": "958a9210e5eed5eb21a37baf529fded8d3cf9f5344114e9547bddde819fb25fe"
   }
  }
 },
 "nbformat": 4,
 "nbformat_minor": 2
}
