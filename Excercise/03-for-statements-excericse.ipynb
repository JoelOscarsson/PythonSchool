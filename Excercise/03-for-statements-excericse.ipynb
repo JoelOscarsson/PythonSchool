{
 "cells": [
  {
   "cell_type": "markdown",
   "metadata": {},
   "source": [
    "## Count numbers "
   ]
  },
  {
   "cell_type": "code",
   "execution_count": 17,
   "metadata": {},
   "outputs": [
    {
     "name": "stdout",
     "output_type": "stream",
     "text": [
      "-10\t-9\t-8\t-7\t-6\t-5\t-4\t-3\t-2\t-1\t0\t1\t2\t3\t4\t5\t6\t7\t8\t9\t10\t"
     ]
    }
   ],
   "source": [
    "## Use a for statement to count from:\n",
    "# A) -10 to 10 with one increment\n",
    "\n",
    "for i in range(-10, 11):\n",
    "    print(i, end = \"\\t\")   # end = \n"
   ]
  },
  {
   "cell_type": "code",
   "execution_count": 36,
   "metadata": {},
   "outputs": [
    {
     "name": "stdout",
     "output_type": "stream",
     "text": [
      "-10\t-8\t-6\t-4\t-2\t0\t2\t4\t6\t8\t10\t"
     ]
    }
   ],
   "source": [
    "# B) -10 to 10 with two increments\n",
    "\n",
    "for i in range(-10, 11, 2):   ##Syntax range(start, stop, step)\n",
    "    print(i, end = \"\\t\")"
   ]
  },
  {
   "cell_type": "markdown",
   "metadata": {},
   "source": [
    "## Arithmetic sum\n",
    "Use a for statement to compute the following sums:\n",
    "\n",
    "a) sum = 1+2+3+4...+99+100\n",
    "\n",
    "b) sum = 1+3+5...+97+99"
   ]
  },
  {
   "cell_type": "code",
   "execution_count": 38,
   "metadata": {},
   "outputs": [
    {
     "name": "stdout",
     "output_type": "stream",
     "text": [
      "5050\n"
     ]
    }
   ],
   "source": [
    "sum = 0\n",
    "for i in range(1,101):\n",
    "    sum += i\n",
    "print(sum)"
   ]
  },
  {
   "cell_type": "code",
   "execution_count": 40,
   "metadata": {},
   "outputs": [
    {
     "name": "stdout",
     "output_type": "stream",
     "text": [
      "2500\n"
     ]
    }
   ],
   "source": [
    "sum = 0\n",
    "for i in range(1, 101, 2):\n",
    "    sum += i\n",
    "print(sum)"
   ]
  },
  {
   "cell_type": "markdown",
   "metadata": {},
   "source": [
    "## Multiplication table\n",
    "use for statement(s) to:\n",
    "\n",
    "a) print out the 6th multiplication from 0 to 10\n",
    "\n",
    "b) let the user input the table, start and end of the table\n",
    "\n",
    "c) print out all full multiplication table from 0 to 10.\n"
   ]
  },
  {
   "cell_type": "code",
   "execution_count": 72,
   "metadata": {},
   "outputs": [
    {
     "name": "stdout",
     "output_type": "stream",
     "text": [
      "0\n",
      "6\n",
      "12\n",
      "18\n",
      "24\n",
      "30\n",
      "36\n",
      "42\n",
      "48\n",
      "54\n",
      "60\n"
     ]
    }
   ],
   "source": [
    "# Uppgift a)\n",
    "sum = 6**1\n",
    "\n",
    "for i in range(0,11,):\n",
    "    print(sum * i)"
   ]
  },
  {
   "cell_type": "code",
   "execution_count": 80,
   "metadata": {},
   "outputs": [
    {
     "name": "stdout",
     "output_type": "stream",
     "text": [
      "9 * 0 = 0\n",
      "9 * 1 = 9\n",
      "9 * 2 = 18\n",
      "9 * 3 = 27\n",
      "9 * 4 = 36\n",
      "9 * 5 = 45\n",
      "9 * 6 = 54\n",
      "9 * 7 = 63\n",
      "9 * 8 = 72\n",
      "9 * 9 = 81\n",
      "9 * 10 = 90\n"
     ]
    }
   ],
   "source": [
    "#Uppgift b)\n",
    "\n",
    "n = int(input(\"Enter a number you want to multiplicate\"))\n",
    "\n",
    "for i in range(0, 11):\n",
    "    print(n, \"*\",i, \"=\",n*i)\n",
    "\n"
   ]
  },
  {
   "cell_type": "code",
   "execution_count": 106,
   "metadata": {},
   "outputs": [
    {
     "name": "stdout",
     "output_type": "stream",
     "text": [
      " 0  0  0  0  0  0  0  0  0  0  0 \n",
      "\n",
      " 0  1  2  3  4  5  6  7  8  9 10 \n",
      "\n",
      " 0  2  4  6  8 10 12 14 16 18 20 \n",
      "\n",
      " 0  3  6  9 12 15 18 21 24 27 30 \n",
      "\n",
      " 0  4  8 12 16 20 24 28 32 36 40 \n",
      "\n",
      " 0  5 10 15 20 25 30 35 40 45 50 \n",
      "\n",
      " 0  6 12 18 24 30 36 42 48 54 60 \n",
      "\n",
      " 0  7 14 21 28 35 42 49 56 63 70 \n",
      "\n",
      " 0  8 16 24 32 40 48 56 64 72 80 \n",
      "\n",
      " 0  9 18 27 36 45 54 63 72 81 90 \n",
      "\n",
      " 0 10 20 30 40 50 60 70 80 90 100 \n",
      "\n"
     ]
    }
   ],
   "source": [
    "#Uppgift C)\n",
    "\n",
    "rows=10 # Multiplication table up to 10 \n",
    "columns=10 # column values \n",
    "for i in range(0,rows+1):\n",
    "    for j in range(0,columns+1):# inner for loop\n",
    "        c=i*j\n",
    "        print(\"{:2d} \".format(c),end='')\n",
    "    print(\"\\n\")  # line break"
   ]
  },
  {
   "cell_type": "code",
   "execution_count": 1,
   "metadata": {},
   "outputs": [],
   "source": [
    "rows=10 # Multiplication table up to 10 \n",
    "columns=10 # column values \n",
    "for i in range(0,rows+1):\n",
    "    for j in range(0,columns+1):# inner for loop\n",
    "        c=i*j\n",
    "        "
   ]
  },
  {
   "cell_type": "markdown",
   "metadata": {},
   "source": [
    "## Faculty \n",
    "\n",
    "Use a for statement to compute  𝑛! .\n",
    "\n",
    "𝑛!=1⋅2⋅3⋅…⋅(𝑛−1)⋅𝑛 \n",
    "\n",
    "Let the user input  𝑛 ."
   ]
  },
  {
   "cell_type": "code",
   "execution_count": 40,
   "metadata": {},
   "outputs": [
    {
     "name": "stdout",
     "output_type": "stream",
     "text": [
      "1 * 1 = 1\n",
      "\n",
      "1 * 2 = 2\n",
      "\n",
      "2 * 3 = 6\n",
      "\n",
      "6 * 4 = 24\n",
      "\n",
      "Ditt svar är 24\n"
     ]
    }
   ],
   "source": [
    "n = int(input(\"Input any number you want\"))\n",
    "my_sum = 1\n",
    "\n",
    "\n",
    "for i in range(n): \n",
    "    print(f\"{my_sum} * {i+1} = {my_sum * (i+1)}\\n\")\n",
    "    my_sum *= i + 1\n",
    "\n",
    "print(f\"Ditt svar är {my_sum}\")"
   ]
  },
  {
   "cell_type": "markdown",
   "metadata": {},
   "source": [
    "## Guess the number\n",
    "\n",
    "\n",
    "The computer thinks of a four-digit number. Start by creating a random four-digit number. Use for statement to figure out a correct guess"
   ]
  },
  {
   "cell_type": "code",
   "execution_count": 415,
   "metadata": {},
   "outputs": [
    {
     "name": "stdout",
     "output_type": "stream",
     "text": [
      "2497\n",
      "What number am i thinking of(Four digits)?\n",
      "0. Lower, 5499 is too high\n",
      "1. Lower, 3249 is too high\n",
      "2. Higher, 2124 is too low\n",
      "3. Lower, 2687 is too high\n",
      "4. Higher, 2406 is too low\n",
      "5. Lower, 2546 is too high\n",
      "6. Higher, 2476 is too low\n",
      "7. Lower, 2511 is too high\n",
      "8. Higher, 2493 is too low\n",
      "9. Lower, 2502 is too high\n",
      "10. Lower, 2498 is too high\n",
      "11. Higher, 2496 is too low\n",
      "You win 2497 is the right number\n",
      "You win 2497 is the right number\n",
      "You win 2497 is the right number\n"
     ]
    }
   ],
   "source": [
    "## One solution using logarithm to half the guesses while taking hints\n",
    "\n",
    "import random as rnd\n",
    "import math\n",
    "\n",
    "correct_guess = rnd.randint(1000,9999)\n",
    "amount_guesses = int(math.log2(8999))\n",
    "high = 9999\n",
    "low = 1000\n",
    "\n",
    "print(f\"{correct_guess}\")\n",
    "\n",
    "## Nu måste jag hitta ett tal i for-loopen för att gissa \n",
    "\n",
    "print(\"What number am i thinking of(Four digits)?\")\n",
    "for i in range(amount_guesses + 2):\n",
    "    computer_guess = (high + low) / 2\n",
    "## if correct guess\n",
    "    if  (correct_guess) == int(computer_guess):\n",
    "        print(f\"You win {int(computer_guess)} is the right number\")  ## Kan breaka om man inte vill ha you win för många ggr\n",
    "# if incorrect guess\n",
    "    else:\n",
    "        if  (correct_guess) > int(computer_guess):\n",
    "            low = (computer_guess)\n",
    "            print(f\"{i}. Higher, {int(computer_guess)} is too low\")\n",
    "        else:\n",
    "            high = computer_guess\n",
    "            print(f\"{i}. Lower, {int(computer_guess)} is too high\")\n",
    "\n",
    "\n"
   ]
  },
  {
   "cell_type": "code",
   "execution_count": 465,
   "metadata": {},
   "outputs": [],
   "source": [
    "# Another solution where the computer guesses random numbers instead, but not the same number over and over again\n",
    "\n",
    "import random as rnd\n",
    "import math\n",
    "\n",
    "correct_guess = rnd.randint(1000,9999)\n",
    "previous_guesses = []\n",
    "\n",
    "for guess in range(1000,9999):\n",
    "    computer_guess = rnd.randint(1000,9999)\n",
    "\n",
    "\n",
    "## Checking if number has already been guessed\n",
    "    for previous_guess in previous_guesses:\n",
    "        if previous_guess == computer_guess:\n",
    "            computer_guess = rnd.randint(1000,9999)\n",
    "\n",
    "\n",
    "    previous_guesses.append(computer_guess)  ## Append betyder att den lägger till previous guesses i listan\n",
    "\n",
    "    if computer_guess == correct_guess:    ## If computer guessed correctly \n",
    "        print(f\"You win {computer_guess} is the right number\")\n",
    "        print(f\"It took {guess + 1} attempt\")\n",
    "        print(f\"{previous_guesses}\")\n",
    "        break\n",
    "\n"
   ]
  },
  {
   "cell_type": "markdown",
   "metadata": {},
   "source": [
    "## Rice on a chessboard\n",
    "\n",
    "In first square of the chessboard there is one grain of rice, in the second square there is two grains, in the third square there is four grains and so on. How many grains are there in the whole chessboard when all squares are filled using this pattern?"
   ]
  },
  {
   "cell_type": "code",
   "execution_count": 500,
   "metadata": {},
   "outputs": [
    {
     "name": "stdout",
     "output_type": "stream",
     "text": [
      "1 at square 1\n",
      "2 at square 2\n",
      "4 at square 3\n",
      "8 at square 4\n",
      "16 at square 5\n",
      "32 at square 6\n",
      "64 at square 7\n",
      "128 at square 8\n",
      "256 at square 9\n",
      "512 at square 10\n",
      "1024 at square 11\n",
      "2048 at square 12\n",
      "4096 at square 13\n",
      "8192 at square 14\n",
      "16384 at square 15\n",
      "32768 at square 16\n",
      "65536 at square 17\n",
      "131072 at square 18\n",
      "262144 at square 19\n",
      "524288 at square 20\n",
      "1048576 at square 21\n",
      "2097152 at square 22\n",
      "4194304 at square 23\n",
      "8388608 at square 24\n",
      "16777216 at square 25\n",
      "33554432 at square 26\n",
      "67108864 at square 27\n",
      "134217728 at square 28\n",
      "268435456 at square 29\n",
      "536870912 at square 30\n",
      "1073741824 at square 31\n",
      "2147483648 at square 32\n",
      "4294967296 at square 33\n",
      "8589934592 at square 34\n",
      "17179869184 at square 35\n",
      "34359738368 at square 36\n",
      "68719476736 at square 37\n",
      "137438953472 at square 38\n",
      "274877906944 at square 39\n",
      "549755813888 at square 40\n",
      "1099511627776 at square 41\n",
      "2199023255552 at square 42\n",
      "4398046511104 at square 43\n",
      "8796093022208 at square 44\n",
      "17592186044416 at square 45\n",
      "35184372088832 at square 46\n",
      "70368744177664 at square 47\n",
      "140737488355328 at square 48\n",
      "281474976710656 at square 49\n",
      "562949953421312 at square 50\n",
      "1125899906842624 at square 51\n",
      "2251799813685248 at square 52\n",
      "4503599627370496 at square 53\n",
      "9007199254740992 at square 54\n",
      "18014398509481984 at square 55\n",
      "36028797018963968 at square 56\n",
      "72057594037927936 at square 57\n",
      "144115188075855872 at square 58\n",
      "288230376151711744 at square 59\n",
      "576460752303423488 at square 60\n",
      "1152921504606846976 at square 61\n",
      "2305843009213693952 at square 62\n",
      "4611686018427387904 at square 63\n",
      "9223372036854775808 at square 64\n",
      "The total amount of rice is:18446744073709551615\n"
     ]
    }
   ],
   "source": [
    "rows = 8 \n",
    "columns = 8\n",
    "squares = rows * columns\n",
    "rice = 1\n",
    "rice_total = 0\n",
    "\n",
    "squares\n",
    "\n",
    "for square in range(squares):\n",
    "    print(f\"{rice} at square {square+1}\")\n",
    "    rice_total += rice\n",
    "    rice *= 2\n",
    "print(f\"The total amount of rice is:{rice_total}\")\n",
    "\n"
   ]
  }
 ],
 "metadata": {
  "kernelspec": {
   "display_name": "Python 3.9.13 ('PythonSchool-iXQr8Z-p')",
   "language": "python",
   "name": "python3"
  },
  "language_info": {
   "codemirror_mode": {
    "name": "ipython",
    "version": 3
   },
   "file_extension": ".py",
   "mimetype": "text/x-python",
   "name": "python",
   "nbconvert_exporter": "python",
   "pygments_lexer": "ipython3",
   "version": "3.9.13"
  },
  "orig_nbformat": 4,
  "vscode": {
   "interpreter": {
    "hash": "ede0424b5117af074b0a15022a0db7920ce0c06d0370a7c1883de86effeccc15"
   }
  }
 },
 "nbformat": 4,
 "nbformat_minor": 2
}
