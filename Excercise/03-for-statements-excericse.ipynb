{
 "cells": [
  {
   "cell_type": "markdown",
   "metadata": {},
   "source": [
    "## Count numbers "
   ]
  },
  {
   "cell_type": "code",
   "execution_count": 17,
   "metadata": {},
   "outputs": [
    {
     "name": "stdout",
     "output_type": "stream",
     "text": [
      "-10\t-9\t-8\t-7\t-6\t-5\t-4\t-3\t-2\t-1\t0\t1\t2\t3\t4\t5\t6\t7\t8\t9\t10\t"
     ]
    }
   ],
   "source": [
    "## Use a for statement to count from:\n",
    "# A) -10 to 10 with one increment\n",
    "\n",
    "for i in range(-10, 11):\n",
    "    print(i, end = \"\\t\")   # end = \n"
   ]
  },
  {
   "cell_type": "code",
   "execution_count": 36,
   "metadata": {},
   "outputs": [
    {
     "name": "stdout",
     "output_type": "stream",
     "text": [
      "-10\t-8\t-6\t-4\t-2\t0\t2\t4\t6\t8\t10\t"
     ]
    }
   ],
   "source": [
    "# B) -10 to 10 with two increments\n",
    "\n",
    "for i in range(-10, 11, 2):   ##Syntax range(start, stop, step)\n",
    "    print(i, end = \"\\t\")"
   ]
  },
  {
   "cell_type": "markdown",
   "metadata": {},
   "source": [
    "## Arithmetic sum\n",
    "Use a for statement to compute the following sums:\n",
    "\n",
    "a) sum = 1+2+3+4...+99+100\n",
    "\n",
    "b) sum = 1+3+5...+97+99"
   ]
  },
  {
   "cell_type": "code",
   "execution_count": 38,
   "metadata": {},
   "outputs": [
    {
     "name": "stdout",
     "output_type": "stream",
     "text": [
      "5050\n"
     ]
    }
   ],
   "source": [
    "sum = 0\n",
    "for i in range(1,101):\n",
    "    sum += i\n",
    "print(sum)"
   ]
  },
  {
   "cell_type": "code",
   "execution_count": 40,
   "metadata": {},
   "outputs": [
    {
     "name": "stdout",
     "output_type": "stream",
     "text": [
      "2500\n"
     ]
    }
   ],
   "source": [
    "sum = 0\n",
    "for i in range(1, 101, 2):\n",
    "    sum += i\n",
    "print(sum)"
   ]
  },
  {
   "cell_type": "markdown",
   "metadata": {},
   "source": [
    "## Multiplication table\n",
    "use for statement(s) to:\n",
    "\n",
    "a) print out the 6th multiplication from 0 to 10\n",
    "\n",
    "b) let the user input the table, start and end of the table\n",
    "\n",
    "c) print out all full multiplication table from 0 to 10.\n"
   ]
  },
  {
   "cell_type": "code",
   "execution_count": 72,
   "metadata": {},
   "outputs": [
    {
     "name": "stdout",
     "output_type": "stream",
     "text": [
      "0\n",
      "6\n",
      "12\n",
      "18\n",
      "24\n",
      "30\n",
      "36\n",
      "42\n",
      "48\n",
      "54\n",
      "60\n"
     ]
    }
   ],
   "source": [
    "# Uppgift a)\n",
    "sum = 6**1\n",
    "\n",
    "for i in range(0,11,):\n",
    "    print(sum * i)"
   ]
  },
  {
   "cell_type": "code",
   "execution_count": 80,
   "metadata": {},
   "outputs": [
    {
     "name": "stdout",
     "output_type": "stream",
     "text": [
      "9 * 0 = 0\n",
      "9 * 1 = 9\n",
      "9 * 2 = 18\n",
      "9 * 3 = 27\n",
      "9 * 4 = 36\n",
      "9 * 5 = 45\n",
      "9 * 6 = 54\n",
      "9 * 7 = 63\n",
      "9 * 8 = 72\n",
      "9 * 9 = 81\n",
      "9 * 10 = 90\n"
     ]
    }
   ],
   "source": [
    "#Uppgift b)\n",
    "\n",
    "n = int(input(\"Enter a number you want to multiplicate\"))\n",
    "\n",
    "for i in range(0, 11):\n",
    "    print(n, \"*\",i, \"=\",n*i)\n",
    "\n"
   ]
  },
  {
   "cell_type": "code",
   "execution_count": 106,
   "metadata": {},
   "outputs": [
    {
     "name": "stdout",
     "output_type": "stream",
     "text": [
      " 0  0  0  0  0  0  0  0  0  0  0 \n",
      "\n",
      " 0  1  2  3  4  5  6  7  8  9 10 \n",
      "\n",
      " 0  2  4  6  8 10 12 14 16 18 20 \n",
      "\n",
      " 0  3  6  9 12 15 18 21 24 27 30 \n",
      "\n",
      " 0  4  8 12 16 20 24 28 32 36 40 \n",
      "\n",
      " 0  5 10 15 20 25 30 35 40 45 50 \n",
      "\n",
      " 0  6 12 18 24 30 36 42 48 54 60 \n",
      "\n",
      " 0  7 14 21 28 35 42 49 56 63 70 \n",
      "\n",
      " 0  8 16 24 32 40 48 56 64 72 80 \n",
      "\n",
      " 0  9 18 27 36 45 54 63 72 81 90 \n",
      "\n",
      " 0 10 20 30 40 50 60 70 80 90 100 \n",
      "\n"
     ]
    }
   ],
   "source": [
    "#Uppgift C)\n",
    "\n",
    "rows=10 # Multiplication table up to 10 \n",
    "columns=10 # column values \n",
    "for i in range(0,rows+1):\n",
    "    for j in range(0,columns+1):# inner for loop\n",
    "        c=i*j\n",
    "        print(\"{:2d} \".format(c),end='')\n",
    "    print(\"\\n\")  # line break"
   ]
  },
  {
   "cell_type": "code",
   "execution_count": 1,
   "metadata": {},
   "outputs": [],
   "source": [
    "rows=10 # Multiplication table up to 10 \n",
    "columns=10 # column values \n",
    "for i in range(0,rows+1):\n",
    "    for j in range(0,columns+1):# inner for loop\n",
    "        c=i*j\n",
    "        "
   ]
  },
  {
   "cell_type": "markdown",
   "metadata": {},
   "source": [
    "## Faculty \n",
    "\n",
    "Use a for statement to compute  𝑛! .\n",
    "\n",
    "𝑛!=1⋅2⋅3⋅…⋅(𝑛−1)⋅𝑛 \n",
    "\n",
    "Let the user input  𝑛 ."
   ]
  },
  {
   "cell_type": "code",
   "execution_count": 40,
   "metadata": {},
   "outputs": [
    {
     "name": "stdout",
     "output_type": "stream",
     "text": [
      "1 * 1 = 1\n",
      "\n",
      "1 * 2 = 2\n",
      "\n",
      "2 * 3 = 6\n",
      "\n",
      "6 * 4 = 24\n",
      "\n",
      "Ditt svar är 24\n"
     ]
    }
   ],
   "source": [
    "n = int(input(\"Input any number you want\"))\n",
    "my_sum = 1\n",
    "\n",
    "\n",
    "for i in range(n): \n",
    "    print(f\"{my_sum} * {i+1} = {my_sum * (i+1)}\\n\")\n",
    "    my_sum *= i + 1\n",
    "\n",
    "print(f\"Ditt svar är {my_sum}\")"
   ]
  },
  {
   "cell_type": "markdown",
   "metadata": {},
   "source": [
    "## Guess the number\n",
    "\n",
    "\n",
    "The computer thinks of a four-digit number. Start by creating a random four-digit number. Use for statement to figure out a correct guess"
   ]
  },
  {
   "cell_type": "code",
   "execution_count": 346,
   "metadata": {},
   "outputs": [
    {
     "name": "stdout",
     "output_type": "stream",
     "text": [
      "7792\n",
      "What number am i thinking of(Four digits)?\n",
      "0. Higher, 5499.5 is too low\n",
      "1. Higher, 7749.25 is too low\n",
      "2. Lower, 8874.125 is too high\n",
      "3. Lower, 8311.6875 is too high\n",
      "4. Lower, 8030.46875 is too high\n",
      "5. Lower, 7889.859375 is too high\n",
      "6. Lower, 7819.5546875 is too high\n",
      "7. Higher, 7784.40234375 is too low\n",
      "8. Lower, 7801.978515625 is too high\n",
      "9. Lower, 7793.1904296875 is too high\n",
      "10. Higher, 7788.79638671875 is too low\n",
      "11. Higher, 7790.993408203125 is too low\n",
      "You win 7792.0919189453125 is the right number\n",
      "You win 7792.0919189453125 is the right number\n",
      "You win 7792.0919189453125 is the right number\n"
     ]
    }
   ],
   "source": [
    "import random as rnd\n",
    "import math\n",
    "\n",
    "correct_guess = rnd.randint(1000,9999)\n",
    "amount_guesses = int(math.log2(8999))\n",
    "high = 9999\n",
    "low = 1000\n",
    "\n",
    "print(f\"{correct_guess}\")\n",
    "\n",
    "## Nu måste jag hitta ett tal i for-loopen för att gissa \n",
    "\n",
    "print(\"What number am i thinking of(Four digits)?\")\n",
    "for i in range(amount_guesses + 2):\n",
    "    computer_guess = (high + low) / 2\n",
    "## if correct guess\n",
    "    if  (correct_guess) == int(computer_guess):\n",
    "        print(f\"You win {computer_guess} is the right number\")\n",
    "# if incorrect guess\n",
    "    else:\n",
    "        if  (correct_guess) > int(computer_guess):\n",
    "            low = (computer_guess)\n",
    "            print(f\"{i}. Higher, {computer_guess} is too low\")\n",
    "        else:\n",
    "            high = computer_guess\n",
    "            print(f\"{i}. Lower, {computer_guess} is too high\")\n",
    "\n",
    "\n"
   ]
  }
 ],
 "metadata": {
  "kernelspec": {
   "display_name": "Python 3.9.13 ('PythonSchool-iXQr8Z-p')",
   "language": "python",
   "name": "python3"
  },
  "language_info": {
   "codemirror_mode": {
    "name": "ipython",
    "version": 3
   },
   "file_extension": ".py",
   "mimetype": "text/x-python",
   "name": "python",
   "nbconvert_exporter": "python",
   "pygments_lexer": "ipython3",
   "version": "3.9.13"
  },
  "orig_nbformat": 4,
  "vscode": {
   "interpreter": {
    "hash": "ede0424b5117af074b0a15022a0db7920ce0c06d0370a7c1883de86effeccc15"
   }
  }
 },
 "nbformat": 4,
 "nbformat_minor": 2
}
