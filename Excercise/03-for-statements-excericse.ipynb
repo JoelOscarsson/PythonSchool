{
 "cells": [
  {
   "cell_type": "markdown",
   "metadata": {},
   "source": [
    "## Count numbers "
   ]
  },
  {
   "cell_type": "code",
   "execution_count": 17,
   "metadata": {},
   "outputs": [
    {
     "name": "stdout",
     "output_type": "stream",
     "text": [
      "-10\t-9\t-8\t-7\t-6\t-5\t-4\t-3\t-2\t-1\t0\t1\t2\t3\t4\t5\t6\t7\t8\t9\t10\t"
     ]
    }
   ],
   "source": [
    "## Use a for statement to count from:\n",
    "# A) -10 to 10 with one increment\n",
    "\n",
    "for i in range(-10, 11):\n",
    "    print(i, end = \"\\t\")   # end = \n"
   ]
  },
  {
   "cell_type": "code",
   "execution_count": 36,
   "metadata": {},
   "outputs": [
    {
     "name": "stdout",
     "output_type": "stream",
     "text": [
      "-10\t-8\t-6\t-4\t-2\t0\t2\t4\t6\t8\t10\t"
     ]
    }
   ],
   "source": [
    "# B) -10 to 10 with two increments\n",
    "\n",
    "for i in range(-10, 11, 2):   ##Syntax range(start, stop, step)\n",
    "    print(i, end = \"\\t\")"
   ]
  },
  {
   "cell_type": "markdown",
   "metadata": {},
   "source": [
    "## Arithmetic sum\n",
    "Use a for statement to compute the following sums:\n",
    "\n",
    "a) sum = 1+2+3+4...+99+100\n",
    "\n",
    "b) sum = 1+3+5...+97+99"
   ]
  },
  {
   "cell_type": "code",
   "execution_count": 38,
   "metadata": {},
   "outputs": [
    {
     "name": "stdout",
     "output_type": "stream",
     "text": [
      "5050\n"
     ]
    }
   ],
   "source": [
    "sum = 0\n",
    "for i in range(1,101):\n",
    "    sum += i\n",
    "print(sum)"
   ]
  },
  {
   "cell_type": "code",
   "execution_count": 40,
   "metadata": {},
   "outputs": [
    {
     "name": "stdout",
     "output_type": "stream",
     "text": [
      "2500\n"
     ]
    }
   ],
   "source": [
    "sum = 0\n",
    "for i in range(1, 101, 2):\n",
    "    sum += i\n",
    "print(sum)"
   ]
  },
  {
   "cell_type": "markdown",
   "metadata": {},
   "source": [
    "## Multiplication table\n",
    "use for statement(s) to:\n",
    "\n",
    "a) print out the 6th multiplication from 0 to 10\n",
    "\n",
    "b) let the user input the table, start and end of the table\n",
    "\n",
    "c) print out all full multiplication table from 0 to 10.\n"
   ]
  },
  {
   "cell_type": "code",
   "execution_count": 72,
   "metadata": {},
   "outputs": [
    {
     "name": "stdout",
     "output_type": "stream",
     "text": [
      "0\n",
      "6\n",
      "12\n",
      "18\n",
      "24\n",
      "30\n",
      "36\n",
      "42\n",
      "48\n",
      "54\n",
      "60\n"
     ]
    }
   ],
   "source": [
    "# Uppgift a)\n",
    "sum = 6**1\n",
    "\n",
    "for i in range(0,11,):\n",
    "    print(sum * i)"
   ]
  },
  {
   "cell_type": "code",
   "execution_count": 80,
   "metadata": {},
   "outputs": [
    {
     "name": "stdout",
     "output_type": "stream",
     "text": [
      "9 * 0 = 0\n",
      "9 * 1 = 9\n",
      "9 * 2 = 18\n",
      "9 * 3 = 27\n",
      "9 * 4 = 36\n",
      "9 * 5 = 45\n",
      "9 * 6 = 54\n",
      "9 * 7 = 63\n",
      "9 * 8 = 72\n",
      "9 * 9 = 81\n",
      "9 * 10 = 90\n"
     ]
    }
   ],
   "source": [
    "#Uppgift b)\n",
    "\n",
    "n = int(input(\"Enter a number you want to multiplicate\"))\n",
    "\n",
    "for i in range(0, 11):\n",
    "    print(n, \"*\",i, \"=\",n*i)\n",
    "\n"
   ]
  },
  {
   "cell_type": "code",
   "execution_count": 106,
   "metadata": {},
   "outputs": [
    {
     "name": "stdout",
     "output_type": "stream",
     "text": [
      " 0  0  0  0  0  0  0  0  0  0  0 \n",
      "\n",
      " 0  1  2  3  4  5  6  7  8  9 10 \n",
      "\n",
      " 0  2  4  6  8 10 12 14 16 18 20 \n",
      "\n",
      " 0  3  6  9 12 15 18 21 24 27 30 \n",
      "\n",
      " 0  4  8 12 16 20 24 28 32 36 40 \n",
      "\n",
      " 0  5 10 15 20 25 30 35 40 45 50 \n",
      "\n",
      " 0  6 12 18 24 30 36 42 48 54 60 \n",
      "\n",
      " 0  7 14 21 28 35 42 49 56 63 70 \n",
      "\n",
      " 0  8 16 24 32 40 48 56 64 72 80 \n",
      "\n",
      " 0  9 18 27 36 45 54 63 72 81 90 \n",
      "\n",
      " 0 10 20 30 40 50 60 70 80 90 100 \n",
      "\n"
     ]
    }
   ],
   "source": [
    "#Uppgift C)\n",
    "\n",
    "rows=10 # Multiplication table up to 10 \n",
    "columns=10 # column values \n",
    "for i in range(0,rows+1):\n",
    "    for j in range(0,columns+1):# inner for loop\n",
    "        c=i*j\n",
    "        print(\"{:2d} \".format(c),end='')\n",
    "    print(\"\\n\")  # line break"
   ]
  },
  {
   "cell_type": "code",
   "execution_count": 107,
   "metadata": {},
   "outputs": [],
   "source": [
    "rows=10 # Multiplication table up to 10 \n",
    "columns=10 # column values \n",
    "for i in range(0,rows+1):\n",
    "    for j in range(0,columns+1):# inner for loop\n",
    "        c=i*j\n",
    "        "
   ]
  }
 ],
 "metadata": {
  "kernelspec": {
   "display_name": "Python 3.9.13 64-bit",
   "language": "python",
   "name": "python3"
  },
  "language_info": {
   "codemirror_mode": {
    "name": "ipython",
    "version": 3
   },
   "file_extension": ".py",
   "mimetype": "text/x-python",
   "name": "python",
   "nbconvert_exporter": "python",
   "pygments_lexer": "ipython3",
   "version": "3.9.13"
  },
  "orig_nbformat": 4,
  "vscode": {
   "interpreter": {
    "hash": "958a9210e5eed5eb21a37baf529fded8d3cf9f5344114e9547bddde819fb25fe"
   }
  }
 },
 "nbformat": 4,
 "nbformat_minor": 2
}
