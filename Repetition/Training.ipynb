{
 "cells": [
  {
   "attachments": {},
   "cell_type": "markdown",
   "metadata": {},
   "source": [
    "Beskriv vad koden gör och vad som skrivs ut:"
   ]
  },
  {
   "cell_type": "code",
   "execution_count": 158,
   "metadata": {},
   "outputs": [
    {
     "name": "stdout",
     "output_type": "stream",
     "text": [
      "i\n"
     ]
    }
   ],
   "source": [
    "husdjur = \"kanin\"\n",
    "\n",
    "# Start, stop, step\n",
    "meddelande = husdjur[::-1][1]\n",
    "\n",
    "print(meddelande)"
   ]
  },
  {
   "cell_type": "code",
   "execution_count": 169,
   "metadata": {},
   "outputs": [
    {
     "name": "stdout",
     "output_type": "stream",
     "text": [
      "kn\n"
     ]
    }
   ],
   "source": [
    "husdjur = \"kazin\"\n",
    "\n",
    "# Start, stop, step\n",
    "meddelande = husdjur[::4]\n",
    "\n",
    "print(meddelande)"
   ]
  },
  {
   "attachments": {},
   "cell_type": "markdown",
   "metadata": {},
   "source": [
    "Vad skrivs ut i denna koden?"
   ]
  },
  {
   "cell_type": "code",
   "execution_count": 3,
   "metadata": {},
   "outputs": [
    {
     "name": "stdout",
     "output_type": "stream",
     "text": [
      "a\n"
     ]
    }
   ],
   "source": [
    "frukter = [\"jordgubbe\", \"vindruva\", \"grape\"]\n",
    "# start:stop\n",
    "# 0, 1, 2\n",
    "godfrukt = frukter[1]\n",
    "print(godfrukt[-1])"
   ]
  },
  {
   "attachments": {},
   "cell_type": "markdown",
   "metadata": {},
   "source": [
    "-----------------\n",
    "Skapa en funktion som tar in ett helttal n som parameter och skriver ut följande mönstret nedan.\n",
    "\n",
    "Exempel när n=5\n",
    "\n",
    "* o\n",
    "* x o\n",
    "* x x o \n",
    "* x x x o\n",
    "* x x x x o\n",
    "\n",
    "Create a function that takes in n whole number as parameter and writes out the following:"
   ]
  },
  {
   "cell_type": "code",
   "execution_count": 4,
   "metadata": {},
   "outputs": [
    {
     "name": "stdout",
     "output_type": "stream",
     "text": [
      "o\n",
      "x o\n",
      "x x o\n",
      "x x x o\n",
      "x x x x o\n"
     ]
    }
   ],
   "source": [
    "# for loop(start(inclusive), stop, step(exclusive))\n",
    "\n",
    "def my_func(n):\n",
    "    for i in range(1, n+1):\n",
    "        for j in range(i-1):\n",
    "            print('x ', end='')\n",
    "        print('o')\n",
    "my_func(5)"
   ]
  },
  {
   "attachments": {},
   "cell_type": "markdown",
   "metadata": {},
   "source": [
    "-----------\n",
    "Skapa en funktion som tar in ett heltal n som parameter och skriver ut följande mönstret nedan.\n",
    "\n",
    "Exempel när n = 5:\n",
    "* x x x x x\n",
    "* x x x x\n",
    "* x x x \n",
    "* x x\n",
    "* x"
   ]
  },
  {
   "cell_type": "code",
   "execution_count": 45,
   "metadata": {},
   "outputs": [
    {
     "name": "stdout",
     "output_type": "stream",
     "text": [
      "x x x x x\n",
      "x x x x\n",
      "x x x\n",
      "x x\n",
      "x\n"
     ]
    }
   ],
   "source": [
    "def my_func(n):\n",
    "    for i in range(n):\n",
    "        row = 'x ' * (n - i)\n",
    "        print(row.strip())\n",
    "\n",
    "my_func(5)"
   ]
  },
  {
   "attachments": {},
   "cell_type": "markdown",
   "metadata": {},
   "source": [
    "--------------------\n",
    "Skriv in en funktion som tar in en sida som inparameter och returnerar area och omkrets av en kvadrat.\n",
    "Låt användaren mata in en sida och kör funktionen. Ta med felhantering."
   ]
  },
  {
   "cell_type": "code",
   "execution_count": 50,
   "metadata": {},
   "outputs": [
    {
     "name": "stdout",
     "output_type": "stream",
     "text": [
      "Arean av kvadraten är: 1.0\n",
      "Omkretsen av kvadraten är: 4.0\n"
     ]
    }
   ],
   "source": [
    "def berakna_area_och_omkrets(side):\n",
    "    try:\n",
    "        side = float(side) # konvertera inmatningen till en flyttalsdecimal\n",
    "    except ValueError:\n",
    "        return \"Fel: Inmatningen är inte ett giltigt nummer\"\n",
    "    \n",
    "    if side <= 0: # kolla om inmatningen är positiv\n",
    "        return \"Fel: Inmatningen måste vara ett positivt nummer\"\n",
    "    \n",
    "    area = side ** 2 # beräkna kvadratens area\n",
    "    omkrets = 4 * side # beräkna kvadratens omkrets\n",
    "    \n",
    "    return area, omkrets # returnera båda värdena som en tuple\n",
    "\n",
    "side = input(\"Ange längden på en sida av kvadraten: \")\n",
    "resultat = berakna_area_och_omkrets(side)\n",
    "print(\"Arean av kvadraten är:\", resultat[0])\n",
    "print(\"Omkretsen av kvadraten är:\", resultat[1])\n"
   ]
  },
  {
   "attachments": {},
   "cell_type": "markdown",
   "metadata": {},
   "source": [
    "------------------------------\n",
    "Beskriv vad som skrivt ut och motivera varför, använd datavetenskapligt korrekta termer"
   ]
  },
  {
   "cell_type": "code",
   "execution_count": 84,
   "metadata": {},
   "outputs": [
    {
     "name": "stdout",
     "output_type": "stream",
     "text": [
      "person säger hej\n",
      "Gubbe säger hej\n",
      "Gubbe säger hej\n"
     ]
    }
   ],
   "source": [
    "class Person:\n",
    "    def hej(self):\n",
    "        print(\"person säger hej\")\n",
    "\n",
    "class Gubbe(Person):\n",
    "    def hej(self):\n",
    "        print(\"Gubbe säger hej\")\n",
    "\n",
    "class Viking(Gubbe):\n",
    "    def hoy(self):\n",
    "        print(\"Viking säger hoy\")\n",
    "\n",
    "for person in (Person(), Gubbe(), Viking()):\n",
    "    person.hej()\n",
    "\n",
    "\n",
    "# Inheritance "
   ]
  },
  {
   "cell_type": "code",
   "execution_count": 80,
   "metadata": {},
   "outputs": [
    {
     "name": "stdout",
     "output_type": "stream",
     "text": [
      "person säger hej\n",
      "Student säger hej\n",
      "Student säger hej\n"
     ]
    }
   ],
   "source": [
    "class Person:\n",
    "    def hej(self):\n",
    "        print(\"person säger hej\")\n",
    "\n",
    "class Student(Person):\n",
    "    def hej(self):\n",
    "        print(\"Student säger hej\")\n",
    "\n",
    "class Viking(Student):\n",
    "    def hoy(self):\n",
    "        print(\"Viking säger hoy\")\n",
    "\n",
    "for person in (Person(), Student(), Viking()):\n",
    "    person.hej()"
   ]
  },
  {
   "attachments": {},
   "cell_type": "markdown",
   "metadata": {},
   "source": [
    "For loop training"
   ]
  },
  {
   "cell_type": "code",
   "execution_count": 8,
   "metadata": {},
   "outputs": [
    {
     "name": "stdout",
     "output_type": "stream",
     "text": [
      "1 \n",
      "2 3 \n",
      "3 4 5 \n",
      "4 5 6 7 \n",
      "5 6 7 8 9 \n"
     ]
    }
   ],
   "source": [
    "for i in range(1, 6):\n",
    "    for j in range(i, i*2):\n",
    "        print(j, end=' ')\n",
    "    print()"
   ]
  },
  {
   "cell_type": "code",
   "execution_count": 9,
   "metadata": {},
   "outputs": [
    {
     "name": "stdout",
     "output_type": "stream",
     "text": [
      "loopox\n",
      "forox\n",
      "youox\n"
     ]
    }
   ],
   "source": [
    "a = ['loop', 'for', 'you']\n",
    "\n",
    "for i in a:\n",
    "    print(i+'o'+'x')"
   ]
  },
  {
   "cell_type": "code",
   "execution_count": 10,
   "metadata": {},
   "outputs": [
    {
     "name": "stdout",
     "output_type": "stream",
     "text": [
      "300\n"
     ]
    }
   ],
   "source": [
    "n = 100\n",
    "\n",
    "for i in range(n):\n",
    "    n += 2\n",
    "\n",
    "print(n)"
   ]
  },
  {
   "cell_type": "code",
   "execution_count": 11,
   "metadata": {},
   "outputs": [
    {
     "name": "stdout",
     "output_type": "stream",
     "text": [
      "good luck\n",
      "good luck\n",
      "good luck2\n",
      "good luck2\n"
     ]
    }
   ],
   "source": [
    "for i in range(2):\n",
    "    print(\"good luck\")\n",
    "for i in range(1, 3):\n",
    "    print(\"good luck2\")"
   ]
  },
  {
   "cell_type": "code",
   "execution_count": 136,
   "metadata": {},
   "outputs": [
    {
     "name": "stdout",
     "output_type": "stream",
     "text": [
      "tt\n",
      "tt\n",
      "tt\n",
      "tt\n",
      "tt\n",
      "tt\n",
      "tt\n",
      "tt\n",
      "tt\n",
      "tt\n"
     ]
    }
   ],
   "source": [
    "rows = int(input(\"Enter the # rows: \"))\n",
    "columns = int(input(\"Enter the # of columns: \"))\n",
    "symbol = input(\"Enter a symbol to use: \")\n",
    "\n",
    "for x in range(rows):\n",
    "    for y in range(columns):\n",
    "        print(symbol, end=\"\")\n",
    "    print()"
   ]
  },
  {
   "cell_type": "code",
   "execution_count": 174,
   "metadata": {},
   "outputs": [],
   "source": [
    "# Skapa en funktion som tar in en summa pengar. \n",
    "# Den ska returnera en lista av växel som representerar summan.\n",
    "\n",
    "# money = {\"Tusenlapp\": 1000, \"Tvåhundralapp\": 200, \"Tiokrona\": 10, \"Enkrona\": 1}\n",
    "\n",
    "def findSpendingLevel(moneySpent):\n",
    "    if (moneySpent >= 1000): # If money is more or equal to 1000\n",
    "        return 'Tusenlapp'\n",
    "    if (moneySpent > 200 and moneySpent <= 200):\n",
    "        return 'Tvåhundralapp'\n",
    "    if (moneySpent <= 10):\n",
    "        return \"Tiokrona\"\n",
    "    if (moneySpent <= 1):\n",
    "        return 'Enkrona'\n",
    "\n",
    "findSpendingLevel(139)"
   ]
  },
  {
   "attachments": {},
   "cell_type": "markdown",
   "metadata": {},
   "source": [
    "Skapa en funktion som tar in en summa pengar. Den ska returnera en lista av växel som representerar summan."
   ]
  },
  {
   "cell_type": "code",
   "execution_count": 228,
   "metadata": {},
   "outputs": [
    {
     "name": "stdout",
     "output_type": "stream",
     "text": [
      "Tusenlappar: 3\n",
      "Tvåhundralappar: 1\n",
      "Tiokrona: 2\n",
      "Enkrona: 2\n",
      "465 µs ± 20.3 µs per loop (mean ± std. dev. of 7 runs, 1,000 loops each)\n"
     ]
    }
   ],
   "source": [
    "import timeit\n",
    "\n",
    "\n",
    "def money_splitter(money):\n",
    "    Tusenlapp, Tvåhundralapp, Tiokrona, Enkrona = 0, 0, 0, 0\n",
    "\n",
    "    while money >= 0:\n",
    "        if money >= 1000:\n",
    "            Tusenlapp += 1\n",
    "            money -= 1000\n",
    "\n",
    "        elif money >= 200:\n",
    "            Tvåhundralapp += 1\n",
    "            money -= 200\n",
    "\n",
    "        elif money >= 10:\n",
    "            Tiokrona += 1\n",
    "            money -= 10\n",
    "\n",
    "        elif money >= 1:\n",
    "            Enkrona += 1\n",
    "            money -= 1\n",
    "\n",
    "        else:\n",
    "            return print(\n",
    "                f\"Tusenlappar: {Tusenlapp}\\nTvåhundralappar: {Tvåhundralapp}\\nTiokrona: {Tiokrona}\\nEnkrona: {Enkrona}\"\n",
    "            )\n",
    "money_splitter(3222)\n",
    "\n",
    "%timeit for x in range(10000): money_splitter"
   ]
  }
 ],
 "metadata": {
  "kernelspec": {
   "display_name": "Python 3",
   "language": "python",
   "name": "python3"
  },
  "language_info": {
   "codemirror_mode": {
    "name": "ipython",
    "version": 3
   },
   "file_extension": ".py",
   "mimetype": "text/x-python",
   "name": "python",
   "nbconvert_exporter": "python",
   "pygments_lexer": "ipython3",
   "version": "3.9.13"
  },
  "orig_nbformat": 4
 },
 "nbformat": 4,
 "nbformat_minor": 2
}
