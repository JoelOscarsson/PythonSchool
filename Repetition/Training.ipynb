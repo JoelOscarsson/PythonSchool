{
 "cells": [
  {
   "attachments": {},
   "cell_type": "markdown",
   "metadata": {},
   "source": [
    "Beskriv vad koden gör och vad som skrivs ut:"
   ]
  },
  {
   "cell_type": "code",
   "execution_count": 41,
   "metadata": {},
   "outputs": [
    {
     "name": "stdout",
     "output_type": "stream",
     "text": [
      "a\n"
     ]
    }
   ],
   "source": [
    "husdjur = \"kanin\"\n",
    "\n",
    "# Start, stop, step\n",
    "meddelande = husdjur[::-1][-2]\n",
    "\n",
    "print(meddelande)"
   ]
  },
  {
   "attachments": {},
   "cell_type": "markdown",
   "metadata": {},
   "source": [
    "Vad skrivs ut i denna koden?"
   ]
  },
  {
   "cell_type": "code",
   "execution_count": 3,
   "metadata": {},
   "outputs": [
    {
     "name": "stdout",
     "output_type": "stream",
     "text": [
      "a\n"
     ]
    }
   ],
   "source": [
    "frukter = [\"jordgubbe\", \"vindruva\", \"grape\"]\n",
    "# start:stop\n",
    "# 0, 1, 2\n",
    "godfrukt = frukter[1]\n",
    "print(godfrukt[-1])"
   ]
  },
  {
   "attachments": {},
   "cell_type": "markdown",
   "metadata": {},
   "source": [
    "-----------------\n",
    "Skapa en funktion som tar in ett helttal n som parameter och skriver ut följande mönstret nedan.\n",
    "\n",
    "Exempel när n=5\n",
    "\n",
    "* o\n",
    "* x o\n",
    "* x x o \n",
    "* x x x o\n",
    "* x x x x o\n",
    "\n",
    "Create a function that takes in n whole number as parameter and writes out the following:"
   ]
  },
  {
   "cell_type": "code",
   "execution_count": 4,
   "metadata": {},
   "outputs": [
    {
     "name": "stdout",
     "output_type": "stream",
     "text": [
      "o\n",
      "x o\n",
      "x x o\n",
      "x x x o\n",
      "x x x x o\n"
     ]
    }
   ],
   "source": [
    "# for loop(start(inclusive), stop, step(exclusive))\n",
    "\n",
    "def my_func(n):\n",
    "    for i in range(1, n+1):\n",
    "        for j in range(i-1):\n",
    "            print('x ', end='')\n",
    "        print('o')\n",
    "my_func(5)"
   ]
  },
  {
   "attachments": {},
   "cell_type": "markdown",
   "metadata": {},
   "source": [
    "-----------\n",
    "Skapa en funktion som tar in ett heltal n som parameter och skriver ut följande mönstret nedan.\n",
    "\n",
    "Exempel när n = 5:\n",
    "* x x x x x\n",
    "* x x x x\n",
    "* x x x \n",
    "* x x\n",
    "* x"
   ]
  },
  {
   "cell_type": "code",
   "execution_count": 45,
   "metadata": {},
   "outputs": [
    {
     "name": "stdout",
     "output_type": "stream",
     "text": [
      "x x x x x\n",
      "x x x x\n",
      "x x x\n",
      "x x\n",
      "x\n"
     ]
    }
   ],
   "source": [
    "def my_func(n):\n",
    "    for i in range(n):\n",
    "        row = 'x ' * (n - i)\n",
    "        print(row.strip())\n",
    "\n",
    "my_func(5)"
   ]
  },
  {
   "attachments": {},
   "cell_type": "markdown",
   "metadata": {},
   "source": [
    "--------------------\n",
    "Skriv in en funktion som tar in en sida som inparameter och returnerar area och omkrets av en kvadrat.\n",
    "Låt användaren mata in en sida och kör funktionen. Ta med felhantering."
   ]
  },
  {
   "cell_type": "code",
   "execution_count": null,
   "metadata": {},
   "outputs": [],
   "source": [
    "def berakna_area_och_omkrets(side):\n",
    "    try:\n",
    "        side = float(side) # konvertera inmatningen till en flyttalsdecimal\n",
    "    except ValueError:\n",
    "        return \"Fel: Inmatningen är inte ett giltigt nummer\"\n",
    "    \n",
    "    if side <= 0: # kolla om inmatningen är positiv\n",
    "        return \"Fel: Inmatningen måste vara ett positivt nummer\"\n",
    "    \n",
    "    area = side ** 2 # beräkna kvadratens area\n",
    "    omkrets = 4 * side # beräkna kvadratens omkrets\n",
    "    \n",
    "    return area, omkrets # returnera båda värdena som en tuple\n",
    "\n",
    "side = input(\"Ange längden på en sida av kvadraten: \")\n",
    "resultat = berakna_area_och_omkrets(side)\n",
    "print(\"Arean av kvadraten är:\", resultat[0])\n",
    "print(\"Omkretsen av kvadraten är:\", resultat[1])\n"
   ]
  },
  {
   "attachments": {},
   "cell_type": "markdown",
   "metadata": {},
   "source": [
    "------------------------------\n",
    "Beskriv vad som skrivt ut och motivera varför, använd datavetenskapligt korrekta termer"
   ]
  },
  {
   "cell_type": "code",
   "execution_count": null,
   "metadata": {},
   "outputs": [],
   "source": [
    "class Person:\n",
    "    def hej(self):\n",
    "        print(\"person säger hej\")\n",
    "\n",
    "class Gubbe(Person):\n",
    "    def hej(self):\n",
    "        print(\"Gubbe säger hej\")\n",
    "\n",
    "class Viking(Gubbe):\n",
    "    def hoy(self):\n",
    "        print(\"Viking säger hoy\")\n",
    "\n",
    "for person in (Person(), Gubbe(), Viking()):\n",
    "    person.hej()\n"
   ]
  },
  {
   "cell_type": "code",
   "execution_count": null,
   "metadata": {},
   "outputs": [],
   "source": [
    "class Person:\n",
    "    def hej(self):\n",
    "        print(\"person säger hej\")\n",
    "\n",
    "class Student(Person):\n",
    "    def hej(self):\n",
    "        print(\"Student säger hej\")\n",
    "\n",
    "class Viking(Student):\n",
    "    def hoy(self):\n",
    "        print(\"Viking säger hoy\")\n",
    "\n",
    "for person in (Person(), Student(), Viking()):\n",
    "    person.hej()"
   ]
  },
  {
   "cell_type": "code",
   "execution_count": 42,
   "metadata": {},
   "outputs": [
    {
     "name": "stdout",
     "output_type": "stream",
     "text": [
      "Arean av kvadraten är: 100.0\n",
      "Omkretsen av kvadraten är: 40.0\n"
     ]
    }
   ],
   "source": []
  },
  {
   "cell_type": "code",
   "execution_count": null,
   "metadata": {},
   "outputs": [],
   "source": []
  },
  {
   "attachments": {},
   "cell_type": "markdown",
   "metadata": {},
   "source": [
    "For loop training"
   ]
  },
  {
   "cell_type": "code",
   "execution_count": 8,
   "metadata": {},
   "outputs": [
    {
     "name": "stdout",
     "output_type": "stream",
     "text": [
      "1 \n",
      "2 3 \n",
      "3 4 5 \n",
      "4 5 6 7 \n",
      "5 6 7 8 9 \n"
     ]
    }
   ],
   "source": [
    "for i in range(1, 6):\n",
    "    for j in range(i, i*2):\n",
    "        print(j, end=' ')\n",
    "    print()"
   ]
  },
  {
   "cell_type": "code",
   "execution_count": 9,
   "metadata": {},
   "outputs": [
    {
     "name": "stdout",
     "output_type": "stream",
     "text": [
      "loopox\n",
      "forox\n",
      "youox\n"
     ]
    }
   ],
   "source": [
    "a = ['loop', 'for', 'you']\n",
    "\n",
    "for i in a:\n",
    "    print(i+'o'+'x')"
   ]
  },
  {
   "cell_type": "code",
   "execution_count": 10,
   "metadata": {},
   "outputs": [
    {
     "name": "stdout",
     "output_type": "stream",
     "text": [
      "300\n"
     ]
    }
   ],
   "source": [
    "n = 100\n",
    "\n",
    "for i in range(n):\n",
    "    n += 2\n",
    "\n",
    "print(n)"
   ]
  },
  {
   "cell_type": "code",
   "execution_count": 11,
   "metadata": {},
   "outputs": [
    {
     "name": "stdout",
     "output_type": "stream",
     "text": [
      "good luck\n",
      "good luck\n",
      "good luck2\n",
      "good luck2\n"
     ]
    }
   ],
   "source": [
    "for i in range(2):\n",
    "    print(\"good luck\")\n",
    "for i in range(1, 3):\n",
    "    print(\"good luck2\")"
   ]
  }
 ],
 "metadata": {
  "kernelspec": {
   "display_name": "Python 3",
   "language": "python",
   "name": "python3"
  },
  "language_info": {
   "codemirror_mode": {
    "name": "ipython",
    "version": 3
   },
   "file_extension": ".py",
   "mimetype": "text/x-python",
   "name": "python",
   "nbconvert_exporter": "python",
   "pygments_lexer": "ipython3",
   "version": "3.9.13"
  },
  "orig_nbformat": 4
 },
 "nbformat": 4,
 "nbformat_minor": 2
}
