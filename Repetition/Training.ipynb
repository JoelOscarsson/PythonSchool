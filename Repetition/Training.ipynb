{
 "cells": [
  {
   "attachments": {},
   "cell_type": "markdown",
   "metadata": {},
   "source": [
    "Beskriv vad koden gör och vad som skrivs ut:"
   ]
  },
  {
   "cell_type": "code",
   "execution_count": 25,
   "metadata": {},
   "outputs": [
    {
     "name": "stdout",
     "output_type": "stream",
     "text": [
      "kan\n"
     ]
    }
   ],
   "source": [
    "husdjur = \"kanin\"\n",
    "\n",
    "# Start, stop, step\n",
    "meddelande = husdjur[:3]\n",
    "\n",
    "print(meddelande)"
   ]
  },
  {
   "cell_type": "code",
   "execution_count": 169,
   "metadata": {},
   "outputs": [
    {
     "name": "stdout",
     "output_type": "stream",
     "text": [
      "kn\n"
     ]
    }
   ],
   "source": [
    "husdjur = \"kazin\"\n",
    "\n",
    "# Start, stop, step\n",
    "meddelande = husdjur[::4]\n",
    "\n",
    "print(meddelande)"
   ]
  },
  {
   "attachments": {},
   "cell_type": "markdown",
   "metadata": {},
   "source": [
    "Vad skrivs ut i denna koden?"
   ]
  },
  {
   "cell_type": "code",
   "execution_count": 3,
   "metadata": {},
   "outputs": [
    {
     "name": "stdout",
     "output_type": "stream",
     "text": [
      "a\n"
     ]
    }
   ],
   "source": [
    "frukter = [\"jordgubbe\", \"vindruva\", \"grape\"]\n",
    "# start:stop\n",
    "# 0, 1, 2\n",
    "godfrukt = frukter[1]\n",
    "print(godfrukt[-1])"
   ]
  },
  {
   "attachments": {},
   "cell_type": "markdown",
   "metadata": {},
   "source": [
    "-----------------\n",
    "Skapa en funktion som tar in ett helttal n som parameter och skriver ut följande mönstret nedan.\n",
    "\n",
    "Exempel när n=5\n",
    "\n",
    "* o\n",
    "* x o\n",
    "* x x o \n",
    "* x x x o\n",
    "* x x x x o\n",
    "\n",
    "Create a function that takes in n whole number as parameter and writes out the following:"
   ]
  },
  {
   "cell_type": "code",
   "execution_count": 4,
   "metadata": {},
   "outputs": [
    {
     "name": "stdout",
     "output_type": "stream",
     "text": [
      "o\n",
      "x o\n",
      "x x o\n",
      "x x x o\n",
      "x x x x o\n"
     ]
    }
   ],
   "source": [
    "# for loop(start(inclusive), stop, step(exclusive))\n",
    "\n",
    "def my_func(n):\n",
    "    for i in range(1, n+1):\n",
    "        for j in range(i-1):\n",
    "            print('x ', end='')\n",
    "        print('o')\n",
    "my_func(5)"
   ]
  },
  {
   "attachments": {},
   "cell_type": "markdown",
   "metadata": {},
   "source": [
    "-----------\n",
    "Skapa en funktion som tar in ett heltal n som parameter och skriver ut följande mönstret nedan.\n",
    "\n",
    "Exempel när n = 5:\n",
    "* x x x x x\n",
    "* x x x x\n",
    "* x x x \n",
    "* x x\n",
    "* x"
   ]
  },
  {
   "cell_type": "code",
   "execution_count": 4,
   "metadata": {},
   "outputs": [
    {
     "name": "stdout",
     "output_type": "stream",
     "text": [
      "x x x x x\n",
      "x x x x\n",
      "x x x\n",
      "x x\n",
      "x\n"
     ]
    }
   ],
   "source": [
    "def my_func(n):\n",
    "    for i in range(n):\n",
    "        row = 'x ' * (n - i)\n",
    "        print(row.strip())\n",
    "\n",
    "my_func(5)"
   ]
  },
  {
   "attachments": {},
   "cell_type": "markdown",
   "metadata": {},
   "source": [
    "--------------------\n",
    "Skriv in en funktion som tar in en sida som inparameter och returnerar area och omkrets av en kvadrat.\n",
    "Låt användaren mata in en sida och kör funktionen. Ta med felhantering."
   ]
  },
  {
   "cell_type": "code",
   "execution_count": 50,
   "metadata": {},
   "outputs": [
    {
     "name": "stdout",
     "output_type": "stream",
     "text": [
      "Arean av kvadraten är: 1.0\n",
      "Omkretsen av kvadraten är: 4.0\n"
     ]
    }
   ],
   "source": [
    "def berakna_area_och_omkrets(side):\n",
    "    try:\n",
    "        side = float(side) # konvertera inmatningen till en flyttalsdecimal\n",
    "    except ValueError:\n",
    "        return \"Fel: Inmatningen är inte ett giltigt nummer\"\n",
    "    \n",
    "    if side <= 0: # kolla om inmatningen är positiv\n",
    "        return \"Fel: Inmatningen måste vara ett positivt nummer\"\n",
    "    \n",
    "    area = side ** 2 # beräkna kvadratens area\n",
    "    omkrets = 4 * side # beräkna kvadratens omkrets\n",
    "    \n",
    "    return area, omkrets # returnera båda värdena som en tuple\n",
    "\n",
    "side = input(\"Ange längden på en sida av kvadraten: \")\n",
    "resultat = berakna_area_och_omkrets(side)\n",
    "print(\"Arean av kvadraten är:\", resultat[0])\n",
    "print(\"Omkretsen av kvadraten är:\", resultat[1])\n"
   ]
  },
  {
   "attachments": {},
   "cell_type": "markdown",
   "metadata": {},
   "source": [
    "------------------------------\n",
    "Beskriv vad som skrivt ut och motivera varför, använd datavetenskapligt korrekta termer"
   ]
  },
  {
   "cell_type": "code",
   "execution_count": 84,
   "metadata": {},
   "outputs": [
    {
     "name": "stdout",
     "output_type": "stream",
     "text": [
      "person säger hej\n",
      "Gubbe säger hej\n",
      "Gubbe säger hej\n"
     ]
    }
   ],
   "source": [
    "class Person:\n",
    "    def hej(self):\n",
    "        print(\"person säger hej\")\n",
    "\n",
    "class Gubbe(Person):\n",
    "    def hej(self):\n",
    "        print(\"Gubbe säger hej\")\n",
    "\n",
    "class Viking(Gubbe):\n",
    "    def hoy(self):\n",
    "        print(\"Viking säger hoy\")\n",
    "\n",
    "for person in (Person(), Gubbe(), Viking()):\n",
    "    person.hej()\n",
    "\n",
    "\n",
    "# Inheritance "
   ]
  },
  {
   "attachments": {},
   "cell_type": "markdown",
   "metadata": {},
   "source": [
    "Vi har tre klasser. Klassen Gubbe ärver från Person, och viking ärver från Gubben.\n",
    "Eftersom man ärver attribut av andra klasser och Viking ärver attribut från \"Gubbe\" - inte \"Person\" så skriv alltså \n",
    "\n",
    "\n",
    "\n",
    "--------"
   ]
  },
  {
   "attachments": {},
   "cell_type": "markdown",
   "metadata": {},
   "source": [
    "![Try](Sk%C3%A4rmavbild%202023-04-10%20kl.%2015.49.50.png)"
   ]
  },
  {
   "cell_type": "code",
   "execution_count": 52,
   "metadata": {},
   "outputs": [
    {
     "name": "stdout",
     "output_type": "stream",
     "text": [
      "1\t2\t3\t4\t5\t6\t7\t8\t9\t10\t\n",
      "2\t4\t6\t8\t10\t12\t14\t16\t18\t20\t\n",
      "3\t6\t9\t12\t15\t18\t21\t24\t27\t30\t\n",
      "4\t8\t12\t16\t20\t24\t28\t32\t36\t40\t\n",
      "5\t10\t15\t20\t25\t30\t35\t40\t45\t50\t\n"
     ]
    }
   ],
   "source": [
    "def multiplication_table(n):\n",
    "    for row in range(1, n+1):\n",
    "        for col in range(1, n+6):\n",
    "            print(row*col, end=\"\\t\")\n",
    "        print()\n",
    "\n",
    "n = int(input('Skriv in positivt heltal mellan 0-15'))\n",
    "multiplication_table(n)\n"
   ]
  },
  {
   "attachments": {},
   "cell_type": "markdown",
   "metadata": {},
   "source": [
    "![Testa](Sk%C3%A4rmavbild%202023-04-10%20kl.%2015.57.47.png)"
   ]
  },
  {
   "cell_type": "code",
   "execution_count": 68,
   "metadata": {},
   "outputs": [],
   "source": [
    "import random\n",
    "\n",
    "word_list = ['python', 'programming', 'data', 'science']\n",
    "\n",
    "def play_hangman():\n",
    "    # choose a word and initialize the game state\n",
    "    word = random.choice(word_list)\n",
    "    guessed_letters = set()\n",
    "    num_lives = 5\n",
    "\n",
    "    # loop until the player wins or runs out of lives\n",
    "    while num_lives > 0:\n",
    "        # print out the current state of the game\n",
    "        print('Word:', ' '.join([letter if letter in guessed_letters else '_' for letter in word]))\n",
    "        print('Guessed letters:', ' '.join(guessed_letters))\n",
    "        print('Lives:', num_lives)\n",
    "\n",
    "        # get a letter guess from the player\n",
    "        guess = input('Guess a letter: ').lower()\n",
    "\n",
    "        # check if the guess is in the word and update the game state\n",
    "        if guess in word:\n",
    "            guessed_letters.add(guess)\n",
    "            if set(word) == guessed_letters:\n",
    "                print('You win!')\n",
    "                return\n",
    "        else:\n",
    "            num_lives -= 1\n",
    "\n",
    "    print('You lose!')\n"
   ]
  },
  {
   "cell_type": "code",
   "execution_count": null,
   "metadata": {},
   "outputs": [],
   "source": [
    "play_hangman()"
   ]
  },
  {
   "cell_type": "code",
   "execution_count": 62,
   "metadata": {},
   "outputs": [
    {
     "name": "stdout",
     "output_type": "stream",
     "text": [
      "_ _ _ _ _ _ _ \n",
      "Guessed letters: \n",
      "_ c _ _ _ c _ \n",
      "Guessed letters: c\n",
      "s c _ _ _ c _ \n",
      "Guessed letters: s c\n",
      "s c _ _ _ c _ \n",
      "Guessed letters: s c\n",
      "s c i _ _ c _ \n",
      "Guessed letters: s i c\n",
      "s c i e _ c e \n",
      "Guessed letters: s e i c\n",
      "s c i e n c e \n",
      "Guessed letters: e i c s n\n",
      "You win!\n"
     ]
    }
   ],
   "source": [
    "import random\n",
    "\n",
    "class Hangman:\n",
    "    word_list = ['python', 'programming', 'data', 'science']\n",
    "    num_lives = 5\n",
    "\n",
    "    def __init__(self):\n",
    "        self.word = random.choice(self.word_list)\n",
    "        self.guessed_letters = set()\n",
    "\n",
    "    def guess_letter(self, letter):\n",
    "        \"\"\"Guess a letter and update the game state\"\"\"\n",
    "        self.guessed_letters.add(letter)\n",
    "        if letter not in self.word:\n",
    "            self.num_lives -= 1\n",
    "\n",
    "    def print_word(self):\n",
    "        \"\"\"Prints out the word with blanks for unguessed letters\"\"\"\n",
    "        for letter in self.word:\n",
    "            if letter in self.guessed_letters:\n",
    "                print(letter, end=' ')\n",
    "            else:\n",
    "                print('_', end=' ')\n",
    "        print()\n",
    "\n",
    "    def print_guessed_letters(self):\n",
    "        \"\"\"Prints out the letters that have been guessed so far\"\"\"\n",
    "        print('Guessed letters:', ' '.join(self.guessed_letters))\n",
    "\n",
    "    def play(self):\n",
    "        # print out the initial state of the game\n",
    "        self.print_word()\n",
    "        self.print_guessed_letters()\n",
    "\n",
    "        while self.num_lives > 0:\n",
    "            letter = input('Guess a letter: ')\n",
    "            self.guess_letter(letter)\n",
    "            self.print_word()\n",
    "            self.print_guessed_letters()\n",
    "            \n",
    "            if set(self.word) == self.guessed_letters:\n",
    "                print('You win!')\n",
    "                return\n",
    "            \n",
    "        print('You lose!')\n",
    "\n",
    "\n",
    "game = Hangman()\n",
    "game.play()\n"
   ]
  },
  {
   "attachments": {},
   "cell_type": "markdown",
   "metadata": {},
   "source": [
    "Uppgift 2 (3p)\n",
    "\n",
    "Simulera 1000000 tärningskast och beräkna antalet ettor, tvåor, treor, fyror, femmor och sexor. Spara resultatet i en lämplig datastruktur."
   ]
  },
  {
   "cell_type": "code",
   "execution_count": 26,
   "metadata": {},
   "outputs": [
    {
     "name": "stdout",
     "output_type": "stream",
     "text": [
      "{'roll1': 166229, 'roll2': 166778, 'roll3': 166560, 'roll4': 166948, 'roll5': 167088, 'roll6': 166397}\n"
     ]
    }
   ],
   "source": [
    "import random as rnd\n",
    "rolls = [rnd.randint(1, 6) for i in range (1000000)]\n",
    "\n",
    "dice_rolls = dict(\n",
    "    roll1 = rolls.count(1),\n",
    "    roll2 = rolls.count(2),\n",
    "    roll3 = rolls.count(3),\n",
    "    roll4 = rolls.count(4),\n",
    "    roll5 = rolls.count(5),\n",
    "    roll6 = rolls.count(6),\n",
    ")\n",
    "\n",
    "print(dice_rolls)"
   ]
  },
  {
   "attachments": {},
   "cell_type": "markdown",
   "metadata": {},
   "source": [
    "For loop training"
   ]
  },
  {
   "cell_type": "code",
   "execution_count": 8,
   "metadata": {},
   "outputs": [
    {
     "name": "stdout",
     "output_type": "stream",
     "text": [
      "1 \n",
      "2 3 \n",
      "3 4 5 \n",
      "4 5 6 7 \n",
      "5 6 7 8 9 \n"
     ]
    }
   ],
   "source": [
    "for i in range(1, 6):\n",
    "    for j in range(i, i*2):\n",
    "        print(j, end=' ')\n",
    "    print()"
   ]
  },
  {
   "cell_type": "code",
   "execution_count": 9,
   "metadata": {},
   "outputs": [
    {
     "name": "stdout",
     "output_type": "stream",
     "text": [
      "loopox\n",
      "forox\n",
      "youox\n"
     ]
    }
   ],
   "source": [
    "a = ['loop', 'for', 'you']\n",
    "\n",
    "for i in a:\n",
    "    print(i+'o'+'x')"
   ]
  },
  {
   "cell_type": "code",
   "execution_count": 10,
   "metadata": {},
   "outputs": [
    {
     "name": "stdout",
     "output_type": "stream",
     "text": [
      "300\n"
     ]
    }
   ],
   "source": [
    "n = 100\n",
    "\n",
    "for i in range(n):\n",
    "    n += 2\n",
    "\n",
    "print(n)"
   ]
  },
  {
   "cell_type": "code",
   "execution_count": 11,
   "metadata": {},
   "outputs": [
    {
     "name": "stdout",
     "output_type": "stream",
     "text": [
      "good luck\n",
      "good luck\n",
      "good luck2\n",
      "good luck2\n"
     ]
    }
   ],
   "source": [
    "for i in range(2):\n",
    "    print(\"good luck\")\n",
    "for i in range(1, 3):\n",
    "    print(\"good luck2\")"
   ]
  },
  {
   "cell_type": "code",
   "execution_count": 136,
   "metadata": {},
   "outputs": [
    {
     "name": "stdout",
     "output_type": "stream",
     "text": [
      "tt\n",
      "tt\n",
      "tt\n",
      "tt\n",
      "tt\n",
      "tt\n",
      "tt\n",
      "tt\n",
      "tt\n",
      "tt\n"
     ]
    }
   ],
   "source": [
    "rows = int(input(\"Enter the # rows: \"))\n",
    "columns = int(input(\"Enter the # of columns: \"))\n",
    "symbol = input(\"Enter a symbol to use: \")\n",
    "\n",
    "for x in range(rows):\n",
    "    for y in range(columns):\n",
    "        print(symbol, end=\"\")\n",
    "    print()"
   ]
  },
  {
   "cell_type": "code",
   "execution_count": 228,
   "metadata": {},
   "outputs": [
    {
     "name": "stdout",
     "output_type": "stream",
     "text": [
      "Tusenlappar: 3\n",
      "Tvåhundralappar: 1\n",
      "Tiokrona: 2\n",
      "Enkrona: 2\n",
      "465 µs ± 20.3 µs per loop (mean ± std. dev. of 7 runs, 1,000 loops each)\n"
     ]
    }
   ],
   "source": [
    "import timeit\n",
    "\n",
    "\n",
    "def money_splitter(money):\n",
    "    Tusenlapp, Tvåhundralapp, Tiokrona, Enkrona = 0, 0, 0, 0\n",
    "\n",
    "    while money >= 0:\n",
    "        if money >= 1000:\n",
    "            Tusenlapp += 1\n",
    "            money -= 1000\n",
    "\n",
    "        elif money >= 200:\n",
    "            Tvåhundralapp += 1\n",
    "            money -= 200\n",
    "\n",
    "        elif money >= 10:\n",
    "            Tiokrona += 1\n",
    "            money -= 10\n",
    "\n",
    "        elif money >= 1:\n",
    "            Enkrona += 1\n",
    "            money -= 1\n",
    "\n",
    "        else:\n",
    "            return print(\n",
    "                f\"Tusenlappar: {Tusenlapp}\\nTvåhundralappar: {Tvåhundralapp}\\nTiokrona: {Tiokrona}\\nEnkrona: {Enkrona}\"\n",
    "            )\n",
    "money_splitter(3222)\n",
    "\n",
    "%timeit for x in range(10000): money_splitter"
   ]
  },
  {
   "cell_type": "code",
   "execution_count": 70,
   "metadata": {},
   "outputs": [
    {
     "name": "stdout",
     "output_type": "stream",
     "text": [
      "Tusenlapp: 2\n",
      "Tvåhundralapp: 1\n",
      "Tiokrona: 2\n",
      "Enkrona: 2\n"
     ]
    }
   ],
   "source": [
    "def money_splitter(money):\n",
    "    denominations = {'Tusenlapp': 1000, 'Tvåhundralapp': 200, 'Tiokrona': 10, 'Enkrona': 1}\n",
    "    result = {denom: 0 for denom in denominations}\n",
    "\n",
    "    for denom, value in denominations.items():\n",
    "        while money >= value:\n",
    "            result[denom] += 1\n",
    "            money -= value\n",
    "\n",
    "    for denom, count in result.items():\n",
    "        print(f\"{denom}: {count}\")\n",
    "\n",
    "money_splitter(2222)\n"
   ]
  },
  {
   "cell_type": "code",
   "execution_count": null,
   "metadata": {},
   "outputs": [],
   "source": [
    "def money_splitter(money):\n",
    "    denominations = {'Tusenlappar': 1000, 'Tvåhundralappar': 200, 'Tiokrona': 10, 'Enkrona': 1}\n",
    "    result = {k: 0 for k in denominations}\n",
    "\n",
    "    for denomination, value in denominations.items():\n",
    "        while money >= value:\n",
    "            result[denomination] += 1\n",
    "            money -= value\n",
    "\n",
    "    print('\\n'.join(f\"{k}: {v}\" for k, v in result.items()))\n"
   ]
  }
 ],
 "metadata": {
  "kernelspec": {
   "display_name": "Python 3",
   "language": "python",
   "name": "python3"
  },
  "language_info": {
   "codemirror_mode": {
    "name": "ipython",
    "version": 3
   },
   "file_extension": ".py",
   "mimetype": "text/x-python",
   "name": "python",
   "nbconvert_exporter": "python",
   "pygments_lexer": "ipython3",
   "version": "3.9.13"
  },
  "orig_nbformat": 4
 },
 "nbformat": 4,
 "nbformat_minor": 2
}
