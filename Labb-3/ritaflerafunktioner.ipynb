{
 "cells": [
  {
   "cell_type": "code",
   "execution_count": null,
   "metadata": {},
   "outputs": [],
   "source": [
    "för att rita flera funktioner i samma figur:\n",
    "\n",
    "import numpy as np\n",
    "import matplotlib.pyplot as plt\n",
    "from dataclasses import dataclass\n",
    "\n",
    "@dataclass\n",
    "class Sine:\n",
    "    x: np.array\n",
    "\n",
    "    def plot(self, ax):\n",
    "        ax.plot(np.sin(self.x))\n",
    "\n",
    "@dataclass\n",
    "class Line:\n",
    "    x: np.array\n",
    "    slope: int = 1\n",
    "    intercept: int = 0\n",
    "\n",
    "    def plot(self, ax):\n",
    "        ax.plot(self.slope*self.x + self.intercept)\n",
    "\n",
    "ax = plt.axes()\n",
    "my_sine = Sine(np.linspace(-3,3))\n",
    "my_line = Line(np.linspace(-3,3))\n",
    "neg_line = Line(np.linspace(-3,3), slope = -1)\n",
    "\n",
    "for func in (my_line, my_sine, neg_line):\n",
    "    func.plot(ax)\n",
    "\n",
    "ax.set(title = \"Drawing many functions in same surface\");"
   ]
  }
 ],
 "metadata": {
  "language_info": {
   "name": "python"
  },
  "orig_nbformat": 4
 },
 "nbformat": 4,
 "nbformat_minor": 2
}
