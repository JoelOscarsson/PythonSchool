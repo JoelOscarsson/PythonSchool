{
 "cells": [
  {
   "cell_type": "code",
   "execution_count": 1,
   "metadata": {},
   "outputs": [
    {
     "name": "stdout",
     "output_type": "stream",
     "text": [
      "__init__\n",
      "x_pos.setter\n",
      "y_pos.setter\n"
     ]
    },
    {
     "ename": "TypeError",
     "evalue": "unsupported operand type(s) for |: 'type' and 'type'",
     "output_type": "error",
     "traceback": [
      "\u001b[1;31m---------------------------------------------------------------------------\u001b[0m",
      "\u001b[1;31mTypeError\u001b[0m                                 Traceback (most recent call last)",
      "Cell \u001b[1;32mIn [1], line 3\u001b[0m\n\u001b[0;32m      1\u001b[0m \u001b[39mfrom\u001b[39;00m \u001b[39mcircle\u001b[39;00m \u001b[39mimport\u001b[39;00m Circle\n\u001b[1;32m----> 3\u001b[0m circle1 \u001b[39m=\u001b[39m Circle(\u001b[39m0\u001b[39;49m, \u001b[39m0\u001b[39;49m, \u001b[39m1\u001b[39;49m)\n\u001b[0;32m      4\u001b[0m circle1\n",
      "File \u001b[1;32mc:\\Users\\j_osc\\OneDrive\\Documents\\Github\\PythonSchool\\Labb-3\\Shape\\circle.py:12\u001b[0m, in \u001b[0;36mCircle.__init__\u001b[1;34m(self, x_pos, y_pos, radius)\u001b[0m\n\u001b[0;32m     10\u001b[0m \u001b[39mdef\u001b[39;00m \u001b[39m__init__\u001b[39m(\u001b[39mself\u001b[39m, x_pos: \u001b[39mfloat\u001b[39m, y_pos: \u001b[39mfloat\u001b[39m, radius: \u001b[39mfloat\u001b[39m):\n\u001b[0;32m     11\u001b[0m     \u001b[39msuper\u001b[39m()\u001b[39m.\u001b[39m\u001b[39m__init__\u001b[39m(x_pos, y_pos)\n\u001b[1;32m---> 12\u001b[0m     \u001b[39mself\u001b[39;49m\u001b[39m.\u001b[39;49mradius \u001b[39m=\u001b[39m radius\n\u001b[0;32m     13\u001b[0m     \u001b[39m# No value in area and circum from start\u001b[39;00m\n\u001b[0;32m     14\u001b[0m     \u001b[39mself\u001b[39m\u001b[39m.\u001b[39m_circum \u001b[39m=\u001b[39m \u001b[39m0\u001b[39m\n",
      "File \u001b[1;32mc:\\Users\\j_osc\\OneDrive\\Documents\\Github\\PythonSchool\\Labb-3\\Shape\\circle.py:25\u001b[0m, in \u001b[0;36mCircle.radius\u001b[1;34m(self, value)\u001b[0m\n\u001b[0;32m     23\u001b[0m \u001b[39m@radius\u001b[39m\u001b[39m.\u001b[39msetter\n\u001b[0;32m     24\u001b[0m \u001b[39mdef\u001b[39;00m \u001b[39mradius\u001b[39m(\u001b[39mself\u001b[39m, value: (\u001b[39mint\u001b[39m \u001b[39m|\u001b[39m \u001b[39mfloat\u001b[39m)):\n\u001b[1;32m---> 25\u001b[0m     \u001b[39mif\u001b[39;00m \u001b[39mnot\u001b[39;00m \u001b[39misinstance\u001b[39m(value, (\u001b[39mfloat\u001b[39;49m \u001b[39m|\u001b[39;49m \u001b[39mint\u001b[39;49m)):\n\u001b[0;32m     26\u001b[0m         \u001b[39mraise\u001b[39;00m \u001b[39mTypeError\u001b[39;00m(\u001b[39mf\u001b[39m\u001b[39m\"\u001b[39m\u001b[39mNumber has to be an int or float not \u001b[39m\u001b[39m{\u001b[39;00m\u001b[39mtype\u001b[39m(value)\u001b[39m}\u001b[39;00m\u001b[39m\"\u001b[39m)\n\u001b[0;32m     27\u001b[0m     \u001b[39mif\u001b[39;00m value \u001b[39m<\u001b[39m\u001b[39m=\u001b[39m \u001b[39m0\u001b[39m:\n",
      "\u001b[1;31mTypeError\u001b[0m: unsupported operand type(s) for |: 'type' and 'type'"
     ]
    }
   ],
   "source": [
    "from circle import Circle\n",
    "\n",
    "circle1 = Circle(0, 0, 1)\n",
    "circle1"
   ]
  },
  {
   "cell_type": "code",
   "execution_count": 12,
   "metadata": {},
   "outputs": [
    {
     "name": "stdout",
     "output_type": "stream",
     "text": [
      "__init__\n",
      "x_pos.setter\n",
      "y_pos.setter\n",
      "1\n",
      "1\n"
     ]
    }
   ],
   "source": [
    "circle1 = Circle(1, 1, 1) ## Kommer in i modulen\n",
    "circle1\n",
    "print(circle1.x_pos)\n",
    "print(circle1.y_pos)\n",
    "\n"
   ]
  },
  {
   "cell_type": "code",
   "execution_count": 17,
   "metadata": {},
   "outputs": [
    {
     "data": {
      "text/plain": [
       "True"
      ]
     },
     "execution_count": 17,
     "metadata": {},
     "output_type": "execute_result"
    }
   ],
   "source": [
    "# Testing if area computation is correct\n",
    "circle1.area()\n",
    "(circle1.area()) ==  (1**2*3.14)"
   ]
  },
  {
   "cell_type": "code",
   "execution_count": 20,
   "metadata": {},
   "outputs": [
    {
     "data": {
      "text/plain": [
       "True"
      ]
     },
     "execution_count": 20,
     "metadata": {},
     "output_type": "execute_result"
    }
   ],
   "source": [
    "# Testing if omkrets computation is correct\n",
    "circle1.omkrets()\n",
    "(circle1.omkrets()) == (2*1*3.14)"
   ]
  },
  {
   "cell_type": "code",
   "execution_count": null,
   "metadata": {},
   "outputs": [],
   "source": [
    "# Skriva in negativa\n",
    "# SKriv in invalid värden\n",
    "# SKriv in "
   ]
  },
  {
   "cell_type": "code",
   "execution_count": 3,
   "metadata": {},
   "outputs": [
    {
     "name": "stdout",
     "output_type": "stream",
     "text": [
      "__init__\n",
      "x_pos.setter\n",
      "y_pos.setter\n"
     ]
    },
    {
     "ename": "TypeError",
     "evalue": "unsupported operand type(s) for |: 'type' and 'type'",
     "output_type": "error",
     "traceback": [
      "\u001b[1;31m---------------------------------------------------------------------------\u001b[0m",
      "\u001b[1;31mTypeError\u001b[0m                                 Traceback (most recent call last)",
      "Cell \u001b[1;32mIn [3], line 1\u001b[0m\n\u001b[1;32m----> 1\u001b[0m cirkel1 \u001b[39m=\u001b[39m Circle(x_pos\u001b[39m=\u001b[39;49m\u001b[39m0\u001b[39;49m,y_pos\u001b[39m=\u001b[39;49m\u001b[39m0\u001b[39;49m, radius\u001b[39m=\u001b[39;49m\u001b[39m1\u001b[39;49m)\n\u001b[0;32m      2\u001b[0m cirkel1\u001b[39m.\u001b[39mradius\n",
      "File \u001b[1;32mc:\\Users\\j_osc\\OneDrive\\Documents\\Github\\PythonSchool\\Labb-3\\Shape\\circle.py:12\u001b[0m, in \u001b[0;36mCircle.__init__\u001b[1;34m(self, x_pos, y_pos, radius)\u001b[0m\n\u001b[0;32m     10\u001b[0m \u001b[39mdef\u001b[39;00m \u001b[39m__init__\u001b[39m(\u001b[39mself\u001b[39m, x_pos: \u001b[39mfloat\u001b[39m, y_pos: \u001b[39mfloat\u001b[39m, radius: \u001b[39mfloat\u001b[39m):\n\u001b[0;32m     11\u001b[0m     \u001b[39msuper\u001b[39m()\u001b[39m.\u001b[39m\u001b[39m__init__\u001b[39m(x_pos, y_pos)\n\u001b[1;32m---> 12\u001b[0m     \u001b[39mself\u001b[39;49m\u001b[39m.\u001b[39;49mradius \u001b[39m=\u001b[39m radius\n\u001b[0;32m     13\u001b[0m     \u001b[39m# No value in area and circum from start\u001b[39;00m\n\u001b[0;32m     14\u001b[0m     \u001b[39mself\u001b[39m\u001b[39m.\u001b[39m_circum \u001b[39m=\u001b[39m \u001b[39m0\u001b[39m\n",
      "File \u001b[1;32mc:\\Users\\j_osc\\OneDrive\\Documents\\Github\\PythonSchool\\Labb-3\\Shape\\circle.py:25\u001b[0m, in \u001b[0;36mCircle.radius\u001b[1;34m(self, value)\u001b[0m\n\u001b[0;32m     23\u001b[0m \u001b[39m@radius\u001b[39m\u001b[39m.\u001b[39msetter\n\u001b[0;32m     24\u001b[0m \u001b[39mdef\u001b[39;00m \u001b[39mradius\u001b[39m(\u001b[39mself\u001b[39m, value: (\u001b[39mint\u001b[39m \u001b[39m|\u001b[39m \u001b[39mfloat\u001b[39m)):\n\u001b[1;32m---> 25\u001b[0m     \u001b[39mif\u001b[39;00m \u001b[39mnot\u001b[39;00m \u001b[39misinstance\u001b[39m(value, (\u001b[39mfloat\u001b[39;49m \u001b[39m|\u001b[39;49m \u001b[39mint\u001b[39;49m)):\n\u001b[0;32m     26\u001b[0m         \u001b[39mraise\u001b[39;00m \u001b[39mTypeError\u001b[39;00m(\u001b[39mf\u001b[39m\u001b[39m\"\u001b[39m\u001b[39mNumber has to be an int or float not \u001b[39m\u001b[39m{\u001b[39;00m\u001b[39mtype\u001b[39m(value)\u001b[39m}\u001b[39;00m\u001b[39m\"\u001b[39m)\n\u001b[0;32m     27\u001b[0m     \u001b[39mif\u001b[39;00m value \u001b[39m<\u001b[39m\u001b[39m=\u001b[39m \u001b[39m0\u001b[39m:\n",
      "\u001b[1;31mTypeError\u001b[0m: unsupported operand type(s) for |: 'type' and 'type'"
     ]
    }
   ],
   "source": [
    "cirkel1 = Circle(x_pos=0,y_pos=0, radius=1)\n",
    "cirkel1.radius"
   ]
  }
 ],
 "metadata": {
  "kernelspec": {
   "display_name": "Python 3.9.13 ('PythonSchool-iXQr8Z-p')",
   "language": "python",
   "name": "python3"
  },
  "language_info": {
   "codemirror_mode": {
    "name": "ipython",
    "version": 3
   },
   "file_extension": ".py",
   "mimetype": "text/x-python",
   "name": "python",
   "nbconvert_exporter": "python",
   "pygments_lexer": "ipython3",
   "version": "3.9.13"
  },
  "orig_nbformat": 4,
  "vscode": {
   "interpreter": {
    "hash": "ede0424b5117af074b0a15022a0db7920ce0c06d0370a7c1883de86effeccc15"
   }
  }
 },
 "nbformat": 4,
 "nbformat_minor": 2
}
