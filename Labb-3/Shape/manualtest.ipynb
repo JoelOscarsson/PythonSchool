{
 "cells": [
  {
   "cell_type": "code",
   "execution_count": 4,
   "metadata": {},
   "outputs": [
    {
     "name": "stdout",
     "output_type": "stream",
     "text": [
      "x_pos.setter\n",
      "Circle with x_pos = 0 Circle with y_pos = 0, radius is = 1, circumference is = 6.283185307179586\n",
      "False\n",
      "x_pos.setter\n",
      "Circle with x_pos = 1 Circle with y_pos = 1, radius is = 1, circumference is = 6.283185307179586\n",
      "True\n",
      "False\n"
     ]
    },
    {
     "data": {
      "text/plain": [
       "Circle with x_pos = 0, Circle with y_pos = 0, radius is = 1"
      ]
     },
     "execution_count": 4,
     "metadata": {},
     "output_type": "execute_result"
    }
   ],
   "source": [
    "from geometry import Shapes\n",
    "from geometry import Circle\n",
    "from geometry import Rektangel\n",
    "import math\n",
    "\n",
    "c1 = Circle(0,0,1)\n",
    "\n",
    "print(c1)\n",
    "print(c1.is_inside_circle(3.10,2)) #True or false depending if u switch values\n",
    "c2 = Circle(1,1,1)\n",
    "print(c2)\n",
    "print(c1==c2) #True\n",
    "print(c1==Rektangel) # False\n",
    "c1.translatemethod(5,5) "
   ]
  },
  {
   "cell_type": "code",
   "execution_count": 5,
   "metadata": {},
   "outputs": [
    {
     "ename": "TypeError",
     "evalue": "Number has to be an int or float<class 'str'>",
     "output_type": "error",
     "traceback": [
      "\u001b[1;31m---------------------------------------------------------------------------\u001b[0m",
      "\u001b[1;31mTypeError\u001b[0m                                 Traceback (most recent call last)",
      "Cell \u001b[1;32mIn [5], line 1\u001b[0m\n\u001b[1;32m----> 1\u001b[0m c1\u001b[39m.\u001b[39;49mtranslatemethod(\u001b[39m5\u001b[39;49m,\u001b[39m\"\u001b[39;49m\u001b[39mTRE\u001b[39;49m\u001b[39m\"\u001b[39;49m)\n",
      "File \u001b[1;32mc:\\Users\\j_osc\\OneDrive\\Documents\\Github\\PythonSchool\\Labb-3\\Shape\\geometry.py:88\u001b[0m, in \u001b[0;36mShapes.translatemethod\u001b[1;34m(self, x_other, y_other)\u001b[0m\n\u001b[0;32m     86\u001b[0m     \u001b[39mraise\u001b[39;00m \u001b[39mTypeError\u001b[39;00m(\u001b[39mf\u001b[39m\u001b[39m\"\u001b[39m\u001b[39mNumber has to be an int or float\u001b[39m\u001b[39m{\u001b[39;00m\u001b[39mtype\u001b[39m(x_other)\u001b[39m}\u001b[39;00m\u001b[39m\"\u001b[39m)\n\u001b[0;32m     87\u001b[0m \u001b[39mif\u001b[39;00m \u001b[39mnot\u001b[39;00m \u001b[39misinstance\u001b[39m(y_other, (\u001b[39mint\u001b[39m, \u001b[39mfloat\u001b[39m)):\n\u001b[1;32m---> 88\u001b[0m     \u001b[39mraise\u001b[39;00m \u001b[39mTypeError\u001b[39;00m(\u001b[39mf\u001b[39m\u001b[39m\"\u001b[39m\u001b[39mNumber has to be an int or float\u001b[39m\u001b[39m{\u001b[39;00m\u001b[39mtype\u001b[39m(y_other)\u001b[39m}\u001b[39;00m\u001b[39m\"\u001b[39m)\n\u001b[0;32m     89\u001b[0m \u001b[39mself\u001b[39m\u001b[39m.\u001b[39mx_center \u001b[39m=\u001b[39m x_other\n\u001b[0;32m     90\u001b[0m \u001b[39mself\u001b[39m\u001b[39m.\u001b[39my_center \u001b[39m=\u001b[39m y_other\n",
      "\u001b[1;31mTypeError\u001b[0m: Number has to be an int or float<class 'str'>"
     ]
    }
   ],
   "source": [
    "c1.translatemethod(5,\"TRE\") # ge TypeError med lämplig kommentar "
   ]
  },
  {
   "cell_type": "code",
   "execution_count": 6,
   "metadata": {},
   "outputs": [
    {
     "name": "stdout",
     "output_type": "stream",
     "text": [
      "x_pos.setter\n",
      "x_pos.setter\n",
      "x_pos.setter\n",
      "x_pos.setter\n",
      "x_pos.setter\n",
      "x_pos.setter\n",
      "True\n",
      "False\n",
      "True\n",
      "False\n",
      "True\n"
     ]
    }
   ],
   "source": [
    "rektangel1 = Rektangel(0,0,1,1)\n",
    "rektangel2 = Rektangel(1,1,1,1)\n",
    "rektangel3 = Rektangel(0,0,2,2)\n",
    "cirkel1 = Circle(0,0,1) # Enhetscirkel\n",
    "cirkel2 = Circle(1,1,1)\n",
    "cirkel3 = Circle(0,0,2)\n",
    "\n",
    "print(Rektangel==Rektangel) # True\n",
    "print(c2==rektangel1) # False\n",
    "\n",
    "print(cirkel1==cirkel2) # True\n",
    "print(cirkel2==rektangel1) # False\n",
    "\n",
    "print(cirkel1.is_inside_circle(0.5,0.5)) # True"
   ]
  },
  {
   "cell_type": "code",
   "execution_count": 9,
   "metadata": {},
   "outputs": [
    {
     "name": "stdout",
     "output_type": "stream",
     "text": [
      "True\n",
      "True\n",
      "False\n",
      "True\n",
      "True\n",
      "False\n"
     ]
    }
   ],
   "source": [
    "print(cirkel1<cirkel3) # True\n",
    "print(rektangel1<rektangel3) # True\n",
    "print(rektangel3<rektangel2) # False\n",
    "\n",
    "\n",
    "\n",
    "print(cirkel1>=cirkel2) # True\n",
    "print(rektangel2>=rektangel1) # True\n",
    "print(rektangel1>=rektangel3) # False"
   ]
  },
  {
   "cell_type": "code",
   "execution_count": 10,
   "metadata": {},
   "outputs": [
    {
     "name": "stdout",
     "output_type": "stream",
     "text": [
      "False\n",
      "True\n",
      "True\n",
      "False\n",
      "True\n",
      "True\n"
     ]
    }
   ],
   "source": [
    "print(rektangel3<=rektangel1) # False\n",
    "print(cirkel1<=cirkel2) # True\n",
    "print(rektangel1<=rektangel2) # True\n",
    "\n",
    "print(cirkel2==rektangel1) # False\n",
    "print(cirkel1==cirkel2) # True\n",
    "print(rektangel1==rektangel2) # True"
   ]
  }
 ],
 "metadata": {
  "kernelspec": {
   "display_name": "Python 3.9.13 ('PythonSchool-iXQr8Z-p')",
   "language": "python",
   "name": "python3"
  },
  "language_info": {
   "codemirror_mode": {
    "name": "ipython",
    "version": 3
   },
   "file_extension": ".py",
   "mimetype": "text/x-python",
   "name": "python",
   "nbconvert_exporter": "python",
   "pygments_lexer": "ipython3",
   "version": "3.9.13"
  },
  "orig_nbformat": 4,
  "vscode": {
   "interpreter": {
    "hash": "ede0424b5117af074b0a15022a0db7920ce0c06d0370a7c1883de86effeccc15"
   }
  }
 },
 "nbformat": 4,
 "nbformat_minor": 2
}
