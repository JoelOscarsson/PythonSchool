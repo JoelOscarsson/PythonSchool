{
 "cells": [
  {
   "cell_type": "code",
   "execution_count": 119,
   "metadata": {},
   "outputs": [],
   "source": [
    "from __future__ import annotations\n",
    "from math import pi\n",
    "#from copy import copy\n",
    "\n",
    "# Super class Shapes\n",
    "class Shapes:\n",
    "\n",
    "    def __init__(self, x_pos: (int | float), y_pos: (int | float)):\n",
    "        self.x_pos = x_pos\n",
    "        self.y_pos = y_pos\n",
    "\n",
    "\n",
    "    # String represantation\n",
    "    def __repr__(self) -> str:\n",
    "        return f\"Shape with x_pos = {self.x_pos}, y_pos ={self.y_pos}\"\n",
    "    \n",
    "    def __str__(self) -> str:\n",
    "        return f\"Shape with x_pos = {self.x_pos}, y_pos ={self.y_pos}\"\n",
    "\n",
    "    #----- Getter and Setter for x_pos\n",
    "    @property\n",
    "    def x_pos(self) -> int | float:\n",
    "        return self._x_pos\n",
    "\n",
    "    @x_pos.setter\n",
    "    def x_pos(self, value: int | float) -> int | float:\n",
    "        #must be a number:\n",
    "        print(\"x_pos.setter\")\n",
    "        if not isinstance(value, (int, float)):\n",
    "            raise TypeError(f\"y_pos input must be a number, not {type(value)}\")\n",
    "        \n",
    "        #Round to 1 decimal\n",
    "        self._x_pos = round(value, 1)\n",
    "\n",
    "\n",
    "    #------- Getter and setter for y_pos\n",
    "    @property\n",
    "    def y_pos(self) -> int | float:\n",
    "    #Read and write for y_pos\n",
    "        return self._y_pos\n",
    "\n",
    "    @y_pos.setter\n",
    "    def y_pos(self, value: int | float) -> int | float:\n",
    "        if not isinstance(value, (int, float)):\n",
    "            raise TypeError(f\"y_pos input must be a number, not {type(value)}\")\n",
    "        #Round to 1 decimal\n",
    "        self._y_pos = round(value, 1)\n",
    "        \n",
    "\n",
    "    #---- Overload --------------------------------------------------\n",
    "\n",
    "    def __lt__(self, other) -> bool:\n",
    "        \"\"\"Compares if shape is lesser to shape\"\"\"\n",
    "        if type(self) == type(other):\n",
    "            return self.area < other.area\n",
    "        return False\n",
    "\n",
    "    def __gt__(self, other) -> bool:\n",
    "        \"\"\"Checks if shape is bigger to shape\"\"\"\n",
    "        if type(self) == type(other):\n",
    "            return self.area > other.area\n",
    "        return False\n",
    "\n",
    "    def __ge__(self, other) -> bool:\n",
    "        \"\"\"Checks if shape is less or equal to another shape\"\"\"\n",
    "        if type(self) == type(other):\n",
    "            return self.area >= other.area\n",
    "        return False\n",
    "    \n",
    "    def __le__(self, other: Shapes) -> bool:\n",
    "        \"\"\"Checks if shape is more or equal to another shape\"\"\"\n",
    "        if type(self) == type(other):\n",
    "            return self.area <= other.area\n",
    "        return False\n",
    "    \n",
    "    def __eq__(self, other: Shapes) -> bool:\n",
    "        \"\"\"Checks to compare if two shape areas are equal to eachother\"\"\"\n",
    "        if type(self) == type(other):\n",
    "            return self.area == other.area\n",
    "        return False\n",
    "\n",
    "\n",
    "    #--------- #Translate method ----------\n",
    "    def translatemethod(self, x_other: int|float, y_other: int|float) -> Shapes:\n",
    "        \"\"\"Moves shape from the original position to the new position\"\"\"\n",
    "        #new_shape = copy(self)#KUDOS TO DOROTA FOR THIS LINE OF CODE\n",
    "        if not isinstance(x_other, (int, float)):\n",
    "            raise TypeError(f\"Number has to be an int or float{type(x_other)}\")\n",
    "        if not isinstance(y_other, (int, float)):\n",
    "            raise TypeError(f\"Number has to be an int or float{type(y_other)}\")\n",
    "        self.x_center = x_other\n",
    "        self.y_center = y_other\n",
    "        return self\n",
    "\n",
    "#--------------------------\n",
    "\"\"\"Inherits from geometry(Shapes) class\"\"\"\n",
    "class Circle(Shapes):\n",
    "    def __init__(self, x_pos: int|float, y_pos: int|float, radius: int|float) -> None:\n",
    "        super().__init__(x_pos, y_pos)\n",
    "        self._radius = radius\n",
    "        # No value in area and circum from start\n",
    "        self._circum = 0\n",
    "        self._area = 0 \n",
    "\n",
    "\n",
    "    #--- Property and decorator for radius, circum and area functions-----------------------\n",
    "    ## Getter for only radius because the rest is already fixat i shape\n",
    "    @property\n",
    "    def radius(self) -> (int | float):\n",
    "        \"\"\"Radius of circle\"\"\"\n",
    "        return self._radius\n",
    "\n",
    "    @radius.setter\n",
    "    def radius(self, value) -> (int | float):\n",
    "        if isinstance(value, (int | float)):\n",
    "            raise TypeError(f\"The radius has to be an int or float not {type(value)}\")\n",
    "        if value <= 0:\n",
    "            raise ValueError(f\"Radius must be more than 0\")\n",
    "        self._radius = value\n",
    "\n",
    "    @property\n",
    "    def circum(self) -> (int | float):\n",
    "        \"\"\"Circum = Circumference\"\"\"\n",
    "        return 2*pi*self._radius\n",
    "\n",
    "\n",
    "    @property\n",
    "    def area(self) -> (int | float):\n",
    "        \"\"\"Area of the circle\"\"\"\n",
    "        return pi * self.radius**2\n",
    "\n",
    "    # ------- Methods-------------------------------------------\n",
    "\n",
    "\n",
    "\n",
    "\n",
    "    # String conversion\n",
    "    def __repr__(self) -> None:\n",
    "        return f\"Circle with x_pos = {self.x_pos}, Circle with y_pos = {self.y_pos}, radius is = {self.radius}\"\n",
    "    \n",
    "    def __str__(self) -> None:\n",
    "        return f\"Circle with x_pos = {self.x_pos} Circle with y_pos = {self.y_pos}, radius is = {self.radius}, circumference is = {self.circum}\"\n",
    "\n",
    "\n",
    "    # --------------- Other methods -----------------------------------------\n",
    "\n",
    "    def is_enhetscirkel(self) -> bool:\n",
    "        \"\"\" Kollar om cirkeln är en enhetscirkel med radie 1 vid origo\"\"\"\n",
    "        if self.radius == 1 and self.x == 0 and self.y == 0:\n",
    "            return True\n",
    "        else:\n",
    "            return False\n",
    "\n",
    "    \n",
    "\n",
    "    ######## KUDOS to Daniel from this code solution calculating distance between two points####################\n",
    "    def is_inside_circle(self, x, y) -> bool:\n",
    "        \"\"\" Kollar om en viss punkt punkt befinner sig innanför objektet \"\"\"\n",
    "        return (x - self.x_pos)**2 + (y - self.y_pos)**2 < self.radius**2"
   ]
  },
  {
   "cell_type": "markdown",
   "metadata": {},
   "source": [
    "## Rektangel class"
   ]
  },
  {
   "cell_type": "code",
   "execution_count": 120,
   "metadata": {},
   "outputs": [],
   "source": [
    "class Rektangel(Shapes):\n",
    "    def __init__(self, x_pos: int | float, y_pos: int | float, height: int | float, width: int | float) -> list:\n",
    "        super().__init__(x_pos, y_pos)\n",
    "        self.height = height\n",
    "        self.width = width\n",
    "        self._area = 0\n",
    "        self._circum = 0\n",
    "        #------------------- Property and decorators ------------------------\n",
    "    @property\n",
    "    def height(self) -> (int | float):\n",
    "        \"\"\"Height rektangel\"\"\"\n",
    "        return self._height\n",
    "\n",
    "    @height.setter\n",
    "    def height(self, value: (int | float)):\n",
    "        if not isinstance(value, (int, float)):\n",
    "            raise TypeError(f\"Height must be an int or float ok? Not {type(value)}\")\n",
    "        if value <= 0:\n",
    "            raise ValueError(\"Height must be larger than zero\")\n",
    "        self._height = value\n",
    "\n",
    "    @property\n",
    "    def width(self) -> (int | float):\n",
    "        \"\"\"Width rektangel\"\"\"\n",
    "        return self._width\n",
    "\n",
    "    @width.setter\n",
    "    def width(self, value):\n",
    "        if not isinstance(value, (float,int)):\n",
    "            raise TypeError(f\"Width must be an int or float ok? Not {type(value)}\")\n",
    "        if value <= 0:\n",
    "            raise ValueError(\"Width must be larger than zero\")\n",
    "        self._width = value\n",
    "\n",
    "\n",
    "    @property\n",
    "    def area(self) -> (int | float):\n",
    "        \"\"\"Area rektangel\"\"\"\n",
    "        return self.width * self.height\n",
    "    \n",
    "    @property\n",
    "    def circum(self) -> (int | float):\n",
    "        \"\"\"Circumference rektangel\"\"\"\n",
    "        return self.width * 2 + self.height * 2\n",
    "\n",
    "\n",
    "    #------------------------------------------------\n",
    "\n",
    "\n",
    "\n",
    "    # String conversion\n",
    "    def __str__(self) -> str:\n",
    "        \"\"\"Self as string\"\"\"\n",
    "        return f\"Rektangel center position: {self.x_pos}, {self.y_pos}, height:({self.height}) area:({self.area}) circumference:({self.circum})\"\n",
    "\n",
    "    def __repr__(self) -> (str):\n",
    "        return \"Rektangel x_pos:{self.x_pos}, y_pos:{self.x_pos}, height:({self.height} width:({self.width})\"\n",
    "\n",
    "\n",
    "    def is_it_square(self) -> bool:\n",
    "        \"\"\"Is rektangel a square?\"\"\"\n",
    "        if self._width == self._height:\n",
    "            return True\n",
    "        else:\n",
    "            return False\n",
    "    \n",
    "    def is_it_inside(self, x_other: (int | float), y_other: (int | float)) -> bool:\n",
    "        \"\"\"Checks if rectangle contains a given point\"\"\"\n",
    "        if not isinstance(x_other, (int, float)):\n",
    "            raise TypeError(f\"Must be an int or float and not {type(x_other)}\")\n",
    "        if not isinstance(y_other, (int, float)):\n",
    "            raise TypeError(f\"Must be an int or float and not{type(y_other)}\")\n",
    "\n",
    "        x_min = self.x_other - (self.width / 2)\n",
    "        x_max = self.x_other + (self.width / 2)\n",
    "        y_min = self.y_other - (self.height / 2)\n",
    "        y_max = self.y_other + (self.height /2)\n",
    "\n",
    "        if x_other <= x_max and x_point >= x_min and y_other <= y_max and y_other >= y_min:\n",
    "            return True\n",
    "        else:\n",
    "            return False"
   ]
  },
  {
   "cell_type": "code",
   "execution_count": 121,
   "metadata": {},
   "outputs": [
    {
     "name": "stdout",
     "output_type": "stream",
     "text": [
      "x_pos.setter\n",
      "Circle with x_pos = 0 Circle with y_pos = 0, radius is = 1, circumference is = 6.283185307179586\n",
      "False\n",
      "x_pos.setter\n",
      "Circle with x_pos = 1 Circle with y_pos = 1, radius is = 1, circumference is = 6.283185307179586\n",
      "True\n",
      "False\n"
     ]
    },
    {
     "data": {
      "text/plain": [
       "Circle with x_pos = 0, Circle with y_pos = 0, radius is = 1"
      ]
     },
     "execution_count": 121,
     "metadata": {},
     "output_type": "execute_result"
    }
   ],
   "source": [
    "c1 = Circle(0,0,1)\n",
    "\n",
    "print(c1)\n",
    "print(c1.is_inside_circle(3.10,2)) #True or false depending if u switch values\n",
    "c2 = Circle(1,1,1)\n",
    "print(c2)\n",
    "print(c1==c2) #True\n",
    "print(c1==Rektangel) # False\n",
    "c1.translatemethod(5,5) \n",
    "\n",
    "\n",
    "\n"
   ]
  },
  {
   "cell_type": "code",
   "execution_count": 122,
   "metadata": {},
   "outputs": [
    {
     "ename": "TypeError",
     "evalue": "Number has to be an int or float<class 'str'>",
     "output_type": "error",
     "traceback": [
      "\u001b[1;31m---------------------------------------------------------------------------\u001b[0m",
      "\u001b[1;31mTypeError\u001b[0m                                 Traceback (most recent call last)",
      "Cell \u001b[1;32mIn [122], line 1\u001b[0m\n\u001b[1;32m----> 1\u001b[0m c1\u001b[39m.\u001b[39;49mtranslatemethod(\u001b[39m5\u001b[39;49m,\u001b[39m\"\u001b[39;49m\u001b[39mTRE\u001b[39;49m\u001b[39m\"\u001b[39;49m)\n",
      "Cell \u001b[1;32mIn [119], line 90\u001b[0m, in \u001b[0;36mShapes.translatemethod\u001b[1;34m(self, x_other, y_other)\u001b[0m\n\u001b[0;32m     88\u001b[0m     \u001b[39mraise\u001b[39;00m \u001b[39mTypeError\u001b[39;00m(\u001b[39mf\u001b[39m\u001b[39m\"\u001b[39m\u001b[39mNumber has to be an int or float\u001b[39m\u001b[39m{\u001b[39;00m\u001b[39mtype\u001b[39m(x_other)\u001b[39m}\u001b[39;00m\u001b[39m\"\u001b[39m)\n\u001b[0;32m     89\u001b[0m \u001b[39mif\u001b[39;00m \u001b[39mnot\u001b[39;00m \u001b[39misinstance\u001b[39m(y_other, (\u001b[39mint\u001b[39m, \u001b[39mfloat\u001b[39m)):\n\u001b[1;32m---> 90\u001b[0m     \u001b[39mraise\u001b[39;00m \u001b[39mTypeError\u001b[39;00m(\u001b[39mf\u001b[39m\u001b[39m\"\u001b[39m\u001b[39mNumber has to be an int or float\u001b[39m\u001b[39m{\u001b[39;00m\u001b[39mtype\u001b[39m(y_other)\u001b[39m}\u001b[39;00m\u001b[39m\"\u001b[39m)\n\u001b[0;32m     91\u001b[0m \u001b[39mself\u001b[39m\u001b[39m.\u001b[39mx_center \u001b[39m=\u001b[39m x_other\n\u001b[0;32m     92\u001b[0m \u001b[39mself\u001b[39m\u001b[39m.\u001b[39my_center \u001b[39m=\u001b[39m y_other\n",
      "\u001b[1;31mTypeError\u001b[0m: Number has to be an int or float<class 'str'>"
     ]
    }
   ],
   "source": [
    "c1.translatemethod(5,\"TRE\") # ge TypeError med lämplig kommentar "
   ]
  },
  {
   "cell_type": "code",
   "execution_count": null,
   "metadata": {},
   "outputs": [
    {
     "name": "stdout",
     "output_type": "stream",
     "text": [
      "x_pos.setter\n",
      "x_pos.setter\n",
      "x_pos.setter\n",
      "x_pos.setter\n",
      "x_pos.setter\n",
      "x_pos.setter\n",
      "True\n",
      "False\n",
      "True\n",
      "False\n",
      "True\n"
     ]
    }
   ],
   "source": [
    "rektangel1 = Rektangel(0,0,1,1)\n",
    "rektangel2 = Rektangel(1,1,1,1)\n",
    "rektangel3 = Rektangel(0,0,2,2)\n",
    "cirkel1 = Circle(0,0,1) # Enhetscirkel\n",
    "cirkel2 = Circle(1,1,1)\n",
    "cirkel3 = Circle(0,0,2)\n",
    "\n",
    "print(Rektangel==Rektangel) # True\n",
    "print(c2==rektangel1) # False\n",
    "\n",
    "print(cirkel1==cirkel2) # True\n",
    "print(cirkel2==rektangel1) # False\n",
    "\n",
    "print(cirkel1.is_inside_circle(0.5,0.5)) # True"
   ]
  },
  {
   "cell_type": "code",
   "execution_count": null,
   "metadata": {},
   "outputs": [
    {
     "name": "stdout",
     "output_type": "stream",
     "text": [
      "x_pos.setter\n",
      "x_pos.setter\n",
      "x_pos.setter\n",
      "x_pos.setter\n",
      "x_pos.setter\n",
      "x_pos.setter\n",
      "True\n",
      "False\n",
      "True\n"
     ]
    }
   ],
   "source": [
    "cirkel1 = Circle(0,0,1) # Enhetscirkel\n",
    "cirkel2 = Circle(1,1,1)\n",
    "cirkel3 = Circle(0,0,2)\n",
    "rektangel1 = Rektangel(0,0,1,1)\n",
    "rektangel2 = Rektangel(1,1,1,1)\n",
    "rektangel3 = Rektangel(0,0,2,2)\n",
    "\n",
    "print(cirkel1==cirkel2) # True\n",
    "print(cirkel2==rektangel1) # False\n",
    "\n",
    "print(cirkel1.is_inside_circle(0.5,0.5)) # True"
   ]
  },
  {
   "cell_type": "code",
   "execution_count": null,
   "metadata": {},
   "outputs": [
    {
     "name": "stdout",
     "output_type": "stream",
     "text": [
      "True\n",
      "True\n",
      "False\n"
     ]
    }
   ],
   "source": [
    "print(cirkel1<cirkel3) # True\n",
    "print(rektangel1<rektangel3) # True\n",
    "print(rektangel3<rektangel2) # False"
   ]
  },
  {
   "cell_type": "code",
   "execution_count": null,
   "metadata": {},
   "outputs": [
    {
     "name": "stdout",
     "output_type": "stream",
     "text": [
      "True\n",
      "False\n",
      "True\n"
     ]
    }
   ],
   "source": [
    "print(cirkel1>=cirkel2) # True\n",
    "print(rektangel2>=rektangel1) # True\n",
    "print(rektangel1>=rektangel3) # False"
   ]
  },
  {
   "cell_type": "code",
   "execution_count": null,
   "metadata": {},
   "outputs": [
    {
     "name": "stdout",
     "output_type": "stream",
     "text": [
      "True\n",
      "False\n",
      "True\n"
     ]
    }
   ],
   "source": [
    "print(rektangel3<=rektangel1) # False\n",
    "print(cirkel1<=cirkel2) # True\n",
    "print(rektangel1<=rektangel2) # True"
   ]
  },
  {
   "cell_type": "code",
   "execution_count": null,
   "metadata": {},
   "outputs": [
    {
     "name": "stdout",
     "output_type": "stream",
     "text": [
      "True\n",
      "True\n",
      "False\n"
     ]
    }
   ],
   "source": [
    "print(cirkel2==rektangel1) # False\n",
    "print(cirkel1==cirkel2) # True\n",
    "print(rektangel1==rektangel2) # True"
   ]
  }
 ],
 "metadata": {
  "kernelspec": {
   "display_name": "Python 3.9.13 ('PythonSchool-iXQr8Z-p')",
   "language": "python",
   "name": "python3"
  },
  "language_info": {
   "codemirror_mode": {
    "name": "ipython",
    "version": 3
   },
   "file_extension": ".py",
   "mimetype": "text/x-python",
   "name": "python",
   "nbconvert_exporter": "python",
   "pygments_lexer": "ipython3",
   "version": "3.9.13"
  },
  "orig_nbformat": 4,
  "vscode": {
   "interpreter": {
    "hash": "ede0424b5117af074b0a15022a0db7920ce0c06d0370a7c1883de86effeccc15"
   }
  }
 },
 "nbformat": 4,
 "nbformat_minor": 2
}
