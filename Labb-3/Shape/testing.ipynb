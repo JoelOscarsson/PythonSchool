{
 "cells": [
  {
   "cell_type": "code",
   "execution_count": 1,
   "metadata": {},
   "outputs": [
    {
     "name": "stdout",
     "output_type": "stream",
     "text": [
      "__init__\n",
      "x_pos.setter\n",
      "y_pos.setter\n"
     ]
    },
    {
     "data": {
      "text/plain": [
       "<shape.shape at 0x1b1be195f10>"
      ]
     },
     "execution_count": 1,
     "metadata": {},
     "output_type": "execute_result"
    }
   ],
   "source": [
    "import geometry\n",
    "\n",
    "test = shape.shape(1, 2) ## Kommer in i modulen\n",
    "test\n",
    "\n"
   ]
  },
  {
   "cell_type": "code",
   "execution_count": 2,
   "metadata": {},
   "outputs": [
    {
     "name": "stdout",
     "output_type": "stream",
     "text": [
      "__init__\n",
      "x_pos.setter\n"
     ]
    },
    {
     "ename": "TypeError",
     "evalue": "y_pos input must be a number, not <class 'str'>",
     "output_type": "error",
     "traceback": [
      "\u001b[1;31m---------------------------------------------------------------------------\u001b[0m",
      "\u001b[1;31mTypeError\u001b[0m                                 Traceback (most recent call last)",
      "Cell \u001b[1;32mIn [2], line 1\u001b[0m\n\u001b[1;32m----> 1\u001b[0m teststring \u001b[38;5;241m=\u001b[39m \u001b[43mshape\u001b[49m\u001b[38;5;241;43m.\u001b[39;49m\u001b[43mshape\u001b[49m\u001b[43m(\u001b[49m\u001b[38;5;124;43m\"\u001b[39;49m\u001b[38;5;124;43mHej\u001b[39;49m\u001b[38;5;124;43m\"\u001b[39;49m\u001b[43m,\u001b[49m\u001b[43m \u001b[49m\u001b[38;5;241;43m20\u001b[39;49m\u001b[43m)\u001b[49m\n\u001b[0;32m      2\u001b[0m teststring\n",
      "File \u001b[1;32mc:\\Users\\j_osc\\OneDrive\\Documents\\Github\\PythonSchool\\Labb-3\\Shape\\shape.py:11\u001b[0m, in \u001b[0;36mshape.__init__\u001b[1;34m(self, x_pos, y_pos)\u001b[0m\n\u001b[0;32m      9\u001b[0m \u001b[39mdef\u001b[39;00m \u001b[39m__init__\u001b[39m(\u001b[39mself\u001b[39m, x_pos: (\u001b[39mint\u001b[39m \u001b[39m|\u001b[39m \u001b[39mfloat\u001b[39m), y_pos: (\u001b[39mint\u001b[39m \u001b[39m|\u001b[39m \u001b[39mfloat\u001b[39m)):\n\u001b[0;32m     10\u001b[0m     \u001b[39mprint\u001b[39m(\u001b[39m\"\u001b[39m\u001b[39m__init__\u001b[39m\u001b[39m\"\u001b[39m)\n\u001b[1;32m---> 11\u001b[0m     \u001b[39mself\u001b[39;49m\u001b[39m.\u001b[39;49mx_pos \u001b[39m=\u001b[39m x_pos\n\u001b[0;32m     12\u001b[0m     \u001b[39mself\u001b[39m\u001b[39m.\u001b[39my_pos \u001b[39m=\u001b[39m y_pos\n",
      "File \u001b[1;32mc:\\Users\\j_osc\\OneDrive\\Documents\\Github\\PythonSchool\\Labb-3\\Shape\\shape.py:28\u001b[0m, in \u001b[0;36mshape.x_pos\u001b[1;34m(self, value)\u001b[0m\n\u001b[0;32m     26\u001b[0m \u001b[39mprint\u001b[39m(\u001b[39m\"\u001b[39m\u001b[39mx_pos.setter\u001b[39m\u001b[39m\"\u001b[39m)\n\u001b[0;32m     27\u001b[0m \u001b[39mif\u001b[39;00m \u001b[39mnot\u001b[39;00m \u001b[39misinstance\u001b[39m(value, (\u001b[39mint\u001b[39m, \u001b[39mfloat\u001b[39m)):\n\u001b[1;32m---> 28\u001b[0m     \u001b[39mraise\u001b[39;00m \u001b[39mTypeError\u001b[39;00m(\u001b[39mf\u001b[39m\u001b[39m\"\u001b[39m\u001b[39my_pos input must be a number, not \u001b[39m\u001b[39m{\u001b[39;00m\u001b[39mtype\u001b[39m(value)\u001b[39m}\u001b[39;00m\u001b[39m\"\u001b[39m)\n\u001b[0;32m     30\u001b[0m \u001b[39m#Round to 1 decimal\u001b[39;00m\n\u001b[0;32m     31\u001b[0m \u001b[39mself\u001b[39m\u001b[39m.\u001b[39m_x_pos \u001b[39m=\u001b[39m \u001b[39mround\u001b[39m(value, \u001b[39m1\u001b[39m)\n",
      "\u001b[1;31mTypeError\u001b[0m: y_pos input must be a number, not <class 'str'>"
     ]
    }
   ],
   "source": [
    "teststring = shape.shape(\"Hej\", 20)\n",
    "teststring"
   ]
  },
  {
   "cell_type": "code",
   "execution_count": 3,
   "metadata": {},
   "outputs": [
    {
     "name": "stdout",
     "output_type": "stream",
     "text": [
      "__init__\n",
      "x_pos.setter\n"
     ]
    },
    {
     "ename": "TypeError",
     "evalue": "y_pos input must be a number, not <class 'str'>",
     "output_type": "error",
     "traceback": [
      "\u001b[1;31m---------------------------------------------------------------------------\u001b[0m",
      "\u001b[1;31mTypeError\u001b[0m                                 Traceback (most recent call last)",
      "Cell \u001b[1;32mIn [3], line 1\u001b[0m\n\u001b[1;32m----> 1\u001b[0m teststring \u001b[38;5;241m=\u001b[39m \u001b[43mshape\u001b[49m\u001b[38;5;241;43m.\u001b[39;49m\u001b[43mshape\u001b[49m\u001b[43m(\u001b[49m\u001b[38;5;124;43m\"\u001b[39;49m\u001b[38;5;124;43mHej\u001b[39;49m\u001b[38;5;124;43m\"\u001b[39;49m\u001b[43m,\u001b[49m\u001b[43m \u001b[49m\u001b[38;5;124;43m\"\u001b[39;49m\u001b[38;5;124;43mHej\u001b[39;49m\u001b[38;5;124;43m\"\u001b[39;49m\u001b[43m)\u001b[49m  \u001b[38;5;66;03m## Funkade inte\u001b[39;00m\n\u001b[0;32m      2\u001b[0m teststring\n",
      "File \u001b[1;32mc:\\Users\\j_osc\\OneDrive\\Documents\\Github\\PythonSchool\\Labb-3\\Shape\\shape.py:11\u001b[0m, in \u001b[0;36mshape.__init__\u001b[1;34m(self, x_pos, y_pos)\u001b[0m\n\u001b[0;32m      9\u001b[0m \u001b[39mdef\u001b[39;00m \u001b[39m__init__\u001b[39m(\u001b[39mself\u001b[39m, x_pos: (\u001b[39mint\u001b[39m \u001b[39m|\u001b[39m \u001b[39mfloat\u001b[39m), y_pos: (\u001b[39mint\u001b[39m \u001b[39m|\u001b[39m \u001b[39mfloat\u001b[39m)):\n\u001b[0;32m     10\u001b[0m     \u001b[39mprint\u001b[39m(\u001b[39m\"\u001b[39m\u001b[39m__init__\u001b[39m\u001b[39m\"\u001b[39m)\n\u001b[1;32m---> 11\u001b[0m     \u001b[39mself\u001b[39;49m\u001b[39m.\u001b[39;49mx_pos \u001b[39m=\u001b[39m x_pos\n\u001b[0;32m     12\u001b[0m     \u001b[39mself\u001b[39m\u001b[39m.\u001b[39my_pos \u001b[39m=\u001b[39m y_pos\n",
      "File \u001b[1;32mc:\\Users\\j_osc\\OneDrive\\Documents\\Github\\PythonSchool\\Labb-3\\Shape\\shape.py:28\u001b[0m, in \u001b[0;36mshape.x_pos\u001b[1;34m(self, value)\u001b[0m\n\u001b[0;32m     26\u001b[0m \u001b[39mprint\u001b[39m(\u001b[39m\"\u001b[39m\u001b[39mx_pos.setter\u001b[39m\u001b[39m\"\u001b[39m)\n\u001b[0;32m     27\u001b[0m \u001b[39mif\u001b[39;00m \u001b[39mnot\u001b[39;00m \u001b[39misinstance\u001b[39m(value, (\u001b[39mint\u001b[39m, \u001b[39mfloat\u001b[39m)):\n\u001b[1;32m---> 28\u001b[0m     \u001b[39mraise\u001b[39;00m \u001b[39mTypeError\u001b[39;00m(\u001b[39mf\u001b[39m\u001b[39m\"\u001b[39m\u001b[39my_pos input must be a number, not \u001b[39m\u001b[39m{\u001b[39;00m\u001b[39mtype\u001b[39m(value)\u001b[39m}\u001b[39;00m\u001b[39m\"\u001b[39m)\n\u001b[0;32m     30\u001b[0m \u001b[39m#Round to 1 decimal\u001b[39;00m\n\u001b[0;32m     31\u001b[0m \u001b[39mself\u001b[39m\u001b[39m.\u001b[39m_x_pos \u001b[39m=\u001b[39m \u001b[39mround\u001b[39m(value, \u001b[39m1\u001b[39m)\n",
      "\u001b[1;31mTypeError\u001b[0m: y_pos input must be a number, not <class 'str'>"
     ]
    }
   ],
   "source": [
    "teststring = shape.shape(\"Hej\", \"Hej\")  ## Funkade inte\n",
    "teststring"
   ]
  },
  {
   "cell_type": "code",
   "execution_count": 4,
   "metadata": {},
   "outputs": [
    {
     "name": "stdout",
     "output_type": "stream",
     "text": [
      "__init__\n",
      "x_pos.setter\n",
      "y_pos.setter\n"
     ]
    },
    {
     "data": {
      "text/plain": [
       "<shape.shape at 0x1b1be6b6970>"
      ]
     },
     "execution_count": 4,
     "metadata": {},
     "output_type": "execute_result"
    }
   ],
   "source": [
    "from geometry import shape\n",
    "\n",
    "shape1 = shape(1,2)\n",
    "shape1"
   ]
  },
  {
   "cell_type": "code",
   "execution_count": 5,
   "metadata": {},
   "outputs": [
    {
     "name": "stdout",
     "output_type": "stream",
     "text": [
      "x_pos.setter\n"
     ]
    },
    {
     "data": {
      "text/plain": [
       "-5"
      ]
     },
     "execution_count": 5,
     "metadata": {},
     "output_type": "execute_result"
    }
   ],
   "source": [
    "shape1.x_pos=-5\n",
    "shape1.x_pos"
   ]
  },
  {
   "cell_type": "code",
   "execution_count": 6,
   "metadata": {},
   "outputs": [
    {
     "ename": "TypeError",
     "evalue": "__init__() missing 2 required positional arguments: 'x_pos' and 'y_pos'",
     "output_type": "error",
     "traceback": [
      "\u001b[1;31m---------------------------------------------------------------------------\u001b[0m",
      "\u001b[1;31mTypeError\u001b[0m                                 Traceback (most recent call last)",
      "Cell \u001b[1;32mIn [6], line 1\u001b[0m\n\u001b[1;32m----> 1\u001b[0m \u001b[43mshape\u001b[49m\u001b[43m(\u001b[49m\u001b[43m)\u001b[49m\n",
      "\u001b[1;31mTypeError\u001b[0m: __init__() missing 2 required positional arguments: 'x_pos' and 'y_pos'"
     ]
    }
   ],
   "source": [
    "shape()"
   ]
  }
 ],
 "metadata": {
  "kernelspec": {
   "display_name": "Python 3.9.13 ('PythonSchool-iXQr8Z-p')",
   "language": "python",
   "name": "python3"
  },
  "language_info": {
   "codemirror_mode": {
    "name": "ipython",
    "version": 3
   },
   "file_extension": ".py",
   "mimetype": "text/x-python",
   "name": "python",
   "nbconvert_exporter": "python",
   "pygments_lexer": "ipython3",
   "version": "3.9.13"
  },
  "orig_nbformat": 4,
  "vscode": {
   "interpreter": {
    "hash": "ede0424b5117af074b0a15022a0db7920ce0c06d0370a7c1883de86effeccc15"
   }
  }
 },
 "nbformat": 4,
 "nbformat_minor": 2
}
