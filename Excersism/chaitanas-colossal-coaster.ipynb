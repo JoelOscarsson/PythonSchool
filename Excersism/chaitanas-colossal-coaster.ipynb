{
 "cells": [
  {
   "cell_type": "code",
   "execution_count": null,
   "metadata": {},
   "outputs": [],
   "source": [
    "\"\"\"System for managing queues at theme park\"\"\"\n",
    "\n",
    "def add_me_to_the_queue(express_queue: list, normal_queue: list, ticket_type: int, person_name: str) -> list:\n",
    "    \"\"\"Adds person to queue\"\"\"\n",
    "    if ticket_type == 1:\n",
    "        express_queue.append(person_name)\n",
    "        return express_queue\n",
    "\n",
    "    if ticket_type == 0:\n",
    "        normal_queue.append(person_name)\n",
    "        return normal_queue\n",
    "    return None\n",
    "\n",
    "def find_my_friend(queue: list, friend_name: str) -> int:\n",
    "    \"\"\"Finds my friend\"\"\"\n",
    "    return queue.index(friend_name)\n",
    "\n",
    "def add_me_with_my_friends(queue: list, index: int, person_name: str) -> list:\n",
    "    \"\"\"Adds me with my friends\"\"\"\n",
    "    queue.insert(index, person_name)\n",
    "    return queue\n",
    "\n",
    "def remove_the_mean_person(queue: list, person_name: str) -> list:\n",
    "    \"\"\"Removes mean person\"\"\"\n",
    "    queue.remove(person_name)\n",
    "    return queue\n",
    "\n",
    "def how_many_namefellows(queue: list, person_name: str) -> list:\n",
    "    \"\"\"Count namefellows\"\"\"\n",
    "    return queue.count(person_name)\n",
    "\n",
    "def remove_the_last_person(queue: list) -> str:\n",
    "    \"\"\"Removes last person\"\"\"\n",
    "    last_person = queue[-1]\n",
    "    queue.remove(last_person)\n",
    "    return last_person\n",
    "\n",
    "def sorted_names(queue: list) -> list:\n",
    "    \"\"\"Sorts queue\"\"\"\n",
    "    return sorted(queue)"
   ]
  },
  {
   "cell_type": "code",
   "execution_count": 57,
   "metadata": {},
   "outputs": [],
   "source": [
    "## Add me from the queue, to the fast lane queue\n",
    "\n",
    "def add_me_to_the_queue(express_queue: list, normal_queue: list, ticket_type: int, person_name: str) -> list:\n",
    "    if ticket_type == 1:\n",
    "        express_queue.append(person_name)\n",
    "        return express_queue\n",
    "\n",
    "    if ticket_type == 0:\n",
    "        normal_queue.append(person_name)\n",
    "        return normal_queue\n",
    "\n"
   ]
  },
  {
   "cell_type": "code",
   "execution_count": 58,
   "metadata": {},
   "outputs": [
    {
     "data": {
      "text/plain": [
       "1"
      ]
     },
     "execution_count": 58,
     "metadata": {},
     "output_type": "execute_result"
    }
   ],
   "source": [
    "def find_my_friend(queue: list, friend_name: str) -> list:\n",
    "    return queue.index(friend_name)\n",
    "\n",
    "find_my_friend(queue=[\"Natasha\", \"Steve\", \"T'challa\", \"Wanda\", \"Rocket\"], friend_name=\"Steve\")"
   ]
  },
  {
   "cell_type": "markdown",
   "metadata": {},
   "source": [
    "3. Can I please join them?\n",
    "Now that their friends have been found (in task #2 above), the late arriver would like to join them at their place in the queue. Define the add_me_with_my_friends() function that takes 3 parameters queue, index, and person_name.\n",
    "\n",
    "<queue> is the list of people standing in the queue.\n",
    "<index> is the position at which the new person should be added.\n",
    "<person_name> is the name of the person to add at the index position.\n",
    "Return the queue updated with the late arrivals name.\n",
    "\n",
    ">>> add_me_with_my_friends(queue=[\"Natasha\", \"Steve\", \"T'challa\", \"Wanda\", \"Rocket\"], index=1, person_name=\"Bucky\")\n",
    "...\n",
    "[\"Natasha\", \"Bucky\", \"Steve\", \"T'challa\", \"Wanda\", \"Rocket\"]"
   ]
  },
  {
   "cell_type": "code",
   "execution_count": 59,
   "metadata": {},
   "outputs": [
    {
     "name": "stdout",
     "output_type": "stream",
     "text": [
      "['Natasha', 'Bucky', 'Steve', \"T'challa\", 'Wanda', 'Rocket']\n"
     ]
    }
   ],
   "source": [
    "def add_me_with_my_friends(queue, index, person_name):\n",
    "    queue.insert(index, person_name)\n",
    "    return queue\n",
    "\n",
    "\n",
    "print(add_me_with_my_friends(queue=[\"Natasha\", \"Steve\", \"T'challa\", \"Wanda\", \"Rocket\"], index=1, person_name=\"Bucky\"))"
   ]
  },
  {
   "cell_type": "markdown",
   "metadata": {},
   "source": [
    "4. Mean person in the queue\n",
    "You just heard from the queue that there is a really mean person shoving, shouting, and making trouble. You need to throw that miscreant out for bad behavior!\n",
    "\n",
    "Define the remove_the_mean_person() function that takes 2 parameters queue and person_name.\n",
    "\n",
    "<queue> is the list of people standing in the queue.\n",
    "<person_name> is the name of the person that needs to be kicked out.\n",
    "Return the queue updated without the mean person's name.\n",
    "\n",
    ">>> remove_the_mean_person(queue=[\"Natasha\", \"Steve\", \"Eltran\", \"Wanda\", \"Rocket\"], person_name=\"Eltran\")\n",
    "...\n",
    "[\"Natasha\", \"Steve\", \"Wanda\", \"Rocket\"]"
   ]
  },
  {
   "cell_type": "code",
   "execution_count": 60,
   "metadata": {},
   "outputs": [
    {
     "data": {
      "text/plain": [
       "['Natasha', 'Steve', 'Wanda', 'Rocket']"
      ]
     },
     "execution_count": 60,
     "metadata": {},
     "output_type": "execute_result"
    }
   ],
   "source": [
    "def remove_the_mean_person(queue: list, person_name: str):\n",
    "    queue.remove(person_name)\n",
    "    return queue\n",
    "\n",
    "remove_the_mean_person(queue=[\"Natasha\", \"Steve\", \"Eltran\", \"Wanda\", \"Rocket\"], person_name=\"Eltran\")"
   ]
  },
  {
   "cell_type": "markdown",
   "metadata": {},
   "source": [
    "5. Namefellows\n",
    "You may not have seen two unrelated people who look exactly the same, but you have definitely seen unrelated people with the exact same name (namefellows)! Today, it looks like there are a lot of them in attendance. You want to know how many times a particular name occurs in the queue.\n",
    "\n",
    "Define the how_many_namefellows() function that takes 2 parameters queue and person_name.\n",
    "\n",
    "<queue> is the list of people standing in the queue.\n",
    "<person_name> is the name you think might occur more than once in the queue.\n",
    "Return the number of occurrences of person_name, as an int.\n",
    "\n",
    ">>> how_many_namefellows(queue=[\"Natasha\", \"Steve\", \"Eltran\", \"Natasha\", \"Rocket\"], person_name=\"Natasha\")\n",
    "...\n",
    "2"
   ]
  },
  {
   "cell_type": "code",
   "execution_count": 61,
   "metadata": {},
   "outputs": [
    {
     "data": {
      "text/plain": [
       "2"
      ]
     },
     "execution_count": 61,
     "metadata": {},
     "output_type": "execute_result"
    }
   ],
   "source": [
    "def how_many_namefellows(queue, person_name) -> list:\n",
    "    return queue.count(person_name)\n",
    "\n",
    "\n",
    "how_many_namefellows(queue=[\"Natasha\", \"Steve\", \"Eltran\", \"Natasha\", \"Rocket\"], person_name=\"Natasha\")"
   ]
  },
  {
   "cell_type": "markdown",
   "metadata": {},
   "source": [
    "6. Remove the last person\n",
    "Sadly, it's overcrowded at the park today and you need to remove the last person in the normal line (you will give them a voucher to come back in the fast-track on another day). You will have to define the function remove_the_last_person() that takes 1 parameter queue, which is the list of people standing in the queue.\n",
    "\n",
    "You should update the list and also return the name of the person who was removed, so you can write them a voucher.\n",
    "\n",
    ">>> remove_the_last_person(queue=[\"Natasha\", \"Steve\", \"Eltran\", \"Natasha\", \"Rocket\"])\n",
    "...\n",
    "'Rocket'"
   ]
  },
  {
   "cell_type": "code",
   "execution_count": 62,
   "metadata": {},
   "outputs": [],
   "source": [
    "def remove_the_mean_person(queue: list) -> str:\n",
    "    last_person = queue[-1]\n",
    "    queue.remove(last_person)\n",
    "    return last_person"
   ]
  },
  {
   "cell_type": "markdown",
   "metadata": {},
   "source": [
    "7. Sort the Queue List\n",
    "For administrative purposes, you need to get all the names in a given queue in alphabetical order.\n",
    "\n",
    "Define the sorted_names() function that takes 1 argument, queue, (the list of people standing in the queue), and returns a sorted copy of the list.\n",
    "\n",
    ">>> sorted_names(queue=[\"Natasha\", \"Steve\", \"Eltran\", \"Natasha\", \"Rocket\"])\n",
    "...\n",
    "['Eltran', 'Natasha', 'Natasha', 'Rocket', 'Steve']"
   ]
  },
  {
   "cell_type": "code",
   "execution_count": 69,
   "metadata": {},
   "outputs": [
    {
     "name": "stdout",
     "output_type": "stream",
     "text": [
      "['Eltran', 'Natasha', 'Natasha', 'Rocket', 'Steve']\n"
     ]
    }
   ],
   "source": [
    "def sorted_names(queue: list):\n",
    "    return sorted(queue)\n",
    "\n",
    "print(sorted_names(queue=[\"Natasha\", \"Steve\", \"Eltran\", \"Natasha\", \"Rocket\"]))"
   ]
  }
 ],
 "metadata": {
  "kernelspec": {
   "display_name": "Python 3.9.13 ('PythonSchool-iXQr8Z-p')",
   "language": "python",
   "name": "python3"
  },
  "language_info": {
   "codemirror_mode": {
    "name": "ipython",
    "version": 3
   },
   "file_extension": ".py",
   "mimetype": "text/x-python",
   "name": "python",
   "nbconvert_exporter": "python",
   "pygments_lexer": "ipython3",
   "version": "3.9.13"
  },
  "orig_nbformat": 4,
  "vscode": {
   "interpreter": {
    "hash": "ede0424b5117af074b0a15022a0db7920ce0c06d0370a7c1883de86effeccc15"
   }
  }
 },
 "nbformat": 4,
 "nbformat_minor": 2
}
