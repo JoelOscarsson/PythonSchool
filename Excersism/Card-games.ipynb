{
 "cells": [
  {
   "cell_type": "code",
   "execution_count": 94,
   "metadata": {},
   "outputs": [],
   "source": [
    "\"\"\" Den går igenom i for loopen, och lägger till i tomma listan \"\"\"\n",
    "\n",
    "def get_rounds(round_number: int) -> list:\n",
    "    return [round_number + i for i in range(3)]"
   ]
  },
  {
   "cell_type": "code",
   "execution_count": 12,
   "metadata": {},
   "outputs": [],
   "source": [
    "def get_rounds(round_number: int) -> list:\n",
    "    empty = []\n",
    "    for i in range(3):\n",
    "        empty.append(round_number + i)\n",
    "    return empty\n"
   ]
  },
  {
   "cell_type": "code",
   "execution_count": 18,
   "metadata": {},
   "outputs": [
    {
     "data": {
      "text/plain": [
       "[27, 28, 29, 35, 36]"
      ]
     },
     "execution_count": 18,
     "metadata": {},
     "output_type": "execute_result"
    }
   ],
   "source": [
    "def concatenate_rounds(rounds1: int, rounds2: int) -> list:\n",
    "    \"\"\"Adds together 2 lists\"\"\"\n",
    "    return rounds1 + rounds2\n",
    "\n",
    "concatenate_rounds([27,28,29], [35,36])"
   ]
  },
  {
   "cell_type": "code",
   "execution_count": 23,
   "metadata": {},
   "outputs": [],
   "source": [
    "def list_contains_round(rounds: list, rounds_number: int) -> bool:\n",
    "    if rounds_number in rounds:\n",
    "        return True\n",
    "    return False"
   ]
  },
  {
   "cell_type": "code",
   "execution_count": 26,
   "metadata": {},
   "outputs": [],
   "source": [
    "def card_average(hand: list) -> float:\n",
    "    return sum(hand) / len(hand)"
   ]
  },
  {
   "cell_type": "code",
   "execution_count": 47,
   "metadata": {},
   "outputs": [
    {
     "data": {
      "text/plain": [
       "False"
      ]
     },
     "execution_count": 47,
     "metadata": {},
     "output_type": "execute_result"
    }
   ],
   "source": [
    "def approx_average_is_average(hand: list) -> bool:\n",
    "    actual_average = card_average(hand)\n",
    "    hand.sort()\n",
    "    if hand[round(len(hand) / 2)] == actual_average:\n",
    "        return True\n",
    "    if (hand[0] + hand[-1]) / 2 == actual_average:\n",
    "        return True\n",
    "    return False\n",
    "\n",
    "approx_average_is_average([1, 2, 3, 5, 9])"
   ]
  },
  {
   "cell_type": "code",
   "execution_count": 75,
   "metadata": {},
   "outputs": [
    {
     "data": {
      "text/plain": [
       "False"
      ]
     },
     "execution_count": 75,
     "metadata": {},
     "output_type": "execute_result"
    }
   ],
   "source": [
    "def average_even_is_average_odd(hand: list) -> bool:\n",
    "    odd = sum(hand[::2]) / len(hand[::2]) # start stop step (börjar på 0 om det inte står något före \"::\")\n",
    "    even = sum(hand[1::2]) / len(hand[1::2])\n",
    "    if odd == even:\n",
    "        return True\n",
    "    return False\n",
    "\n",
    "#average_even_is_average_odd([1, 2, 3])\n",
    "average_even_is_average_odd([1, 2, 3, 4])"
   ]
  },
  {
   "cell_type": "code",
   "execution_count": 90,
   "metadata": {},
   "outputs": [
    {
     "data": {
      "text/plain": [
       "[5, 9, 10]"
      ]
     },
     "execution_count": 90,
     "metadata": {},
     "output_type": "execute_result"
    }
   ],
   "source": [
    "# vi ska kolla om sista kortet är en joker isåfall ska den dubblera\n",
    "\n",
    "def maybe_double_last(hand: list) -> list:\n",
    "    if hand[-1] == 11:\n",
    "        hand[-1] *= 2\n",
    "        return hand\n",
    "    return hand\n",
    "\n",
    "\n",
    "hand = [5, 9, 10]\n",
    "maybe_double_last(hand)\n"
   ]
  },
  {
   "cell_type": "code",
   "execution_count": 97,
   "metadata": {},
   "outputs": [],
   "source": [
    "\"\"\"Poker game calculations\"\"\"\n",
    "\n",
    "def get_rounds(round_number: int) -> list:\n",
    "    \"\"\"Returns current and 2 upcoming rounds\"\"\"\n",
    "    return [round_number + counter for counter in range(3)]\n",
    "\n",
    "def concatenate_rounds(rounds_1: int, rounds_2: int) -> list:\n",
    "    \"\"\"Adds together 2 lists of rounds\"\"\"\n",
    "    return rounds_1 + rounds_2\n",
    "\n",
    "def list_contains_round(rounds: list, round_number: int) -> bool:\n",
    "    \"\"\"Checks if round is in list\"\"\"\n",
    "    if round_number in rounds:\n",
    "        return True\n",
    "    return False\n",
    "\n",
    "def card_average(hand: list) -> float:\n",
    "    \"\"\"Calculates average of hand\"\"\"\n",
    "    return sum(hand) / len(hand)\n",
    "\n",
    "def approx_average_is_average(hand: list) -> bool:\n",
    "    \"\"\"Checks if approx average is true average\"\"\"\n",
    "    actual_average = card_average(hand)\n",
    "    hand.sort()\n",
    "    if hand[round(len(hand) / 2)] == actual_average:\n",
    "        return True\n",
    "    if (hand[0] + hand[-1]) / 2 == actual_average:\n",
    "        return True\n",
    "    return False\n",
    "\n",
    "def average_even_is_average_odd(hand: list) -> bool:\n",
    "    \"\"\"Checks if average of even indices is equal to that of odd ones\"\"\"\n",
    "    even = sum(hand[::2]) / len(hand[::2]) # even indices average\n",
    "    odd = sum(hand[1::2]) / len(hand[1::2]) # odd indices average\n",
    "    if odd == even:\n",
    "        return True\n",
    "    return False\n",
    "\n",
    "def maybe_double_last(hand: list) -> list:\n",
    "    \"\"\"If last card is jack, double value of card\"\"\"\n",
    "    if hand[-1] == 11:\n",
    "        hand[-1] *= 2\n",
    "        return hand\n",
    "    return hand"
   ]
  }
 ],
 "metadata": {
  "kernelspec": {
   "display_name": "Python 3.9.13 ('PythonSchool-iXQr8Z-p')",
   "language": "python",
   "name": "python3"
  },
  "language_info": {
   "codemirror_mode": {
    "name": "ipython",
    "version": 3
   },
   "file_extension": ".py",
   "mimetype": "text/x-python",
   "name": "python",
   "nbconvert_exporter": "python",
   "pygments_lexer": "ipython3",
   "version": "3.9.13"
  },
  "orig_nbformat": 4,
  "vscode": {
   "interpreter": {
    "hash": "ede0424b5117af074b0a15022a0db7920ce0c06d0370a7c1883de86effeccc15"
   }
  }
 },
 "nbformat": 4,
 "nbformat_minor": 2
}
