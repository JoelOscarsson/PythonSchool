{
 "cells": [
  {
   "cell_type": "markdown",
   "metadata": {},
   "source": [
    "Instructions\n",
    "Given a year, report if it is a leap year.\n",
    "\n",
    "The tricky thing here is that a leap year in the Gregorian calendar occurs:\n",
    "\n",
    "on every year that is evenly divisible by 4\n",
    "  except every year that is evenly divisible by 100\n",
    "    unless the year is also evenly divisible by 400\n",
    "For example, 1997 is not a leap year, but 1996 is. 1900 is not a leap year, but 2000 is."
   ]
  },
  {
   "cell_type": "code",
   "execution_count": 25,
   "metadata": {},
   "outputs": [
    {
     "data": {
      "text/plain": [
       "True"
      ]
     },
     "execution_count": 25,
     "metadata": {},
     "output_type": "execute_result"
    }
   ],
   "source": [
    "\n",
    "\n",
    "def leap_year(year: int) -> bool:\n",
    "    \"\"\"Checks if leap year\"\"\"\n",
    "    if year % 4 == 0 and (year % 100 == 0 and year % 400 == 0):\n",
    "        return True\n",
    "    if year % 4 == 0 and year % 100 == 0:\n",
    "        return False\n",
    "    if year % 4 == 0:\n",
    "        return True\n",
    "    return False\n",
    "\n",
    "\n",
    "leap_year(1996)"
   ]
  }
 ],
 "metadata": {
  "kernelspec": {
   "display_name": "Python 3.9.13 ('PythonSchool-iXQr8Z-p')",
   "language": "python",
   "name": "python3"
  },
  "language_info": {
   "codemirror_mode": {
    "name": "ipython",
    "version": 3
   },
   "file_extension": ".py",
   "mimetype": "text/x-python",
   "name": "python",
   "nbconvert_exporter": "python",
   "pygments_lexer": "ipython3",
   "version": "3.9.13"
  },
  "orig_nbformat": 4,
  "vscode": {
   "interpreter": {
    "hash": "ede0424b5117af074b0a15022a0db7920ce0c06d0370a7c1883de86effeccc15"
   }
  }
 },
 "nbformat": 4,
 "nbformat_minor": 2
}
