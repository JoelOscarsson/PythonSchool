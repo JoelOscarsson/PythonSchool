{
 "cells": [
  {
   "cell_type": "code",
   "execution_count": 16,
   "metadata": {},
   "outputs": [],
   "source": [
    "from __future__ import annotations\n",
    "\n",
    "\n",
    "def is_critically_balanced(temperature: (int | float), neutrons: (int | float)) -> bool:  # Returns if it as true or false\n",
    "    \"\"\"Checks for condition, returns true if the criticality conditions are met\"\"\"\n",
    "    if (temperature < 800 and neutrons > 500 and temperature * neutrons < 500_000):\n",
    "        return True\n",
    "    else:\n",
    "        return False\n",
    "\n",
    "def reactor_efficiency(voltage: (int | float), current: (int | float), theoretical_max_power: (int | float)) -> str:\n",
    "    \"\"\"Outputs per one\"\"\"\n",
    "    generated_power = voltage * current\n",
    "    effekt = (generated_power / theoretical_max_power) * 100\n",
    "    if effekt >= 80:\n",
    "        return(\"Green\")\n",
    "    if 60 <= effekt < 80:\n",
    "        return(\"Orange\")\n",
    "    if 30 <= effekt < 60:\n",
    "        return(\"Red\")\n",
    "    if effekt < 30:\n",
    "        return(\"black\")\n",
    "\n",
    "def fail_safe(temperature: (int | float), neutrons_emitted: (int | float), threshold: (int | float)) -> str:\n",
    "    \"\"\"Fail-safe to avoid overload and meltdown. Determines if reactor is below at or above ideal critical threshold\"\"\"\n",
    "    if temperature * neutrons_emitted < threshold * .9:\n",
    "        return \"Low\"\n",
    "    if threshold - threshold * 0.1 <= (temperature * neutrons_emitted) <= threshold * 1.1:\n",
    "        return \"Normal\"\n",
    "    if temperature * neutrons_emitted > 1.1 * threshold:\n",
    "        return \"Danger\"\n"
   ]
  },
  {
   "cell_type": "code",
   "execution_count": null,
   "metadata": {},
   "outputs": [],
   "source": []
  }
 ],
 "metadata": {
  "kernelspec": {
   "display_name": "Python 3.9.13 ('PythonSchool-iXQr8Z-p')",
   "language": "python",
   "name": "python3"
  },
  "language_info": {
   "codemirror_mode": {
    "name": "ipython",
    "version": 3
   },
   "file_extension": ".py",
   "mimetype": "text/x-python",
   "name": "python",
   "nbconvert_exporter": "python",
   "pygments_lexer": "ipython3",
   "version": "3.9.13"
  },
  "orig_nbformat": 4,
  "vscode": {
   "interpreter": {
    "hash": "ede0424b5117af074b0a15022a0db7920ce0c06d0370a7c1883de86effeccc15"
   }
  }
 },
 "nbformat": 4,
 "nbformat_minor": 2
}
