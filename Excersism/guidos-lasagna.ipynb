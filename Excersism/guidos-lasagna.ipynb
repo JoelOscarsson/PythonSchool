{
 "cells": [
  {
   "cell_type": "code",
   "execution_count": 1,
   "metadata": {},
   "outputs": [
    {
     "data": {
      "text/plain": [
       "4"
      ]
     },
     "execution_count": 1,
     "metadata": {},
     "output_type": "execute_result"
    }
   ],
   "source": [
    "EXPECTED_BAKE_TIME = 40\n",
    "PREPARATION_TIME = 2 # Minutes for time to prepare\n",
    "\n",
    "def bake_time_remaining(bake_time_minutes):\n",
    "    \"\"\"Calculate the bake time remaining.\n",
    "    :param: elapsed_bake_time: int baking time already elapsed.\n",
    "    :return: int remaining bake time derived from 'EXPECTED_BAKE_TIME'.\n",
    "    \n",
    "    Function that takes the actual minutes lasagna has been in the oven as an argument\n",
    "    and returns how many minutes the lasagna still needs to bake based on the EXPECTED_BAKE_TIME.\n",
    "    \n",
    "    \"\"\"\n",
    "    return (EXPECTED_BAKE_TIME - bake_time_minutes)\n",
    "\n",
    "def preparation_time_in_minutes(number_of_layers):\n",
    "    \"\"\"Calculate the preparation time.\n",
    "    :param: number_of_layers: int the number of lasagna layers made\n",
    "    :return: int amoun of prep time (in minutes), based on 2 minutes per layer.\n",
    "    \n",
    "    This function takes an integer representing the number of layers added to the\n",
    "    calculating preparation time using a time of 2 minutes per layer added.\n",
    "    \"\"\"\n",
    "    return(number_of_layers * PREPARATION_TIME)\n",
    "\n",
    "\n",
    "def elapsed_time_in_minutes(number_of_layers, bake_time_minutes):\n",
    "    \"\"\"Calculate elapsed time.\n",
    "\n",
    "    :param: int layers(added to the lasagna) + \n",
    "    elapsed_bake_time(number has been making in the oven\n",
    "\n",
    "    :return: total numbers minutes cooking, or the sum of your preparation time and the\n",
    "    time lasagna already spent in owen\n",
    "    \"\"\"\n",
    "    return preparation_time_in_minutes(number_of_layers) + bake_time_minutes"
   ]
  },
  {
   "cell_type": "code",
   "execution_count": 3,
   "metadata": {},
   "outputs": [
    {
     "data": {
      "text/plain": [
       "26"
      ]
     },
     "execution_count": 3,
     "metadata": {},
     "output_type": "execute_result"
    }
   ],
   "source": [
    "def elapsed_time_in_minutes(number_of_layers, bake_time_minutes):\n",
    "    \"\"\"Calculate elapsed time.\n",
    "\n",
    "    :param: int layers(added to the lasagna) + \n",
    "    elapsed_bake_time(number has been making in the oven\n",
    "\n",
    "    :return: total numbers minutes cooking, or the sum of your preparation time and the\n",
    "    time lasagna already spent in owen\n",
    "    \"\"\"\n",
    "    return preparation_time_in_minutes(number_of_layers) + bake_time_minutes\n",
    "\n",
    "\n",
    "elapsed_time_in_minutes(3, 20)"
   ]
  }
 ],
 "metadata": {
  "kernelspec": {
   "display_name": "Python 3.9.13 ('PythonSchool-iXQr8Z-p')",
   "language": "python",
   "name": "python3"
  },
  "language_info": {
   "codemirror_mode": {
    "name": "ipython",
    "version": 3
   },
   "file_extension": ".py",
   "mimetype": "text/x-python",
   "name": "python",
   "nbconvert_exporter": "python",
   "pygments_lexer": "ipython3",
   "version": "3.9.13"
  },
  "orig_nbformat": 4,
  "vscode": {
   "interpreter": {
    "hash": "ede0424b5117af074b0a15022a0db7920ce0c06d0370a7c1883de86effeccc15"
   }
  }
 },
 "nbformat": 4,
 "nbformat_minor": 2
}
