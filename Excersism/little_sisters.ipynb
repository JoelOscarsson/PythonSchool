{
 "cells": [
  {
   "cell_type": "code",
   "execution_count": 89,
   "metadata": {},
   "outputs": [],
   "source": [
    "\n",
    "def add_prefix_un(word: str) -> str:\n",
    "    return \"un\" + word"
   ]
  },
  {
   "cell_type": "code",
   "execution_count": 90,
   "metadata": {},
   "outputs": [
    {
     "name": "stdout",
     "output_type": "stream",
     "text": [
      "unHappy\n"
     ]
    }
   ],
   "source": [
    "print(add_prefix_un(\"Happy\"))"
   ]
  },
  {
   "cell_type": "code",
   "execution_count": 106,
   "metadata": {},
   "outputs": [
    {
     "name": "stdout",
     "output_type": "stream",
     "text": [
      "en :: enclose :: enjoy :: enlighten\n"
     ]
    }
   ],
   "source": [
    "vocab_words = [\"en\", \"close\", \"joy\", \"lighten\"]\n",
    "\n",
    "def make_word_groups(vocab_words: list) -> str:\n",
    "    result = vocab_words[0]\n",
    "    for i in range(len(vocab_words)):\n",
    "        if i > 0:\n",
    "            result += \" :: \" + vocab_words[0] + vocab_words[i]\n",
    "    return(result)\n",
    "\n",
    "result = make_word_groups(vocab_words)\n",
    "print(result)"
   ]
  },
  {
   "cell_type": "code",
   "execution_count": 139,
   "metadata": {},
   "outputs": [
    {
     "name": "stdout",
     "output_type": "stream",
     "text": [
      "heavy\n",
      "sad\n",
      "compulsive\n"
     ]
    }
   ],
   "source": [
    "\n",
    "def remove_suffix_ness(word: str) -> str:\n",
    "    if word[-5] == \"i\":\n",
    "        return word.replace(\"iness\", \"y\") # heaviness - iness + y = heavy\n",
    "    else:\n",
    "        return word.replace(\"ness\", \"\")  # sadness - ness = sad\n",
    "        \n",
    "print(remove_suffix_ness(\"heaviness\"))\n",
    "print(remove_suffix_ness(\"sadness\"))"
   ]
  },
  {
   "cell_type": "code",
   "execution_count": 150,
   "metadata": {},
   "outputs": [
    {
     "ename": "TypeError",
     "evalue": "adjective_to_verb() missing 1 required positional argument: 'index'",
     "output_type": "error",
     "traceback": [
      "\u001b[1;31m---------------------------------------------------------------------------\u001b[0m",
      "\u001b[1;31mTypeError\u001b[0m                                 Traceback (most recent call last)",
      "Cell \u001b[1;32mIn [150], line 5\u001b[0m\n\u001b[0;32m      2\u001b[0m     word_list \u001b[38;5;241m=\u001b[39m sentence\u001b[38;5;241m.\u001b[39msplit()  \u001b[38;5;66;03m#Måste tilläga en variabel eftersom \u001b[39;00m\n\u001b[0;32m      3\u001b[0m     \u001b[38;5;28;01mreturn\u001b[39;00m word_list[index]\u001b[38;5;241m.\u001b[39mstrip(\u001b[38;5;124m\"\u001b[39m\u001b[38;5;124m.\u001b[39m\u001b[38;5;124m\"\u001b[39m) \u001b[38;5;241m+\u001b[39m \u001b[38;5;124m\"\u001b[39m\u001b[38;5;124men\u001b[39m\u001b[38;5;124m\"\u001b[39m\n\u001b[1;32m----> 5\u001b[0m \u001b[43madjective_to_verb\u001b[49m\u001b[43m(\u001b[49m\u001b[38;5;124;43m'\u001b[39;49m\u001b[38;5;124;43mI need to make that bright\u001b[39;49m\u001b[38;5;124;43m'\u001b[39;49m\u001b[43m)\u001b[49m\n",
      "\u001b[1;31mTypeError\u001b[0m: adjective_to_verb() missing 1 required positional argument: 'index'"
     ]
    }
   ],
   "source": [
    "\n",
    "def adjective_to_verb(sentence: str, index: int) -> str:\n",
    "    word_list = sentence.split()  #Måste tilläga en variabel eftersom \n",
    "    return word_list[index].strip(\".\") + \"en\""
   ]
  },
  {
   "cell_type": "code",
   "execution_count": 155,
   "metadata": {},
   "outputs": [],
   "source": [
    "\"\"\"Adds and removes prefix and suffix from words\"\"\"\n",
    "\n",
    "def add_prefix_un(word: str) -> str:\n",
    "    \"\"\"Adds prefix 'un' to words\"\"\"\n",
    "    return \"un\" + word\n",
    "\n",
    "\n",
    "def make_word_groups(vocab_words: list) -> str:\n",
    "    \"\"\"Add prefixes to words in list\"\"\"\n",
    "    result = vocab_words[0]\n",
    "    for index, element in enumerate(vocab_words):\n",
    "        if index > 0:\n",
    "            result += \" :: \" + vocab_words[0] + element\n",
    "    return(result)\n",
    "\n",
    "def remove_suffix_ness(word: str) -> str:\n",
    "    \"\"\"Removes suffix and conjugate words in list\"\"\"\n",
    "    if word[-5] == \"i\":\n",
    "        return word.replace(\"iness\", \"y\") # heaviness - iness + y = heavy\n",
    "    else:\n",
    "        return word.replace(\"ness\", \"\")  # sadness - ness = sad\n",
    "\n",
    "\n",
    "def adjective_to_verb(sentence: str, index: int) -> str:\n",
    "    \"\"\"Transforms adjective to word\"\"\"\n",
    "    word_list = sentence.split()  #Måste tilläga en variabel eftersom \n",
    "    return word_list[index].strip(\".\") + \"en\"\n"
   ]
  }
 ],
 "metadata": {
  "kernelspec": {
   "display_name": "Python 3.9.13 ('PythonSchool-iXQr8Z-p')",
   "language": "python",
   "name": "python3"
  },
  "language_info": {
   "codemirror_mode": {
    "name": "ipython",
    "version": 3
   },
   "file_extension": ".py",
   "mimetype": "text/x-python",
   "name": "python",
   "nbconvert_exporter": "python",
   "pygments_lexer": "ipython3",
   "version": "3.9.13"
  },
  "orig_nbformat": 4,
  "vscode": {
   "interpreter": {
    "hash": "ede0424b5117af074b0a15022a0db7920ce0c06d0370a7c1883de86effeccc15"
   }
  }
 },
 "nbformat": 4,
 "nbformat_minor": 2
}
